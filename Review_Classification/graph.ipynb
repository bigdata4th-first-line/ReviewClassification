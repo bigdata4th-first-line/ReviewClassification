{
 "cells": [
  {
   "cell_type": "code",
   "execution_count": 40,
   "id": "4d4717e9",
   "metadata": {},
   "outputs": [],
   "source": [
    "import pandas as pd\n",
    "import plotly.express as px\n",
    "import datetime"
   ]
  },
  {
   "cell_type": "markdown",
   "id": "f51f8280",
   "metadata": {},
   "source": [
    "# 아이스크림"
   ]
  },
  {
   "cell_type": "code",
   "execution_count": 362,
   "id": "2c1ba346",
   "metadata": {},
   "outputs": [],
   "source": [
    "df = pd.read_csv('icecream.csv')"
   ]
  },
  {
   "cell_type": "code",
   "execution_count": 468,
   "id": "f9436218",
   "metadata": {},
   "outputs": [
    {
     "data": {
      "text/html": [
       "<div>\n",
       "<style scoped>\n",
       "    .dataframe tbody tr th:only-of-type {\n",
       "        vertical-align: middle;\n",
       "    }\n",
       "\n",
       "    .dataframe tbody tr th {\n",
       "        vertical-align: top;\n",
       "    }\n",
       "\n",
       "    .dataframe thead th {\n",
       "        text-align: right;\n",
       "    }\n",
       "</style>\n",
       "<table border=\"1\" class=\"dataframe\">\n",
       "  <thead>\n",
       "    <tr style=\"text-align: right;\">\n",
       "      <th></th>\n",
       "      <th>name</th>\n",
       "      <th>title</th>\n",
       "      <th>star</th>\n",
       "      <th>comments</th>\n",
       "      <th>class</th>\n",
       "      <th>date</th>\n",
       "      <th>title_comments</th>\n",
       "      <th>emotion</th>\n",
       "    </tr>\n",
       "  </thead>\n",
       "  <tbody>\n",
       "    <tr>\n",
       "      <th>0</th>\n",
       "      <td>교사를 위한 구글 활용법(입문자편)</td>\n",
       "      <td>Google 연수</td>\n",
       "      <td>5</td>\n",
       "      <td>구글의 다양한 활용방법을 쉽고 열정적으로 알려주신 강사님들 모습에 동기부여 받아, ...</td>\n",
       "      <td>ICT</td>\n",
       "      <td>2023-07-31</td>\n",
       "      <td>Google 연수 구글의 다양한 활용방법을 쉽고 열정적으로 알려주신 강사님들 모습에...</td>\n",
       "      <td>True</td>\n",
       "    </tr>\n",
       "    <tr>\n",
       "      <th>1</th>\n",
       "      <td>감성을 엮는 시간, 라탄 공예</td>\n",
       "      <td>다양한 소품 제작</td>\n",
       "      <td>5</td>\n",
       "      <td>라탄 공예의 기본을 익혀 생활 속에서 필요한 소품 제작 및 학생 수업에 활용해야겠다.</td>\n",
       "      <td>자기계발</td>\n",
       "      <td>2023-07-30</td>\n",
       "      <td>다양한 소품 제작 라탄 공예의 기본을 익혀 생활 속에서 필요한 소품 제작 및 학생 ...</td>\n",
       "      <td>True</td>\n",
       "    </tr>\n",
       "    <tr>\n",
       "      <th>2</th>\n",
       "      <td>뚝딱뚝딱 온앤오프 수업자료 만들기</td>\n",
       "      <td>너무너무 유익하고 좋은 연수였습니다.</td>\n",
       "      <td>5</td>\n",
       "      <td>수업 자료를 만들때 바로 적용할 수 있는\\n팁들을 많이 얻을 수 있어 좋았습니다.\\...</td>\n",
       "      <td>학습지도</td>\n",
       "      <td>2023-07-29</td>\n",
       "      <td>너무너무 유익하고 좋은 연수였습니다. 수업 자료를 만들때 바로 적용할 수 있는\\n팁...</td>\n",
       "      <td>True</td>\n",
       "    </tr>\n",
       "    <tr>\n",
       "      <th>3</th>\n",
       "      <td>챗GPT 융합교육 가이드, 인공지능(AI) 챗봇 수업</td>\n",
       "      <td>다양한 AI 프로그램을 알 수 있었습니다. ; )</td>\n",
       "      <td>5</td>\n",
       "      <td>챗GPT가 무엇인지는 대충 알고 있었는데\\n수업에 어떻게 활용하면 좋을까?\\n학생들...</td>\n",
       "      <td>학습지도</td>\n",
       "      <td>2023-07-28</td>\n",
       "      <td>다양한 AI 프로그램을 알 수 있었습니다. ; ) 챗GPT가 무엇인지는 대충 알고 ...</td>\n",
       "      <td>True</td>\n",
       "    </tr>\n",
       "    <tr>\n",
       "      <th>4</th>\n",
       "      <td>[컬러테라피] 감성을 그리는 시간, 수채화로 떠나는 컬러링 여행</td>\n",
       "      <td>수채화로 내면까지 채울 수 있었어요.</td>\n",
       "      <td>5</td>\n",
       "      <td>수채화에 대해 관심이 없었고, 미술을 잘하거나 좋아하는 사람들만의 영역일거라 생각했...</td>\n",
       "      <td>자기계발</td>\n",
       "      <td>2023-07-28</td>\n",
       "      <td>수채화로 내면까지 채울 수 있었어요. 수채화에 대해 관심이 없었고, 미술을 잘하거나...</td>\n",
       "      <td>True</td>\n",
       "    </tr>\n",
       "  </tbody>\n",
       "</table>\n",
       "</div>"
      ],
      "text/plain": [
       "                                  name                        title  star  \\\n",
       "0                  교사를 위한 구글 활용법(입문자편)                    Google 연수     5   \n",
       "1                     감성을 엮는 시간, 라탄 공예                    다양한 소품 제작     5   \n",
       "2                   뚝딱뚝딱 온앤오프 수업자료 만들기         너무너무 유익하고 좋은 연수였습니다.     5   \n",
       "3        챗GPT 융합교육 가이드, 인공지능(AI) 챗봇 수업  다양한 AI 프로그램을 알 수 있었습니다. ; )     5   \n",
       "4  [컬러테라피] 감성을 그리는 시간, 수채화로 떠나는 컬러링 여행         수채화로 내면까지 채울 수 있었어요.     5   \n",
       "\n",
       "                                            comments class       date  \\\n",
       "0  구글의 다양한 활용방법을 쉽고 열정적으로 알려주신 강사님들 모습에 동기부여 받아, ...   ICT 2023-07-31   \n",
       "1    라탄 공예의 기본을 익혀 생활 속에서 필요한 소품 제작 및 학생 수업에 활용해야겠다.  자기계발 2023-07-30   \n",
       "2  수업 자료를 만들때 바로 적용할 수 있는\\n팁들을 많이 얻을 수 있어 좋았습니다.\\...  학습지도 2023-07-29   \n",
       "3  챗GPT가 무엇인지는 대충 알고 있었는데\\n수업에 어떻게 활용하면 좋을까?\\n학생들...  학습지도 2023-07-28   \n",
       "4  수채화에 대해 관심이 없었고, 미술을 잘하거나 좋아하는 사람들만의 영역일거라 생각했...  자기계발 2023-07-28   \n",
       "\n",
       "                                      title_comments  emotion  \n",
       "0  Google 연수 구글의 다양한 활용방법을 쉽고 열정적으로 알려주신 강사님들 모습에...     True  \n",
       "1  다양한 소품 제작 라탄 공예의 기본을 익혀 생활 속에서 필요한 소품 제작 및 학생 ...     True  \n",
       "2  너무너무 유익하고 좋은 연수였습니다. 수업 자료를 만들때 바로 적용할 수 있는\\n팁...     True  \n",
       "3  다양한 AI 프로그램을 알 수 있었습니다. ; ) 챗GPT가 무엇인지는 대충 알고 ...     True  \n",
       "4  수채화로 내면까지 채울 수 있었어요. 수채화에 대해 관심이 없었고, 미술을 잘하거나...     True  "
      ]
     },
     "execution_count": 468,
     "metadata": {},
     "output_type": "execute_result"
    }
   ],
   "source": [
    "df.head()"
   ]
  },
  {
   "cell_type": "code",
   "execution_count": 364,
   "id": "ed6221fa",
   "metadata": {},
   "outputs": [],
   "source": [
    "# 별점 숫자로 바꾸기\n",
    "\n",
    "def star(x):\n",
    "    if x == 'star star-rate5':\n",
    "        return 5\n",
    "    elif x == 'star star-rate4':\n",
    "        return 4\n",
    "    elif x == 'star star-rate3':\n",
    "        return 3        \n",
    "    elif x == 'star star-rate2':\n",
    "        return 2\n",
    "    else:\n",
    "        return 1"
   ]
  },
  {
   "cell_type": "code",
   "execution_count": 365,
   "id": "6e848d2b",
   "metadata": {},
   "outputs": [],
   "source": [
    "df['star'] = df['star'].apply(lambda x: star(x))"
   ]
  },
  {
   "cell_type": "code",
   "execution_count": 366,
   "id": "1ae87782",
   "metadata": {},
   "outputs": [
    {
     "data": {
      "text/html": [
       "<div>\n",
       "<style scoped>\n",
       "    .dataframe tbody tr th:only-of-type {\n",
       "        vertical-align: middle;\n",
       "    }\n",
       "\n",
       "    .dataframe tbody tr th {\n",
       "        vertical-align: top;\n",
       "    }\n",
       "\n",
       "    .dataframe thead th {\n",
       "        text-align: right;\n",
       "    }\n",
       "</style>\n",
       "<table border=\"1\" class=\"dataframe\">\n",
       "  <thead>\n",
       "    <tr style=\"text-align: right;\">\n",
       "      <th></th>\n",
       "      <th>name</th>\n",
       "      <th>title</th>\n",
       "      <th>star</th>\n",
       "      <th>comments</th>\n",
       "      <th>class</th>\n",
       "      <th>date</th>\n",
       "      <th>title_comments</th>\n",
       "      <th>emotion</th>\n",
       "    </tr>\n",
       "  </thead>\n",
       "  <tbody>\n",
       "    <tr>\n",
       "      <th>0</th>\n",
       "      <td>교사를 위한 구글 활용법(입문자편)</td>\n",
       "      <td>Google 연수</td>\n",
       "      <td>5</td>\n",
       "      <td>구글의 다양한 활용방법을 쉽고 열정적으로 알려주신 강사님들 모습에 동기부여 받아, ...</td>\n",
       "      <td>ICT</td>\n",
       "      <td>2023.07.31</td>\n",
       "      <td>Google 연수 구글의 다양한 활용방법을 쉽고 열정적으로 알려주신 강사님들 모습에...</td>\n",
       "      <td>True</td>\n",
       "    </tr>\n",
       "    <tr>\n",
       "      <th>1</th>\n",
       "      <td>감성을 엮는 시간, 라탄 공예</td>\n",
       "      <td>다양한 소품 제작</td>\n",
       "      <td>5</td>\n",
       "      <td>라탄 공예의 기본을 익혀 생활 속에서 필요한 소품 제작 및 학생 수업에 활용해야겠다.</td>\n",
       "      <td>자기계발</td>\n",
       "      <td>2023.07.30</td>\n",
       "      <td>다양한 소품 제작 라탄 공예의 기본을 익혀 생활 속에서 필요한 소품 제작 및 학생 ...</td>\n",
       "      <td>True</td>\n",
       "    </tr>\n",
       "    <tr>\n",
       "      <th>2</th>\n",
       "      <td>뚝딱뚝딱 온앤오프 수업자료 만들기</td>\n",
       "      <td>너무너무 유익하고 좋은 연수였습니다.</td>\n",
       "      <td>5</td>\n",
       "      <td>수업 자료를 만들때 바로 적용할 수 있는\\n팁들을 많이 얻을 수 있어 좋았습니다.\\...</td>\n",
       "      <td>학습지도</td>\n",
       "      <td>2023.07.29</td>\n",
       "      <td>너무너무 유익하고 좋은 연수였습니다. 수업 자료를 만들때 바로 적용할 수 있는\\n팁...</td>\n",
       "      <td>True</td>\n",
       "    </tr>\n",
       "  </tbody>\n",
       "</table>\n",
       "</div>"
      ],
      "text/plain": [
       "                  name                 title  star  \\\n",
       "0  교사를 위한 구글 활용법(입문자편)             Google 연수     5   \n",
       "1     감성을 엮는 시간, 라탄 공예             다양한 소품 제작     5   \n",
       "2   뚝딱뚝딱 온앤오프 수업자료 만들기  너무너무 유익하고 좋은 연수였습니다.     5   \n",
       "\n",
       "                                            comments class        date  \\\n",
       "0  구글의 다양한 활용방법을 쉽고 열정적으로 알려주신 강사님들 모습에 동기부여 받아, ...   ICT  2023.07.31   \n",
       "1    라탄 공예의 기본을 익혀 생활 속에서 필요한 소품 제작 및 학생 수업에 활용해야겠다.  자기계발  2023.07.30   \n",
       "2  수업 자료를 만들때 바로 적용할 수 있는\\n팁들을 많이 얻을 수 있어 좋았습니다.\\...  학습지도  2023.07.29   \n",
       "\n",
       "                                      title_comments  emotion  \n",
       "0  Google 연수 구글의 다양한 활용방법을 쉽고 열정적으로 알려주신 강사님들 모습에...     True  \n",
       "1  다양한 소품 제작 라탄 공예의 기본을 익혀 생활 속에서 필요한 소품 제작 및 학생 ...     True  \n",
       "2  너무너무 유익하고 좋은 연수였습니다. 수업 자료를 만들때 바로 적용할 수 있는\\n팁...     True  "
      ]
     },
     "execution_count": 366,
     "metadata": {},
     "output_type": "execute_result"
    }
   ],
   "source": [
    "df.head(3)"
   ]
  },
  {
   "cell_type": "code",
   "execution_count": 367,
   "id": "7d8ff008",
   "metadata": {},
   "outputs": [],
   "source": [
    "# 날짜를 datetime으로 변경\n",
    "df['date'] = df['date'].apply(lambda x: x.split('.'))"
   ]
  },
  {
   "cell_type": "code",
   "execution_count": 368,
   "id": "051bcb60",
   "metadata": {},
   "outputs": [],
   "source": [
    "df['date'] = df['date'].apply(lambda x: '-'.join(x))"
   ]
  },
  {
   "cell_type": "code",
   "execution_count": 369,
   "id": "15ffb9eb",
   "metadata": {},
   "outputs": [],
   "source": [
    "def dtime(x):\n",
    "    return datetime.datetime.strptime(x, '%Y-%m-%d')"
   ]
  },
  {
   "cell_type": "code",
   "execution_count": 370,
   "id": "e8167fa7",
   "metadata": {},
   "outputs": [],
   "source": [
    "df['date'] = df['date'].apply(lambda x: dtime(x))"
   ]
  },
  {
   "cell_type": "code",
   "execution_count": 371,
   "id": "d01e6bcf",
   "metadata": {},
   "outputs": [],
   "source": [
    "dfd = df.copy()"
   ]
  },
  {
   "cell_type": "code",
   "execution_count": 374,
   "id": "e825876a",
   "metadata": {},
   "outputs": [],
   "source": [
    "# 분기별로 분류\n",
    "\n",
    "def quarter(x):\n",
    "    if x.month >= 10: \n",
    "        quart = '4/4'\n",
    "    elif x.month >= 7:\n",
    "        quart = '3/4'\n",
    "    elif x.month >= 4:\n",
    "        quart = '2/4'\n",
    "    elif x.month >= 1 :\n",
    "        quart = '1/4'\n",
    "    \n",
    "    return (str(x.year) + ' ' + quart)"
   ]
  },
  {
   "cell_type": "code",
   "execution_count": 375,
   "id": "b58bd9b0",
   "metadata": {},
   "outputs": [],
   "source": [
    "dfd['quarter'] = dfd['date'].apply(lambda x: quarter(x))"
   ]
  },
  {
   "cell_type": "code",
   "execution_count": 376,
   "id": "7731db69",
   "metadata": {
    "scrolled": false
   },
   "outputs": [
    {
     "data": {
      "text/html": [
       "<div>\n",
       "<style scoped>\n",
       "    .dataframe tbody tr th:only-of-type {\n",
       "        vertical-align: middle;\n",
       "    }\n",
       "\n",
       "    .dataframe tbody tr th {\n",
       "        vertical-align: top;\n",
       "    }\n",
       "\n",
       "    .dataframe thead th {\n",
       "        text-align: right;\n",
       "    }\n",
       "</style>\n",
       "<table border=\"1\" class=\"dataframe\">\n",
       "  <thead>\n",
       "    <tr style=\"text-align: right;\">\n",
       "      <th></th>\n",
       "      <th>name</th>\n",
       "      <th>title</th>\n",
       "      <th>star</th>\n",
       "      <th>comments</th>\n",
       "      <th>class</th>\n",
       "      <th>date</th>\n",
       "      <th>title_comments</th>\n",
       "      <th>emotion</th>\n",
       "      <th>quarter</th>\n",
       "    </tr>\n",
       "  </thead>\n",
       "  <tbody>\n",
       "    <tr>\n",
       "      <th>0</th>\n",
       "      <td>교사를 위한 구글 활용법(입문자편)</td>\n",
       "      <td>Google 연수</td>\n",
       "      <td>5</td>\n",
       "      <td>구글의 다양한 활용방법을 쉽고 열정적으로 알려주신 강사님들 모습에 동기부여 받아, ...</td>\n",
       "      <td>ICT</td>\n",
       "      <td>2023-07-31</td>\n",
       "      <td>Google 연수 구글의 다양한 활용방법을 쉽고 열정적으로 알려주신 강사님들 모습에...</td>\n",
       "      <td>True</td>\n",
       "      <td>2023 3/4</td>\n",
       "    </tr>\n",
       "    <tr>\n",
       "      <th>1</th>\n",
       "      <td>감성을 엮는 시간, 라탄 공예</td>\n",
       "      <td>다양한 소품 제작</td>\n",
       "      <td>5</td>\n",
       "      <td>라탄 공예의 기본을 익혀 생활 속에서 필요한 소품 제작 및 학생 수업에 활용해야겠다.</td>\n",
       "      <td>자기계발</td>\n",
       "      <td>2023-07-30</td>\n",
       "      <td>다양한 소품 제작 라탄 공예의 기본을 익혀 생활 속에서 필요한 소품 제작 및 학생 ...</td>\n",
       "      <td>True</td>\n",
       "      <td>2023 3/4</td>\n",
       "    </tr>\n",
       "    <tr>\n",
       "      <th>2</th>\n",
       "      <td>뚝딱뚝딱 온앤오프 수업자료 만들기</td>\n",
       "      <td>너무너무 유익하고 좋은 연수였습니다.</td>\n",
       "      <td>5</td>\n",
       "      <td>수업 자료를 만들때 바로 적용할 수 있는\\n팁들을 많이 얻을 수 있어 좋았습니다.\\...</td>\n",
       "      <td>학습지도</td>\n",
       "      <td>2023-07-29</td>\n",
       "      <td>너무너무 유익하고 좋은 연수였습니다. 수업 자료를 만들때 바로 적용할 수 있는\\n팁...</td>\n",
       "      <td>True</td>\n",
       "      <td>2023 3/4</td>\n",
       "    </tr>\n",
       "    <tr>\n",
       "      <th>3</th>\n",
       "      <td>챗GPT 융합교육 가이드, 인공지능(AI) 챗봇 수업</td>\n",
       "      <td>다양한 AI 프로그램을 알 수 있었습니다. ; )</td>\n",
       "      <td>5</td>\n",
       "      <td>챗GPT가 무엇인지는 대충 알고 있었는데\\n수업에 어떻게 활용하면 좋을까?\\n학생들...</td>\n",
       "      <td>학습지도</td>\n",
       "      <td>2023-07-28</td>\n",
       "      <td>다양한 AI 프로그램을 알 수 있었습니다. ; ) 챗GPT가 무엇인지는 대충 알고 ...</td>\n",
       "      <td>True</td>\n",
       "      <td>2023 3/4</td>\n",
       "    </tr>\n",
       "    <tr>\n",
       "      <th>4</th>\n",
       "      <td>[컬러테라피] 감성을 그리는 시간, 수채화로 떠나는 컬러링 여행</td>\n",
       "      <td>수채화로 내면까지 채울 수 있었어요.</td>\n",
       "      <td>5</td>\n",
       "      <td>수채화에 대해 관심이 없었고, 미술을 잘하거나 좋아하는 사람들만의 영역일거라 생각했...</td>\n",
       "      <td>자기계발</td>\n",
       "      <td>2023-07-28</td>\n",
       "      <td>수채화로 내면까지 채울 수 있었어요. 수채화에 대해 관심이 없었고, 미술을 잘하거나...</td>\n",
       "      <td>True</td>\n",
       "      <td>2023 3/4</td>\n",
       "    </tr>\n",
       "  </tbody>\n",
       "</table>\n",
       "</div>"
      ],
      "text/plain": [
       "                                  name                        title  star  \\\n",
       "0                  교사를 위한 구글 활용법(입문자편)                    Google 연수     5   \n",
       "1                     감성을 엮는 시간, 라탄 공예                    다양한 소품 제작     5   \n",
       "2                   뚝딱뚝딱 온앤오프 수업자료 만들기         너무너무 유익하고 좋은 연수였습니다.     5   \n",
       "3        챗GPT 융합교육 가이드, 인공지능(AI) 챗봇 수업  다양한 AI 프로그램을 알 수 있었습니다. ; )     5   \n",
       "4  [컬러테라피] 감성을 그리는 시간, 수채화로 떠나는 컬러링 여행         수채화로 내면까지 채울 수 있었어요.     5   \n",
       "\n",
       "                                            comments class       date  \\\n",
       "0  구글의 다양한 활용방법을 쉽고 열정적으로 알려주신 강사님들 모습에 동기부여 받아, ...   ICT 2023-07-31   \n",
       "1    라탄 공예의 기본을 익혀 생활 속에서 필요한 소품 제작 및 학생 수업에 활용해야겠다.  자기계발 2023-07-30   \n",
       "2  수업 자료를 만들때 바로 적용할 수 있는\\n팁들을 많이 얻을 수 있어 좋았습니다.\\...  학습지도 2023-07-29   \n",
       "3  챗GPT가 무엇인지는 대충 알고 있었는데\\n수업에 어떻게 활용하면 좋을까?\\n학생들...  학습지도 2023-07-28   \n",
       "4  수채화에 대해 관심이 없었고, 미술을 잘하거나 좋아하는 사람들만의 영역일거라 생각했...  자기계발 2023-07-28   \n",
       "\n",
       "                                      title_comments  emotion   quarter  \n",
       "0  Google 연수 구글의 다양한 활용방법을 쉽고 열정적으로 알려주신 강사님들 모습에...     True  2023 3/4  \n",
       "1  다양한 소품 제작 라탄 공예의 기본을 익혀 생활 속에서 필요한 소품 제작 및 학생 ...     True  2023 3/4  \n",
       "2  너무너무 유익하고 좋은 연수였습니다. 수업 자료를 만들때 바로 적용할 수 있는\\n팁...     True  2023 3/4  \n",
       "3  다양한 AI 프로그램을 알 수 있었습니다. ; ) 챗GPT가 무엇인지는 대충 알고 ...     True  2023 3/4  \n",
       "4  수채화로 내면까지 채울 수 있었어요. 수채화에 대해 관심이 없었고, 미술을 잘하거나...     True  2023 3/4  "
      ]
     },
     "execution_count": 376,
     "metadata": {},
     "output_type": "execute_result"
    }
   ],
   "source": [
    "# 확인\n",
    "dfd.head()"
   ]
  },
  {
   "cell_type": "code",
   "execution_count": 438,
   "id": "9ff94d25",
   "metadata": {},
   "outputs": [
    {
     "data": {
      "text/plain": [
       "quarter\n",
       "2018 1/4    126\n",
       "2018 2/4    254\n",
       "2018 3/4    274\n",
       "2018 4/4    298\n",
       "2019 1/4    108\n",
       "2019 2/4    196\n",
       "2019 3/4    218\n",
       "2019 4/4    245\n",
       "2020 1/4    237\n",
       "2020 2/4    353\n",
       "2020 3/4    203\n",
       "2020 4/4    291\n",
       "2021 1/4    114\n",
       "2021 2/4    259\n",
       "2021 3/4    227\n",
       "2021 4/4    309\n",
       "2022 1/4    138\n",
       "2022 2/4    192\n",
       "2022 3/4    213\n",
       "2022 4/4    306\n",
       "2023 1/4    111\n",
       "2023 2/4    169\n",
       "2023 3/4     50\n",
       "dtype: int64"
      ]
     },
     "execution_count": 438,
     "metadata": {},
     "output_type": "execute_result"
    }
   ],
   "source": [
    "dfd.groupby('quarter').size()"
   ]
  },
  {
   "cell_type": "code",
   "execution_count": 384,
   "id": "8bfaf1a1",
   "metadata": {},
   "outputs": [],
   "source": [
    "dfqe = dfd.groupby(['quarter','emotion']).size().unstack().fillna(0)"
   ]
  },
  {
   "cell_type": "code",
   "execution_count": 385,
   "id": "36c686d6",
   "metadata": {},
   "outputs": [],
   "source": [
    "# 부정 후기 비율을 ratio 컬럼에 저장\n",
    "dfqe['ratio'] = (dfqe[False]/(dfqe[True]+dfqe[False]))*100"
   ]
  },
  {
   "cell_type": "code",
   "execution_count": 442,
   "id": "5cc2bae5",
   "metadata": {},
   "outputs": [],
   "source": [
    "# 총 리뷰 개수를 리뷰 개수 컬럼에 저장\n",
    "dfqe['리뷰 개수'] = dfd.groupby('quarter').size()"
   ]
  },
  {
   "cell_type": "code",
   "execution_count": 443,
   "id": "eca1bc31",
   "metadata": {},
   "outputs": [
    {
     "data": {
      "text/html": [
       "<div>\n",
       "<style scoped>\n",
       "    .dataframe tbody tr th:only-of-type {\n",
       "        vertical-align: middle;\n",
       "    }\n",
       "\n",
       "    .dataframe tbody tr th {\n",
       "        vertical-align: top;\n",
       "    }\n",
       "\n",
       "    .dataframe thead th {\n",
       "        text-align: right;\n",
       "    }\n",
       "</style>\n",
       "<table border=\"1\" class=\"dataframe\">\n",
       "  <thead>\n",
       "    <tr style=\"text-align: right;\">\n",
       "      <th>emotion</th>\n",
       "      <th>False</th>\n",
       "      <th>True</th>\n",
       "      <th>ratio</th>\n",
       "      <th>리뷰 개수</th>\n",
       "    </tr>\n",
       "    <tr>\n",
       "      <th>quarter</th>\n",
       "      <th></th>\n",
       "      <th></th>\n",
       "      <th></th>\n",
       "      <th></th>\n",
       "    </tr>\n",
       "  </thead>\n",
       "  <tbody>\n",
       "    <tr>\n",
       "      <th>2018 1/4</th>\n",
       "      <td>2.0</td>\n",
       "      <td>124.0</td>\n",
       "      <td>1.587302</td>\n",
       "      <td>126</td>\n",
       "    </tr>\n",
       "    <tr>\n",
       "      <th>2018 2/4</th>\n",
       "      <td>7.0</td>\n",
       "      <td>247.0</td>\n",
       "      <td>2.755906</td>\n",
       "      <td>254</td>\n",
       "    </tr>\n",
       "    <tr>\n",
       "      <th>2018 3/4</th>\n",
       "      <td>3.0</td>\n",
       "      <td>271.0</td>\n",
       "      <td>1.094891</td>\n",
       "      <td>274</td>\n",
       "    </tr>\n",
       "    <tr>\n",
       "      <th>2018 4/4</th>\n",
       "      <td>11.0</td>\n",
       "      <td>287.0</td>\n",
       "      <td>3.691275</td>\n",
       "      <td>298</td>\n",
       "    </tr>\n",
       "    <tr>\n",
       "      <th>2019 1/4</th>\n",
       "      <td>0.0</td>\n",
       "      <td>108.0</td>\n",
       "      <td>0.000000</td>\n",
       "      <td>108</td>\n",
       "    </tr>\n",
       "    <tr>\n",
       "      <th>2019 2/4</th>\n",
       "      <td>11.0</td>\n",
       "      <td>185.0</td>\n",
       "      <td>5.612245</td>\n",
       "      <td>196</td>\n",
       "    </tr>\n",
       "    <tr>\n",
       "      <th>2019 3/4</th>\n",
       "      <td>2.0</td>\n",
       "      <td>216.0</td>\n",
       "      <td>0.917431</td>\n",
       "      <td>218</td>\n",
       "    </tr>\n",
       "    <tr>\n",
       "      <th>2019 4/4</th>\n",
       "      <td>7.0</td>\n",
       "      <td>238.0</td>\n",
       "      <td>2.857143</td>\n",
       "      <td>245</td>\n",
       "    </tr>\n",
       "    <tr>\n",
       "      <th>2020 1/4</th>\n",
       "      <td>2.0</td>\n",
       "      <td>235.0</td>\n",
       "      <td>0.843882</td>\n",
       "      <td>237</td>\n",
       "    </tr>\n",
       "    <tr>\n",
       "      <th>2020 2/4</th>\n",
       "      <td>2.0</td>\n",
       "      <td>351.0</td>\n",
       "      <td>0.566572</td>\n",
       "      <td>353</td>\n",
       "    </tr>\n",
       "    <tr>\n",
       "      <th>2020 3/4</th>\n",
       "      <td>3.0</td>\n",
       "      <td>200.0</td>\n",
       "      <td>1.477833</td>\n",
       "      <td>203</td>\n",
       "    </tr>\n",
       "    <tr>\n",
       "      <th>2020 4/4</th>\n",
       "      <td>4.0</td>\n",
       "      <td>287.0</td>\n",
       "      <td>1.374570</td>\n",
       "      <td>291</td>\n",
       "    </tr>\n",
       "    <tr>\n",
       "      <th>2021 1/4</th>\n",
       "      <td>1.0</td>\n",
       "      <td>113.0</td>\n",
       "      <td>0.877193</td>\n",
       "      <td>114</td>\n",
       "    </tr>\n",
       "    <tr>\n",
       "      <th>2021 2/4</th>\n",
       "      <td>3.0</td>\n",
       "      <td>256.0</td>\n",
       "      <td>1.158301</td>\n",
       "      <td>259</td>\n",
       "    </tr>\n",
       "    <tr>\n",
       "      <th>2021 3/4</th>\n",
       "      <td>1.0</td>\n",
       "      <td>226.0</td>\n",
       "      <td>0.440529</td>\n",
       "      <td>227</td>\n",
       "    </tr>\n",
       "    <tr>\n",
       "      <th>2021 4/4</th>\n",
       "      <td>7.0</td>\n",
       "      <td>302.0</td>\n",
       "      <td>2.265372</td>\n",
       "      <td>309</td>\n",
       "    </tr>\n",
       "    <tr>\n",
       "      <th>2022 1/4</th>\n",
       "      <td>7.0</td>\n",
       "      <td>131.0</td>\n",
       "      <td>5.072464</td>\n",
       "      <td>138</td>\n",
       "    </tr>\n",
       "    <tr>\n",
       "      <th>2022 2/4</th>\n",
       "      <td>6.0</td>\n",
       "      <td>186.0</td>\n",
       "      <td>3.125000</td>\n",
       "      <td>192</td>\n",
       "    </tr>\n",
       "    <tr>\n",
       "      <th>2022 3/4</th>\n",
       "      <td>5.0</td>\n",
       "      <td>208.0</td>\n",
       "      <td>2.347418</td>\n",
       "      <td>213</td>\n",
       "    </tr>\n",
       "    <tr>\n",
       "      <th>2022 4/4</th>\n",
       "      <td>3.0</td>\n",
       "      <td>303.0</td>\n",
       "      <td>0.980392</td>\n",
       "      <td>306</td>\n",
       "    </tr>\n",
       "    <tr>\n",
       "      <th>2023 1/4</th>\n",
       "      <td>1.0</td>\n",
       "      <td>110.0</td>\n",
       "      <td>0.900901</td>\n",
       "      <td>111</td>\n",
       "    </tr>\n",
       "    <tr>\n",
       "      <th>2023 2/4</th>\n",
       "      <td>6.0</td>\n",
       "      <td>163.0</td>\n",
       "      <td>3.550296</td>\n",
       "      <td>169</td>\n",
       "    </tr>\n",
       "    <tr>\n",
       "      <th>2023 3/4</th>\n",
       "      <td>1.0</td>\n",
       "      <td>49.0</td>\n",
       "      <td>2.000000</td>\n",
       "      <td>50</td>\n",
       "    </tr>\n",
       "  </tbody>\n",
       "</table>\n",
       "</div>"
      ],
      "text/plain": [
       "emotion   False   True     ratio  리뷰 개수\n",
       "quarter                                \n",
       "2018 1/4    2.0  124.0  1.587302    126\n",
       "2018 2/4    7.0  247.0  2.755906    254\n",
       "2018 3/4    3.0  271.0  1.094891    274\n",
       "2018 4/4   11.0  287.0  3.691275    298\n",
       "2019 1/4    0.0  108.0  0.000000    108\n",
       "2019 2/4   11.0  185.0  5.612245    196\n",
       "2019 3/4    2.0  216.0  0.917431    218\n",
       "2019 4/4    7.0  238.0  2.857143    245\n",
       "2020 1/4    2.0  235.0  0.843882    237\n",
       "2020 2/4    2.0  351.0  0.566572    353\n",
       "2020 3/4    3.0  200.0  1.477833    203\n",
       "2020 4/4    4.0  287.0  1.374570    291\n",
       "2021 1/4    1.0  113.0  0.877193    114\n",
       "2021 2/4    3.0  256.0  1.158301    259\n",
       "2021 3/4    1.0  226.0  0.440529    227\n",
       "2021 4/4    7.0  302.0  2.265372    309\n",
       "2022 1/4    7.0  131.0  5.072464    138\n",
       "2022 2/4    6.0  186.0  3.125000    192\n",
       "2022 3/4    5.0  208.0  2.347418    213\n",
       "2022 4/4    3.0  303.0  0.980392    306\n",
       "2023 1/4    1.0  110.0  0.900901    111\n",
       "2023 2/4    6.0  163.0  3.550296    169\n",
       "2023 3/4    1.0   49.0  2.000000     50"
      ]
     },
     "execution_count": 443,
     "metadata": {},
     "output_type": "execute_result"
    }
   ],
   "source": [
    "#확인\n",
    "\n",
    "dfqe"
   ]
  },
  {
   "cell_type": "code",
   "execution_count": 444,
   "id": "02b4ed67",
   "metadata": {},
   "outputs": [],
   "source": [
    "dfqe2 = dfqe.reset_index()"
   ]
  },
  {
   "cell_type": "code",
   "execution_count": 445,
   "id": "daf39ef6",
   "metadata": {},
   "outputs": [
    {
     "data": {
      "text/html": [
       "<div>\n",
       "<style scoped>\n",
       "    .dataframe tbody tr th:only-of-type {\n",
       "        vertical-align: middle;\n",
       "    }\n",
       "\n",
       "    .dataframe tbody tr th {\n",
       "        vertical-align: top;\n",
       "    }\n",
       "\n",
       "    .dataframe thead th {\n",
       "        text-align: right;\n",
       "    }\n",
       "</style>\n",
       "<table border=\"1\" class=\"dataframe\">\n",
       "  <thead>\n",
       "    <tr style=\"text-align: right;\">\n",
       "      <th>emotion</th>\n",
       "      <th>quarter</th>\n",
       "      <th>False</th>\n",
       "      <th>True</th>\n",
       "      <th>ratio</th>\n",
       "      <th>리뷰 개수</th>\n",
       "    </tr>\n",
       "  </thead>\n",
       "  <tbody>\n",
       "    <tr>\n",
       "      <th>0</th>\n",
       "      <td>2018 1/4</td>\n",
       "      <td>2.0</td>\n",
       "      <td>124.0</td>\n",
       "      <td>1.587302</td>\n",
       "      <td>126</td>\n",
       "    </tr>\n",
       "    <tr>\n",
       "      <th>1</th>\n",
       "      <td>2018 2/4</td>\n",
       "      <td>7.0</td>\n",
       "      <td>247.0</td>\n",
       "      <td>2.755906</td>\n",
       "      <td>254</td>\n",
       "    </tr>\n",
       "    <tr>\n",
       "      <th>2</th>\n",
       "      <td>2018 3/4</td>\n",
       "      <td>3.0</td>\n",
       "      <td>271.0</td>\n",
       "      <td>1.094891</td>\n",
       "      <td>274</td>\n",
       "    </tr>\n",
       "    <tr>\n",
       "      <th>3</th>\n",
       "      <td>2018 4/4</td>\n",
       "      <td>11.0</td>\n",
       "      <td>287.0</td>\n",
       "      <td>3.691275</td>\n",
       "      <td>298</td>\n",
       "    </tr>\n",
       "    <tr>\n",
       "      <th>4</th>\n",
       "      <td>2019 1/4</td>\n",
       "      <td>0.0</td>\n",
       "      <td>108.0</td>\n",
       "      <td>0.000000</td>\n",
       "      <td>108</td>\n",
       "    </tr>\n",
       "    <tr>\n",
       "      <th>5</th>\n",
       "      <td>2019 2/4</td>\n",
       "      <td>11.0</td>\n",
       "      <td>185.0</td>\n",
       "      <td>5.612245</td>\n",
       "      <td>196</td>\n",
       "    </tr>\n",
       "    <tr>\n",
       "      <th>6</th>\n",
       "      <td>2019 3/4</td>\n",
       "      <td>2.0</td>\n",
       "      <td>216.0</td>\n",
       "      <td>0.917431</td>\n",
       "      <td>218</td>\n",
       "    </tr>\n",
       "    <tr>\n",
       "      <th>7</th>\n",
       "      <td>2019 4/4</td>\n",
       "      <td>7.0</td>\n",
       "      <td>238.0</td>\n",
       "      <td>2.857143</td>\n",
       "      <td>245</td>\n",
       "    </tr>\n",
       "    <tr>\n",
       "      <th>8</th>\n",
       "      <td>2020 1/4</td>\n",
       "      <td>2.0</td>\n",
       "      <td>235.0</td>\n",
       "      <td>0.843882</td>\n",
       "      <td>237</td>\n",
       "    </tr>\n",
       "    <tr>\n",
       "      <th>9</th>\n",
       "      <td>2020 2/4</td>\n",
       "      <td>2.0</td>\n",
       "      <td>351.0</td>\n",
       "      <td>0.566572</td>\n",
       "      <td>353</td>\n",
       "    </tr>\n",
       "    <tr>\n",
       "      <th>10</th>\n",
       "      <td>2020 3/4</td>\n",
       "      <td>3.0</td>\n",
       "      <td>200.0</td>\n",
       "      <td>1.477833</td>\n",
       "      <td>203</td>\n",
       "    </tr>\n",
       "    <tr>\n",
       "      <th>11</th>\n",
       "      <td>2020 4/4</td>\n",
       "      <td>4.0</td>\n",
       "      <td>287.0</td>\n",
       "      <td>1.374570</td>\n",
       "      <td>291</td>\n",
       "    </tr>\n",
       "    <tr>\n",
       "      <th>12</th>\n",
       "      <td>2021 1/4</td>\n",
       "      <td>1.0</td>\n",
       "      <td>113.0</td>\n",
       "      <td>0.877193</td>\n",
       "      <td>114</td>\n",
       "    </tr>\n",
       "    <tr>\n",
       "      <th>13</th>\n",
       "      <td>2021 2/4</td>\n",
       "      <td>3.0</td>\n",
       "      <td>256.0</td>\n",
       "      <td>1.158301</td>\n",
       "      <td>259</td>\n",
       "    </tr>\n",
       "    <tr>\n",
       "      <th>14</th>\n",
       "      <td>2021 3/4</td>\n",
       "      <td>1.0</td>\n",
       "      <td>226.0</td>\n",
       "      <td>0.440529</td>\n",
       "      <td>227</td>\n",
       "    </tr>\n",
       "    <tr>\n",
       "      <th>15</th>\n",
       "      <td>2021 4/4</td>\n",
       "      <td>7.0</td>\n",
       "      <td>302.0</td>\n",
       "      <td>2.265372</td>\n",
       "      <td>309</td>\n",
       "    </tr>\n",
       "    <tr>\n",
       "      <th>16</th>\n",
       "      <td>2022 1/4</td>\n",
       "      <td>7.0</td>\n",
       "      <td>131.0</td>\n",
       "      <td>5.072464</td>\n",
       "      <td>138</td>\n",
       "    </tr>\n",
       "    <tr>\n",
       "      <th>17</th>\n",
       "      <td>2022 2/4</td>\n",
       "      <td>6.0</td>\n",
       "      <td>186.0</td>\n",
       "      <td>3.125000</td>\n",
       "      <td>192</td>\n",
       "    </tr>\n",
       "    <tr>\n",
       "      <th>18</th>\n",
       "      <td>2022 3/4</td>\n",
       "      <td>5.0</td>\n",
       "      <td>208.0</td>\n",
       "      <td>2.347418</td>\n",
       "      <td>213</td>\n",
       "    </tr>\n",
       "    <tr>\n",
       "      <th>19</th>\n",
       "      <td>2022 4/4</td>\n",
       "      <td>3.0</td>\n",
       "      <td>303.0</td>\n",
       "      <td>0.980392</td>\n",
       "      <td>306</td>\n",
       "    </tr>\n",
       "    <tr>\n",
       "      <th>20</th>\n",
       "      <td>2023 1/4</td>\n",
       "      <td>1.0</td>\n",
       "      <td>110.0</td>\n",
       "      <td>0.900901</td>\n",
       "      <td>111</td>\n",
       "    </tr>\n",
       "    <tr>\n",
       "      <th>21</th>\n",
       "      <td>2023 2/4</td>\n",
       "      <td>6.0</td>\n",
       "      <td>163.0</td>\n",
       "      <td>3.550296</td>\n",
       "      <td>169</td>\n",
       "    </tr>\n",
       "    <tr>\n",
       "      <th>22</th>\n",
       "      <td>2023 3/4</td>\n",
       "      <td>1.0</td>\n",
       "      <td>49.0</td>\n",
       "      <td>2.000000</td>\n",
       "      <td>50</td>\n",
       "    </tr>\n",
       "  </tbody>\n",
       "</table>\n",
       "</div>"
      ],
      "text/plain": [
       "emotion   quarter  False   True     ratio  리뷰 개수\n",
       "0        2018 1/4    2.0  124.0  1.587302    126\n",
       "1        2018 2/4    7.0  247.0  2.755906    254\n",
       "2        2018 3/4    3.0  271.0  1.094891    274\n",
       "3        2018 4/4   11.0  287.0  3.691275    298\n",
       "4        2019 1/4    0.0  108.0  0.000000    108\n",
       "5        2019 2/4   11.0  185.0  5.612245    196\n",
       "6        2019 3/4    2.0  216.0  0.917431    218\n",
       "7        2019 4/4    7.0  238.0  2.857143    245\n",
       "8        2020 1/4    2.0  235.0  0.843882    237\n",
       "9        2020 2/4    2.0  351.0  0.566572    353\n",
       "10       2020 3/4    3.0  200.0  1.477833    203\n",
       "11       2020 4/4    4.0  287.0  1.374570    291\n",
       "12       2021 1/4    1.0  113.0  0.877193    114\n",
       "13       2021 2/4    3.0  256.0  1.158301    259\n",
       "14       2021 3/4    1.0  226.0  0.440529    227\n",
       "15       2021 4/4    7.0  302.0  2.265372    309\n",
       "16       2022 1/4    7.0  131.0  5.072464    138\n",
       "17       2022 2/4    6.0  186.0  3.125000    192\n",
       "18       2022 3/4    5.0  208.0  2.347418    213\n",
       "19       2022 4/4    3.0  303.0  0.980392    306\n",
       "20       2023 1/4    1.0  110.0  0.900901    111\n",
       "21       2023 2/4    6.0  163.0  3.550296    169\n",
       "22       2023 3/4    1.0   49.0  2.000000     50"
      ]
     },
     "execution_count": 445,
     "metadata": {},
     "output_type": "execute_result"
    }
   ],
   "source": [
    "dfqe2"
   ]
  },
  {
   "cell_type": "code",
   "execution_count": 389,
   "id": "c7271012",
   "metadata": {},
   "outputs": [
    {
     "data": {
      "application/vnd.plotly.v1+json": {
       "config": {
        "plotlyServerURL": "https://plot.ly"
       },
       "data": [
        {
         "hovertemplate": "분기=%{x}<br>부정 리뷰 비율(%)=%{y}<extra></extra>",
         "legendgroup": "",
         "line": {
          "color": "#636efa",
          "dash": "solid"
         },
         "marker": {
          "symbol": "circle"
         },
         "mode": "lines",
         "name": "",
         "orientation": "v",
         "showlegend": false,
         "type": "scatter",
         "x": [
          "2018 1/4",
          "2018 2/4",
          "2018 3/4",
          "2018 4/4",
          "2019 1/4",
          "2019 2/4",
          "2019 3/4",
          "2019 4/4",
          "2020 1/4",
          "2020 2/4",
          "2020 3/4",
          "2020 4/4",
          "2021 1/4",
          "2021 2/4",
          "2021 3/4",
          "2021 4/4",
          "2022 1/4",
          "2022 2/4",
          "2022 3/4",
          "2022 4/4",
          "2023 1/4",
          "2023 2/4",
          "2023 3/4"
         ],
         "xaxis": "x",
         "y": [
          1.5873015873015872,
          2.7559055118110236,
          1.094890510948905,
          3.691275167785235,
          0,
          5.612244897959184,
          0.9174311926605505,
          2.857142857142857,
          0.8438818565400843,
          0.56657223796034,
          1.477832512315271,
          1.3745704467353952,
          0.8771929824561403,
          1.1583011583011582,
          0.4405286343612335,
          2.26537216828479,
          5.072463768115942,
          3.125,
          2.3474178403755865,
          0.9803921568627451,
          0.9009009009009009,
          3.5502958579881656,
          2
         ],
         "yaxis": "y"
        }
       ],
       "layout": {
        "legend": {
         "tracegroupgap": 0
        },
        "margin": {
         "t": 60
        },
        "template": {
         "data": {
          "bar": [
           {
            "error_x": {
             "color": "#2a3f5f"
            },
            "error_y": {
             "color": "#2a3f5f"
            },
            "marker": {
             "line": {
              "color": "#E5ECF6",
              "width": 0.5
             },
             "pattern": {
              "fillmode": "overlay",
              "size": 10,
              "solidity": 0.2
             }
            },
            "type": "bar"
           }
          ],
          "barpolar": [
           {
            "marker": {
             "line": {
              "color": "#E5ECF6",
              "width": 0.5
             },
             "pattern": {
              "fillmode": "overlay",
              "size": 10,
              "solidity": 0.2
             }
            },
            "type": "barpolar"
           }
          ],
          "carpet": [
           {
            "aaxis": {
             "endlinecolor": "#2a3f5f",
             "gridcolor": "white",
             "linecolor": "white",
             "minorgridcolor": "white",
             "startlinecolor": "#2a3f5f"
            },
            "baxis": {
             "endlinecolor": "#2a3f5f",
             "gridcolor": "white",
             "linecolor": "white",
             "minorgridcolor": "white",
             "startlinecolor": "#2a3f5f"
            },
            "type": "carpet"
           }
          ],
          "choropleth": [
           {
            "colorbar": {
             "outlinewidth": 0,
             "ticks": ""
            },
            "type": "choropleth"
           }
          ],
          "contour": [
           {
            "colorbar": {
             "outlinewidth": 0,
             "ticks": ""
            },
            "colorscale": [
             [
              0,
              "#0d0887"
             ],
             [
              0.1111111111111111,
              "#46039f"
             ],
             [
              0.2222222222222222,
              "#7201a8"
             ],
             [
              0.3333333333333333,
              "#9c179e"
             ],
             [
              0.4444444444444444,
              "#bd3786"
             ],
             [
              0.5555555555555556,
              "#d8576b"
             ],
             [
              0.6666666666666666,
              "#ed7953"
             ],
             [
              0.7777777777777778,
              "#fb9f3a"
             ],
             [
              0.8888888888888888,
              "#fdca26"
             ],
             [
              1,
              "#f0f921"
             ]
            ],
            "type": "contour"
           }
          ],
          "contourcarpet": [
           {
            "colorbar": {
             "outlinewidth": 0,
             "ticks": ""
            },
            "type": "contourcarpet"
           }
          ],
          "heatmap": [
           {
            "colorbar": {
             "outlinewidth": 0,
             "ticks": ""
            },
            "colorscale": [
             [
              0,
              "#0d0887"
             ],
             [
              0.1111111111111111,
              "#46039f"
             ],
             [
              0.2222222222222222,
              "#7201a8"
             ],
             [
              0.3333333333333333,
              "#9c179e"
             ],
             [
              0.4444444444444444,
              "#bd3786"
             ],
             [
              0.5555555555555556,
              "#d8576b"
             ],
             [
              0.6666666666666666,
              "#ed7953"
             ],
             [
              0.7777777777777778,
              "#fb9f3a"
             ],
             [
              0.8888888888888888,
              "#fdca26"
             ],
             [
              1,
              "#f0f921"
             ]
            ],
            "type": "heatmap"
           }
          ],
          "heatmapgl": [
           {
            "colorbar": {
             "outlinewidth": 0,
             "ticks": ""
            },
            "colorscale": [
             [
              0,
              "#0d0887"
             ],
             [
              0.1111111111111111,
              "#46039f"
             ],
             [
              0.2222222222222222,
              "#7201a8"
             ],
             [
              0.3333333333333333,
              "#9c179e"
             ],
             [
              0.4444444444444444,
              "#bd3786"
             ],
             [
              0.5555555555555556,
              "#d8576b"
             ],
             [
              0.6666666666666666,
              "#ed7953"
             ],
             [
              0.7777777777777778,
              "#fb9f3a"
             ],
             [
              0.8888888888888888,
              "#fdca26"
             ],
             [
              1,
              "#f0f921"
             ]
            ],
            "type": "heatmapgl"
           }
          ],
          "histogram": [
           {
            "marker": {
             "pattern": {
              "fillmode": "overlay",
              "size": 10,
              "solidity": 0.2
             }
            },
            "type": "histogram"
           }
          ],
          "histogram2d": [
           {
            "colorbar": {
             "outlinewidth": 0,
             "ticks": ""
            },
            "colorscale": [
             [
              0,
              "#0d0887"
             ],
             [
              0.1111111111111111,
              "#46039f"
             ],
             [
              0.2222222222222222,
              "#7201a8"
             ],
             [
              0.3333333333333333,
              "#9c179e"
             ],
             [
              0.4444444444444444,
              "#bd3786"
             ],
             [
              0.5555555555555556,
              "#d8576b"
             ],
             [
              0.6666666666666666,
              "#ed7953"
             ],
             [
              0.7777777777777778,
              "#fb9f3a"
             ],
             [
              0.8888888888888888,
              "#fdca26"
             ],
             [
              1,
              "#f0f921"
             ]
            ],
            "type": "histogram2d"
           }
          ],
          "histogram2dcontour": [
           {
            "colorbar": {
             "outlinewidth": 0,
             "ticks": ""
            },
            "colorscale": [
             [
              0,
              "#0d0887"
             ],
             [
              0.1111111111111111,
              "#46039f"
             ],
             [
              0.2222222222222222,
              "#7201a8"
             ],
             [
              0.3333333333333333,
              "#9c179e"
             ],
             [
              0.4444444444444444,
              "#bd3786"
             ],
             [
              0.5555555555555556,
              "#d8576b"
             ],
             [
              0.6666666666666666,
              "#ed7953"
             ],
             [
              0.7777777777777778,
              "#fb9f3a"
             ],
             [
              0.8888888888888888,
              "#fdca26"
             ],
             [
              1,
              "#f0f921"
             ]
            ],
            "type": "histogram2dcontour"
           }
          ],
          "mesh3d": [
           {
            "colorbar": {
             "outlinewidth": 0,
             "ticks": ""
            },
            "type": "mesh3d"
           }
          ],
          "parcoords": [
           {
            "line": {
             "colorbar": {
              "outlinewidth": 0,
              "ticks": ""
             }
            },
            "type": "parcoords"
           }
          ],
          "pie": [
           {
            "automargin": true,
            "type": "pie"
           }
          ],
          "scatter": [
           {
            "fillpattern": {
             "fillmode": "overlay",
             "size": 10,
             "solidity": 0.2
            },
            "type": "scatter"
           }
          ],
          "scatter3d": [
           {
            "line": {
             "colorbar": {
              "outlinewidth": 0,
              "ticks": ""
             }
            },
            "marker": {
             "colorbar": {
              "outlinewidth": 0,
              "ticks": ""
             }
            },
            "type": "scatter3d"
           }
          ],
          "scattercarpet": [
           {
            "marker": {
             "colorbar": {
              "outlinewidth": 0,
              "ticks": ""
             }
            },
            "type": "scattercarpet"
           }
          ],
          "scattergeo": [
           {
            "marker": {
             "colorbar": {
              "outlinewidth": 0,
              "ticks": ""
             }
            },
            "type": "scattergeo"
           }
          ],
          "scattergl": [
           {
            "marker": {
             "colorbar": {
              "outlinewidth": 0,
              "ticks": ""
             }
            },
            "type": "scattergl"
           }
          ],
          "scattermapbox": [
           {
            "marker": {
             "colorbar": {
              "outlinewidth": 0,
              "ticks": ""
             }
            },
            "type": "scattermapbox"
           }
          ],
          "scatterpolar": [
           {
            "marker": {
             "colorbar": {
              "outlinewidth": 0,
              "ticks": ""
             }
            },
            "type": "scatterpolar"
           }
          ],
          "scatterpolargl": [
           {
            "marker": {
             "colorbar": {
              "outlinewidth": 0,
              "ticks": ""
             }
            },
            "type": "scatterpolargl"
           }
          ],
          "scatterternary": [
           {
            "marker": {
             "colorbar": {
              "outlinewidth": 0,
              "ticks": ""
             }
            },
            "type": "scatterternary"
           }
          ],
          "surface": [
           {
            "colorbar": {
             "outlinewidth": 0,
             "ticks": ""
            },
            "colorscale": [
             [
              0,
              "#0d0887"
             ],
             [
              0.1111111111111111,
              "#46039f"
             ],
             [
              0.2222222222222222,
              "#7201a8"
             ],
             [
              0.3333333333333333,
              "#9c179e"
             ],
             [
              0.4444444444444444,
              "#bd3786"
             ],
             [
              0.5555555555555556,
              "#d8576b"
             ],
             [
              0.6666666666666666,
              "#ed7953"
             ],
             [
              0.7777777777777778,
              "#fb9f3a"
             ],
             [
              0.8888888888888888,
              "#fdca26"
             ],
             [
              1,
              "#f0f921"
             ]
            ],
            "type": "surface"
           }
          ],
          "table": [
           {
            "cells": {
             "fill": {
              "color": "#EBF0F8"
             },
             "line": {
              "color": "white"
             }
            },
            "header": {
             "fill": {
              "color": "#C8D4E3"
             },
             "line": {
              "color": "white"
             }
            },
            "type": "table"
           }
          ]
         },
         "layout": {
          "annotationdefaults": {
           "arrowcolor": "#2a3f5f",
           "arrowhead": 0,
           "arrowwidth": 1
          },
          "autotypenumbers": "strict",
          "coloraxis": {
           "colorbar": {
            "outlinewidth": 0,
            "ticks": ""
           }
          },
          "colorscale": {
           "diverging": [
            [
             0,
             "#8e0152"
            ],
            [
             0.1,
             "#c51b7d"
            ],
            [
             0.2,
             "#de77ae"
            ],
            [
             0.3,
             "#f1b6da"
            ],
            [
             0.4,
             "#fde0ef"
            ],
            [
             0.5,
             "#f7f7f7"
            ],
            [
             0.6,
             "#e6f5d0"
            ],
            [
             0.7,
             "#b8e186"
            ],
            [
             0.8,
             "#7fbc41"
            ],
            [
             0.9,
             "#4d9221"
            ],
            [
             1,
             "#276419"
            ]
           ],
           "sequential": [
            [
             0,
             "#0d0887"
            ],
            [
             0.1111111111111111,
             "#46039f"
            ],
            [
             0.2222222222222222,
             "#7201a8"
            ],
            [
             0.3333333333333333,
             "#9c179e"
            ],
            [
             0.4444444444444444,
             "#bd3786"
            ],
            [
             0.5555555555555556,
             "#d8576b"
            ],
            [
             0.6666666666666666,
             "#ed7953"
            ],
            [
             0.7777777777777778,
             "#fb9f3a"
            ],
            [
             0.8888888888888888,
             "#fdca26"
            ],
            [
             1,
             "#f0f921"
            ]
           ],
           "sequentialminus": [
            [
             0,
             "#0d0887"
            ],
            [
             0.1111111111111111,
             "#46039f"
            ],
            [
             0.2222222222222222,
             "#7201a8"
            ],
            [
             0.3333333333333333,
             "#9c179e"
            ],
            [
             0.4444444444444444,
             "#bd3786"
            ],
            [
             0.5555555555555556,
             "#d8576b"
            ],
            [
             0.6666666666666666,
             "#ed7953"
            ],
            [
             0.7777777777777778,
             "#fb9f3a"
            ],
            [
             0.8888888888888888,
             "#fdca26"
            ],
            [
             1,
             "#f0f921"
            ]
           ]
          },
          "colorway": [
           "#636efa",
           "#EF553B",
           "#00cc96",
           "#ab63fa",
           "#FFA15A",
           "#19d3f3",
           "#FF6692",
           "#B6E880",
           "#FF97FF",
           "#FECB52"
          ],
          "font": {
           "color": "#2a3f5f"
          },
          "geo": {
           "bgcolor": "white",
           "lakecolor": "white",
           "landcolor": "#E5ECF6",
           "showlakes": true,
           "showland": true,
           "subunitcolor": "white"
          },
          "hoverlabel": {
           "align": "left"
          },
          "hovermode": "closest",
          "mapbox": {
           "style": "light"
          },
          "paper_bgcolor": "white",
          "plot_bgcolor": "#E5ECF6",
          "polar": {
           "angularaxis": {
            "gridcolor": "white",
            "linecolor": "white",
            "ticks": ""
           },
           "bgcolor": "#E5ECF6",
           "radialaxis": {
            "gridcolor": "white",
            "linecolor": "white",
            "ticks": ""
           }
          },
          "scene": {
           "xaxis": {
            "backgroundcolor": "#E5ECF6",
            "gridcolor": "white",
            "gridwidth": 2,
            "linecolor": "white",
            "showbackground": true,
            "ticks": "",
            "zerolinecolor": "white"
           },
           "yaxis": {
            "backgroundcolor": "#E5ECF6",
            "gridcolor": "white",
            "gridwidth": 2,
            "linecolor": "white",
            "showbackground": true,
            "ticks": "",
            "zerolinecolor": "white"
           },
           "zaxis": {
            "backgroundcolor": "#E5ECF6",
            "gridcolor": "white",
            "gridwidth": 2,
            "linecolor": "white",
            "showbackground": true,
            "ticks": "",
            "zerolinecolor": "white"
           }
          },
          "shapedefaults": {
           "line": {
            "color": "#2a3f5f"
           }
          },
          "ternary": {
           "aaxis": {
            "gridcolor": "white",
            "linecolor": "white",
            "ticks": ""
           },
           "baxis": {
            "gridcolor": "white",
            "linecolor": "white",
            "ticks": ""
           },
           "bgcolor": "#E5ECF6",
           "caxis": {
            "gridcolor": "white",
            "linecolor": "white",
            "ticks": ""
           }
          },
          "title": {
           "x": 0.05
          },
          "xaxis": {
           "automargin": true,
           "gridcolor": "white",
           "linecolor": "white",
           "ticks": "",
           "title": {
            "standoff": 15
           },
           "zerolinecolor": "white",
           "zerolinewidth": 2
          },
          "yaxis": {
           "automargin": true,
           "gridcolor": "white",
           "linecolor": "white",
           "ticks": "",
           "title": {
            "standoff": 15
           },
           "zerolinecolor": "white",
           "zerolinewidth": 2
          }
         }
        },
        "xaxis": {
         "anchor": "y",
         "domain": [
          0,
          1
         ],
         "title": {
          "text": "분기"
         }
        },
        "yaxis": {
         "anchor": "x",
         "domain": [
          0,
          1
         ],
         "title": {
          "text": "부정 리뷰 비율(%)"
         }
        }
       }
      },
      "text/html": [
       "<div>                            <div id=\"ca34a6df-3a8b-4d20-92f7-f0ccb2ad81e8\" class=\"plotly-graph-div\" style=\"height:525px; width:100%;\"></div>            <script type=\"text/javascript\">                require([\"plotly\"], function(Plotly) {                    window.PLOTLYENV=window.PLOTLYENV || {};                                    if (document.getElementById(\"ca34a6df-3a8b-4d20-92f7-f0ccb2ad81e8\")) {                    Plotly.newPlot(                        \"ca34a6df-3a8b-4d20-92f7-f0ccb2ad81e8\",                        [{\"hovertemplate\":\"\\ubd84\\uae30=%{x}<br>\\ubd80\\uc815 \\ub9ac\\ubdf0 \\ube44\\uc728(%)=%{y}<extra></extra>\",\"legendgroup\":\"\",\"line\":{\"color\":\"#636efa\",\"dash\":\"solid\"},\"marker\":{\"symbol\":\"circle\"},\"mode\":\"lines\",\"name\":\"\",\"orientation\":\"v\",\"showlegend\":false,\"x\":[\"2018 1/4\",\"2018 2/4\",\"2018 3/4\",\"2018 4/4\",\"2019 1/4\",\"2019 2/4\",\"2019 3/4\",\"2019 4/4\",\"2020 1/4\",\"2020 2/4\",\"2020 3/4\",\"2020 4/4\",\"2021 1/4\",\"2021 2/4\",\"2021 3/4\",\"2021 4/4\",\"2022 1/4\",\"2022 2/4\",\"2022 3/4\",\"2022 4/4\",\"2023 1/4\",\"2023 2/4\",\"2023 3/4\"],\"xaxis\":\"x\",\"y\":[1.5873015873015872,2.7559055118110236,1.094890510948905,3.691275167785235,0.0,5.612244897959184,0.9174311926605505,2.857142857142857,0.8438818565400843,0.56657223796034,1.477832512315271,1.3745704467353952,0.8771929824561403,1.1583011583011582,0.4405286343612335,2.26537216828479,5.072463768115942,3.125,2.3474178403755865,0.9803921568627451,0.9009009009009009,3.5502958579881656,2.0],\"yaxis\":\"y\",\"type\":\"scatter\"}],                        {\"template\":{\"data\":{\"histogram2dcontour\":[{\"type\":\"histogram2dcontour\",\"colorbar\":{\"outlinewidth\":0,\"ticks\":\"\"},\"colorscale\":[[0.0,\"#0d0887\"],[0.1111111111111111,\"#46039f\"],[0.2222222222222222,\"#7201a8\"],[0.3333333333333333,\"#9c179e\"],[0.4444444444444444,\"#bd3786\"],[0.5555555555555556,\"#d8576b\"],[0.6666666666666666,\"#ed7953\"],[0.7777777777777778,\"#fb9f3a\"],[0.8888888888888888,\"#fdca26\"],[1.0,\"#f0f921\"]]}],\"choropleth\":[{\"type\":\"choropleth\",\"colorbar\":{\"outlinewidth\":0,\"ticks\":\"\"}}],\"histogram2d\":[{\"type\":\"histogram2d\",\"colorbar\":{\"outlinewidth\":0,\"ticks\":\"\"},\"colorscale\":[[0.0,\"#0d0887\"],[0.1111111111111111,\"#46039f\"],[0.2222222222222222,\"#7201a8\"],[0.3333333333333333,\"#9c179e\"],[0.4444444444444444,\"#bd3786\"],[0.5555555555555556,\"#d8576b\"],[0.6666666666666666,\"#ed7953\"],[0.7777777777777778,\"#fb9f3a\"],[0.8888888888888888,\"#fdca26\"],[1.0,\"#f0f921\"]]}],\"heatmap\":[{\"type\":\"heatmap\",\"colorbar\":{\"outlinewidth\":0,\"ticks\":\"\"},\"colorscale\":[[0.0,\"#0d0887\"],[0.1111111111111111,\"#46039f\"],[0.2222222222222222,\"#7201a8\"],[0.3333333333333333,\"#9c179e\"],[0.4444444444444444,\"#bd3786\"],[0.5555555555555556,\"#d8576b\"],[0.6666666666666666,\"#ed7953\"],[0.7777777777777778,\"#fb9f3a\"],[0.8888888888888888,\"#fdca26\"],[1.0,\"#f0f921\"]]}],\"heatmapgl\":[{\"type\":\"heatmapgl\",\"colorbar\":{\"outlinewidth\":0,\"ticks\":\"\"},\"colorscale\":[[0.0,\"#0d0887\"],[0.1111111111111111,\"#46039f\"],[0.2222222222222222,\"#7201a8\"],[0.3333333333333333,\"#9c179e\"],[0.4444444444444444,\"#bd3786\"],[0.5555555555555556,\"#d8576b\"],[0.6666666666666666,\"#ed7953\"],[0.7777777777777778,\"#fb9f3a\"],[0.8888888888888888,\"#fdca26\"],[1.0,\"#f0f921\"]]}],\"contourcarpet\":[{\"type\":\"contourcarpet\",\"colorbar\":{\"outlinewidth\":0,\"ticks\":\"\"}}],\"contour\":[{\"type\":\"contour\",\"colorbar\":{\"outlinewidth\":0,\"ticks\":\"\"},\"colorscale\":[[0.0,\"#0d0887\"],[0.1111111111111111,\"#46039f\"],[0.2222222222222222,\"#7201a8\"],[0.3333333333333333,\"#9c179e\"],[0.4444444444444444,\"#bd3786\"],[0.5555555555555556,\"#d8576b\"],[0.6666666666666666,\"#ed7953\"],[0.7777777777777778,\"#fb9f3a\"],[0.8888888888888888,\"#fdca26\"],[1.0,\"#f0f921\"]]}],\"surface\":[{\"type\":\"surface\",\"colorbar\":{\"outlinewidth\":0,\"ticks\":\"\"},\"colorscale\":[[0.0,\"#0d0887\"],[0.1111111111111111,\"#46039f\"],[0.2222222222222222,\"#7201a8\"],[0.3333333333333333,\"#9c179e\"],[0.4444444444444444,\"#bd3786\"],[0.5555555555555556,\"#d8576b\"],[0.6666666666666666,\"#ed7953\"],[0.7777777777777778,\"#fb9f3a\"],[0.8888888888888888,\"#fdca26\"],[1.0,\"#f0f921\"]]}],\"mesh3d\":[{\"type\":\"mesh3d\",\"colorbar\":{\"outlinewidth\":0,\"ticks\":\"\"}}],\"scatter\":[{\"fillpattern\":{\"fillmode\":\"overlay\",\"size\":10,\"solidity\":0.2},\"type\":\"scatter\"}],\"parcoords\":[{\"type\":\"parcoords\",\"line\":{\"colorbar\":{\"outlinewidth\":0,\"ticks\":\"\"}}}],\"scatterpolargl\":[{\"type\":\"scatterpolargl\",\"marker\":{\"colorbar\":{\"outlinewidth\":0,\"ticks\":\"\"}}}],\"bar\":[{\"error_x\":{\"color\":\"#2a3f5f\"},\"error_y\":{\"color\":\"#2a3f5f\"},\"marker\":{\"line\":{\"color\":\"#E5ECF6\",\"width\":0.5},\"pattern\":{\"fillmode\":\"overlay\",\"size\":10,\"solidity\":0.2}},\"type\":\"bar\"}],\"scattergeo\":[{\"type\":\"scattergeo\",\"marker\":{\"colorbar\":{\"outlinewidth\":0,\"ticks\":\"\"}}}],\"scatterpolar\":[{\"type\":\"scatterpolar\",\"marker\":{\"colorbar\":{\"outlinewidth\":0,\"ticks\":\"\"}}}],\"histogram\":[{\"marker\":{\"pattern\":{\"fillmode\":\"overlay\",\"size\":10,\"solidity\":0.2}},\"type\":\"histogram\"}],\"scattergl\":[{\"type\":\"scattergl\",\"marker\":{\"colorbar\":{\"outlinewidth\":0,\"ticks\":\"\"}}}],\"scatter3d\":[{\"type\":\"scatter3d\",\"line\":{\"colorbar\":{\"outlinewidth\":0,\"ticks\":\"\"}},\"marker\":{\"colorbar\":{\"outlinewidth\":0,\"ticks\":\"\"}}}],\"scattermapbox\":[{\"type\":\"scattermapbox\",\"marker\":{\"colorbar\":{\"outlinewidth\":0,\"ticks\":\"\"}}}],\"scatterternary\":[{\"type\":\"scatterternary\",\"marker\":{\"colorbar\":{\"outlinewidth\":0,\"ticks\":\"\"}}}],\"scattercarpet\":[{\"type\":\"scattercarpet\",\"marker\":{\"colorbar\":{\"outlinewidth\":0,\"ticks\":\"\"}}}],\"carpet\":[{\"aaxis\":{\"endlinecolor\":\"#2a3f5f\",\"gridcolor\":\"white\",\"linecolor\":\"white\",\"minorgridcolor\":\"white\",\"startlinecolor\":\"#2a3f5f\"},\"baxis\":{\"endlinecolor\":\"#2a3f5f\",\"gridcolor\":\"white\",\"linecolor\":\"white\",\"minorgridcolor\":\"white\",\"startlinecolor\":\"#2a3f5f\"},\"type\":\"carpet\"}],\"table\":[{\"cells\":{\"fill\":{\"color\":\"#EBF0F8\"},\"line\":{\"color\":\"white\"}},\"header\":{\"fill\":{\"color\":\"#C8D4E3\"},\"line\":{\"color\":\"white\"}},\"type\":\"table\"}],\"barpolar\":[{\"marker\":{\"line\":{\"color\":\"#E5ECF6\",\"width\":0.5},\"pattern\":{\"fillmode\":\"overlay\",\"size\":10,\"solidity\":0.2}},\"type\":\"barpolar\"}],\"pie\":[{\"automargin\":true,\"type\":\"pie\"}]},\"layout\":{\"autotypenumbers\":\"strict\",\"colorway\":[\"#636efa\",\"#EF553B\",\"#00cc96\",\"#ab63fa\",\"#FFA15A\",\"#19d3f3\",\"#FF6692\",\"#B6E880\",\"#FF97FF\",\"#FECB52\"],\"font\":{\"color\":\"#2a3f5f\"},\"hovermode\":\"closest\",\"hoverlabel\":{\"align\":\"left\"},\"paper_bgcolor\":\"white\",\"plot_bgcolor\":\"#E5ECF6\",\"polar\":{\"bgcolor\":\"#E5ECF6\",\"angularaxis\":{\"gridcolor\":\"white\",\"linecolor\":\"white\",\"ticks\":\"\"},\"radialaxis\":{\"gridcolor\":\"white\",\"linecolor\":\"white\",\"ticks\":\"\"}},\"ternary\":{\"bgcolor\":\"#E5ECF6\",\"aaxis\":{\"gridcolor\":\"white\",\"linecolor\":\"white\",\"ticks\":\"\"},\"baxis\":{\"gridcolor\":\"white\",\"linecolor\":\"white\",\"ticks\":\"\"},\"caxis\":{\"gridcolor\":\"white\",\"linecolor\":\"white\",\"ticks\":\"\"}},\"coloraxis\":{\"colorbar\":{\"outlinewidth\":0,\"ticks\":\"\"}},\"colorscale\":{\"sequential\":[[0.0,\"#0d0887\"],[0.1111111111111111,\"#46039f\"],[0.2222222222222222,\"#7201a8\"],[0.3333333333333333,\"#9c179e\"],[0.4444444444444444,\"#bd3786\"],[0.5555555555555556,\"#d8576b\"],[0.6666666666666666,\"#ed7953\"],[0.7777777777777778,\"#fb9f3a\"],[0.8888888888888888,\"#fdca26\"],[1.0,\"#f0f921\"]],\"sequentialminus\":[[0.0,\"#0d0887\"],[0.1111111111111111,\"#46039f\"],[0.2222222222222222,\"#7201a8\"],[0.3333333333333333,\"#9c179e\"],[0.4444444444444444,\"#bd3786\"],[0.5555555555555556,\"#d8576b\"],[0.6666666666666666,\"#ed7953\"],[0.7777777777777778,\"#fb9f3a\"],[0.8888888888888888,\"#fdca26\"],[1.0,\"#f0f921\"]],\"diverging\":[[0,\"#8e0152\"],[0.1,\"#c51b7d\"],[0.2,\"#de77ae\"],[0.3,\"#f1b6da\"],[0.4,\"#fde0ef\"],[0.5,\"#f7f7f7\"],[0.6,\"#e6f5d0\"],[0.7,\"#b8e186\"],[0.8,\"#7fbc41\"],[0.9,\"#4d9221\"],[1,\"#276419\"]]},\"xaxis\":{\"gridcolor\":\"white\",\"linecolor\":\"white\",\"ticks\":\"\",\"title\":{\"standoff\":15},\"zerolinecolor\":\"white\",\"automargin\":true,\"zerolinewidth\":2},\"yaxis\":{\"gridcolor\":\"white\",\"linecolor\":\"white\",\"ticks\":\"\",\"title\":{\"standoff\":15},\"zerolinecolor\":\"white\",\"automargin\":true,\"zerolinewidth\":2},\"scene\":{\"xaxis\":{\"backgroundcolor\":\"#E5ECF6\",\"gridcolor\":\"white\",\"linecolor\":\"white\",\"showbackground\":true,\"ticks\":\"\",\"zerolinecolor\":\"white\",\"gridwidth\":2},\"yaxis\":{\"backgroundcolor\":\"#E5ECF6\",\"gridcolor\":\"white\",\"linecolor\":\"white\",\"showbackground\":true,\"ticks\":\"\",\"zerolinecolor\":\"white\",\"gridwidth\":2},\"zaxis\":{\"backgroundcolor\":\"#E5ECF6\",\"gridcolor\":\"white\",\"linecolor\":\"white\",\"showbackground\":true,\"ticks\":\"\",\"zerolinecolor\":\"white\",\"gridwidth\":2}},\"shapedefaults\":{\"line\":{\"color\":\"#2a3f5f\"}},\"annotationdefaults\":{\"arrowcolor\":\"#2a3f5f\",\"arrowhead\":0,\"arrowwidth\":1},\"geo\":{\"bgcolor\":\"white\",\"landcolor\":\"#E5ECF6\",\"subunitcolor\":\"white\",\"showland\":true,\"showlakes\":true,\"lakecolor\":\"white\"},\"title\":{\"x\":0.05},\"mapbox\":{\"style\":\"light\"}}},\"xaxis\":{\"anchor\":\"y\",\"domain\":[0.0,1.0],\"title\":{\"text\":\"\\ubd84\\uae30\"}},\"yaxis\":{\"anchor\":\"x\",\"domain\":[0.0,1.0],\"title\":{\"text\":\"\\ubd80\\uc815 \\ub9ac\\ubdf0 \\ube44\\uc728(%)\"}},\"legend\":{\"tracegroupgap\":0},\"margin\":{\"t\":60}},                        {\"responsive\": true}                    ).then(function(){\n",
       "                            \n",
       "var gd = document.getElementById('ca34a6df-3a8b-4d20-92f7-f0ccb2ad81e8');\n",
       "var x = new MutationObserver(function (mutations, observer) {{\n",
       "        var display = window.getComputedStyle(gd).display;\n",
       "        if (!display || display === 'none') {{\n",
       "            console.log([gd, 'removed!']);\n",
       "            Plotly.purge(gd);\n",
       "            observer.disconnect();\n",
       "        }}\n",
       "}});\n",
       "\n",
       "// Listen for the removal of the full notebook cells\n",
       "var notebookContainer = gd.closest('#notebook-container');\n",
       "if (notebookContainer) {{\n",
       "    x.observe(notebookContainer, {childList: true});\n",
       "}}\n",
       "\n",
       "// Listen for the clearing of the current output cell\n",
       "var outputEl = gd.closest('.output');\n",
       "if (outputEl) {{\n",
       "    x.observe(outputEl, {childList: true});\n",
       "}}\n",
       "\n",
       "                        })                };                });            </script>        </div>"
      ]
     },
     "metadata": {},
     "output_type": "display_data"
    }
   ],
   "source": [
    "# 그래프 그려보기\n",
    "\n",
    "import plotly.express as px\n",
    "px.line(dfqe2, x = 'quarter', y = 'ratio',\n",
    "       labels={'quarter':'분기', 'ratio':'부정 리뷰 비율(%)'})"
   ]
  },
  {
   "cell_type": "code",
   "execution_count": null,
   "id": "0b02bc3d",
   "metadata": {},
   "outputs": [],
   "source": []
  },
  {
   "cell_type": "markdown",
   "id": "f987a5bd",
   "metadata": {},
   "source": [
    "## 아이스크림 별점"
   ]
  },
  {
   "cell_type": "code",
   "execution_count": 390,
   "id": "8da93cd7",
   "metadata": {
    "scrolled": false
   },
   "outputs": [
    {
     "data": {
      "text/html": [
       "<div>\n",
       "<style scoped>\n",
       "    .dataframe tbody tr th:only-of-type {\n",
       "        vertical-align: middle;\n",
       "    }\n",
       "\n",
       "    .dataframe tbody tr th {\n",
       "        vertical-align: top;\n",
       "    }\n",
       "\n",
       "    .dataframe thead th {\n",
       "        text-align: right;\n",
       "    }\n",
       "</style>\n",
       "<table border=\"1\" class=\"dataframe\">\n",
       "  <thead>\n",
       "    <tr style=\"text-align: right;\">\n",
       "      <th></th>\n",
       "      <th>name</th>\n",
       "      <th>title</th>\n",
       "      <th>star</th>\n",
       "      <th>comments</th>\n",
       "      <th>class</th>\n",
       "      <th>date</th>\n",
       "      <th>title_comments</th>\n",
       "      <th>emotion</th>\n",
       "      <th>quarter</th>\n",
       "    </tr>\n",
       "  </thead>\n",
       "  <tbody>\n",
       "    <tr>\n",
       "      <th>0</th>\n",
       "      <td>교사를 위한 구글 활용법(입문자편)</td>\n",
       "      <td>Google 연수</td>\n",
       "      <td>5</td>\n",
       "      <td>구글의 다양한 활용방법을 쉽고 열정적으로 알려주신 강사님들 모습에 동기부여 받아, ...</td>\n",
       "      <td>ICT</td>\n",
       "      <td>2023-07-31</td>\n",
       "      <td>Google 연수 구글의 다양한 활용방법을 쉽고 열정적으로 알려주신 강사님들 모습에...</td>\n",
       "      <td>True</td>\n",
       "      <td>2023 3/4</td>\n",
       "    </tr>\n",
       "    <tr>\n",
       "      <th>1</th>\n",
       "      <td>감성을 엮는 시간, 라탄 공예</td>\n",
       "      <td>다양한 소품 제작</td>\n",
       "      <td>5</td>\n",
       "      <td>라탄 공예의 기본을 익혀 생활 속에서 필요한 소품 제작 및 학생 수업에 활용해야겠다.</td>\n",
       "      <td>자기계발</td>\n",
       "      <td>2023-07-30</td>\n",
       "      <td>다양한 소품 제작 라탄 공예의 기본을 익혀 생활 속에서 필요한 소품 제작 및 학생 ...</td>\n",
       "      <td>True</td>\n",
       "      <td>2023 3/4</td>\n",
       "    </tr>\n",
       "    <tr>\n",
       "      <th>2</th>\n",
       "      <td>뚝딱뚝딱 온앤오프 수업자료 만들기</td>\n",
       "      <td>너무너무 유익하고 좋은 연수였습니다.</td>\n",
       "      <td>5</td>\n",
       "      <td>수업 자료를 만들때 바로 적용할 수 있는\\n팁들을 많이 얻을 수 있어 좋았습니다.\\...</td>\n",
       "      <td>학습지도</td>\n",
       "      <td>2023-07-29</td>\n",
       "      <td>너무너무 유익하고 좋은 연수였습니다. 수업 자료를 만들때 바로 적용할 수 있는\\n팁...</td>\n",
       "      <td>True</td>\n",
       "      <td>2023 3/4</td>\n",
       "    </tr>\n",
       "    <tr>\n",
       "      <th>3</th>\n",
       "      <td>챗GPT 융합교육 가이드, 인공지능(AI) 챗봇 수업</td>\n",
       "      <td>다양한 AI 프로그램을 알 수 있었습니다. ; )</td>\n",
       "      <td>5</td>\n",
       "      <td>챗GPT가 무엇인지는 대충 알고 있었는데\\n수업에 어떻게 활용하면 좋을까?\\n학생들...</td>\n",
       "      <td>학습지도</td>\n",
       "      <td>2023-07-28</td>\n",
       "      <td>다양한 AI 프로그램을 알 수 있었습니다. ; ) 챗GPT가 무엇인지는 대충 알고 ...</td>\n",
       "      <td>True</td>\n",
       "      <td>2023 3/4</td>\n",
       "    </tr>\n",
       "    <tr>\n",
       "      <th>4</th>\n",
       "      <td>[컬러테라피] 감성을 그리는 시간, 수채화로 떠나는 컬러링 여행</td>\n",
       "      <td>수채화로 내면까지 채울 수 있었어요.</td>\n",
       "      <td>5</td>\n",
       "      <td>수채화에 대해 관심이 없었고, 미술을 잘하거나 좋아하는 사람들만의 영역일거라 생각했...</td>\n",
       "      <td>자기계발</td>\n",
       "      <td>2023-07-28</td>\n",
       "      <td>수채화로 내면까지 채울 수 있었어요. 수채화에 대해 관심이 없었고, 미술을 잘하거나...</td>\n",
       "      <td>True</td>\n",
       "      <td>2023 3/4</td>\n",
       "    </tr>\n",
       "  </tbody>\n",
       "</table>\n",
       "</div>"
      ],
      "text/plain": [
       "                                  name                        title  star  \\\n",
       "0                  교사를 위한 구글 활용법(입문자편)                    Google 연수     5   \n",
       "1                     감성을 엮는 시간, 라탄 공예                    다양한 소품 제작     5   \n",
       "2                   뚝딱뚝딱 온앤오프 수업자료 만들기         너무너무 유익하고 좋은 연수였습니다.     5   \n",
       "3        챗GPT 융합교육 가이드, 인공지능(AI) 챗봇 수업  다양한 AI 프로그램을 알 수 있었습니다. ; )     5   \n",
       "4  [컬러테라피] 감성을 그리는 시간, 수채화로 떠나는 컬러링 여행         수채화로 내면까지 채울 수 있었어요.     5   \n",
       "\n",
       "                                            comments class       date  \\\n",
       "0  구글의 다양한 활용방법을 쉽고 열정적으로 알려주신 강사님들 모습에 동기부여 받아, ...   ICT 2023-07-31   \n",
       "1    라탄 공예의 기본을 익혀 생활 속에서 필요한 소품 제작 및 학생 수업에 활용해야겠다.  자기계발 2023-07-30   \n",
       "2  수업 자료를 만들때 바로 적용할 수 있는\\n팁들을 많이 얻을 수 있어 좋았습니다.\\...  학습지도 2023-07-29   \n",
       "3  챗GPT가 무엇인지는 대충 알고 있었는데\\n수업에 어떻게 활용하면 좋을까?\\n학생들...  학습지도 2023-07-28   \n",
       "4  수채화에 대해 관심이 없었고, 미술을 잘하거나 좋아하는 사람들만의 영역일거라 생각했...  자기계발 2023-07-28   \n",
       "\n",
       "                                      title_comments  emotion   quarter  \n",
       "0  Google 연수 구글의 다양한 활용방법을 쉽고 열정적으로 알려주신 강사님들 모습에...     True  2023 3/4  \n",
       "1  다양한 소품 제작 라탄 공예의 기본을 익혀 생활 속에서 필요한 소품 제작 및 학생 ...     True  2023 3/4  \n",
       "2  너무너무 유익하고 좋은 연수였습니다. 수업 자료를 만들때 바로 적용할 수 있는\\n팁...     True  2023 3/4  \n",
       "3  다양한 AI 프로그램을 알 수 있었습니다. ; ) 챗GPT가 무엇인지는 대충 알고 ...     True  2023 3/4  \n",
       "4  수채화로 내면까지 채울 수 있었어요. 수채화에 대해 관심이 없었고, 미술을 잘하거나...     True  2023 3/4  "
      ]
     },
     "execution_count": 390,
     "metadata": {},
     "output_type": "execute_result"
    }
   ],
   "source": [
    "dfd.head()"
   ]
  },
  {
   "cell_type": "code",
   "execution_count": 391,
   "id": "7ffc24b3",
   "metadata": {},
   "outputs": [],
   "source": [
    "# 분기별 별점 개수로 정리\n",
    "\n",
    "dfr = dfd.groupby(['quarter','star']).size().unstack().fillna(0)"
   ]
  },
  {
   "cell_type": "code",
   "execution_count": 392,
   "id": "a2a68c5b",
   "metadata": {},
   "outputs": [
    {
     "data": {
      "text/html": [
       "<div>\n",
       "<style scoped>\n",
       "    .dataframe tbody tr th:only-of-type {\n",
       "        vertical-align: middle;\n",
       "    }\n",
       "\n",
       "    .dataframe tbody tr th {\n",
       "        vertical-align: top;\n",
       "    }\n",
       "\n",
       "    .dataframe thead th {\n",
       "        text-align: right;\n",
       "    }\n",
       "</style>\n",
       "<table border=\"1\" class=\"dataframe\">\n",
       "  <thead>\n",
       "    <tr style=\"text-align: right;\">\n",
       "      <th>star</th>\n",
       "      <th>1</th>\n",
       "      <th>2</th>\n",
       "      <th>3</th>\n",
       "      <th>4</th>\n",
       "      <th>5</th>\n",
       "    </tr>\n",
       "    <tr>\n",
       "      <th>quarter</th>\n",
       "      <th></th>\n",
       "      <th></th>\n",
       "      <th></th>\n",
       "      <th></th>\n",
       "      <th></th>\n",
       "    </tr>\n",
       "  </thead>\n",
       "  <tbody>\n",
       "    <tr>\n",
       "      <th>2018 1/4</th>\n",
       "      <td>0.0</td>\n",
       "      <td>1.0</td>\n",
       "      <td>1.0</td>\n",
       "      <td>9.0</td>\n",
       "      <td>115.0</td>\n",
       "    </tr>\n",
       "    <tr>\n",
       "      <th>2018 2/4</th>\n",
       "      <td>0.0</td>\n",
       "      <td>2.0</td>\n",
       "      <td>7.0</td>\n",
       "      <td>20.0</td>\n",
       "      <td>225.0</td>\n",
       "    </tr>\n",
       "    <tr>\n",
       "      <th>2018 3/4</th>\n",
       "      <td>0.0</td>\n",
       "      <td>0.0</td>\n",
       "      <td>8.0</td>\n",
       "      <td>19.0</td>\n",
       "      <td>247.0</td>\n",
       "    </tr>\n",
       "    <tr>\n",
       "      <th>2018 4/4</th>\n",
       "      <td>2.0</td>\n",
       "      <td>1.0</td>\n",
       "      <td>9.0</td>\n",
       "      <td>18.0</td>\n",
       "      <td>268.0</td>\n",
       "    </tr>\n",
       "    <tr>\n",
       "      <th>2019 1/4</th>\n",
       "      <td>0.0</td>\n",
       "      <td>0.0</td>\n",
       "      <td>2.0</td>\n",
       "      <td>9.0</td>\n",
       "      <td>97.0</td>\n",
       "    </tr>\n",
       "  </tbody>\n",
       "</table>\n",
       "</div>"
      ],
      "text/plain": [
       "star        1    2    3     4      5\n",
       "quarter                             \n",
       "2018 1/4  0.0  1.0  1.0   9.0  115.0\n",
       "2018 2/4  0.0  2.0  7.0  20.0  225.0\n",
       "2018 3/4  0.0  0.0  8.0  19.0  247.0\n",
       "2018 4/4  2.0  1.0  9.0  18.0  268.0\n",
       "2019 1/4  0.0  0.0  2.0   9.0   97.0"
      ]
     },
     "execution_count": 392,
     "metadata": {},
     "output_type": "execute_result"
    }
   ],
   "source": [
    "dfr.head()"
   ]
  },
  {
   "cell_type": "code",
   "execution_count": 393,
   "id": "551aee8c",
   "metadata": {},
   "outputs": [],
   "source": [
    "# 별점별 비율 구하기\n",
    "\n",
    "dfrr = dfr.copy()\n",
    "\n",
    "dfrr[1] = dfr[1]/(dfr[1]+dfr[2]+dfr[3]+dfr[4]+dfr[5])*100\n",
    "dfrr[2] = dfr[2]/(dfr[1]+dfr[2]+dfr[3]+dfr[4]+dfr[5])*100\n",
    "dfrr[3] = dfr[3]/(dfr[1]+dfr[2]+dfr[3]+dfr[4]+dfr[5])*100\n",
    "dfrr[4] = dfr[4]/(dfr[1]+dfr[2]+dfr[3]+dfr[4]+dfr[5])*100\n",
    "dfrr[5] = dfr[5]/(dfr[1]+dfr[2]+dfr[3]+dfr[4]+dfr[5])*100"
   ]
  },
  {
   "cell_type": "code",
   "execution_count": 394,
   "id": "13b5a49a",
   "metadata": {},
   "outputs": [],
   "source": [
    "dfrr['1+2+3'] = dfrr[1]+dfrr[2]+dfrr[3]\n",
    "dfrr['1+2+3+4'] = dfrr[1]+dfrr[2]+dfrr[3]+dfrr[4]"
   ]
  },
  {
   "cell_type": "code",
   "execution_count": 395,
   "id": "3f7dd7c7",
   "metadata": {},
   "outputs": [
    {
     "data": {
      "text/html": [
       "<div>\n",
       "<style scoped>\n",
       "    .dataframe tbody tr th:only-of-type {\n",
       "        vertical-align: middle;\n",
       "    }\n",
       "\n",
       "    .dataframe tbody tr th {\n",
       "        vertical-align: top;\n",
       "    }\n",
       "\n",
       "    .dataframe thead th {\n",
       "        text-align: right;\n",
       "    }\n",
       "</style>\n",
       "<table border=\"1\" class=\"dataframe\">\n",
       "  <thead>\n",
       "    <tr style=\"text-align: right;\">\n",
       "      <th>star</th>\n",
       "      <th>1</th>\n",
       "      <th>2</th>\n",
       "      <th>3</th>\n",
       "      <th>4</th>\n",
       "      <th>5</th>\n",
       "      <th>1+2+3</th>\n",
       "      <th>1+2+3+4</th>\n",
       "    </tr>\n",
       "    <tr>\n",
       "      <th>quarter</th>\n",
       "      <th></th>\n",
       "      <th></th>\n",
       "      <th></th>\n",
       "      <th></th>\n",
       "      <th></th>\n",
       "      <th></th>\n",
       "      <th></th>\n",
       "    </tr>\n",
       "  </thead>\n",
       "  <tbody>\n",
       "    <tr>\n",
       "      <th>2018 1/4</th>\n",
       "      <td>0.000000</td>\n",
       "      <td>0.793651</td>\n",
       "      <td>0.793651</td>\n",
       "      <td>7.142857</td>\n",
       "      <td>91.269841</td>\n",
       "      <td>1.587302</td>\n",
       "      <td>8.730159</td>\n",
       "    </tr>\n",
       "    <tr>\n",
       "      <th>2018 2/4</th>\n",
       "      <td>0.000000</td>\n",
       "      <td>0.787402</td>\n",
       "      <td>2.755906</td>\n",
       "      <td>7.874016</td>\n",
       "      <td>88.582677</td>\n",
       "      <td>3.543307</td>\n",
       "      <td>11.417323</td>\n",
       "    </tr>\n",
       "    <tr>\n",
       "      <th>2018 3/4</th>\n",
       "      <td>0.000000</td>\n",
       "      <td>0.000000</td>\n",
       "      <td>2.919708</td>\n",
       "      <td>6.934307</td>\n",
       "      <td>90.145985</td>\n",
       "      <td>2.919708</td>\n",
       "      <td>9.854015</td>\n",
       "    </tr>\n",
       "    <tr>\n",
       "      <th>2018 4/4</th>\n",
       "      <td>0.671141</td>\n",
       "      <td>0.335570</td>\n",
       "      <td>3.020134</td>\n",
       "      <td>6.040268</td>\n",
       "      <td>89.932886</td>\n",
       "      <td>4.026846</td>\n",
       "      <td>10.067114</td>\n",
       "    </tr>\n",
       "    <tr>\n",
       "      <th>2019 1/4</th>\n",
       "      <td>0.000000</td>\n",
       "      <td>0.000000</td>\n",
       "      <td>1.851852</td>\n",
       "      <td>8.333333</td>\n",
       "      <td>89.814815</td>\n",
       "      <td>1.851852</td>\n",
       "      <td>10.185185</td>\n",
       "    </tr>\n",
       "    <tr>\n",
       "      <th>2019 2/4</th>\n",
       "      <td>1.020408</td>\n",
       "      <td>0.000000</td>\n",
       "      <td>2.551020</td>\n",
       "      <td>7.142857</td>\n",
       "      <td>89.285714</td>\n",
       "      <td>3.571429</td>\n",
       "      <td>10.714286</td>\n",
       "    </tr>\n",
       "    <tr>\n",
       "      <th>2019 3/4</th>\n",
       "      <td>0.000000</td>\n",
       "      <td>0.000000</td>\n",
       "      <td>2.293578</td>\n",
       "      <td>5.504587</td>\n",
       "      <td>92.201835</td>\n",
       "      <td>2.293578</td>\n",
       "      <td>7.798165</td>\n",
       "    </tr>\n",
       "    <tr>\n",
       "      <th>2019 4/4</th>\n",
       "      <td>0.000000</td>\n",
       "      <td>0.000000</td>\n",
       "      <td>1.632653</td>\n",
       "      <td>7.755102</td>\n",
       "      <td>90.612245</td>\n",
       "      <td>1.632653</td>\n",
       "      <td>9.387755</td>\n",
       "    </tr>\n",
       "    <tr>\n",
       "      <th>2020 1/4</th>\n",
       "      <td>0.421941</td>\n",
       "      <td>0.000000</td>\n",
       "      <td>1.265823</td>\n",
       "      <td>5.063291</td>\n",
       "      <td>93.248945</td>\n",
       "      <td>1.687764</td>\n",
       "      <td>6.751055</td>\n",
       "    </tr>\n",
       "    <tr>\n",
       "      <th>2020 2/4</th>\n",
       "      <td>0.000000</td>\n",
       "      <td>0.283286</td>\n",
       "      <td>2.832861</td>\n",
       "      <td>5.382436</td>\n",
       "      <td>91.501416</td>\n",
       "      <td>3.116147</td>\n",
       "      <td>8.498584</td>\n",
       "    </tr>\n",
       "    <tr>\n",
       "      <th>2020 3/4</th>\n",
       "      <td>0.985222</td>\n",
       "      <td>0.000000</td>\n",
       "      <td>1.477833</td>\n",
       "      <td>3.448276</td>\n",
       "      <td>94.088670</td>\n",
       "      <td>2.463054</td>\n",
       "      <td>5.911330</td>\n",
       "    </tr>\n",
       "    <tr>\n",
       "      <th>2020 4/4</th>\n",
       "      <td>1.030928</td>\n",
       "      <td>0.687285</td>\n",
       "      <td>0.687285</td>\n",
       "      <td>3.780069</td>\n",
       "      <td>93.814433</td>\n",
       "      <td>2.405498</td>\n",
       "      <td>6.185567</td>\n",
       "    </tr>\n",
       "    <tr>\n",
       "      <th>2021 1/4</th>\n",
       "      <td>0.877193</td>\n",
       "      <td>0.000000</td>\n",
       "      <td>0.877193</td>\n",
       "      <td>0.877193</td>\n",
       "      <td>97.368421</td>\n",
       "      <td>1.754386</td>\n",
       "      <td>2.631579</td>\n",
       "    </tr>\n",
       "    <tr>\n",
       "      <th>2021 2/4</th>\n",
       "      <td>0.000000</td>\n",
       "      <td>0.386100</td>\n",
       "      <td>0.772201</td>\n",
       "      <td>4.247104</td>\n",
       "      <td>94.594595</td>\n",
       "      <td>1.158301</td>\n",
       "      <td>5.405405</td>\n",
       "    </tr>\n",
       "    <tr>\n",
       "      <th>2021 3/4</th>\n",
       "      <td>0.000000</td>\n",
       "      <td>0.000000</td>\n",
       "      <td>0.440529</td>\n",
       "      <td>2.202643</td>\n",
       "      <td>97.356828</td>\n",
       "      <td>0.440529</td>\n",
       "      <td>2.643172</td>\n",
       "    </tr>\n",
       "    <tr>\n",
       "      <th>2021 4/4</th>\n",
       "      <td>0.323625</td>\n",
       "      <td>0.000000</td>\n",
       "      <td>0.970874</td>\n",
       "      <td>3.559871</td>\n",
       "      <td>95.145631</td>\n",
       "      <td>1.294498</td>\n",
       "      <td>4.854369</td>\n",
       "    </tr>\n",
       "    <tr>\n",
       "      <th>2022 1/4</th>\n",
       "      <td>0.000000</td>\n",
       "      <td>0.000000</td>\n",
       "      <td>2.173913</td>\n",
       "      <td>7.246377</td>\n",
       "      <td>90.579710</td>\n",
       "      <td>2.173913</td>\n",
       "      <td>9.420290</td>\n",
       "    </tr>\n",
       "    <tr>\n",
       "      <th>2022 2/4</th>\n",
       "      <td>0.520833</td>\n",
       "      <td>0.520833</td>\n",
       "      <td>0.520833</td>\n",
       "      <td>4.687500</td>\n",
       "      <td>93.750000</td>\n",
       "      <td>1.562500</td>\n",
       "      <td>6.250000</td>\n",
       "    </tr>\n",
       "    <tr>\n",
       "      <th>2022 3/4</th>\n",
       "      <td>0.469484</td>\n",
       "      <td>0.938967</td>\n",
       "      <td>1.408451</td>\n",
       "      <td>4.694836</td>\n",
       "      <td>92.488263</td>\n",
       "      <td>2.816901</td>\n",
       "      <td>7.511737</td>\n",
       "    </tr>\n",
       "    <tr>\n",
       "      <th>2022 4/4</th>\n",
       "      <td>0.326797</td>\n",
       "      <td>0.000000</td>\n",
       "      <td>0.980392</td>\n",
       "      <td>3.594771</td>\n",
       "      <td>95.098039</td>\n",
       "      <td>1.307190</td>\n",
       "      <td>4.901961</td>\n",
       "    </tr>\n",
       "    <tr>\n",
       "      <th>2023 1/4</th>\n",
       "      <td>0.900901</td>\n",
       "      <td>0.000000</td>\n",
       "      <td>2.702703</td>\n",
       "      <td>5.405405</td>\n",
       "      <td>90.990991</td>\n",
       "      <td>3.603604</td>\n",
       "      <td>9.009009</td>\n",
       "    </tr>\n",
       "    <tr>\n",
       "      <th>2023 2/4</th>\n",
       "      <td>1.183432</td>\n",
       "      <td>0.000000</td>\n",
       "      <td>2.366864</td>\n",
       "      <td>2.366864</td>\n",
       "      <td>94.082840</td>\n",
       "      <td>3.550296</td>\n",
       "      <td>5.917160</td>\n",
       "    </tr>\n",
       "    <tr>\n",
       "      <th>2023 3/4</th>\n",
       "      <td>0.000000</td>\n",
       "      <td>0.000000</td>\n",
       "      <td>2.000000</td>\n",
       "      <td>4.000000</td>\n",
       "      <td>94.000000</td>\n",
       "      <td>2.000000</td>\n",
       "      <td>6.000000</td>\n",
       "    </tr>\n",
       "  </tbody>\n",
       "</table>\n",
       "</div>"
      ],
      "text/plain": [
       "star             1         2         3         4          5     1+2+3  \\\n",
       "quarter                                                                 \n",
       "2018 1/4  0.000000  0.793651  0.793651  7.142857  91.269841  1.587302   \n",
       "2018 2/4  0.000000  0.787402  2.755906  7.874016  88.582677  3.543307   \n",
       "2018 3/4  0.000000  0.000000  2.919708  6.934307  90.145985  2.919708   \n",
       "2018 4/4  0.671141  0.335570  3.020134  6.040268  89.932886  4.026846   \n",
       "2019 1/4  0.000000  0.000000  1.851852  8.333333  89.814815  1.851852   \n",
       "2019 2/4  1.020408  0.000000  2.551020  7.142857  89.285714  3.571429   \n",
       "2019 3/4  0.000000  0.000000  2.293578  5.504587  92.201835  2.293578   \n",
       "2019 4/4  0.000000  0.000000  1.632653  7.755102  90.612245  1.632653   \n",
       "2020 1/4  0.421941  0.000000  1.265823  5.063291  93.248945  1.687764   \n",
       "2020 2/4  0.000000  0.283286  2.832861  5.382436  91.501416  3.116147   \n",
       "2020 3/4  0.985222  0.000000  1.477833  3.448276  94.088670  2.463054   \n",
       "2020 4/4  1.030928  0.687285  0.687285  3.780069  93.814433  2.405498   \n",
       "2021 1/4  0.877193  0.000000  0.877193  0.877193  97.368421  1.754386   \n",
       "2021 2/4  0.000000  0.386100  0.772201  4.247104  94.594595  1.158301   \n",
       "2021 3/4  0.000000  0.000000  0.440529  2.202643  97.356828  0.440529   \n",
       "2021 4/4  0.323625  0.000000  0.970874  3.559871  95.145631  1.294498   \n",
       "2022 1/4  0.000000  0.000000  2.173913  7.246377  90.579710  2.173913   \n",
       "2022 2/4  0.520833  0.520833  0.520833  4.687500  93.750000  1.562500   \n",
       "2022 3/4  0.469484  0.938967  1.408451  4.694836  92.488263  2.816901   \n",
       "2022 4/4  0.326797  0.000000  0.980392  3.594771  95.098039  1.307190   \n",
       "2023 1/4  0.900901  0.000000  2.702703  5.405405  90.990991  3.603604   \n",
       "2023 2/4  1.183432  0.000000  2.366864  2.366864  94.082840  3.550296   \n",
       "2023 3/4  0.000000  0.000000  2.000000  4.000000  94.000000  2.000000   \n",
       "\n",
       "star        1+2+3+4  \n",
       "quarter              \n",
       "2018 1/4   8.730159  \n",
       "2018 2/4  11.417323  \n",
       "2018 3/4   9.854015  \n",
       "2018 4/4  10.067114  \n",
       "2019 1/4  10.185185  \n",
       "2019 2/4  10.714286  \n",
       "2019 3/4   7.798165  \n",
       "2019 4/4   9.387755  \n",
       "2020 1/4   6.751055  \n",
       "2020 2/4   8.498584  \n",
       "2020 3/4   5.911330  \n",
       "2020 4/4   6.185567  \n",
       "2021 1/4   2.631579  \n",
       "2021 2/4   5.405405  \n",
       "2021 3/4   2.643172  \n",
       "2021 4/4   4.854369  \n",
       "2022 1/4   9.420290  \n",
       "2022 2/4   6.250000  \n",
       "2022 3/4   7.511737  \n",
       "2022 4/4   4.901961  \n",
       "2023 1/4   9.009009  \n",
       "2023 2/4   5.917160  \n",
       "2023 3/4   6.000000  "
      ]
     },
     "execution_count": 395,
     "metadata": {},
     "output_type": "execute_result"
    }
   ],
   "source": [
    "dfrr"
   ]
  },
  {
   "cell_type": "code",
   "execution_count": 396,
   "id": "6b5053a0",
   "metadata": {},
   "outputs": [],
   "source": [
    "dfrr2 = dfrr.reset_index()"
   ]
  },
  {
   "cell_type": "code",
   "execution_count": 397,
   "id": "df47a5b6",
   "metadata": {},
   "outputs": [
    {
     "data": {
      "text/html": [
       "<div>\n",
       "<style scoped>\n",
       "    .dataframe tbody tr th:only-of-type {\n",
       "        vertical-align: middle;\n",
       "    }\n",
       "\n",
       "    .dataframe tbody tr th {\n",
       "        vertical-align: top;\n",
       "    }\n",
       "\n",
       "    .dataframe thead th {\n",
       "        text-align: right;\n",
       "    }\n",
       "</style>\n",
       "<table border=\"1\" class=\"dataframe\">\n",
       "  <thead>\n",
       "    <tr style=\"text-align: right;\">\n",
       "      <th>star</th>\n",
       "      <th>quarter</th>\n",
       "      <th>1</th>\n",
       "      <th>2</th>\n",
       "      <th>3</th>\n",
       "      <th>4</th>\n",
       "      <th>5</th>\n",
       "      <th>1+2+3</th>\n",
       "      <th>1+2+3+4</th>\n",
       "    </tr>\n",
       "  </thead>\n",
       "  <tbody>\n",
       "    <tr>\n",
       "      <th>0</th>\n",
       "      <td>2018 1/4</td>\n",
       "      <td>0.000000</td>\n",
       "      <td>0.793651</td>\n",
       "      <td>0.793651</td>\n",
       "      <td>7.142857</td>\n",
       "      <td>91.269841</td>\n",
       "      <td>1.587302</td>\n",
       "      <td>8.730159</td>\n",
       "    </tr>\n",
       "    <tr>\n",
       "      <th>1</th>\n",
       "      <td>2018 2/4</td>\n",
       "      <td>0.000000</td>\n",
       "      <td>0.787402</td>\n",
       "      <td>2.755906</td>\n",
       "      <td>7.874016</td>\n",
       "      <td>88.582677</td>\n",
       "      <td>3.543307</td>\n",
       "      <td>11.417323</td>\n",
       "    </tr>\n",
       "    <tr>\n",
       "      <th>2</th>\n",
       "      <td>2018 3/4</td>\n",
       "      <td>0.000000</td>\n",
       "      <td>0.000000</td>\n",
       "      <td>2.919708</td>\n",
       "      <td>6.934307</td>\n",
       "      <td>90.145985</td>\n",
       "      <td>2.919708</td>\n",
       "      <td>9.854015</td>\n",
       "    </tr>\n",
       "    <tr>\n",
       "      <th>3</th>\n",
       "      <td>2018 4/4</td>\n",
       "      <td>0.671141</td>\n",
       "      <td>0.335570</td>\n",
       "      <td>3.020134</td>\n",
       "      <td>6.040268</td>\n",
       "      <td>89.932886</td>\n",
       "      <td>4.026846</td>\n",
       "      <td>10.067114</td>\n",
       "    </tr>\n",
       "    <tr>\n",
       "      <th>4</th>\n",
       "      <td>2019 1/4</td>\n",
       "      <td>0.000000</td>\n",
       "      <td>0.000000</td>\n",
       "      <td>1.851852</td>\n",
       "      <td>8.333333</td>\n",
       "      <td>89.814815</td>\n",
       "      <td>1.851852</td>\n",
       "      <td>10.185185</td>\n",
       "    </tr>\n",
       "    <tr>\n",
       "      <th>5</th>\n",
       "      <td>2019 2/4</td>\n",
       "      <td>1.020408</td>\n",
       "      <td>0.000000</td>\n",
       "      <td>2.551020</td>\n",
       "      <td>7.142857</td>\n",
       "      <td>89.285714</td>\n",
       "      <td>3.571429</td>\n",
       "      <td>10.714286</td>\n",
       "    </tr>\n",
       "    <tr>\n",
       "      <th>6</th>\n",
       "      <td>2019 3/4</td>\n",
       "      <td>0.000000</td>\n",
       "      <td>0.000000</td>\n",
       "      <td>2.293578</td>\n",
       "      <td>5.504587</td>\n",
       "      <td>92.201835</td>\n",
       "      <td>2.293578</td>\n",
       "      <td>7.798165</td>\n",
       "    </tr>\n",
       "    <tr>\n",
       "      <th>7</th>\n",
       "      <td>2019 4/4</td>\n",
       "      <td>0.000000</td>\n",
       "      <td>0.000000</td>\n",
       "      <td>1.632653</td>\n",
       "      <td>7.755102</td>\n",
       "      <td>90.612245</td>\n",
       "      <td>1.632653</td>\n",
       "      <td>9.387755</td>\n",
       "    </tr>\n",
       "    <tr>\n",
       "      <th>8</th>\n",
       "      <td>2020 1/4</td>\n",
       "      <td>0.421941</td>\n",
       "      <td>0.000000</td>\n",
       "      <td>1.265823</td>\n",
       "      <td>5.063291</td>\n",
       "      <td>93.248945</td>\n",
       "      <td>1.687764</td>\n",
       "      <td>6.751055</td>\n",
       "    </tr>\n",
       "    <tr>\n",
       "      <th>9</th>\n",
       "      <td>2020 2/4</td>\n",
       "      <td>0.000000</td>\n",
       "      <td>0.283286</td>\n",
       "      <td>2.832861</td>\n",
       "      <td>5.382436</td>\n",
       "      <td>91.501416</td>\n",
       "      <td>3.116147</td>\n",
       "      <td>8.498584</td>\n",
       "    </tr>\n",
       "    <tr>\n",
       "      <th>10</th>\n",
       "      <td>2020 3/4</td>\n",
       "      <td>0.985222</td>\n",
       "      <td>0.000000</td>\n",
       "      <td>1.477833</td>\n",
       "      <td>3.448276</td>\n",
       "      <td>94.088670</td>\n",
       "      <td>2.463054</td>\n",
       "      <td>5.911330</td>\n",
       "    </tr>\n",
       "    <tr>\n",
       "      <th>11</th>\n",
       "      <td>2020 4/4</td>\n",
       "      <td>1.030928</td>\n",
       "      <td>0.687285</td>\n",
       "      <td>0.687285</td>\n",
       "      <td>3.780069</td>\n",
       "      <td>93.814433</td>\n",
       "      <td>2.405498</td>\n",
       "      <td>6.185567</td>\n",
       "    </tr>\n",
       "    <tr>\n",
       "      <th>12</th>\n",
       "      <td>2021 1/4</td>\n",
       "      <td>0.877193</td>\n",
       "      <td>0.000000</td>\n",
       "      <td>0.877193</td>\n",
       "      <td>0.877193</td>\n",
       "      <td>97.368421</td>\n",
       "      <td>1.754386</td>\n",
       "      <td>2.631579</td>\n",
       "    </tr>\n",
       "    <tr>\n",
       "      <th>13</th>\n",
       "      <td>2021 2/4</td>\n",
       "      <td>0.000000</td>\n",
       "      <td>0.386100</td>\n",
       "      <td>0.772201</td>\n",
       "      <td>4.247104</td>\n",
       "      <td>94.594595</td>\n",
       "      <td>1.158301</td>\n",
       "      <td>5.405405</td>\n",
       "    </tr>\n",
       "    <tr>\n",
       "      <th>14</th>\n",
       "      <td>2021 3/4</td>\n",
       "      <td>0.000000</td>\n",
       "      <td>0.000000</td>\n",
       "      <td>0.440529</td>\n",
       "      <td>2.202643</td>\n",
       "      <td>97.356828</td>\n",
       "      <td>0.440529</td>\n",
       "      <td>2.643172</td>\n",
       "    </tr>\n",
       "    <tr>\n",
       "      <th>15</th>\n",
       "      <td>2021 4/4</td>\n",
       "      <td>0.323625</td>\n",
       "      <td>0.000000</td>\n",
       "      <td>0.970874</td>\n",
       "      <td>3.559871</td>\n",
       "      <td>95.145631</td>\n",
       "      <td>1.294498</td>\n",
       "      <td>4.854369</td>\n",
       "    </tr>\n",
       "    <tr>\n",
       "      <th>16</th>\n",
       "      <td>2022 1/4</td>\n",
       "      <td>0.000000</td>\n",
       "      <td>0.000000</td>\n",
       "      <td>2.173913</td>\n",
       "      <td>7.246377</td>\n",
       "      <td>90.579710</td>\n",
       "      <td>2.173913</td>\n",
       "      <td>9.420290</td>\n",
       "    </tr>\n",
       "    <tr>\n",
       "      <th>17</th>\n",
       "      <td>2022 2/4</td>\n",
       "      <td>0.520833</td>\n",
       "      <td>0.520833</td>\n",
       "      <td>0.520833</td>\n",
       "      <td>4.687500</td>\n",
       "      <td>93.750000</td>\n",
       "      <td>1.562500</td>\n",
       "      <td>6.250000</td>\n",
       "    </tr>\n",
       "    <tr>\n",
       "      <th>18</th>\n",
       "      <td>2022 3/4</td>\n",
       "      <td>0.469484</td>\n",
       "      <td>0.938967</td>\n",
       "      <td>1.408451</td>\n",
       "      <td>4.694836</td>\n",
       "      <td>92.488263</td>\n",
       "      <td>2.816901</td>\n",
       "      <td>7.511737</td>\n",
       "    </tr>\n",
       "    <tr>\n",
       "      <th>19</th>\n",
       "      <td>2022 4/4</td>\n",
       "      <td>0.326797</td>\n",
       "      <td>0.000000</td>\n",
       "      <td>0.980392</td>\n",
       "      <td>3.594771</td>\n",
       "      <td>95.098039</td>\n",
       "      <td>1.307190</td>\n",
       "      <td>4.901961</td>\n",
       "    </tr>\n",
       "    <tr>\n",
       "      <th>20</th>\n",
       "      <td>2023 1/4</td>\n",
       "      <td>0.900901</td>\n",
       "      <td>0.000000</td>\n",
       "      <td>2.702703</td>\n",
       "      <td>5.405405</td>\n",
       "      <td>90.990991</td>\n",
       "      <td>3.603604</td>\n",
       "      <td>9.009009</td>\n",
       "    </tr>\n",
       "    <tr>\n",
       "      <th>21</th>\n",
       "      <td>2023 2/4</td>\n",
       "      <td>1.183432</td>\n",
       "      <td>0.000000</td>\n",
       "      <td>2.366864</td>\n",
       "      <td>2.366864</td>\n",
       "      <td>94.082840</td>\n",
       "      <td>3.550296</td>\n",
       "      <td>5.917160</td>\n",
       "    </tr>\n",
       "    <tr>\n",
       "      <th>22</th>\n",
       "      <td>2023 3/4</td>\n",
       "      <td>0.000000</td>\n",
       "      <td>0.000000</td>\n",
       "      <td>2.000000</td>\n",
       "      <td>4.000000</td>\n",
       "      <td>94.000000</td>\n",
       "      <td>2.000000</td>\n",
       "      <td>6.000000</td>\n",
       "    </tr>\n",
       "  </tbody>\n",
       "</table>\n",
       "</div>"
      ],
      "text/plain": [
       "star   quarter         1         2         3         4          5     1+2+3  \\\n",
       "0     2018 1/4  0.000000  0.793651  0.793651  7.142857  91.269841  1.587302   \n",
       "1     2018 2/4  0.000000  0.787402  2.755906  7.874016  88.582677  3.543307   \n",
       "2     2018 3/4  0.000000  0.000000  2.919708  6.934307  90.145985  2.919708   \n",
       "3     2018 4/4  0.671141  0.335570  3.020134  6.040268  89.932886  4.026846   \n",
       "4     2019 1/4  0.000000  0.000000  1.851852  8.333333  89.814815  1.851852   \n",
       "5     2019 2/4  1.020408  0.000000  2.551020  7.142857  89.285714  3.571429   \n",
       "6     2019 3/4  0.000000  0.000000  2.293578  5.504587  92.201835  2.293578   \n",
       "7     2019 4/4  0.000000  0.000000  1.632653  7.755102  90.612245  1.632653   \n",
       "8     2020 1/4  0.421941  0.000000  1.265823  5.063291  93.248945  1.687764   \n",
       "9     2020 2/4  0.000000  0.283286  2.832861  5.382436  91.501416  3.116147   \n",
       "10    2020 3/4  0.985222  0.000000  1.477833  3.448276  94.088670  2.463054   \n",
       "11    2020 4/4  1.030928  0.687285  0.687285  3.780069  93.814433  2.405498   \n",
       "12    2021 1/4  0.877193  0.000000  0.877193  0.877193  97.368421  1.754386   \n",
       "13    2021 2/4  0.000000  0.386100  0.772201  4.247104  94.594595  1.158301   \n",
       "14    2021 3/4  0.000000  0.000000  0.440529  2.202643  97.356828  0.440529   \n",
       "15    2021 4/4  0.323625  0.000000  0.970874  3.559871  95.145631  1.294498   \n",
       "16    2022 1/4  0.000000  0.000000  2.173913  7.246377  90.579710  2.173913   \n",
       "17    2022 2/4  0.520833  0.520833  0.520833  4.687500  93.750000  1.562500   \n",
       "18    2022 3/4  0.469484  0.938967  1.408451  4.694836  92.488263  2.816901   \n",
       "19    2022 4/4  0.326797  0.000000  0.980392  3.594771  95.098039  1.307190   \n",
       "20    2023 1/4  0.900901  0.000000  2.702703  5.405405  90.990991  3.603604   \n",
       "21    2023 2/4  1.183432  0.000000  2.366864  2.366864  94.082840  3.550296   \n",
       "22    2023 3/4  0.000000  0.000000  2.000000  4.000000  94.000000  2.000000   \n",
       "\n",
       "star    1+2+3+4  \n",
       "0      8.730159  \n",
       "1     11.417323  \n",
       "2      9.854015  \n",
       "3     10.067114  \n",
       "4     10.185185  \n",
       "5     10.714286  \n",
       "6      7.798165  \n",
       "7      9.387755  \n",
       "8      6.751055  \n",
       "9      8.498584  \n",
       "10     5.911330  \n",
       "11     6.185567  \n",
       "12     2.631579  \n",
       "13     5.405405  \n",
       "14     2.643172  \n",
       "15     4.854369  \n",
       "16     9.420290  \n",
       "17     6.250000  \n",
       "18     7.511737  \n",
       "19     4.901961  \n",
       "20     9.009009  \n",
       "21     5.917160  \n",
       "22     6.000000  "
      ]
     },
     "execution_count": 397,
     "metadata": {},
     "output_type": "execute_result"
    }
   ],
   "source": [
    "dfrr2"
   ]
  },
  {
   "cell_type": "code",
   "execution_count": 398,
   "id": "e5768a31",
   "metadata": {},
   "outputs": [
    {
     "data": {
      "application/vnd.plotly.v1+json": {
       "config": {
        "plotlyServerURL": "https://plot.ly"
       },
       "data": [
        {
         "hovertemplate": "분기=%{x}<br>별점 비율(1점~3점, %)=%{y}<extra></extra>",
         "legendgroup": "",
         "line": {
          "color": "#636efa",
          "dash": "solid"
         },
         "marker": {
          "symbol": "circle"
         },
         "mode": "lines",
         "name": "",
         "orientation": "v",
         "showlegend": false,
         "type": "scatter",
         "x": [
          "2018 1/4",
          "2018 2/4",
          "2018 3/4",
          "2018 4/4",
          "2019 1/4",
          "2019 2/4",
          "2019 3/4",
          "2019 4/4",
          "2020 1/4",
          "2020 2/4",
          "2020 3/4",
          "2020 4/4",
          "2021 1/4",
          "2021 2/4",
          "2021 3/4",
          "2021 4/4",
          "2022 1/4",
          "2022 2/4",
          "2022 3/4",
          "2022 4/4",
          "2023 1/4",
          "2023 2/4",
          "2023 3/4"
         ],
         "xaxis": "x",
         "y": [
          1.5873015873015872,
          3.543307086614173,
          2.9197080291970803,
          4.026845637583893,
          1.8518518518518516,
          3.571428571428571,
          2.293577981651376,
          1.6326530612244898,
          1.6877637130801688,
          3.11614730878187,
          2.4630541871921183,
          2.4054982817869415,
          1.7543859649122806,
          1.1583011583011582,
          0.4405286343612335,
          1.2944983818770226,
          2.1739130434782608,
          1.5624999999999998,
          2.816901408450704,
          1.3071895424836601,
          3.6036036036036037,
          3.550295857988166,
          2
         ],
         "yaxis": "y"
        }
       ],
       "layout": {
        "legend": {
         "tracegroupgap": 0
        },
        "margin": {
         "t": 60
        },
        "template": {
         "data": {
          "bar": [
           {
            "error_x": {
             "color": "#2a3f5f"
            },
            "error_y": {
             "color": "#2a3f5f"
            },
            "marker": {
             "line": {
              "color": "#E5ECF6",
              "width": 0.5
             },
             "pattern": {
              "fillmode": "overlay",
              "size": 10,
              "solidity": 0.2
             }
            },
            "type": "bar"
           }
          ],
          "barpolar": [
           {
            "marker": {
             "line": {
              "color": "#E5ECF6",
              "width": 0.5
             },
             "pattern": {
              "fillmode": "overlay",
              "size": 10,
              "solidity": 0.2
             }
            },
            "type": "barpolar"
           }
          ],
          "carpet": [
           {
            "aaxis": {
             "endlinecolor": "#2a3f5f",
             "gridcolor": "white",
             "linecolor": "white",
             "minorgridcolor": "white",
             "startlinecolor": "#2a3f5f"
            },
            "baxis": {
             "endlinecolor": "#2a3f5f",
             "gridcolor": "white",
             "linecolor": "white",
             "minorgridcolor": "white",
             "startlinecolor": "#2a3f5f"
            },
            "type": "carpet"
           }
          ],
          "choropleth": [
           {
            "colorbar": {
             "outlinewidth": 0,
             "ticks": ""
            },
            "type": "choropleth"
           }
          ],
          "contour": [
           {
            "colorbar": {
             "outlinewidth": 0,
             "ticks": ""
            },
            "colorscale": [
             [
              0,
              "#0d0887"
             ],
             [
              0.1111111111111111,
              "#46039f"
             ],
             [
              0.2222222222222222,
              "#7201a8"
             ],
             [
              0.3333333333333333,
              "#9c179e"
             ],
             [
              0.4444444444444444,
              "#bd3786"
             ],
             [
              0.5555555555555556,
              "#d8576b"
             ],
             [
              0.6666666666666666,
              "#ed7953"
             ],
             [
              0.7777777777777778,
              "#fb9f3a"
             ],
             [
              0.8888888888888888,
              "#fdca26"
             ],
             [
              1,
              "#f0f921"
             ]
            ],
            "type": "contour"
           }
          ],
          "contourcarpet": [
           {
            "colorbar": {
             "outlinewidth": 0,
             "ticks": ""
            },
            "type": "contourcarpet"
           }
          ],
          "heatmap": [
           {
            "colorbar": {
             "outlinewidth": 0,
             "ticks": ""
            },
            "colorscale": [
             [
              0,
              "#0d0887"
             ],
             [
              0.1111111111111111,
              "#46039f"
             ],
             [
              0.2222222222222222,
              "#7201a8"
             ],
             [
              0.3333333333333333,
              "#9c179e"
             ],
             [
              0.4444444444444444,
              "#bd3786"
             ],
             [
              0.5555555555555556,
              "#d8576b"
             ],
             [
              0.6666666666666666,
              "#ed7953"
             ],
             [
              0.7777777777777778,
              "#fb9f3a"
             ],
             [
              0.8888888888888888,
              "#fdca26"
             ],
             [
              1,
              "#f0f921"
             ]
            ],
            "type": "heatmap"
           }
          ],
          "heatmapgl": [
           {
            "colorbar": {
             "outlinewidth": 0,
             "ticks": ""
            },
            "colorscale": [
             [
              0,
              "#0d0887"
             ],
             [
              0.1111111111111111,
              "#46039f"
             ],
             [
              0.2222222222222222,
              "#7201a8"
             ],
             [
              0.3333333333333333,
              "#9c179e"
             ],
             [
              0.4444444444444444,
              "#bd3786"
             ],
             [
              0.5555555555555556,
              "#d8576b"
             ],
             [
              0.6666666666666666,
              "#ed7953"
             ],
             [
              0.7777777777777778,
              "#fb9f3a"
             ],
             [
              0.8888888888888888,
              "#fdca26"
             ],
             [
              1,
              "#f0f921"
             ]
            ],
            "type": "heatmapgl"
           }
          ],
          "histogram": [
           {
            "marker": {
             "pattern": {
              "fillmode": "overlay",
              "size": 10,
              "solidity": 0.2
             }
            },
            "type": "histogram"
           }
          ],
          "histogram2d": [
           {
            "colorbar": {
             "outlinewidth": 0,
             "ticks": ""
            },
            "colorscale": [
             [
              0,
              "#0d0887"
             ],
             [
              0.1111111111111111,
              "#46039f"
             ],
             [
              0.2222222222222222,
              "#7201a8"
             ],
             [
              0.3333333333333333,
              "#9c179e"
             ],
             [
              0.4444444444444444,
              "#bd3786"
             ],
             [
              0.5555555555555556,
              "#d8576b"
             ],
             [
              0.6666666666666666,
              "#ed7953"
             ],
             [
              0.7777777777777778,
              "#fb9f3a"
             ],
             [
              0.8888888888888888,
              "#fdca26"
             ],
             [
              1,
              "#f0f921"
             ]
            ],
            "type": "histogram2d"
           }
          ],
          "histogram2dcontour": [
           {
            "colorbar": {
             "outlinewidth": 0,
             "ticks": ""
            },
            "colorscale": [
             [
              0,
              "#0d0887"
             ],
             [
              0.1111111111111111,
              "#46039f"
             ],
             [
              0.2222222222222222,
              "#7201a8"
             ],
             [
              0.3333333333333333,
              "#9c179e"
             ],
             [
              0.4444444444444444,
              "#bd3786"
             ],
             [
              0.5555555555555556,
              "#d8576b"
             ],
             [
              0.6666666666666666,
              "#ed7953"
             ],
             [
              0.7777777777777778,
              "#fb9f3a"
             ],
             [
              0.8888888888888888,
              "#fdca26"
             ],
             [
              1,
              "#f0f921"
             ]
            ],
            "type": "histogram2dcontour"
           }
          ],
          "mesh3d": [
           {
            "colorbar": {
             "outlinewidth": 0,
             "ticks": ""
            },
            "type": "mesh3d"
           }
          ],
          "parcoords": [
           {
            "line": {
             "colorbar": {
              "outlinewidth": 0,
              "ticks": ""
             }
            },
            "type": "parcoords"
           }
          ],
          "pie": [
           {
            "automargin": true,
            "type": "pie"
           }
          ],
          "scatter": [
           {
            "fillpattern": {
             "fillmode": "overlay",
             "size": 10,
             "solidity": 0.2
            },
            "type": "scatter"
           }
          ],
          "scatter3d": [
           {
            "line": {
             "colorbar": {
              "outlinewidth": 0,
              "ticks": ""
             }
            },
            "marker": {
             "colorbar": {
              "outlinewidth": 0,
              "ticks": ""
             }
            },
            "type": "scatter3d"
           }
          ],
          "scattercarpet": [
           {
            "marker": {
             "colorbar": {
              "outlinewidth": 0,
              "ticks": ""
             }
            },
            "type": "scattercarpet"
           }
          ],
          "scattergeo": [
           {
            "marker": {
             "colorbar": {
              "outlinewidth": 0,
              "ticks": ""
             }
            },
            "type": "scattergeo"
           }
          ],
          "scattergl": [
           {
            "marker": {
             "colorbar": {
              "outlinewidth": 0,
              "ticks": ""
             }
            },
            "type": "scattergl"
           }
          ],
          "scattermapbox": [
           {
            "marker": {
             "colorbar": {
              "outlinewidth": 0,
              "ticks": ""
             }
            },
            "type": "scattermapbox"
           }
          ],
          "scatterpolar": [
           {
            "marker": {
             "colorbar": {
              "outlinewidth": 0,
              "ticks": ""
             }
            },
            "type": "scatterpolar"
           }
          ],
          "scatterpolargl": [
           {
            "marker": {
             "colorbar": {
              "outlinewidth": 0,
              "ticks": ""
             }
            },
            "type": "scatterpolargl"
           }
          ],
          "scatterternary": [
           {
            "marker": {
             "colorbar": {
              "outlinewidth": 0,
              "ticks": ""
             }
            },
            "type": "scatterternary"
           }
          ],
          "surface": [
           {
            "colorbar": {
             "outlinewidth": 0,
             "ticks": ""
            },
            "colorscale": [
             [
              0,
              "#0d0887"
             ],
             [
              0.1111111111111111,
              "#46039f"
             ],
             [
              0.2222222222222222,
              "#7201a8"
             ],
             [
              0.3333333333333333,
              "#9c179e"
             ],
             [
              0.4444444444444444,
              "#bd3786"
             ],
             [
              0.5555555555555556,
              "#d8576b"
             ],
             [
              0.6666666666666666,
              "#ed7953"
             ],
             [
              0.7777777777777778,
              "#fb9f3a"
             ],
             [
              0.8888888888888888,
              "#fdca26"
             ],
             [
              1,
              "#f0f921"
             ]
            ],
            "type": "surface"
           }
          ],
          "table": [
           {
            "cells": {
             "fill": {
              "color": "#EBF0F8"
             },
             "line": {
              "color": "white"
             }
            },
            "header": {
             "fill": {
              "color": "#C8D4E3"
             },
             "line": {
              "color": "white"
             }
            },
            "type": "table"
           }
          ]
         },
         "layout": {
          "annotationdefaults": {
           "arrowcolor": "#2a3f5f",
           "arrowhead": 0,
           "arrowwidth": 1
          },
          "autotypenumbers": "strict",
          "coloraxis": {
           "colorbar": {
            "outlinewidth": 0,
            "ticks": ""
           }
          },
          "colorscale": {
           "diverging": [
            [
             0,
             "#8e0152"
            ],
            [
             0.1,
             "#c51b7d"
            ],
            [
             0.2,
             "#de77ae"
            ],
            [
             0.3,
             "#f1b6da"
            ],
            [
             0.4,
             "#fde0ef"
            ],
            [
             0.5,
             "#f7f7f7"
            ],
            [
             0.6,
             "#e6f5d0"
            ],
            [
             0.7,
             "#b8e186"
            ],
            [
             0.8,
             "#7fbc41"
            ],
            [
             0.9,
             "#4d9221"
            ],
            [
             1,
             "#276419"
            ]
           ],
           "sequential": [
            [
             0,
             "#0d0887"
            ],
            [
             0.1111111111111111,
             "#46039f"
            ],
            [
             0.2222222222222222,
             "#7201a8"
            ],
            [
             0.3333333333333333,
             "#9c179e"
            ],
            [
             0.4444444444444444,
             "#bd3786"
            ],
            [
             0.5555555555555556,
             "#d8576b"
            ],
            [
             0.6666666666666666,
             "#ed7953"
            ],
            [
             0.7777777777777778,
             "#fb9f3a"
            ],
            [
             0.8888888888888888,
             "#fdca26"
            ],
            [
             1,
             "#f0f921"
            ]
           ],
           "sequentialminus": [
            [
             0,
             "#0d0887"
            ],
            [
             0.1111111111111111,
             "#46039f"
            ],
            [
             0.2222222222222222,
             "#7201a8"
            ],
            [
             0.3333333333333333,
             "#9c179e"
            ],
            [
             0.4444444444444444,
             "#bd3786"
            ],
            [
             0.5555555555555556,
             "#d8576b"
            ],
            [
             0.6666666666666666,
             "#ed7953"
            ],
            [
             0.7777777777777778,
             "#fb9f3a"
            ],
            [
             0.8888888888888888,
             "#fdca26"
            ],
            [
             1,
             "#f0f921"
            ]
           ]
          },
          "colorway": [
           "#636efa",
           "#EF553B",
           "#00cc96",
           "#ab63fa",
           "#FFA15A",
           "#19d3f3",
           "#FF6692",
           "#B6E880",
           "#FF97FF",
           "#FECB52"
          ],
          "font": {
           "color": "#2a3f5f"
          },
          "geo": {
           "bgcolor": "white",
           "lakecolor": "white",
           "landcolor": "#E5ECF6",
           "showlakes": true,
           "showland": true,
           "subunitcolor": "white"
          },
          "hoverlabel": {
           "align": "left"
          },
          "hovermode": "closest",
          "mapbox": {
           "style": "light"
          },
          "paper_bgcolor": "white",
          "plot_bgcolor": "#E5ECF6",
          "polar": {
           "angularaxis": {
            "gridcolor": "white",
            "linecolor": "white",
            "ticks": ""
           },
           "bgcolor": "#E5ECF6",
           "radialaxis": {
            "gridcolor": "white",
            "linecolor": "white",
            "ticks": ""
           }
          },
          "scene": {
           "xaxis": {
            "backgroundcolor": "#E5ECF6",
            "gridcolor": "white",
            "gridwidth": 2,
            "linecolor": "white",
            "showbackground": true,
            "ticks": "",
            "zerolinecolor": "white"
           },
           "yaxis": {
            "backgroundcolor": "#E5ECF6",
            "gridcolor": "white",
            "gridwidth": 2,
            "linecolor": "white",
            "showbackground": true,
            "ticks": "",
            "zerolinecolor": "white"
           },
           "zaxis": {
            "backgroundcolor": "#E5ECF6",
            "gridcolor": "white",
            "gridwidth": 2,
            "linecolor": "white",
            "showbackground": true,
            "ticks": "",
            "zerolinecolor": "white"
           }
          },
          "shapedefaults": {
           "line": {
            "color": "#2a3f5f"
           }
          },
          "ternary": {
           "aaxis": {
            "gridcolor": "white",
            "linecolor": "white",
            "ticks": ""
           },
           "baxis": {
            "gridcolor": "white",
            "linecolor": "white",
            "ticks": ""
           },
           "bgcolor": "#E5ECF6",
           "caxis": {
            "gridcolor": "white",
            "linecolor": "white",
            "ticks": ""
           }
          },
          "title": {
           "x": 0.05
          },
          "xaxis": {
           "automargin": true,
           "gridcolor": "white",
           "linecolor": "white",
           "ticks": "",
           "title": {
            "standoff": 15
           },
           "zerolinecolor": "white",
           "zerolinewidth": 2
          },
          "yaxis": {
           "automargin": true,
           "gridcolor": "white",
           "linecolor": "white",
           "ticks": "",
           "title": {
            "standoff": 15
           },
           "zerolinecolor": "white",
           "zerolinewidth": 2
          }
         }
        },
        "xaxis": {
         "anchor": "y",
         "domain": [
          0,
          1
         ],
         "title": {
          "text": "분기"
         }
        },
        "yaxis": {
         "anchor": "x",
         "domain": [
          0,
          1
         ],
         "title": {
          "text": "별점 비율(1점~3점, %)"
         }
        }
       }
      },
      "text/html": [
       "<div>                            <div id=\"0c3ffc3a-a40e-4e3c-8c86-5acc5ef26459\" class=\"plotly-graph-div\" style=\"height:525px; width:100%;\"></div>            <script type=\"text/javascript\">                require([\"plotly\"], function(Plotly) {                    window.PLOTLYENV=window.PLOTLYENV || {};                                    if (document.getElementById(\"0c3ffc3a-a40e-4e3c-8c86-5acc5ef26459\")) {                    Plotly.newPlot(                        \"0c3ffc3a-a40e-4e3c-8c86-5acc5ef26459\",                        [{\"hovertemplate\":\"\\ubd84\\uae30=%{x}<br>\\ubcc4\\uc810 \\ube44\\uc728(1\\uc810~3\\uc810, %)=%{y}<extra></extra>\",\"legendgroup\":\"\",\"line\":{\"color\":\"#636efa\",\"dash\":\"solid\"},\"marker\":{\"symbol\":\"circle\"},\"mode\":\"lines\",\"name\":\"\",\"orientation\":\"v\",\"showlegend\":false,\"x\":[\"2018 1/4\",\"2018 2/4\",\"2018 3/4\",\"2018 4/4\",\"2019 1/4\",\"2019 2/4\",\"2019 3/4\",\"2019 4/4\",\"2020 1/4\",\"2020 2/4\",\"2020 3/4\",\"2020 4/4\",\"2021 1/4\",\"2021 2/4\",\"2021 3/4\",\"2021 4/4\",\"2022 1/4\",\"2022 2/4\",\"2022 3/4\",\"2022 4/4\",\"2023 1/4\",\"2023 2/4\",\"2023 3/4\"],\"xaxis\":\"x\",\"y\":[1.5873015873015872,3.543307086614173,2.9197080291970803,4.026845637583893,1.8518518518518516,3.571428571428571,2.293577981651376,1.6326530612244898,1.6877637130801688,3.11614730878187,2.4630541871921183,2.4054982817869415,1.7543859649122806,1.1583011583011582,0.4405286343612335,1.2944983818770226,2.1739130434782608,1.5624999999999998,2.816901408450704,1.3071895424836601,3.6036036036036037,3.550295857988166,2.0],\"yaxis\":\"y\",\"type\":\"scatter\"}],                        {\"template\":{\"data\":{\"histogram2dcontour\":[{\"type\":\"histogram2dcontour\",\"colorbar\":{\"outlinewidth\":0,\"ticks\":\"\"},\"colorscale\":[[0.0,\"#0d0887\"],[0.1111111111111111,\"#46039f\"],[0.2222222222222222,\"#7201a8\"],[0.3333333333333333,\"#9c179e\"],[0.4444444444444444,\"#bd3786\"],[0.5555555555555556,\"#d8576b\"],[0.6666666666666666,\"#ed7953\"],[0.7777777777777778,\"#fb9f3a\"],[0.8888888888888888,\"#fdca26\"],[1.0,\"#f0f921\"]]}],\"choropleth\":[{\"type\":\"choropleth\",\"colorbar\":{\"outlinewidth\":0,\"ticks\":\"\"}}],\"histogram2d\":[{\"type\":\"histogram2d\",\"colorbar\":{\"outlinewidth\":0,\"ticks\":\"\"},\"colorscale\":[[0.0,\"#0d0887\"],[0.1111111111111111,\"#46039f\"],[0.2222222222222222,\"#7201a8\"],[0.3333333333333333,\"#9c179e\"],[0.4444444444444444,\"#bd3786\"],[0.5555555555555556,\"#d8576b\"],[0.6666666666666666,\"#ed7953\"],[0.7777777777777778,\"#fb9f3a\"],[0.8888888888888888,\"#fdca26\"],[1.0,\"#f0f921\"]]}],\"heatmap\":[{\"type\":\"heatmap\",\"colorbar\":{\"outlinewidth\":0,\"ticks\":\"\"},\"colorscale\":[[0.0,\"#0d0887\"],[0.1111111111111111,\"#46039f\"],[0.2222222222222222,\"#7201a8\"],[0.3333333333333333,\"#9c179e\"],[0.4444444444444444,\"#bd3786\"],[0.5555555555555556,\"#d8576b\"],[0.6666666666666666,\"#ed7953\"],[0.7777777777777778,\"#fb9f3a\"],[0.8888888888888888,\"#fdca26\"],[1.0,\"#f0f921\"]]}],\"heatmapgl\":[{\"type\":\"heatmapgl\",\"colorbar\":{\"outlinewidth\":0,\"ticks\":\"\"},\"colorscale\":[[0.0,\"#0d0887\"],[0.1111111111111111,\"#46039f\"],[0.2222222222222222,\"#7201a8\"],[0.3333333333333333,\"#9c179e\"],[0.4444444444444444,\"#bd3786\"],[0.5555555555555556,\"#d8576b\"],[0.6666666666666666,\"#ed7953\"],[0.7777777777777778,\"#fb9f3a\"],[0.8888888888888888,\"#fdca26\"],[1.0,\"#f0f921\"]]}],\"contourcarpet\":[{\"type\":\"contourcarpet\",\"colorbar\":{\"outlinewidth\":0,\"ticks\":\"\"}}],\"contour\":[{\"type\":\"contour\",\"colorbar\":{\"outlinewidth\":0,\"ticks\":\"\"},\"colorscale\":[[0.0,\"#0d0887\"],[0.1111111111111111,\"#46039f\"],[0.2222222222222222,\"#7201a8\"],[0.3333333333333333,\"#9c179e\"],[0.4444444444444444,\"#bd3786\"],[0.5555555555555556,\"#d8576b\"],[0.6666666666666666,\"#ed7953\"],[0.7777777777777778,\"#fb9f3a\"],[0.8888888888888888,\"#fdca26\"],[1.0,\"#f0f921\"]]}],\"surface\":[{\"type\":\"surface\",\"colorbar\":{\"outlinewidth\":0,\"ticks\":\"\"},\"colorscale\":[[0.0,\"#0d0887\"],[0.1111111111111111,\"#46039f\"],[0.2222222222222222,\"#7201a8\"],[0.3333333333333333,\"#9c179e\"],[0.4444444444444444,\"#bd3786\"],[0.5555555555555556,\"#d8576b\"],[0.6666666666666666,\"#ed7953\"],[0.7777777777777778,\"#fb9f3a\"],[0.8888888888888888,\"#fdca26\"],[1.0,\"#f0f921\"]]}],\"mesh3d\":[{\"type\":\"mesh3d\",\"colorbar\":{\"outlinewidth\":0,\"ticks\":\"\"}}],\"scatter\":[{\"fillpattern\":{\"fillmode\":\"overlay\",\"size\":10,\"solidity\":0.2},\"type\":\"scatter\"}],\"parcoords\":[{\"type\":\"parcoords\",\"line\":{\"colorbar\":{\"outlinewidth\":0,\"ticks\":\"\"}}}],\"scatterpolargl\":[{\"type\":\"scatterpolargl\",\"marker\":{\"colorbar\":{\"outlinewidth\":0,\"ticks\":\"\"}}}],\"bar\":[{\"error_x\":{\"color\":\"#2a3f5f\"},\"error_y\":{\"color\":\"#2a3f5f\"},\"marker\":{\"line\":{\"color\":\"#E5ECF6\",\"width\":0.5},\"pattern\":{\"fillmode\":\"overlay\",\"size\":10,\"solidity\":0.2}},\"type\":\"bar\"}],\"scattergeo\":[{\"type\":\"scattergeo\",\"marker\":{\"colorbar\":{\"outlinewidth\":0,\"ticks\":\"\"}}}],\"scatterpolar\":[{\"type\":\"scatterpolar\",\"marker\":{\"colorbar\":{\"outlinewidth\":0,\"ticks\":\"\"}}}],\"histogram\":[{\"marker\":{\"pattern\":{\"fillmode\":\"overlay\",\"size\":10,\"solidity\":0.2}},\"type\":\"histogram\"}],\"scattergl\":[{\"type\":\"scattergl\",\"marker\":{\"colorbar\":{\"outlinewidth\":0,\"ticks\":\"\"}}}],\"scatter3d\":[{\"type\":\"scatter3d\",\"line\":{\"colorbar\":{\"outlinewidth\":0,\"ticks\":\"\"}},\"marker\":{\"colorbar\":{\"outlinewidth\":0,\"ticks\":\"\"}}}],\"scattermapbox\":[{\"type\":\"scattermapbox\",\"marker\":{\"colorbar\":{\"outlinewidth\":0,\"ticks\":\"\"}}}],\"scatterternary\":[{\"type\":\"scatterternary\",\"marker\":{\"colorbar\":{\"outlinewidth\":0,\"ticks\":\"\"}}}],\"scattercarpet\":[{\"type\":\"scattercarpet\",\"marker\":{\"colorbar\":{\"outlinewidth\":0,\"ticks\":\"\"}}}],\"carpet\":[{\"aaxis\":{\"endlinecolor\":\"#2a3f5f\",\"gridcolor\":\"white\",\"linecolor\":\"white\",\"minorgridcolor\":\"white\",\"startlinecolor\":\"#2a3f5f\"},\"baxis\":{\"endlinecolor\":\"#2a3f5f\",\"gridcolor\":\"white\",\"linecolor\":\"white\",\"minorgridcolor\":\"white\",\"startlinecolor\":\"#2a3f5f\"},\"type\":\"carpet\"}],\"table\":[{\"cells\":{\"fill\":{\"color\":\"#EBF0F8\"},\"line\":{\"color\":\"white\"}},\"header\":{\"fill\":{\"color\":\"#C8D4E3\"},\"line\":{\"color\":\"white\"}},\"type\":\"table\"}],\"barpolar\":[{\"marker\":{\"line\":{\"color\":\"#E5ECF6\",\"width\":0.5},\"pattern\":{\"fillmode\":\"overlay\",\"size\":10,\"solidity\":0.2}},\"type\":\"barpolar\"}],\"pie\":[{\"automargin\":true,\"type\":\"pie\"}]},\"layout\":{\"autotypenumbers\":\"strict\",\"colorway\":[\"#636efa\",\"#EF553B\",\"#00cc96\",\"#ab63fa\",\"#FFA15A\",\"#19d3f3\",\"#FF6692\",\"#B6E880\",\"#FF97FF\",\"#FECB52\"],\"font\":{\"color\":\"#2a3f5f\"},\"hovermode\":\"closest\",\"hoverlabel\":{\"align\":\"left\"},\"paper_bgcolor\":\"white\",\"plot_bgcolor\":\"#E5ECF6\",\"polar\":{\"bgcolor\":\"#E5ECF6\",\"angularaxis\":{\"gridcolor\":\"white\",\"linecolor\":\"white\",\"ticks\":\"\"},\"radialaxis\":{\"gridcolor\":\"white\",\"linecolor\":\"white\",\"ticks\":\"\"}},\"ternary\":{\"bgcolor\":\"#E5ECF6\",\"aaxis\":{\"gridcolor\":\"white\",\"linecolor\":\"white\",\"ticks\":\"\"},\"baxis\":{\"gridcolor\":\"white\",\"linecolor\":\"white\",\"ticks\":\"\"},\"caxis\":{\"gridcolor\":\"white\",\"linecolor\":\"white\",\"ticks\":\"\"}},\"coloraxis\":{\"colorbar\":{\"outlinewidth\":0,\"ticks\":\"\"}},\"colorscale\":{\"sequential\":[[0.0,\"#0d0887\"],[0.1111111111111111,\"#46039f\"],[0.2222222222222222,\"#7201a8\"],[0.3333333333333333,\"#9c179e\"],[0.4444444444444444,\"#bd3786\"],[0.5555555555555556,\"#d8576b\"],[0.6666666666666666,\"#ed7953\"],[0.7777777777777778,\"#fb9f3a\"],[0.8888888888888888,\"#fdca26\"],[1.0,\"#f0f921\"]],\"sequentialminus\":[[0.0,\"#0d0887\"],[0.1111111111111111,\"#46039f\"],[0.2222222222222222,\"#7201a8\"],[0.3333333333333333,\"#9c179e\"],[0.4444444444444444,\"#bd3786\"],[0.5555555555555556,\"#d8576b\"],[0.6666666666666666,\"#ed7953\"],[0.7777777777777778,\"#fb9f3a\"],[0.8888888888888888,\"#fdca26\"],[1.0,\"#f0f921\"]],\"diverging\":[[0,\"#8e0152\"],[0.1,\"#c51b7d\"],[0.2,\"#de77ae\"],[0.3,\"#f1b6da\"],[0.4,\"#fde0ef\"],[0.5,\"#f7f7f7\"],[0.6,\"#e6f5d0\"],[0.7,\"#b8e186\"],[0.8,\"#7fbc41\"],[0.9,\"#4d9221\"],[1,\"#276419\"]]},\"xaxis\":{\"gridcolor\":\"white\",\"linecolor\":\"white\",\"ticks\":\"\",\"title\":{\"standoff\":15},\"zerolinecolor\":\"white\",\"automargin\":true,\"zerolinewidth\":2},\"yaxis\":{\"gridcolor\":\"white\",\"linecolor\":\"white\",\"ticks\":\"\",\"title\":{\"standoff\":15},\"zerolinecolor\":\"white\",\"automargin\":true,\"zerolinewidth\":2},\"scene\":{\"xaxis\":{\"backgroundcolor\":\"#E5ECF6\",\"gridcolor\":\"white\",\"linecolor\":\"white\",\"showbackground\":true,\"ticks\":\"\",\"zerolinecolor\":\"white\",\"gridwidth\":2},\"yaxis\":{\"backgroundcolor\":\"#E5ECF6\",\"gridcolor\":\"white\",\"linecolor\":\"white\",\"showbackground\":true,\"ticks\":\"\",\"zerolinecolor\":\"white\",\"gridwidth\":2},\"zaxis\":{\"backgroundcolor\":\"#E5ECF6\",\"gridcolor\":\"white\",\"linecolor\":\"white\",\"showbackground\":true,\"ticks\":\"\",\"zerolinecolor\":\"white\",\"gridwidth\":2}},\"shapedefaults\":{\"line\":{\"color\":\"#2a3f5f\"}},\"annotationdefaults\":{\"arrowcolor\":\"#2a3f5f\",\"arrowhead\":0,\"arrowwidth\":1},\"geo\":{\"bgcolor\":\"white\",\"landcolor\":\"#E5ECF6\",\"subunitcolor\":\"white\",\"showland\":true,\"showlakes\":true,\"lakecolor\":\"white\"},\"title\":{\"x\":0.05},\"mapbox\":{\"style\":\"light\"}}},\"xaxis\":{\"anchor\":\"y\",\"domain\":[0.0,1.0],\"title\":{\"text\":\"\\ubd84\\uae30\"}},\"yaxis\":{\"anchor\":\"x\",\"domain\":[0.0,1.0],\"title\":{\"text\":\"\\ubcc4\\uc810 \\ube44\\uc728(1\\uc810~3\\uc810, %)\"}},\"legend\":{\"tracegroupgap\":0},\"margin\":{\"t\":60}},                        {\"responsive\": true}                    ).then(function(){\n",
       "                            \n",
       "var gd = document.getElementById('0c3ffc3a-a40e-4e3c-8c86-5acc5ef26459');\n",
       "var x = new MutationObserver(function (mutations, observer) {{\n",
       "        var display = window.getComputedStyle(gd).display;\n",
       "        if (!display || display === 'none') {{\n",
       "            console.log([gd, 'removed!']);\n",
       "            Plotly.purge(gd);\n",
       "            observer.disconnect();\n",
       "        }}\n",
       "}});\n",
       "\n",
       "// Listen for the removal of the full notebook cells\n",
       "var notebookContainer = gd.closest('#notebook-container');\n",
       "if (notebookContainer) {{\n",
       "    x.observe(notebookContainer, {childList: true});\n",
       "}}\n",
       "\n",
       "// Listen for the clearing of the current output cell\n",
       "var outputEl = gd.closest('.output');\n",
       "if (outputEl) {{\n",
       "    x.observe(outputEl, {childList: true});\n",
       "}}\n",
       "\n",
       "                        })                };                });            </script>        </div>"
      ]
     },
     "metadata": {},
     "output_type": "display_data"
    }
   ],
   "source": [
    "import plotly.express as px\n",
    "px.line(dfrr2, x = 'quarter', y = '1+2+3',\n",
    "       labels={'quarter':'분기', '1+2+3':'별점 비율(1점~3점, %)'})"
   ]
  },
  {
   "cell_type": "code",
   "execution_count": null,
   "id": "2144822a",
   "metadata": {},
   "outputs": [],
   "source": []
  },
  {
   "cell_type": "markdown",
   "id": "5f940b94",
   "metadata": {},
   "source": [
    "# T셀파\n",
    "- 아이스크림과 같은 과정 반복"
   ]
  },
  {
   "cell_type": "code",
   "execution_count": 315,
   "id": "cae4e50d",
   "metadata": {},
   "outputs": [],
   "source": [
    "dff = pd.read_csv('sherpa_emot3.csv')"
   ]
  },
  {
   "cell_type": "code",
   "execution_count": 316,
   "id": "d16c3574",
   "metadata": {},
   "outputs": [
    {
     "data": {
      "text/html": [
       "<div>\n",
       "<style scoped>\n",
       "    .dataframe tbody tr th:only-of-type {\n",
       "        vertical-align: middle;\n",
       "    }\n",
       "\n",
       "    .dataframe tbody tr th {\n",
       "        vertical-align: top;\n",
       "    }\n",
       "\n",
       "    .dataframe thead th {\n",
       "        text-align: right;\n",
       "    }\n",
       "</style>\n",
       "<table border=\"1\" class=\"dataframe\">\n",
       "  <thead>\n",
       "    <tr style=\"text-align: right;\">\n",
       "      <th></th>\n",
       "      <th>name</th>\n",
       "      <th>title</th>\n",
       "      <th>star</th>\n",
       "      <th>contents</th>\n",
       "      <th>date</th>\n",
       "      <th>title_comments</th>\n",
       "      <th>emotion_analysis</th>\n",
       "    </tr>\n",
       "  </thead>\n",
       "  <tbody>\n",
       "    <tr>\n",
       "      <th>0</th>\n",
       "      <td>한 번에 끝내는 법정연수 1</td>\n",
       "      <td>법정연수 유용하네요</td>\n",
       "      <td>5</td>\n",
       "      <td>의무적으로 해마다 듣는 연수인데 다른 강사에게 듣고 싶어 신청했는데 연수 들을만 했어요</td>\n",
       "      <td>2023-07-30</td>\n",
       "      <td>법정연수 유용하네요 의무적으로 해마다 듣는 연수인데 다른 강사에게 듣고 싶어 신청했...</td>\n",
       "      <td>True</td>\n",
       "    </tr>\n",
       "    <tr>\n",
       "      <th>1</th>\n",
       "      <td>나이와 신분을 초월한 독립운동, 그 현장을 읽다</td>\n",
       "      <td>독립운동에 관한 지식 쌓기</td>\n",
       "      <td>5</td>\n",
       "      <td>독립운동에 대해서 알고, 학생 대상으로 수업하기 좋았습니다. 추천합니다.</td>\n",
       "      <td>2023-07-30</td>\n",
       "      <td>독립운동에 관한 지식 쌓기 독립운동에 대해서 알고, 학생 대상으로 수업하기 좋았습니...</td>\n",
       "      <td>True</td>\n",
       "    </tr>\n",
       "    <tr>\n",
       "      <th>2</th>\n",
       "      <td>상상을 실천으로, 삶을 바꾸는 사회 수업 이야기</td>\n",
       "      <td>삶을 바꾸는 사회수업 주제통합 질문과 상상으로 진행하기</td>\n",
       "      <td>5</td>\n",
       "      <td>사회 교과서 개정되고 학습량은 많은데 학생들이 이해하기쉽게 주제통합 수업을 진행하고...</td>\n",
       "      <td>2023-07-30</td>\n",
       "      <td>삶을 바꾸는 사회수업 주제통합 질문과 상상으로 진행하기 사회 교과서 개정되고 학습량...</td>\n",
       "      <td>True</td>\n",
       "    </tr>\n",
       "    <tr>\n",
       "      <th>3</th>\n",
       "      <td>기초영어 회화 핵심표현 Real Speaking</td>\n",
       "      <td>영어 회화가 막막한 선생님들께 유익한 연수!</td>\n",
       "      <td>4</td>\n",
       "      <td>영어가 너무 오랜만이시거나 일상생활에서 많이 사용하는 영어 회화부터 마스터하고 싶으...</td>\n",
       "      <td>2023-07-29</td>\n",
       "      <td>영어 회화가 막막한 선생님들께 유익한 연수! 영어가 너무 오랜만이시거나 일상생활에서...</td>\n",
       "      <td>True</td>\n",
       "    </tr>\n",
       "    <tr>\n",
       "      <th>4</th>\n",
       "      <td>같이 읽고 함께 나누는 독서수업방법</td>\n",
       "      <td>독서교육을 해보고 싶어지게 만드는 연수!!!</td>\n",
       "      <td>5</td>\n",
       "      <td>아이를 키우며 그림책과 동화책에 관심을 갖게 되었다.\\n감동적이고 재미있는 책들을 ...</td>\n",
       "      <td>2023-07-28</td>\n",
       "      <td>독서교육을 해보고 싶어지게 만드는 연수!!! 아이를 키우며 그림책과 동화책에 관심을...</td>\n",
       "      <td>True</td>\n",
       "    </tr>\n",
       "    <tr>\n",
       "      <th>...</th>\n",
       "      <td>...</td>\n",
       "      <td>...</td>\n",
       "      <td>...</td>\n",
       "      <td>...</td>\n",
       "      <td>...</td>\n",
       "      <td>...</td>\n",
       "      <td>...</td>\n",
       "    </tr>\n",
       "    <tr>\n",
       "      <th>2590</th>\n",
       "      <td>두근두근 교실밖 인문학 - 동양사편</td>\n",
       "      <td>신동기 교수의 동양사 연수</td>\n",
       "      <td>5</td>\n",
       "      <td>평소 우리나라 역사에 대한 강의를 듣고 싶어 여러 원격교육을 받던 중 셀파 원격교육...</td>\n",
       "      <td>2018-04-02</td>\n",
       "      <td>신동기 교수의 동양사 연수 평소 우리나라 역사에 대한 강의를 듣고 싶어 여러 원격교...</td>\n",
       "      <td>True</td>\n",
       "    </tr>\n",
       "    <tr>\n",
       "      <th>2591</th>\n",
       "      <td>수업을 살리는 놀이 레시피</td>\n",
       "      <td>알찬 수업연수</td>\n",
       "      <td>5</td>\n",
       "      <td>어느 연수보다도 알찬 수업연수였습니다. 단순하게 이러한 방법을 활용할 수 있다라고 ...</td>\n",
       "      <td>2018-01-25</td>\n",
       "      <td>알찬 수업연수 어느 연수보다도 알찬 수업연수였습니다. 단순하게 이러한 방법을 활용할...</td>\n",
       "      <td>True</td>\n",
       "    </tr>\n",
       "    <tr>\n",
       "      <th>2592</th>\n",
       "      <td>수업을 살리는 놀이 레시피</td>\n",
       "      <td>학교 수업을 좀더 재미있게 할 수 있는 유익한 연수였습니다^.^</td>\n",
       "      <td>5</td>\n",
       "      <td>교사의 수업이란 예전과 다르게 조금만 지루해도 학생들이 잘 안따르고 듣지 않은 경우...</td>\n",
       "      <td>2018-01-13</td>\n",
       "      <td>학교 수업을 좀더 재미있게 할 수 있는 유익한 연수였습니다^.^ 교사의 수업이란 예...</td>\n",
       "      <td>True</td>\n",
       "    </tr>\n",
       "    <tr>\n",
       "      <th>2593</th>\n",
       "      <td>교과수업에 활용하는 진로교육</td>\n",
       "      <td>정말 알차고 멋진 연수 였습니다.</td>\n",
       "      <td>5</td>\n",
       "      <td>강의 내용도 훌륭했고, 동영상 구성이나 그래픽도 아주 훌륭했습니다. 강사님의 프레젠...</td>\n",
       "      <td>2018-01-09</td>\n",
       "      <td>정말 알차고 멋진 연수 였습니다. 강의 내용도 훌륭했고, 동영상 구성이나 그래픽도 ...</td>\n",
       "      <td>True</td>\n",
       "    </tr>\n",
       "    <tr>\n",
       "      <th>2594</th>\n",
       "      <td>교과수업에 활용하는 진로교육</td>\n",
       "      <td>연수 잘 들었습니다.</td>\n",
       "      <td>5</td>\n",
       "      <td>진로교육과 관련해 이용할 수 있는 사이트와 사례들이 좋았습니다. 감사합니다^^</td>\n",
       "      <td>2018-01-08</td>\n",
       "      <td>연수 잘 들었습니다. 진로교육과 관련해 이용할 수 있는 사이트와 사례들이 좋았습니다...</td>\n",
       "      <td>True</td>\n",
       "    </tr>\n",
       "  </tbody>\n",
       "</table>\n",
       "<p>2595 rows × 7 columns</p>\n",
       "</div>"
      ],
      "text/plain": [
       "                            name                                title  star  \\\n",
       "0                한 번에 끝내는 법정연수 1                           법정연수 유용하네요     5   \n",
       "1     나이와 신분을 초월한 독립운동, 그 현장을 읽다                       독립운동에 관한 지식 쌓기     5   \n",
       "2     상상을 실천으로, 삶을 바꾸는 사회 수업 이야기       삶을 바꾸는 사회수업 주제통합 질문과 상상으로 진행하기     5   \n",
       "3     기초영어 회화 핵심표현 Real Speaking             영어 회화가 막막한 선생님들께 유익한 연수!     4   \n",
       "4            같이 읽고 함께 나누는 독서수업방법             독서교육을 해보고 싶어지게 만드는 연수!!!     5   \n",
       "...                          ...                                  ...   ...   \n",
       "2590         두근두근 교실밖 인문학 - 동양사편                       신동기 교수의 동양사 연수     5   \n",
       "2591              수업을 살리는 놀이 레시피                              알찬 수업연수     5   \n",
       "2592              수업을 살리는 놀이 레시피  학교 수업을 좀더 재미있게 할 수 있는 유익한 연수였습니다^.^     5   \n",
       "2593             교과수업에 활용하는 진로교육                   정말 알차고 멋진 연수 였습니다.     5   \n",
       "2594             교과수업에 활용하는 진로교육                          연수 잘 들었습니다.     5   \n",
       "\n",
       "                                               contents        date  \\\n",
       "0      의무적으로 해마다 듣는 연수인데 다른 강사에게 듣고 싶어 신청했는데 연수 들을만 했어요  2023-07-30   \n",
       "1              독립운동에 대해서 알고, 학생 대상으로 수업하기 좋았습니다. 추천합니다.  2023-07-30   \n",
       "2     사회 교과서 개정되고 학습량은 많은데 학생들이 이해하기쉽게 주제통합 수업을 진행하고...  2023-07-30   \n",
       "3     영어가 너무 오랜만이시거나 일상생활에서 많이 사용하는 영어 회화부터 마스터하고 싶으...  2023-07-29   \n",
       "4     아이를 키우며 그림책과 동화책에 관심을 갖게 되었다.\\n감동적이고 재미있는 책들을 ...  2023-07-28   \n",
       "...                                                 ...         ...   \n",
       "2590  평소 우리나라 역사에 대한 강의를 듣고 싶어 여러 원격교육을 받던 중 셀파 원격교육...  2018-04-02   \n",
       "2591  어느 연수보다도 알찬 수업연수였습니다. 단순하게 이러한 방법을 활용할 수 있다라고 ...  2018-01-25   \n",
       "2592  교사의 수업이란 예전과 다르게 조금만 지루해도 학생들이 잘 안따르고 듣지 않은 경우...  2018-01-13   \n",
       "2593  강의 내용도 훌륭했고, 동영상 구성이나 그래픽도 아주 훌륭했습니다. 강사님의 프레젠...  2018-01-09   \n",
       "2594        진로교육과 관련해 이용할 수 있는 사이트와 사례들이 좋았습니다. 감사합니다^^  2018-01-08   \n",
       "\n",
       "                                         title_comments  emotion_analysis  \n",
       "0     법정연수 유용하네요 의무적으로 해마다 듣는 연수인데 다른 강사에게 듣고 싶어 신청했...              True  \n",
       "1     독립운동에 관한 지식 쌓기 독립운동에 대해서 알고, 학생 대상으로 수업하기 좋았습니...              True  \n",
       "2     삶을 바꾸는 사회수업 주제통합 질문과 상상으로 진행하기 사회 교과서 개정되고 학습량...              True  \n",
       "3     영어 회화가 막막한 선생님들께 유익한 연수! 영어가 너무 오랜만이시거나 일상생활에서...              True  \n",
       "4     독서교육을 해보고 싶어지게 만드는 연수!!! 아이를 키우며 그림책과 동화책에 관심을...              True  \n",
       "...                                                 ...               ...  \n",
       "2590  신동기 교수의 동양사 연수 평소 우리나라 역사에 대한 강의를 듣고 싶어 여러 원격교...              True  \n",
       "2591  알찬 수업연수 어느 연수보다도 알찬 수업연수였습니다. 단순하게 이러한 방법을 활용할...              True  \n",
       "2592  학교 수업을 좀더 재미있게 할 수 있는 유익한 연수였습니다^.^ 교사의 수업이란 예...              True  \n",
       "2593  정말 알차고 멋진 연수 였습니다. 강의 내용도 훌륭했고, 동영상 구성이나 그래픽도 ...              True  \n",
       "2594  연수 잘 들었습니다. 진로교육과 관련해 이용할 수 있는 사이트와 사례들이 좋았습니다...              True  \n",
       "\n",
       "[2595 rows x 7 columns]"
      ]
     },
     "execution_count": 316,
     "metadata": {},
     "output_type": "execute_result"
    }
   ],
   "source": [
    "dff"
   ]
  },
  {
   "cell_type": "code",
   "execution_count": 286,
   "id": "34b701ca",
   "metadata": {},
   "outputs": [],
   "source": [
    "def star(x):\n",
    "    if x == '5점':\n",
    "        return 5\n",
    "    elif x == '4점':\n",
    "        return 4\n",
    "    elif x == '3점':\n",
    "        return 3        \n",
    "    elif x == '2점':\n",
    "        return 2\n",
    "    else:\n",
    "        return 1"
   ]
  },
  {
   "cell_type": "code",
   "execution_count": 287,
   "id": "2f63cde9",
   "metadata": {},
   "outputs": [],
   "source": [
    "dff['star'] = dff['star'].apply(lambda x: star(x))"
   ]
  },
  {
   "cell_type": "code",
   "execution_count": 324,
   "id": "c9f40968",
   "metadata": {
    "scrolled": false
   },
   "outputs": [
    {
     "data": {
      "text/html": [
       "<div>\n",
       "<style scoped>\n",
       "    .dataframe tbody tr th:only-of-type {\n",
       "        vertical-align: middle;\n",
       "    }\n",
       "\n",
       "    .dataframe tbody tr th {\n",
       "        vertical-align: top;\n",
       "    }\n",
       "\n",
       "    .dataframe thead th {\n",
       "        text-align: right;\n",
       "    }\n",
       "</style>\n",
       "<table border=\"1\" class=\"dataframe\">\n",
       "  <thead>\n",
       "    <tr style=\"text-align: right;\">\n",
       "      <th></th>\n",
       "      <th>name</th>\n",
       "      <th>title</th>\n",
       "      <th>star</th>\n",
       "      <th>contents</th>\n",
       "      <th>date</th>\n",
       "      <th>title_comments</th>\n",
       "      <th>emotion_analysis</th>\n",
       "    </tr>\n",
       "  </thead>\n",
       "  <tbody>\n",
       "    <tr>\n",
       "      <th>0</th>\n",
       "      <td>한 번에 끝내는 법정연수 1</td>\n",
       "      <td>법정연수 유용하네요</td>\n",
       "      <td>5</td>\n",
       "      <td>의무적으로 해마다 듣는 연수인데 다른 강사에게 듣고 싶어 신청했는데 연수 들을만 했어요</td>\n",
       "      <td>2023-07-30</td>\n",
       "      <td>법정연수 유용하네요 의무적으로 해마다 듣는 연수인데 다른 강사에게 듣고 싶어 신청했...</td>\n",
       "      <td>True</td>\n",
       "    </tr>\n",
       "    <tr>\n",
       "      <th>1</th>\n",
       "      <td>나이와 신분을 초월한 독립운동, 그 현장을 읽다</td>\n",
       "      <td>독립운동에 관한 지식 쌓기</td>\n",
       "      <td>5</td>\n",
       "      <td>독립운동에 대해서 알고, 학생 대상으로 수업하기 좋았습니다. 추천합니다.</td>\n",
       "      <td>2023-07-30</td>\n",
       "      <td>독립운동에 관한 지식 쌓기 독립운동에 대해서 알고, 학생 대상으로 수업하기 좋았습니...</td>\n",
       "      <td>True</td>\n",
       "    </tr>\n",
       "    <tr>\n",
       "      <th>2</th>\n",
       "      <td>상상을 실천으로, 삶을 바꾸는 사회 수업 이야기</td>\n",
       "      <td>삶을 바꾸는 사회수업 주제통합 질문과 상상으로 진행하기</td>\n",
       "      <td>5</td>\n",
       "      <td>사회 교과서 개정되고 학습량은 많은데 학생들이 이해하기쉽게 주제통합 수업을 진행하고...</td>\n",
       "      <td>2023-07-30</td>\n",
       "      <td>삶을 바꾸는 사회수업 주제통합 질문과 상상으로 진행하기 사회 교과서 개정되고 학습량...</td>\n",
       "      <td>True</td>\n",
       "    </tr>\n",
       "    <tr>\n",
       "      <th>3</th>\n",
       "      <td>기초영어 회화 핵심표현 Real Speaking</td>\n",
       "      <td>영어 회화가 막막한 선생님들께 유익한 연수!</td>\n",
       "      <td>4</td>\n",
       "      <td>영어가 너무 오랜만이시거나 일상생활에서 많이 사용하는 영어 회화부터 마스터하고 싶으...</td>\n",
       "      <td>2023-07-29</td>\n",
       "      <td>영어 회화가 막막한 선생님들께 유익한 연수! 영어가 너무 오랜만이시거나 일상생활에서...</td>\n",
       "      <td>True</td>\n",
       "    </tr>\n",
       "    <tr>\n",
       "      <th>4</th>\n",
       "      <td>같이 읽고 함께 나누는 독서수업방법</td>\n",
       "      <td>독서교육을 해보고 싶어지게 만드는 연수!!!</td>\n",
       "      <td>5</td>\n",
       "      <td>아이를 키우며 그림책과 동화책에 관심을 갖게 되었다.\\n감동적이고 재미있는 책들을 ...</td>\n",
       "      <td>2023-07-28</td>\n",
       "      <td>독서교육을 해보고 싶어지게 만드는 연수!!! 아이를 키우며 그림책과 동화책에 관심을...</td>\n",
       "      <td>True</td>\n",
       "    </tr>\n",
       "    <tr>\n",
       "      <th>...</th>\n",
       "      <td>...</td>\n",
       "      <td>...</td>\n",
       "      <td>...</td>\n",
       "      <td>...</td>\n",
       "      <td>...</td>\n",
       "      <td>...</td>\n",
       "      <td>...</td>\n",
       "    </tr>\n",
       "    <tr>\n",
       "      <th>2590</th>\n",
       "      <td>두근두근 교실밖 인문학 - 동양사편</td>\n",
       "      <td>신동기 교수의 동양사 연수</td>\n",
       "      <td>5</td>\n",
       "      <td>평소 우리나라 역사에 대한 강의를 듣고 싶어 여러 원격교육을 받던 중 셀파 원격교육...</td>\n",
       "      <td>2018-04-02</td>\n",
       "      <td>신동기 교수의 동양사 연수 평소 우리나라 역사에 대한 강의를 듣고 싶어 여러 원격교...</td>\n",
       "      <td>True</td>\n",
       "    </tr>\n",
       "    <tr>\n",
       "      <th>2591</th>\n",
       "      <td>수업을 살리는 놀이 레시피</td>\n",
       "      <td>알찬 수업연수</td>\n",
       "      <td>5</td>\n",
       "      <td>어느 연수보다도 알찬 수업연수였습니다. 단순하게 이러한 방법을 활용할 수 있다라고 ...</td>\n",
       "      <td>2018-01-25</td>\n",
       "      <td>알찬 수업연수 어느 연수보다도 알찬 수업연수였습니다. 단순하게 이러한 방법을 활용할...</td>\n",
       "      <td>True</td>\n",
       "    </tr>\n",
       "    <tr>\n",
       "      <th>2592</th>\n",
       "      <td>수업을 살리는 놀이 레시피</td>\n",
       "      <td>학교 수업을 좀더 재미있게 할 수 있는 유익한 연수였습니다^.^</td>\n",
       "      <td>5</td>\n",
       "      <td>교사의 수업이란 예전과 다르게 조금만 지루해도 학생들이 잘 안따르고 듣지 않은 경우...</td>\n",
       "      <td>2018-01-13</td>\n",
       "      <td>학교 수업을 좀더 재미있게 할 수 있는 유익한 연수였습니다^.^ 교사의 수업이란 예...</td>\n",
       "      <td>True</td>\n",
       "    </tr>\n",
       "    <tr>\n",
       "      <th>2593</th>\n",
       "      <td>교과수업에 활용하는 진로교육</td>\n",
       "      <td>정말 알차고 멋진 연수 였습니다.</td>\n",
       "      <td>5</td>\n",
       "      <td>강의 내용도 훌륭했고, 동영상 구성이나 그래픽도 아주 훌륭했습니다. 강사님의 프레젠...</td>\n",
       "      <td>2018-01-09</td>\n",
       "      <td>정말 알차고 멋진 연수 였습니다. 강의 내용도 훌륭했고, 동영상 구성이나 그래픽도 ...</td>\n",
       "      <td>True</td>\n",
       "    </tr>\n",
       "    <tr>\n",
       "      <th>2594</th>\n",
       "      <td>교과수업에 활용하는 진로교육</td>\n",
       "      <td>연수 잘 들었습니다.</td>\n",
       "      <td>5</td>\n",
       "      <td>진로교육과 관련해 이용할 수 있는 사이트와 사례들이 좋았습니다. 감사합니다^^</td>\n",
       "      <td>2018-01-08</td>\n",
       "      <td>연수 잘 들었습니다. 진로교육과 관련해 이용할 수 있는 사이트와 사례들이 좋았습니다...</td>\n",
       "      <td>True</td>\n",
       "    </tr>\n",
       "  </tbody>\n",
       "</table>\n",
       "<p>2595 rows × 7 columns</p>\n",
       "</div>"
      ],
      "text/plain": [
       "                            name                                title  star  \\\n",
       "0                한 번에 끝내는 법정연수 1                           법정연수 유용하네요     5   \n",
       "1     나이와 신분을 초월한 독립운동, 그 현장을 읽다                       독립운동에 관한 지식 쌓기     5   \n",
       "2     상상을 실천으로, 삶을 바꾸는 사회 수업 이야기       삶을 바꾸는 사회수업 주제통합 질문과 상상으로 진행하기     5   \n",
       "3     기초영어 회화 핵심표현 Real Speaking             영어 회화가 막막한 선생님들께 유익한 연수!     4   \n",
       "4            같이 읽고 함께 나누는 독서수업방법             독서교육을 해보고 싶어지게 만드는 연수!!!     5   \n",
       "...                          ...                                  ...   ...   \n",
       "2590         두근두근 교실밖 인문학 - 동양사편                       신동기 교수의 동양사 연수     5   \n",
       "2591              수업을 살리는 놀이 레시피                              알찬 수업연수     5   \n",
       "2592              수업을 살리는 놀이 레시피  학교 수업을 좀더 재미있게 할 수 있는 유익한 연수였습니다^.^     5   \n",
       "2593             교과수업에 활용하는 진로교육                   정말 알차고 멋진 연수 였습니다.     5   \n",
       "2594             교과수업에 활용하는 진로교육                          연수 잘 들었습니다.     5   \n",
       "\n",
       "                                               contents        date  \\\n",
       "0      의무적으로 해마다 듣는 연수인데 다른 강사에게 듣고 싶어 신청했는데 연수 들을만 했어요  2023-07-30   \n",
       "1              독립운동에 대해서 알고, 학생 대상으로 수업하기 좋았습니다. 추천합니다.  2023-07-30   \n",
       "2     사회 교과서 개정되고 학습량은 많은데 학생들이 이해하기쉽게 주제통합 수업을 진행하고...  2023-07-30   \n",
       "3     영어가 너무 오랜만이시거나 일상생활에서 많이 사용하는 영어 회화부터 마스터하고 싶으...  2023-07-29   \n",
       "4     아이를 키우며 그림책과 동화책에 관심을 갖게 되었다.\\n감동적이고 재미있는 책들을 ...  2023-07-28   \n",
       "...                                                 ...         ...   \n",
       "2590  평소 우리나라 역사에 대한 강의를 듣고 싶어 여러 원격교육을 받던 중 셀파 원격교육...  2018-04-02   \n",
       "2591  어느 연수보다도 알찬 수업연수였습니다. 단순하게 이러한 방법을 활용할 수 있다라고 ...  2018-01-25   \n",
       "2592  교사의 수업이란 예전과 다르게 조금만 지루해도 학생들이 잘 안따르고 듣지 않은 경우...  2018-01-13   \n",
       "2593  강의 내용도 훌륭했고, 동영상 구성이나 그래픽도 아주 훌륭했습니다. 강사님의 프레젠...  2018-01-09   \n",
       "2594        진로교육과 관련해 이용할 수 있는 사이트와 사례들이 좋았습니다. 감사합니다^^  2018-01-08   \n",
       "\n",
       "                                         title_comments  emotion_analysis  \n",
       "0     법정연수 유용하네요 의무적으로 해마다 듣는 연수인데 다른 강사에게 듣고 싶어 신청했...              True  \n",
       "1     독립운동에 관한 지식 쌓기 독립운동에 대해서 알고, 학생 대상으로 수업하기 좋았습니...              True  \n",
       "2     삶을 바꾸는 사회수업 주제통합 질문과 상상으로 진행하기 사회 교과서 개정되고 학습량...              True  \n",
       "3     영어 회화가 막막한 선생님들께 유익한 연수! 영어가 너무 오랜만이시거나 일상생활에서...              True  \n",
       "4     독서교육을 해보고 싶어지게 만드는 연수!!! 아이를 키우며 그림책과 동화책에 관심을...              True  \n",
       "...                                                 ...               ...  \n",
       "2590  신동기 교수의 동양사 연수 평소 우리나라 역사에 대한 강의를 듣고 싶어 여러 원격교...              True  \n",
       "2591  알찬 수업연수 어느 연수보다도 알찬 수업연수였습니다. 단순하게 이러한 방법을 활용할...              True  \n",
       "2592  학교 수업을 좀더 재미있게 할 수 있는 유익한 연수였습니다^.^ 교사의 수업이란 예...              True  \n",
       "2593  정말 알차고 멋진 연수 였습니다. 강의 내용도 훌륭했고, 동영상 구성이나 그래픽도 ...              True  \n",
       "2594  연수 잘 들었습니다. 진로교육과 관련해 이용할 수 있는 사이트와 사례들이 좋았습니다...              True  \n",
       "\n",
       "[2595 rows x 7 columns]"
      ]
     },
     "execution_count": 324,
     "metadata": {},
     "output_type": "execute_result"
    }
   ],
   "source": [
    "dff"
   ]
  },
  {
   "cell_type": "code",
   "execution_count": null,
   "id": "21f1719e",
   "metadata": {},
   "outputs": [],
   "source": []
  },
  {
   "cell_type": "code",
   "execution_count": 325,
   "id": "c7293be7",
   "metadata": {},
   "outputs": [],
   "source": [
    "dff['date'] = dff['date'].apply(lambda x: x.split('.'))"
   ]
  },
  {
   "cell_type": "code",
   "execution_count": 326,
   "id": "edd0142e",
   "metadata": {},
   "outputs": [],
   "source": [
    "dff['date'] = dff['date'].apply(lambda x: '-'.join(x))"
   ]
  },
  {
   "cell_type": "code",
   "execution_count": 327,
   "id": "25adcb57",
   "metadata": {},
   "outputs": [],
   "source": [
    "def dtime(x):\n",
    "    return datetime.datetime.strptime(x, '%Y-%m-%d')"
   ]
  },
  {
   "cell_type": "code",
   "execution_count": 328,
   "id": "c3fe96d1",
   "metadata": {},
   "outputs": [],
   "source": [
    "dff['date'] = dff['date'].apply(lambda x: dtime(x))"
   ]
  },
  {
   "cell_type": "code",
   "execution_count": 329,
   "id": "c684513c",
   "metadata": {},
   "outputs": [],
   "source": [
    "dffd = dff.copy()"
   ]
  },
  {
   "cell_type": "code",
   "execution_count": 330,
   "id": "bee92407",
   "metadata": {},
   "outputs": [
    {
     "data": {
      "text/plain": [
       "'2023 1/4'"
      ]
     },
     "execution_count": 330,
     "metadata": {},
     "output_type": "execute_result"
    }
   ],
   "source": [
    "str(dff['date'][0].year) + ' 1/4'"
   ]
  },
  {
   "cell_type": "code",
   "execution_count": 331,
   "id": "370e4034",
   "metadata": {},
   "outputs": [
    {
     "data": {
      "text/plain": [
       "7"
      ]
     },
     "execution_count": 331,
     "metadata": {},
     "output_type": "execute_result"
    }
   ],
   "source": [
    "dff['date'][0].month"
   ]
  },
  {
   "cell_type": "code",
   "execution_count": 332,
   "id": "6b1cc1c2",
   "metadata": {},
   "outputs": [],
   "source": [
    "def quarter(x):\n",
    "    if x.month >= 10: \n",
    "        quart = '4/4'\n",
    "    elif x.month >= 7:\n",
    "        quart = '3/4'\n",
    "    elif x.month >= 4:\n",
    "        quart = '2/4'\n",
    "    elif x.month >= 1 :\n",
    "        quart = '1/4'\n",
    "    \n",
    "    return (str(x.year) + ' ' + quart)"
   ]
  },
  {
   "cell_type": "code",
   "execution_count": 333,
   "id": "a1e0165b",
   "metadata": {},
   "outputs": [],
   "source": [
    "dffd['quarter'] = dffd['date'].apply(lambda x: quarter(x))"
   ]
  },
  {
   "cell_type": "code",
   "execution_count": 334,
   "id": "a478c927",
   "metadata": {
    "scrolled": false
   },
   "outputs": [
    {
     "data": {
      "text/html": [
       "<div>\n",
       "<style scoped>\n",
       "    .dataframe tbody tr th:only-of-type {\n",
       "        vertical-align: middle;\n",
       "    }\n",
       "\n",
       "    .dataframe tbody tr th {\n",
       "        vertical-align: top;\n",
       "    }\n",
       "\n",
       "    .dataframe thead th {\n",
       "        text-align: right;\n",
       "    }\n",
       "</style>\n",
       "<table border=\"1\" class=\"dataframe\">\n",
       "  <thead>\n",
       "    <tr style=\"text-align: right;\">\n",
       "      <th></th>\n",
       "      <th>name</th>\n",
       "      <th>title</th>\n",
       "      <th>star</th>\n",
       "      <th>contents</th>\n",
       "      <th>date</th>\n",
       "      <th>title_comments</th>\n",
       "      <th>emotion_analysis</th>\n",
       "      <th>quarter</th>\n",
       "    </tr>\n",
       "  </thead>\n",
       "  <tbody>\n",
       "    <tr>\n",
       "      <th>0</th>\n",
       "      <td>한 번에 끝내는 법정연수 1</td>\n",
       "      <td>법정연수 유용하네요</td>\n",
       "      <td>5</td>\n",
       "      <td>의무적으로 해마다 듣는 연수인데 다른 강사에게 듣고 싶어 신청했는데 연수 들을만 했어요</td>\n",
       "      <td>2023-07-30</td>\n",
       "      <td>법정연수 유용하네요 의무적으로 해마다 듣는 연수인데 다른 강사에게 듣고 싶어 신청했...</td>\n",
       "      <td>True</td>\n",
       "      <td>2023 3/4</td>\n",
       "    </tr>\n",
       "    <tr>\n",
       "      <th>1</th>\n",
       "      <td>나이와 신분을 초월한 독립운동, 그 현장을 읽다</td>\n",
       "      <td>독립운동에 관한 지식 쌓기</td>\n",
       "      <td>5</td>\n",
       "      <td>독립운동에 대해서 알고, 학생 대상으로 수업하기 좋았습니다. 추천합니다.</td>\n",
       "      <td>2023-07-30</td>\n",
       "      <td>독립운동에 관한 지식 쌓기 독립운동에 대해서 알고, 학생 대상으로 수업하기 좋았습니...</td>\n",
       "      <td>True</td>\n",
       "      <td>2023 3/4</td>\n",
       "    </tr>\n",
       "    <tr>\n",
       "      <th>2</th>\n",
       "      <td>상상을 실천으로, 삶을 바꾸는 사회 수업 이야기</td>\n",
       "      <td>삶을 바꾸는 사회수업 주제통합 질문과 상상으로 진행하기</td>\n",
       "      <td>5</td>\n",
       "      <td>사회 교과서 개정되고 학습량은 많은데 학생들이 이해하기쉽게 주제통합 수업을 진행하고...</td>\n",
       "      <td>2023-07-30</td>\n",
       "      <td>삶을 바꾸는 사회수업 주제통합 질문과 상상으로 진행하기 사회 교과서 개정되고 학습량...</td>\n",
       "      <td>True</td>\n",
       "      <td>2023 3/4</td>\n",
       "    </tr>\n",
       "    <tr>\n",
       "      <th>3</th>\n",
       "      <td>기초영어 회화 핵심표현 Real Speaking</td>\n",
       "      <td>영어 회화가 막막한 선생님들께 유익한 연수!</td>\n",
       "      <td>4</td>\n",
       "      <td>영어가 너무 오랜만이시거나 일상생활에서 많이 사용하는 영어 회화부터 마스터하고 싶으...</td>\n",
       "      <td>2023-07-29</td>\n",
       "      <td>영어 회화가 막막한 선생님들께 유익한 연수! 영어가 너무 오랜만이시거나 일상생활에서...</td>\n",
       "      <td>True</td>\n",
       "      <td>2023 3/4</td>\n",
       "    </tr>\n",
       "    <tr>\n",
       "      <th>4</th>\n",
       "      <td>같이 읽고 함께 나누는 독서수업방법</td>\n",
       "      <td>독서교육을 해보고 싶어지게 만드는 연수!!!</td>\n",
       "      <td>5</td>\n",
       "      <td>아이를 키우며 그림책과 동화책에 관심을 갖게 되었다.\\n감동적이고 재미있는 책들을 ...</td>\n",
       "      <td>2023-07-28</td>\n",
       "      <td>독서교육을 해보고 싶어지게 만드는 연수!!! 아이를 키우며 그림책과 동화책에 관심을...</td>\n",
       "      <td>True</td>\n",
       "      <td>2023 3/4</td>\n",
       "    </tr>\n",
       "  </tbody>\n",
       "</table>\n",
       "</div>"
      ],
      "text/plain": [
       "                         name                           title  star  \\\n",
       "0             한 번에 끝내는 법정연수 1                      법정연수 유용하네요     5   \n",
       "1  나이와 신분을 초월한 독립운동, 그 현장을 읽다                  독립운동에 관한 지식 쌓기     5   \n",
       "2  상상을 실천으로, 삶을 바꾸는 사회 수업 이야기  삶을 바꾸는 사회수업 주제통합 질문과 상상으로 진행하기     5   \n",
       "3  기초영어 회화 핵심표현 Real Speaking        영어 회화가 막막한 선생님들께 유익한 연수!     4   \n",
       "4         같이 읽고 함께 나누는 독서수업방법        독서교육을 해보고 싶어지게 만드는 연수!!!     5   \n",
       "\n",
       "                                            contents       date  \\\n",
       "0   의무적으로 해마다 듣는 연수인데 다른 강사에게 듣고 싶어 신청했는데 연수 들을만 했어요 2023-07-30   \n",
       "1           독립운동에 대해서 알고, 학생 대상으로 수업하기 좋았습니다. 추천합니다. 2023-07-30   \n",
       "2  사회 교과서 개정되고 학습량은 많은데 학생들이 이해하기쉽게 주제통합 수업을 진행하고... 2023-07-30   \n",
       "3  영어가 너무 오랜만이시거나 일상생활에서 많이 사용하는 영어 회화부터 마스터하고 싶으... 2023-07-29   \n",
       "4  아이를 키우며 그림책과 동화책에 관심을 갖게 되었다.\\n감동적이고 재미있는 책들을 ... 2023-07-28   \n",
       "\n",
       "                                      title_comments  emotion_analysis  \\\n",
       "0  법정연수 유용하네요 의무적으로 해마다 듣는 연수인데 다른 강사에게 듣고 싶어 신청했...              True   \n",
       "1  독립운동에 관한 지식 쌓기 독립운동에 대해서 알고, 학생 대상으로 수업하기 좋았습니...              True   \n",
       "2  삶을 바꾸는 사회수업 주제통합 질문과 상상으로 진행하기 사회 교과서 개정되고 학습량...              True   \n",
       "3  영어 회화가 막막한 선생님들께 유익한 연수! 영어가 너무 오랜만이시거나 일상생활에서...              True   \n",
       "4  독서교육을 해보고 싶어지게 만드는 연수!!! 아이를 키우며 그림책과 동화책에 관심을...              True   \n",
       "\n",
       "    quarter  \n",
       "0  2023 3/4  \n",
       "1  2023 3/4  \n",
       "2  2023 3/4  \n",
       "3  2023 3/4  \n",
       "4  2023 3/4  "
      ]
     },
     "execution_count": 334,
     "metadata": {},
     "output_type": "execute_result"
    }
   ],
   "source": [
    "dffd.head()"
   ]
  },
  {
   "cell_type": "code",
   "execution_count": 439,
   "id": "b14d09bc",
   "metadata": {},
   "outputs": [
    {
     "data": {
      "text/plain": [
       "quarter\n",
       "2018 1/4      4\n",
       "2018 2/4     19\n",
       "2018 3/4      9\n",
       "2018 4/4     29\n",
       "2019 1/4     14\n",
       "2019 2/4     13\n",
       "2019 3/4     13\n",
       "2019 4/4     60\n",
       "2020 1/4     25\n",
       "2020 2/4     62\n",
       "2020 3/4     33\n",
       "2020 4/4     75\n",
       "2021 1/4     38\n",
       "2021 2/4    152\n",
       "2021 3/4    198\n",
       "2021 4/4    485\n",
       "2022 1/4     88\n",
       "2022 2/4    139\n",
       "2022 3/4    273\n",
       "2022 4/4    478\n",
       "2023 1/4    110\n",
       "2023 2/4    215\n",
       "2023 3/4     63\n",
       "dtype: int64"
      ]
     },
     "execution_count": 439,
     "metadata": {},
     "output_type": "execute_result"
    }
   ],
   "source": [
    "dffd.groupby('quarter').size()"
   ]
  },
  {
   "cell_type": "code",
   "execution_count": 335,
   "id": "fbc4f65d",
   "metadata": {},
   "outputs": [],
   "source": [
    "dffqe = dffd.groupby(['quarter','emotion_analysis']).size().unstack().fillna(0)"
   ]
  },
  {
   "cell_type": "code",
   "execution_count": 336,
   "id": "a0aae707",
   "metadata": {},
   "outputs": [],
   "source": [
    "dffqe['ratio'] = (dffqe[False]/(dffqe[True]+dffqe[False]))*100"
   ]
  },
  {
   "cell_type": "code",
   "execution_count": 440,
   "id": "0aa791c0",
   "metadata": {},
   "outputs": [],
   "source": [
    "dffqe['리뷰 개수'] = dffd.groupby('quarter').size()"
   ]
  },
  {
   "cell_type": "code",
   "execution_count": 441,
   "id": "3fe60734",
   "metadata": {},
   "outputs": [
    {
     "data": {
      "text/html": [
       "<div>\n",
       "<style scoped>\n",
       "    .dataframe tbody tr th:only-of-type {\n",
       "        vertical-align: middle;\n",
       "    }\n",
       "\n",
       "    .dataframe tbody tr th {\n",
       "        vertical-align: top;\n",
       "    }\n",
       "\n",
       "    .dataframe thead th {\n",
       "        text-align: right;\n",
       "    }\n",
       "</style>\n",
       "<table border=\"1\" class=\"dataframe\">\n",
       "  <thead>\n",
       "    <tr style=\"text-align: right;\">\n",
       "      <th>emotion_analysis</th>\n",
       "      <th>False</th>\n",
       "      <th>True</th>\n",
       "      <th>ratio</th>\n",
       "      <th>리뷰 개수</th>\n",
       "    </tr>\n",
       "    <tr>\n",
       "      <th>quarter</th>\n",
       "      <th></th>\n",
       "      <th></th>\n",
       "      <th></th>\n",
       "      <th></th>\n",
       "    </tr>\n",
       "  </thead>\n",
       "  <tbody>\n",
       "    <tr>\n",
       "      <th>2018 1/4</th>\n",
       "      <td>0.0</td>\n",
       "      <td>4.0</td>\n",
       "      <td>0.000000</td>\n",
       "      <td>4</td>\n",
       "    </tr>\n",
       "    <tr>\n",
       "      <th>2018 2/4</th>\n",
       "      <td>4.0</td>\n",
       "      <td>15.0</td>\n",
       "      <td>21.052632</td>\n",
       "      <td>19</td>\n",
       "    </tr>\n",
       "    <tr>\n",
       "      <th>2018 3/4</th>\n",
       "      <td>0.0</td>\n",
       "      <td>9.0</td>\n",
       "      <td>0.000000</td>\n",
       "      <td>9</td>\n",
       "    </tr>\n",
       "    <tr>\n",
       "      <th>2018 4/4</th>\n",
       "      <td>1.0</td>\n",
       "      <td>28.0</td>\n",
       "      <td>3.448276</td>\n",
       "      <td>29</td>\n",
       "    </tr>\n",
       "    <tr>\n",
       "      <th>2019 1/4</th>\n",
       "      <td>1.0</td>\n",
       "      <td>13.0</td>\n",
       "      <td>7.142857</td>\n",
       "      <td>14</td>\n",
       "    </tr>\n",
       "    <tr>\n",
       "      <th>2019 2/4</th>\n",
       "      <td>2.0</td>\n",
       "      <td>11.0</td>\n",
       "      <td>15.384615</td>\n",
       "      <td>13</td>\n",
       "    </tr>\n",
       "    <tr>\n",
       "      <th>2019 3/4</th>\n",
       "      <td>2.0</td>\n",
       "      <td>11.0</td>\n",
       "      <td>15.384615</td>\n",
       "      <td>13</td>\n",
       "    </tr>\n",
       "    <tr>\n",
       "      <th>2019 4/4</th>\n",
       "      <td>3.0</td>\n",
       "      <td>57.0</td>\n",
       "      <td>5.000000</td>\n",
       "      <td>60</td>\n",
       "    </tr>\n",
       "    <tr>\n",
       "      <th>2020 1/4</th>\n",
       "      <td>1.0</td>\n",
       "      <td>24.0</td>\n",
       "      <td>4.000000</td>\n",
       "      <td>25</td>\n",
       "    </tr>\n",
       "    <tr>\n",
       "      <th>2020 2/4</th>\n",
       "      <td>4.0</td>\n",
       "      <td>58.0</td>\n",
       "      <td>6.451613</td>\n",
       "      <td>62</td>\n",
       "    </tr>\n",
       "    <tr>\n",
       "      <th>2020 3/4</th>\n",
       "      <td>1.0</td>\n",
       "      <td>32.0</td>\n",
       "      <td>3.030303</td>\n",
       "      <td>33</td>\n",
       "    </tr>\n",
       "    <tr>\n",
       "      <th>2020 4/4</th>\n",
       "      <td>1.0</td>\n",
       "      <td>74.0</td>\n",
       "      <td>1.333333</td>\n",
       "      <td>75</td>\n",
       "    </tr>\n",
       "    <tr>\n",
       "      <th>2021 1/4</th>\n",
       "      <td>0.0</td>\n",
       "      <td>38.0</td>\n",
       "      <td>0.000000</td>\n",
       "      <td>38</td>\n",
       "    </tr>\n",
       "    <tr>\n",
       "      <th>2021 2/4</th>\n",
       "      <td>4.0</td>\n",
       "      <td>148.0</td>\n",
       "      <td>2.631579</td>\n",
       "      <td>152</td>\n",
       "    </tr>\n",
       "    <tr>\n",
       "      <th>2021 3/4</th>\n",
       "      <td>5.0</td>\n",
       "      <td>193.0</td>\n",
       "      <td>2.525253</td>\n",
       "      <td>198</td>\n",
       "    </tr>\n",
       "    <tr>\n",
       "      <th>2021 4/4</th>\n",
       "      <td>13.0</td>\n",
       "      <td>472.0</td>\n",
       "      <td>2.680412</td>\n",
       "      <td>485</td>\n",
       "    </tr>\n",
       "    <tr>\n",
       "      <th>2022 1/4</th>\n",
       "      <td>0.0</td>\n",
       "      <td>88.0</td>\n",
       "      <td>0.000000</td>\n",
       "      <td>88</td>\n",
       "    </tr>\n",
       "    <tr>\n",
       "      <th>2022 2/4</th>\n",
       "      <td>2.0</td>\n",
       "      <td>137.0</td>\n",
       "      <td>1.438849</td>\n",
       "      <td>139</td>\n",
       "    </tr>\n",
       "    <tr>\n",
       "      <th>2022 3/4</th>\n",
       "      <td>1.0</td>\n",
       "      <td>272.0</td>\n",
       "      <td>0.366300</td>\n",
       "      <td>273</td>\n",
       "    </tr>\n",
       "    <tr>\n",
       "      <th>2022 4/4</th>\n",
       "      <td>5.0</td>\n",
       "      <td>473.0</td>\n",
       "      <td>1.046025</td>\n",
       "      <td>478</td>\n",
       "    </tr>\n",
       "    <tr>\n",
       "      <th>2023 1/4</th>\n",
       "      <td>2.0</td>\n",
       "      <td>108.0</td>\n",
       "      <td>1.818182</td>\n",
       "      <td>110</td>\n",
       "    </tr>\n",
       "    <tr>\n",
       "      <th>2023 2/4</th>\n",
       "      <td>6.0</td>\n",
       "      <td>209.0</td>\n",
       "      <td>2.790698</td>\n",
       "      <td>215</td>\n",
       "    </tr>\n",
       "    <tr>\n",
       "      <th>2023 3/4</th>\n",
       "      <td>2.0</td>\n",
       "      <td>61.0</td>\n",
       "      <td>3.174603</td>\n",
       "      <td>63</td>\n",
       "    </tr>\n",
       "  </tbody>\n",
       "</table>\n",
       "</div>"
      ],
      "text/plain": [
       "emotion_analysis  False   True      ratio  리뷰 개수\n",
       "quarter                                         \n",
       "2018 1/4            0.0    4.0   0.000000      4\n",
       "2018 2/4            4.0   15.0  21.052632     19\n",
       "2018 3/4            0.0    9.0   0.000000      9\n",
       "2018 4/4            1.0   28.0   3.448276     29\n",
       "2019 1/4            1.0   13.0   7.142857     14\n",
       "2019 2/4            2.0   11.0  15.384615     13\n",
       "2019 3/4            2.0   11.0  15.384615     13\n",
       "2019 4/4            3.0   57.0   5.000000     60\n",
       "2020 1/4            1.0   24.0   4.000000     25\n",
       "2020 2/4            4.0   58.0   6.451613     62\n",
       "2020 3/4            1.0   32.0   3.030303     33\n",
       "2020 4/4            1.0   74.0   1.333333     75\n",
       "2021 1/4            0.0   38.0   0.000000     38\n",
       "2021 2/4            4.0  148.0   2.631579    152\n",
       "2021 3/4            5.0  193.0   2.525253    198\n",
       "2021 4/4           13.0  472.0   2.680412    485\n",
       "2022 1/4            0.0   88.0   0.000000     88\n",
       "2022 2/4            2.0  137.0   1.438849    139\n",
       "2022 3/4            1.0  272.0   0.366300    273\n",
       "2022 4/4            5.0  473.0   1.046025    478\n",
       "2023 1/4            2.0  108.0   1.818182    110\n",
       "2023 2/4            6.0  209.0   2.790698    215\n",
       "2023 3/4            2.0   61.0   3.174603     63"
      ]
     },
     "execution_count": 441,
     "metadata": {},
     "output_type": "execute_result"
    }
   ],
   "source": [
    "dffqe"
   ]
  },
  {
   "cell_type": "code",
   "execution_count": 451,
   "id": "c94d4d9f",
   "metadata": {},
   "outputs": [],
   "source": [
    "dffqe2 = dffqe.reset_index()"
   ]
  },
  {
   "cell_type": "code",
   "execution_count": 452,
   "id": "1b065dcf",
   "metadata": {},
   "outputs": [
    {
     "data": {
      "text/html": [
       "<div>\n",
       "<style scoped>\n",
       "    .dataframe tbody tr th:only-of-type {\n",
       "        vertical-align: middle;\n",
       "    }\n",
       "\n",
       "    .dataframe tbody tr th {\n",
       "        vertical-align: top;\n",
       "    }\n",
       "\n",
       "    .dataframe thead th {\n",
       "        text-align: right;\n",
       "    }\n",
       "</style>\n",
       "<table border=\"1\" class=\"dataframe\">\n",
       "  <thead>\n",
       "    <tr style=\"text-align: right;\">\n",
       "      <th>emotion_analysis</th>\n",
       "      <th>quarter</th>\n",
       "      <th>False</th>\n",
       "      <th>True</th>\n",
       "      <th>ratio</th>\n",
       "      <th>리뷰 개수</th>\n",
       "    </tr>\n",
       "  </thead>\n",
       "  <tbody>\n",
       "    <tr>\n",
       "      <th>0</th>\n",
       "      <td>2018 1/4</td>\n",
       "      <td>0.0</td>\n",
       "      <td>4.0</td>\n",
       "      <td>0.000000</td>\n",
       "      <td>4</td>\n",
       "    </tr>\n",
       "    <tr>\n",
       "      <th>1</th>\n",
       "      <td>2018 2/4</td>\n",
       "      <td>4.0</td>\n",
       "      <td>15.0</td>\n",
       "      <td>21.052632</td>\n",
       "      <td>19</td>\n",
       "    </tr>\n",
       "    <tr>\n",
       "      <th>2</th>\n",
       "      <td>2018 3/4</td>\n",
       "      <td>0.0</td>\n",
       "      <td>9.0</td>\n",
       "      <td>0.000000</td>\n",
       "      <td>9</td>\n",
       "    </tr>\n",
       "    <tr>\n",
       "      <th>3</th>\n",
       "      <td>2018 4/4</td>\n",
       "      <td>1.0</td>\n",
       "      <td>28.0</td>\n",
       "      <td>3.448276</td>\n",
       "      <td>29</td>\n",
       "    </tr>\n",
       "    <tr>\n",
       "      <th>4</th>\n",
       "      <td>2019 1/4</td>\n",
       "      <td>1.0</td>\n",
       "      <td>13.0</td>\n",
       "      <td>7.142857</td>\n",
       "      <td>14</td>\n",
       "    </tr>\n",
       "    <tr>\n",
       "      <th>5</th>\n",
       "      <td>2019 2/4</td>\n",
       "      <td>2.0</td>\n",
       "      <td>11.0</td>\n",
       "      <td>15.384615</td>\n",
       "      <td>13</td>\n",
       "    </tr>\n",
       "    <tr>\n",
       "      <th>6</th>\n",
       "      <td>2019 3/4</td>\n",
       "      <td>2.0</td>\n",
       "      <td>11.0</td>\n",
       "      <td>15.384615</td>\n",
       "      <td>13</td>\n",
       "    </tr>\n",
       "    <tr>\n",
       "      <th>7</th>\n",
       "      <td>2019 4/4</td>\n",
       "      <td>3.0</td>\n",
       "      <td>57.0</td>\n",
       "      <td>5.000000</td>\n",
       "      <td>60</td>\n",
       "    </tr>\n",
       "    <tr>\n",
       "      <th>8</th>\n",
       "      <td>2020 1/4</td>\n",
       "      <td>1.0</td>\n",
       "      <td>24.0</td>\n",
       "      <td>4.000000</td>\n",
       "      <td>25</td>\n",
       "    </tr>\n",
       "    <tr>\n",
       "      <th>9</th>\n",
       "      <td>2020 2/4</td>\n",
       "      <td>4.0</td>\n",
       "      <td>58.0</td>\n",
       "      <td>6.451613</td>\n",
       "      <td>62</td>\n",
       "    </tr>\n",
       "    <tr>\n",
       "      <th>10</th>\n",
       "      <td>2020 3/4</td>\n",
       "      <td>1.0</td>\n",
       "      <td>32.0</td>\n",
       "      <td>3.030303</td>\n",
       "      <td>33</td>\n",
       "    </tr>\n",
       "    <tr>\n",
       "      <th>11</th>\n",
       "      <td>2020 4/4</td>\n",
       "      <td>1.0</td>\n",
       "      <td>74.0</td>\n",
       "      <td>1.333333</td>\n",
       "      <td>75</td>\n",
       "    </tr>\n",
       "    <tr>\n",
       "      <th>12</th>\n",
       "      <td>2021 1/4</td>\n",
       "      <td>0.0</td>\n",
       "      <td>38.0</td>\n",
       "      <td>0.000000</td>\n",
       "      <td>38</td>\n",
       "    </tr>\n",
       "    <tr>\n",
       "      <th>13</th>\n",
       "      <td>2021 2/4</td>\n",
       "      <td>4.0</td>\n",
       "      <td>148.0</td>\n",
       "      <td>2.631579</td>\n",
       "      <td>152</td>\n",
       "    </tr>\n",
       "    <tr>\n",
       "      <th>14</th>\n",
       "      <td>2021 3/4</td>\n",
       "      <td>5.0</td>\n",
       "      <td>193.0</td>\n",
       "      <td>2.525253</td>\n",
       "      <td>198</td>\n",
       "    </tr>\n",
       "    <tr>\n",
       "      <th>15</th>\n",
       "      <td>2021 4/4</td>\n",
       "      <td>13.0</td>\n",
       "      <td>472.0</td>\n",
       "      <td>2.680412</td>\n",
       "      <td>485</td>\n",
       "    </tr>\n",
       "    <tr>\n",
       "      <th>16</th>\n",
       "      <td>2022 1/4</td>\n",
       "      <td>0.0</td>\n",
       "      <td>88.0</td>\n",
       "      <td>0.000000</td>\n",
       "      <td>88</td>\n",
       "    </tr>\n",
       "    <tr>\n",
       "      <th>17</th>\n",
       "      <td>2022 2/4</td>\n",
       "      <td>2.0</td>\n",
       "      <td>137.0</td>\n",
       "      <td>1.438849</td>\n",
       "      <td>139</td>\n",
       "    </tr>\n",
       "    <tr>\n",
       "      <th>18</th>\n",
       "      <td>2022 3/4</td>\n",
       "      <td>1.0</td>\n",
       "      <td>272.0</td>\n",
       "      <td>0.366300</td>\n",
       "      <td>273</td>\n",
       "    </tr>\n",
       "    <tr>\n",
       "      <th>19</th>\n",
       "      <td>2022 4/4</td>\n",
       "      <td>5.0</td>\n",
       "      <td>473.0</td>\n",
       "      <td>1.046025</td>\n",
       "      <td>478</td>\n",
       "    </tr>\n",
       "    <tr>\n",
       "      <th>20</th>\n",
       "      <td>2023 1/4</td>\n",
       "      <td>2.0</td>\n",
       "      <td>108.0</td>\n",
       "      <td>1.818182</td>\n",
       "      <td>110</td>\n",
       "    </tr>\n",
       "    <tr>\n",
       "      <th>21</th>\n",
       "      <td>2023 2/4</td>\n",
       "      <td>6.0</td>\n",
       "      <td>209.0</td>\n",
       "      <td>2.790698</td>\n",
       "      <td>215</td>\n",
       "    </tr>\n",
       "    <tr>\n",
       "      <th>22</th>\n",
       "      <td>2023 3/4</td>\n",
       "      <td>2.0</td>\n",
       "      <td>61.0</td>\n",
       "      <td>3.174603</td>\n",
       "      <td>63</td>\n",
       "    </tr>\n",
       "  </tbody>\n",
       "</table>\n",
       "</div>"
      ],
      "text/plain": [
       "emotion_analysis   quarter  False   True      ratio  리뷰 개수\n",
       "0                 2018 1/4    0.0    4.0   0.000000      4\n",
       "1                 2018 2/4    4.0   15.0  21.052632     19\n",
       "2                 2018 3/4    0.0    9.0   0.000000      9\n",
       "3                 2018 4/4    1.0   28.0   3.448276     29\n",
       "4                 2019 1/4    1.0   13.0   7.142857     14\n",
       "5                 2019 2/4    2.0   11.0  15.384615     13\n",
       "6                 2019 3/4    2.0   11.0  15.384615     13\n",
       "7                 2019 4/4    3.0   57.0   5.000000     60\n",
       "8                 2020 1/4    1.0   24.0   4.000000     25\n",
       "9                 2020 2/4    4.0   58.0   6.451613     62\n",
       "10                2020 3/4    1.0   32.0   3.030303     33\n",
       "11                2020 4/4    1.0   74.0   1.333333     75\n",
       "12                2021 1/4    0.0   38.0   0.000000     38\n",
       "13                2021 2/4    4.0  148.0   2.631579    152\n",
       "14                2021 3/4    5.0  193.0   2.525253    198\n",
       "15                2021 4/4   13.0  472.0   2.680412    485\n",
       "16                2022 1/4    0.0   88.0   0.000000     88\n",
       "17                2022 2/4    2.0  137.0   1.438849    139\n",
       "18                2022 3/4    1.0  272.0   0.366300    273\n",
       "19                2022 4/4    5.0  473.0   1.046025    478\n",
       "20                2023 1/4    2.0  108.0   1.818182    110\n",
       "21                2023 2/4    6.0  209.0   2.790698    215\n",
       "22                2023 3/4    2.0   61.0   3.174603     63"
      ]
     },
     "execution_count": 452,
     "metadata": {},
     "output_type": "execute_result"
    }
   ],
   "source": [
    "dffqe2"
   ]
  },
  {
   "cell_type": "code",
   "execution_count": 340,
   "id": "3db13104",
   "metadata": {},
   "outputs": [
    {
     "data": {
      "text/plain": [
       "1.8507918336195381"
      ]
     },
     "execution_count": 340,
     "metadata": {},
     "output_type": "execute_result"
    }
   ],
   "source": [
    "df.groupby('emotion_analysis').size()[0] / (df.groupby('emotion_analysis').size()[0] + df.groupby('emotion_analysis').size()[1]) * 100 # 아이스크림 부정평가 비율"
   ]
  },
  {
   "cell_type": "code",
   "execution_count": 341,
   "id": "37d5d890",
   "metadata": {},
   "outputs": [
    {
     "data": {
      "application/vnd.plotly.v1+json": {
       "config": {
        "plotlyServerURL": "https://plot.ly"
       },
       "data": [
        {
         "hovertemplate": "분기=%{x}<br>부정 리뷰 비율(%)=%{y}<extra></extra>",
         "legendgroup": "",
         "line": {
          "color": "#636efa",
          "dash": "solid"
         },
         "marker": {
          "symbol": "circle"
         },
         "mode": "lines",
         "name": "",
         "orientation": "v",
         "showlegend": false,
         "type": "scatter",
         "x": [
          "2018 1/4",
          "2018 2/4",
          "2018 3/4",
          "2018 4/4",
          "2019 1/4",
          "2019 2/4",
          "2019 3/4",
          "2019 4/4",
          "2020 1/4",
          "2020 2/4",
          "2020 3/4",
          "2020 4/4",
          "2021 1/4",
          "2021 2/4",
          "2021 3/4",
          "2021 4/4",
          "2022 1/4",
          "2022 2/4",
          "2022 3/4",
          "2022 4/4",
          "2023 1/4",
          "2023 2/4",
          "2023 3/4"
         ],
         "xaxis": "x",
         "y": [
          0,
          21.052631578947366,
          0,
          3.4482758620689653,
          7.142857142857142,
          15.384615384615385,
          15.384615384615385,
          5,
          4,
          6.451612903225806,
          3.0303030303030303,
          1.3333333333333335,
          0,
          2.631578947368421,
          2.525252525252525,
          2.6804123711340204,
          0,
          1.4388489208633095,
          0.3663003663003663,
          1.0460251046025104,
          1.8181818181818181,
          2.7906976744186047,
          3.1746031746031744
         ],
         "yaxis": "y"
        }
       ],
       "layout": {
        "legend": {
         "tracegroupgap": 0
        },
        "margin": {
         "t": 60
        },
        "template": {
         "data": {
          "bar": [
           {
            "error_x": {
             "color": "#2a3f5f"
            },
            "error_y": {
             "color": "#2a3f5f"
            },
            "marker": {
             "line": {
              "color": "#E5ECF6",
              "width": 0.5
             },
             "pattern": {
              "fillmode": "overlay",
              "size": 10,
              "solidity": 0.2
             }
            },
            "type": "bar"
           }
          ],
          "barpolar": [
           {
            "marker": {
             "line": {
              "color": "#E5ECF6",
              "width": 0.5
             },
             "pattern": {
              "fillmode": "overlay",
              "size": 10,
              "solidity": 0.2
             }
            },
            "type": "barpolar"
           }
          ],
          "carpet": [
           {
            "aaxis": {
             "endlinecolor": "#2a3f5f",
             "gridcolor": "white",
             "linecolor": "white",
             "minorgridcolor": "white",
             "startlinecolor": "#2a3f5f"
            },
            "baxis": {
             "endlinecolor": "#2a3f5f",
             "gridcolor": "white",
             "linecolor": "white",
             "minorgridcolor": "white",
             "startlinecolor": "#2a3f5f"
            },
            "type": "carpet"
           }
          ],
          "choropleth": [
           {
            "colorbar": {
             "outlinewidth": 0,
             "ticks": ""
            },
            "type": "choropleth"
           }
          ],
          "contour": [
           {
            "colorbar": {
             "outlinewidth": 0,
             "ticks": ""
            },
            "colorscale": [
             [
              0,
              "#0d0887"
             ],
             [
              0.1111111111111111,
              "#46039f"
             ],
             [
              0.2222222222222222,
              "#7201a8"
             ],
             [
              0.3333333333333333,
              "#9c179e"
             ],
             [
              0.4444444444444444,
              "#bd3786"
             ],
             [
              0.5555555555555556,
              "#d8576b"
             ],
             [
              0.6666666666666666,
              "#ed7953"
             ],
             [
              0.7777777777777778,
              "#fb9f3a"
             ],
             [
              0.8888888888888888,
              "#fdca26"
             ],
             [
              1,
              "#f0f921"
             ]
            ],
            "type": "contour"
           }
          ],
          "contourcarpet": [
           {
            "colorbar": {
             "outlinewidth": 0,
             "ticks": ""
            },
            "type": "contourcarpet"
           }
          ],
          "heatmap": [
           {
            "colorbar": {
             "outlinewidth": 0,
             "ticks": ""
            },
            "colorscale": [
             [
              0,
              "#0d0887"
             ],
             [
              0.1111111111111111,
              "#46039f"
             ],
             [
              0.2222222222222222,
              "#7201a8"
             ],
             [
              0.3333333333333333,
              "#9c179e"
             ],
             [
              0.4444444444444444,
              "#bd3786"
             ],
             [
              0.5555555555555556,
              "#d8576b"
             ],
             [
              0.6666666666666666,
              "#ed7953"
             ],
             [
              0.7777777777777778,
              "#fb9f3a"
             ],
             [
              0.8888888888888888,
              "#fdca26"
             ],
             [
              1,
              "#f0f921"
             ]
            ],
            "type": "heatmap"
           }
          ],
          "heatmapgl": [
           {
            "colorbar": {
             "outlinewidth": 0,
             "ticks": ""
            },
            "colorscale": [
             [
              0,
              "#0d0887"
             ],
             [
              0.1111111111111111,
              "#46039f"
             ],
             [
              0.2222222222222222,
              "#7201a8"
             ],
             [
              0.3333333333333333,
              "#9c179e"
             ],
             [
              0.4444444444444444,
              "#bd3786"
             ],
             [
              0.5555555555555556,
              "#d8576b"
             ],
             [
              0.6666666666666666,
              "#ed7953"
             ],
             [
              0.7777777777777778,
              "#fb9f3a"
             ],
             [
              0.8888888888888888,
              "#fdca26"
             ],
             [
              1,
              "#f0f921"
             ]
            ],
            "type": "heatmapgl"
           }
          ],
          "histogram": [
           {
            "marker": {
             "pattern": {
              "fillmode": "overlay",
              "size": 10,
              "solidity": 0.2
             }
            },
            "type": "histogram"
           }
          ],
          "histogram2d": [
           {
            "colorbar": {
             "outlinewidth": 0,
             "ticks": ""
            },
            "colorscale": [
             [
              0,
              "#0d0887"
             ],
             [
              0.1111111111111111,
              "#46039f"
             ],
             [
              0.2222222222222222,
              "#7201a8"
             ],
             [
              0.3333333333333333,
              "#9c179e"
             ],
             [
              0.4444444444444444,
              "#bd3786"
             ],
             [
              0.5555555555555556,
              "#d8576b"
             ],
             [
              0.6666666666666666,
              "#ed7953"
             ],
             [
              0.7777777777777778,
              "#fb9f3a"
             ],
             [
              0.8888888888888888,
              "#fdca26"
             ],
             [
              1,
              "#f0f921"
             ]
            ],
            "type": "histogram2d"
           }
          ],
          "histogram2dcontour": [
           {
            "colorbar": {
             "outlinewidth": 0,
             "ticks": ""
            },
            "colorscale": [
             [
              0,
              "#0d0887"
             ],
             [
              0.1111111111111111,
              "#46039f"
             ],
             [
              0.2222222222222222,
              "#7201a8"
             ],
             [
              0.3333333333333333,
              "#9c179e"
             ],
             [
              0.4444444444444444,
              "#bd3786"
             ],
             [
              0.5555555555555556,
              "#d8576b"
             ],
             [
              0.6666666666666666,
              "#ed7953"
             ],
             [
              0.7777777777777778,
              "#fb9f3a"
             ],
             [
              0.8888888888888888,
              "#fdca26"
             ],
             [
              1,
              "#f0f921"
             ]
            ],
            "type": "histogram2dcontour"
           }
          ],
          "mesh3d": [
           {
            "colorbar": {
             "outlinewidth": 0,
             "ticks": ""
            },
            "type": "mesh3d"
           }
          ],
          "parcoords": [
           {
            "line": {
             "colorbar": {
              "outlinewidth": 0,
              "ticks": ""
             }
            },
            "type": "parcoords"
           }
          ],
          "pie": [
           {
            "automargin": true,
            "type": "pie"
           }
          ],
          "scatter": [
           {
            "fillpattern": {
             "fillmode": "overlay",
             "size": 10,
             "solidity": 0.2
            },
            "type": "scatter"
           }
          ],
          "scatter3d": [
           {
            "line": {
             "colorbar": {
              "outlinewidth": 0,
              "ticks": ""
             }
            },
            "marker": {
             "colorbar": {
              "outlinewidth": 0,
              "ticks": ""
             }
            },
            "type": "scatter3d"
           }
          ],
          "scattercarpet": [
           {
            "marker": {
             "colorbar": {
              "outlinewidth": 0,
              "ticks": ""
             }
            },
            "type": "scattercarpet"
           }
          ],
          "scattergeo": [
           {
            "marker": {
             "colorbar": {
              "outlinewidth": 0,
              "ticks": ""
             }
            },
            "type": "scattergeo"
           }
          ],
          "scattergl": [
           {
            "marker": {
             "colorbar": {
              "outlinewidth": 0,
              "ticks": ""
             }
            },
            "type": "scattergl"
           }
          ],
          "scattermapbox": [
           {
            "marker": {
             "colorbar": {
              "outlinewidth": 0,
              "ticks": ""
             }
            },
            "type": "scattermapbox"
           }
          ],
          "scatterpolar": [
           {
            "marker": {
             "colorbar": {
              "outlinewidth": 0,
              "ticks": ""
             }
            },
            "type": "scatterpolar"
           }
          ],
          "scatterpolargl": [
           {
            "marker": {
             "colorbar": {
              "outlinewidth": 0,
              "ticks": ""
             }
            },
            "type": "scatterpolargl"
           }
          ],
          "scatterternary": [
           {
            "marker": {
             "colorbar": {
              "outlinewidth": 0,
              "ticks": ""
             }
            },
            "type": "scatterternary"
           }
          ],
          "surface": [
           {
            "colorbar": {
             "outlinewidth": 0,
             "ticks": ""
            },
            "colorscale": [
             [
              0,
              "#0d0887"
             ],
             [
              0.1111111111111111,
              "#46039f"
             ],
             [
              0.2222222222222222,
              "#7201a8"
             ],
             [
              0.3333333333333333,
              "#9c179e"
             ],
             [
              0.4444444444444444,
              "#bd3786"
             ],
             [
              0.5555555555555556,
              "#d8576b"
             ],
             [
              0.6666666666666666,
              "#ed7953"
             ],
             [
              0.7777777777777778,
              "#fb9f3a"
             ],
             [
              0.8888888888888888,
              "#fdca26"
             ],
             [
              1,
              "#f0f921"
             ]
            ],
            "type": "surface"
           }
          ],
          "table": [
           {
            "cells": {
             "fill": {
              "color": "#EBF0F8"
             },
             "line": {
              "color": "white"
             }
            },
            "header": {
             "fill": {
              "color": "#C8D4E3"
             },
             "line": {
              "color": "white"
             }
            },
            "type": "table"
           }
          ]
         },
         "layout": {
          "annotationdefaults": {
           "arrowcolor": "#2a3f5f",
           "arrowhead": 0,
           "arrowwidth": 1
          },
          "autotypenumbers": "strict",
          "coloraxis": {
           "colorbar": {
            "outlinewidth": 0,
            "ticks": ""
           }
          },
          "colorscale": {
           "diverging": [
            [
             0,
             "#8e0152"
            ],
            [
             0.1,
             "#c51b7d"
            ],
            [
             0.2,
             "#de77ae"
            ],
            [
             0.3,
             "#f1b6da"
            ],
            [
             0.4,
             "#fde0ef"
            ],
            [
             0.5,
             "#f7f7f7"
            ],
            [
             0.6,
             "#e6f5d0"
            ],
            [
             0.7,
             "#b8e186"
            ],
            [
             0.8,
             "#7fbc41"
            ],
            [
             0.9,
             "#4d9221"
            ],
            [
             1,
             "#276419"
            ]
           ],
           "sequential": [
            [
             0,
             "#0d0887"
            ],
            [
             0.1111111111111111,
             "#46039f"
            ],
            [
             0.2222222222222222,
             "#7201a8"
            ],
            [
             0.3333333333333333,
             "#9c179e"
            ],
            [
             0.4444444444444444,
             "#bd3786"
            ],
            [
             0.5555555555555556,
             "#d8576b"
            ],
            [
             0.6666666666666666,
             "#ed7953"
            ],
            [
             0.7777777777777778,
             "#fb9f3a"
            ],
            [
             0.8888888888888888,
             "#fdca26"
            ],
            [
             1,
             "#f0f921"
            ]
           ],
           "sequentialminus": [
            [
             0,
             "#0d0887"
            ],
            [
             0.1111111111111111,
             "#46039f"
            ],
            [
             0.2222222222222222,
             "#7201a8"
            ],
            [
             0.3333333333333333,
             "#9c179e"
            ],
            [
             0.4444444444444444,
             "#bd3786"
            ],
            [
             0.5555555555555556,
             "#d8576b"
            ],
            [
             0.6666666666666666,
             "#ed7953"
            ],
            [
             0.7777777777777778,
             "#fb9f3a"
            ],
            [
             0.8888888888888888,
             "#fdca26"
            ],
            [
             1,
             "#f0f921"
            ]
           ]
          },
          "colorway": [
           "#636efa",
           "#EF553B",
           "#00cc96",
           "#ab63fa",
           "#FFA15A",
           "#19d3f3",
           "#FF6692",
           "#B6E880",
           "#FF97FF",
           "#FECB52"
          ],
          "font": {
           "color": "#2a3f5f"
          },
          "geo": {
           "bgcolor": "white",
           "lakecolor": "white",
           "landcolor": "#E5ECF6",
           "showlakes": true,
           "showland": true,
           "subunitcolor": "white"
          },
          "hoverlabel": {
           "align": "left"
          },
          "hovermode": "closest",
          "mapbox": {
           "style": "light"
          },
          "paper_bgcolor": "white",
          "plot_bgcolor": "#E5ECF6",
          "polar": {
           "angularaxis": {
            "gridcolor": "white",
            "linecolor": "white",
            "ticks": ""
           },
           "bgcolor": "#E5ECF6",
           "radialaxis": {
            "gridcolor": "white",
            "linecolor": "white",
            "ticks": ""
           }
          },
          "scene": {
           "xaxis": {
            "backgroundcolor": "#E5ECF6",
            "gridcolor": "white",
            "gridwidth": 2,
            "linecolor": "white",
            "showbackground": true,
            "ticks": "",
            "zerolinecolor": "white"
           },
           "yaxis": {
            "backgroundcolor": "#E5ECF6",
            "gridcolor": "white",
            "gridwidth": 2,
            "linecolor": "white",
            "showbackground": true,
            "ticks": "",
            "zerolinecolor": "white"
           },
           "zaxis": {
            "backgroundcolor": "#E5ECF6",
            "gridcolor": "white",
            "gridwidth": 2,
            "linecolor": "white",
            "showbackground": true,
            "ticks": "",
            "zerolinecolor": "white"
           }
          },
          "shapedefaults": {
           "line": {
            "color": "#2a3f5f"
           }
          },
          "ternary": {
           "aaxis": {
            "gridcolor": "white",
            "linecolor": "white",
            "ticks": ""
           },
           "baxis": {
            "gridcolor": "white",
            "linecolor": "white",
            "ticks": ""
           },
           "bgcolor": "#E5ECF6",
           "caxis": {
            "gridcolor": "white",
            "linecolor": "white",
            "ticks": ""
           }
          },
          "title": {
           "x": 0.05
          },
          "xaxis": {
           "automargin": true,
           "gridcolor": "white",
           "linecolor": "white",
           "ticks": "",
           "title": {
            "standoff": 15
           },
           "zerolinecolor": "white",
           "zerolinewidth": 2
          },
          "yaxis": {
           "automargin": true,
           "gridcolor": "white",
           "linecolor": "white",
           "ticks": "",
           "title": {
            "standoff": 15
           },
           "zerolinecolor": "white",
           "zerolinewidth": 2
          }
         }
        },
        "xaxis": {
         "anchor": "y",
         "domain": [
          0,
          1
         ],
         "title": {
          "text": "분기"
         }
        },
        "yaxis": {
         "anchor": "x",
         "domain": [
          0,
          1
         ],
         "title": {
          "text": "부정 리뷰 비율(%)"
         }
        }
       }
      },
      "text/html": [
       "<div>                            <div id=\"7b482e86-8d20-4542-9219-99335799ab41\" class=\"plotly-graph-div\" style=\"height:525px; width:100%;\"></div>            <script type=\"text/javascript\">                require([\"plotly\"], function(Plotly) {                    window.PLOTLYENV=window.PLOTLYENV || {};                                    if (document.getElementById(\"7b482e86-8d20-4542-9219-99335799ab41\")) {                    Plotly.newPlot(                        \"7b482e86-8d20-4542-9219-99335799ab41\",                        [{\"hovertemplate\":\"\\ubd84\\uae30=%{x}<br>\\ubd80\\uc815 \\ub9ac\\ubdf0 \\ube44\\uc728(%)=%{y}<extra></extra>\",\"legendgroup\":\"\",\"line\":{\"color\":\"#636efa\",\"dash\":\"solid\"},\"marker\":{\"symbol\":\"circle\"},\"mode\":\"lines\",\"name\":\"\",\"orientation\":\"v\",\"showlegend\":false,\"x\":[\"2018 1/4\",\"2018 2/4\",\"2018 3/4\",\"2018 4/4\",\"2019 1/4\",\"2019 2/4\",\"2019 3/4\",\"2019 4/4\",\"2020 1/4\",\"2020 2/4\",\"2020 3/4\",\"2020 4/4\",\"2021 1/4\",\"2021 2/4\",\"2021 3/4\",\"2021 4/4\",\"2022 1/4\",\"2022 2/4\",\"2022 3/4\",\"2022 4/4\",\"2023 1/4\",\"2023 2/4\",\"2023 3/4\"],\"xaxis\":\"x\",\"y\":[0.0,21.052631578947366,0.0,3.4482758620689653,7.142857142857142,15.384615384615385,15.384615384615385,5.0,4.0,6.451612903225806,3.0303030303030303,1.3333333333333335,0.0,2.631578947368421,2.525252525252525,2.6804123711340204,0.0,1.4388489208633095,0.3663003663003663,1.0460251046025104,1.8181818181818181,2.7906976744186047,3.1746031746031744],\"yaxis\":\"y\",\"type\":\"scatter\"}],                        {\"template\":{\"data\":{\"histogram2dcontour\":[{\"type\":\"histogram2dcontour\",\"colorbar\":{\"outlinewidth\":0,\"ticks\":\"\"},\"colorscale\":[[0.0,\"#0d0887\"],[0.1111111111111111,\"#46039f\"],[0.2222222222222222,\"#7201a8\"],[0.3333333333333333,\"#9c179e\"],[0.4444444444444444,\"#bd3786\"],[0.5555555555555556,\"#d8576b\"],[0.6666666666666666,\"#ed7953\"],[0.7777777777777778,\"#fb9f3a\"],[0.8888888888888888,\"#fdca26\"],[1.0,\"#f0f921\"]]}],\"choropleth\":[{\"type\":\"choropleth\",\"colorbar\":{\"outlinewidth\":0,\"ticks\":\"\"}}],\"histogram2d\":[{\"type\":\"histogram2d\",\"colorbar\":{\"outlinewidth\":0,\"ticks\":\"\"},\"colorscale\":[[0.0,\"#0d0887\"],[0.1111111111111111,\"#46039f\"],[0.2222222222222222,\"#7201a8\"],[0.3333333333333333,\"#9c179e\"],[0.4444444444444444,\"#bd3786\"],[0.5555555555555556,\"#d8576b\"],[0.6666666666666666,\"#ed7953\"],[0.7777777777777778,\"#fb9f3a\"],[0.8888888888888888,\"#fdca26\"],[1.0,\"#f0f921\"]]}],\"heatmap\":[{\"type\":\"heatmap\",\"colorbar\":{\"outlinewidth\":0,\"ticks\":\"\"},\"colorscale\":[[0.0,\"#0d0887\"],[0.1111111111111111,\"#46039f\"],[0.2222222222222222,\"#7201a8\"],[0.3333333333333333,\"#9c179e\"],[0.4444444444444444,\"#bd3786\"],[0.5555555555555556,\"#d8576b\"],[0.6666666666666666,\"#ed7953\"],[0.7777777777777778,\"#fb9f3a\"],[0.8888888888888888,\"#fdca26\"],[1.0,\"#f0f921\"]]}],\"heatmapgl\":[{\"type\":\"heatmapgl\",\"colorbar\":{\"outlinewidth\":0,\"ticks\":\"\"},\"colorscale\":[[0.0,\"#0d0887\"],[0.1111111111111111,\"#46039f\"],[0.2222222222222222,\"#7201a8\"],[0.3333333333333333,\"#9c179e\"],[0.4444444444444444,\"#bd3786\"],[0.5555555555555556,\"#d8576b\"],[0.6666666666666666,\"#ed7953\"],[0.7777777777777778,\"#fb9f3a\"],[0.8888888888888888,\"#fdca26\"],[1.0,\"#f0f921\"]]}],\"contourcarpet\":[{\"type\":\"contourcarpet\",\"colorbar\":{\"outlinewidth\":0,\"ticks\":\"\"}}],\"contour\":[{\"type\":\"contour\",\"colorbar\":{\"outlinewidth\":0,\"ticks\":\"\"},\"colorscale\":[[0.0,\"#0d0887\"],[0.1111111111111111,\"#46039f\"],[0.2222222222222222,\"#7201a8\"],[0.3333333333333333,\"#9c179e\"],[0.4444444444444444,\"#bd3786\"],[0.5555555555555556,\"#d8576b\"],[0.6666666666666666,\"#ed7953\"],[0.7777777777777778,\"#fb9f3a\"],[0.8888888888888888,\"#fdca26\"],[1.0,\"#f0f921\"]]}],\"surface\":[{\"type\":\"surface\",\"colorbar\":{\"outlinewidth\":0,\"ticks\":\"\"},\"colorscale\":[[0.0,\"#0d0887\"],[0.1111111111111111,\"#46039f\"],[0.2222222222222222,\"#7201a8\"],[0.3333333333333333,\"#9c179e\"],[0.4444444444444444,\"#bd3786\"],[0.5555555555555556,\"#d8576b\"],[0.6666666666666666,\"#ed7953\"],[0.7777777777777778,\"#fb9f3a\"],[0.8888888888888888,\"#fdca26\"],[1.0,\"#f0f921\"]]}],\"mesh3d\":[{\"type\":\"mesh3d\",\"colorbar\":{\"outlinewidth\":0,\"ticks\":\"\"}}],\"scatter\":[{\"fillpattern\":{\"fillmode\":\"overlay\",\"size\":10,\"solidity\":0.2},\"type\":\"scatter\"}],\"parcoords\":[{\"type\":\"parcoords\",\"line\":{\"colorbar\":{\"outlinewidth\":0,\"ticks\":\"\"}}}],\"scatterpolargl\":[{\"type\":\"scatterpolargl\",\"marker\":{\"colorbar\":{\"outlinewidth\":0,\"ticks\":\"\"}}}],\"bar\":[{\"error_x\":{\"color\":\"#2a3f5f\"},\"error_y\":{\"color\":\"#2a3f5f\"},\"marker\":{\"line\":{\"color\":\"#E5ECF6\",\"width\":0.5},\"pattern\":{\"fillmode\":\"overlay\",\"size\":10,\"solidity\":0.2}},\"type\":\"bar\"}],\"scattergeo\":[{\"type\":\"scattergeo\",\"marker\":{\"colorbar\":{\"outlinewidth\":0,\"ticks\":\"\"}}}],\"scatterpolar\":[{\"type\":\"scatterpolar\",\"marker\":{\"colorbar\":{\"outlinewidth\":0,\"ticks\":\"\"}}}],\"histogram\":[{\"marker\":{\"pattern\":{\"fillmode\":\"overlay\",\"size\":10,\"solidity\":0.2}},\"type\":\"histogram\"}],\"scattergl\":[{\"type\":\"scattergl\",\"marker\":{\"colorbar\":{\"outlinewidth\":0,\"ticks\":\"\"}}}],\"scatter3d\":[{\"type\":\"scatter3d\",\"line\":{\"colorbar\":{\"outlinewidth\":0,\"ticks\":\"\"}},\"marker\":{\"colorbar\":{\"outlinewidth\":0,\"ticks\":\"\"}}}],\"scattermapbox\":[{\"type\":\"scattermapbox\",\"marker\":{\"colorbar\":{\"outlinewidth\":0,\"ticks\":\"\"}}}],\"scatterternary\":[{\"type\":\"scatterternary\",\"marker\":{\"colorbar\":{\"outlinewidth\":0,\"ticks\":\"\"}}}],\"scattercarpet\":[{\"type\":\"scattercarpet\",\"marker\":{\"colorbar\":{\"outlinewidth\":0,\"ticks\":\"\"}}}],\"carpet\":[{\"aaxis\":{\"endlinecolor\":\"#2a3f5f\",\"gridcolor\":\"white\",\"linecolor\":\"white\",\"minorgridcolor\":\"white\",\"startlinecolor\":\"#2a3f5f\"},\"baxis\":{\"endlinecolor\":\"#2a3f5f\",\"gridcolor\":\"white\",\"linecolor\":\"white\",\"minorgridcolor\":\"white\",\"startlinecolor\":\"#2a3f5f\"},\"type\":\"carpet\"}],\"table\":[{\"cells\":{\"fill\":{\"color\":\"#EBF0F8\"},\"line\":{\"color\":\"white\"}},\"header\":{\"fill\":{\"color\":\"#C8D4E3\"},\"line\":{\"color\":\"white\"}},\"type\":\"table\"}],\"barpolar\":[{\"marker\":{\"line\":{\"color\":\"#E5ECF6\",\"width\":0.5},\"pattern\":{\"fillmode\":\"overlay\",\"size\":10,\"solidity\":0.2}},\"type\":\"barpolar\"}],\"pie\":[{\"automargin\":true,\"type\":\"pie\"}]},\"layout\":{\"autotypenumbers\":\"strict\",\"colorway\":[\"#636efa\",\"#EF553B\",\"#00cc96\",\"#ab63fa\",\"#FFA15A\",\"#19d3f3\",\"#FF6692\",\"#B6E880\",\"#FF97FF\",\"#FECB52\"],\"font\":{\"color\":\"#2a3f5f\"},\"hovermode\":\"closest\",\"hoverlabel\":{\"align\":\"left\"},\"paper_bgcolor\":\"white\",\"plot_bgcolor\":\"#E5ECF6\",\"polar\":{\"bgcolor\":\"#E5ECF6\",\"angularaxis\":{\"gridcolor\":\"white\",\"linecolor\":\"white\",\"ticks\":\"\"},\"radialaxis\":{\"gridcolor\":\"white\",\"linecolor\":\"white\",\"ticks\":\"\"}},\"ternary\":{\"bgcolor\":\"#E5ECF6\",\"aaxis\":{\"gridcolor\":\"white\",\"linecolor\":\"white\",\"ticks\":\"\"},\"baxis\":{\"gridcolor\":\"white\",\"linecolor\":\"white\",\"ticks\":\"\"},\"caxis\":{\"gridcolor\":\"white\",\"linecolor\":\"white\",\"ticks\":\"\"}},\"coloraxis\":{\"colorbar\":{\"outlinewidth\":0,\"ticks\":\"\"}},\"colorscale\":{\"sequential\":[[0.0,\"#0d0887\"],[0.1111111111111111,\"#46039f\"],[0.2222222222222222,\"#7201a8\"],[0.3333333333333333,\"#9c179e\"],[0.4444444444444444,\"#bd3786\"],[0.5555555555555556,\"#d8576b\"],[0.6666666666666666,\"#ed7953\"],[0.7777777777777778,\"#fb9f3a\"],[0.8888888888888888,\"#fdca26\"],[1.0,\"#f0f921\"]],\"sequentialminus\":[[0.0,\"#0d0887\"],[0.1111111111111111,\"#46039f\"],[0.2222222222222222,\"#7201a8\"],[0.3333333333333333,\"#9c179e\"],[0.4444444444444444,\"#bd3786\"],[0.5555555555555556,\"#d8576b\"],[0.6666666666666666,\"#ed7953\"],[0.7777777777777778,\"#fb9f3a\"],[0.8888888888888888,\"#fdca26\"],[1.0,\"#f0f921\"]],\"diverging\":[[0,\"#8e0152\"],[0.1,\"#c51b7d\"],[0.2,\"#de77ae\"],[0.3,\"#f1b6da\"],[0.4,\"#fde0ef\"],[0.5,\"#f7f7f7\"],[0.6,\"#e6f5d0\"],[0.7,\"#b8e186\"],[0.8,\"#7fbc41\"],[0.9,\"#4d9221\"],[1,\"#276419\"]]},\"xaxis\":{\"gridcolor\":\"white\",\"linecolor\":\"white\",\"ticks\":\"\",\"title\":{\"standoff\":15},\"zerolinecolor\":\"white\",\"automargin\":true,\"zerolinewidth\":2},\"yaxis\":{\"gridcolor\":\"white\",\"linecolor\":\"white\",\"ticks\":\"\",\"title\":{\"standoff\":15},\"zerolinecolor\":\"white\",\"automargin\":true,\"zerolinewidth\":2},\"scene\":{\"xaxis\":{\"backgroundcolor\":\"#E5ECF6\",\"gridcolor\":\"white\",\"linecolor\":\"white\",\"showbackground\":true,\"ticks\":\"\",\"zerolinecolor\":\"white\",\"gridwidth\":2},\"yaxis\":{\"backgroundcolor\":\"#E5ECF6\",\"gridcolor\":\"white\",\"linecolor\":\"white\",\"showbackground\":true,\"ticks\":\"\",\"zerolinecolor\":\"white\",\"gridwidth\":2},\"zaxis\":{\"backgroundcolor\":\"#E5ECF6\",\"gridcolor\":\"white\",\"linecolor\":\"white\",\"showbackground\":true,\"ticks\":\"\",\"zerolinecolor\":\"white\",\"gridwidth\":2}},\"shapedefaults\":{\"line\":{\"color\":\"#2a3f5f\"}},\"annotationdefaults\":{\"arrowcolor\":\"#2a3f5f\",\"arrowhead\":0,\"arrowwidth\":1},\"geo\":{\"bgcolor\":\"white\",\"landcolor\":\"#E5ECF6\",\"subunitcolor\":\"white\",\"showland\":true,\"showlakes\":true,\"lakecolor\":\"white\"},\"title\":{\"x\":0.05},\"mapbox\":{\"style\":\"light\"}}},\"xaxis\":{\"anchor\":\"y\",\"domain\":[0.0,1.0],\"title\":{\"text\":\"\\ubd84\\uae30\"}},\"yaxis\":{\"anchor\":\"x\",\"domain\":[0.0,1.0],\"title\":{\"text\":\"\\ubd80\\uc815 \\ub9ac\\ubdf0 \\ube44\\uc728(%)\"}},\"legend\":{\"tracegroupgap\":0},\"margin\":{\"t\":60}},                        {\"responsive\": true}                    ).then(function(){\n",
       "                            \n",
       "var gd = document.getElementById('7b482e86-8d20-4542-9219-99335799ab41');\n",
       "var x = new MutationObserver(function (mutations, observer) {{\n",
       "        var display = window.getComputedStyle(gd).display;\n",
       "        if (!display || display === 'none') {{\n",
       "            console.log([gd, 'removed!']);\n",
       "            Plotly.purge(gd);\n",
       "            observer.disconnect();\n",
       "        }}\n",
       "}});\n",
       "\n",
       "// Listen for the removal of the full notebook cells\n",
       "var notebookContainer = gd.closest('#notebook-container');\n",
       "if (notebookContainer) {{\n",
       "    x.observe(notebookContainer, {childList: true});\n",
       "}}\n",
       "\n",
       "// Listen for the clearing of the current output cell\n",
       "var outputEl = gd.closest('.output');\n",
       "if (outputEl) {{\n",
       "    x.observe(outputEl, {childList: true});\n",
       "}}\n",
       "\n",
       "                        })                };                });            </script>        </div>"
      ]
     },
     "metadata": {},
     "output_type": "display_data"
    }
   ],
   "source": [
    "import plotly.express as px\n",
    "px.line(dffqe2, x = 'quarter', y = 'ratio',\n",
    "       labels={'quarter':'분기', 'ratio':'부정 리뷰 비율(%)'})"
   ]
  },
  {
   "cell_type": "code",
   "execution_count": null,
   "id": "a99bf7d0",
   "metadata": {},
   "outputs": [],
   "source": []
  },
  {
   "cell_type": "markdown",
   "id": "aff570e0",
   "metadata": {},
   "source": [
    "## T셀파 별점"
   ]
  },
  {
   "cell_type": "code",
   "execution_count": 342,
   "id": "f8bd40ac",
   "metadata": {
    "scrolled": false
   },
   "outputs": [
    {
     "data": {
      "text/html": [
       "<div>\n",
       "<style scoped>\n",
       "    .dataframe tbody tr th:only-of-type {\n",
       "        vertical-align: middle;\n",
       "    }\n",
       "\n",
       "    .dataframe tbody tr th {\n",
       "        vertical-align: top;\n",
       "    }\n",
       "\n",
       "    .dataframe thead th {\n",
       "        text-align: right;\n",
       "    }\n",
       "</style>\n",
       "<table border=\"1\" class=\"dataframe\">\n",
       "  <thead>\n",
       "    <tr style=\"text-align: right;\">\n",
       "      <th></th>\n",
       "      <th>name</th>\n",
       "      <th>title</th>\n",
       "      <th>star</th>\n",
       "      <th>contents</th>\n",
       "      <th>date</th>\n",
       "      <th>title_comments</th>\n",
       "      <th>emotion_analysis</th>\n",
       "      <th>quarter</th>\n",
       "    </tr>\n",
       "  </thead>\n",
       "  <tbody>\n",
       "    <tr>\n",
       "      <th>0</th>\n",
       "      <td>한 번에 끝내는 법정연수 1</td>\n",
       "      <td>법정연수 유용하네요</td>\n",
       "      <td>5</td>\n",
       "      <td>의무적으로 해마다 듣는 연수인데 다른 강사에게 듣고 싶어 신청했는데 연수 들을만 했어요</td>\n",
       "      <td>2023-07-30</td>\n",
       "      <td>법정연수 유용하네요 의무적으로 해마다 듣는 연수인데 다른 강사에게 듣고 싶어 신청했...</td>\n",
       "      <td>True</td>\n",
       "      <td>2023 3/4</td>\n",
       "    </tr>\n",
       "    <tr>\n",
       "      <th>1</th>\n",
       "      <td>나이와 신분을 초월한 독립운동, 그 현장을 읽다</td>\n",
       "      <td>독립운동에 관한 지식 쌓기</td>\n",
       "      <td>5</td>\n",
       "      <td>독립운동에 대해서 알고, 학생 대상으로 수업하기 좋았습니다. 추천합니다.</td>\n",
       "      <td>2023-07-30</td>\n",
       "      <td>독립운동에 관한 지식 쌓기 독립운동에 대해서 알고, 학생 대상으로 수업하기 좋았습니...</td>\n",
       "      <td>True</td>\n",
       "      <td>2023 3/4</td>\n",
       "    </tr>\n",
       "    <tr>\n",
       "      <th>2</th>\n",
       "      <td>상상을 실천으로, 삶을 바꾸는 사회 수업 이야기</td>\n",
       "      <td>삶을 바꾸는 사회수업 주제통합 질문과 상상으로 진행하기</td>\n",
       "      <td>5</td>\n",
       "      <td>사회 교과서 개정되고 학습량은 많은데 학생들이 이해하기쉽게 주제통합 수업을 진행하고...</td>\n",
       "      <td>2023-07-30</td>\n",
       "      <td>삶을 바꾸는 사회수업 주제통합 질문과 상상으로 진행하기 사회 교과서 개정되고 학습량...</td>\n",
       "      <td>True</td>\n",
       "      <td>2023 3/4</td>\n",
       "    </tr>\n",
       "    <tr>\n",
       "      <th>3</th>\n",
       "      <td>기초영어 회화 핵심표현 Real Speaking</td>\n",
       "      <td>영어 회화가 막막한 선생님들께 유익한 연수!</td>\n",
       "      <td>4</td>\n",
       "      <td>영어가 너무 오랜만이시거나 일상생활에서 많이 사용하는 영어 회화부터 마스터하고 싶으...</td>\n",
       "      <td>2023-07-29</td>\n",
       "      <td>영어 회화가 막막한 선생님들께 유익한 연수! 영어가 너무 오랜만이시거나 일상생활에서...</td>\n",
       "      <td>True</td>\n",
       "      <td>2023 3/4</td>\n",
       "    </tr>\n",
       "    <tr>\n",
       "      <th>4</th>\n",
       "      <td>같이 읽고 함께 나누는 독서수업방법</td>\n",
       "      <td>독서교육을 해보고 싶어지게 만드는 연수!!!</td>\n",
       "      <td>5</td>\n",
       "      <td>아이를 키우며 그림책과 동화책에 관심을 갖게 되었다.\\n감동적이고 재미있는 책들을 ...</td>\n",
       "      <td>2023-07-28</td>\n",
       "      <td>독서교육을 해보고 싶어지게 만드는 연수!!! 아이를 키우며 그림책과 동화책에 관심을...</td>\n",
       "      <td>True</td>\n",
       "      <td>2023 3/4</td>\n",
       "    </tr>\n",
       "  </tbody>\n",
       "</table>\n",
       "</div>"
      ],
      "text/plain": [
       "                         name                           title  star  \\\n",
       "0             한 번에 끝내는 법정연수 1                      법정연수 유용하네요     5   \n",
       "1  나이와 신분을 초월한 독립운동, 그 현장을 읽다                  독립운동에 관한 지식 쌓기     5   \n",
       "2  상상을 실천으로, 삶을 바꾸는 사회 수업 이야기  삶을 바꾸는 사회수업 주제통합 질문과 상상으로 진행하기     5   \n",
       "3  기초영어 회화 핵심표현 Real Speaking        영어 회화가 막막한 선생님들께 유익한 연수!     4   \n",
       "4         같이 읽고 함께 나누는 독서수업방법        독서교육을 해보고 싶어지게 만드는 연수!!!     5   \n",
       "\n",
       "                                            contents       date  \\\n",
       "0   의무적으로 해마다 듣는 연수인데 다른 강사에게 듣고 싶어 신청했는데 연수 들을만 했어요 2023-07-30   \n",
       "1           독립운동에 대해서 알고, 학생 대상으로 수업하기 좋았습니다. 추천합니다. 2023-07-30   \n",
       "2  사회 교과서 개정되고 학습량은 많은데 학생들이 이해하기쉽게 주제통합 수업을 진행하고... 2023-07-30   \n",
       "3  영어가 너무 오랜만이시거나 일상생활에서 많이 사용하는 영어 회화부터 마스터하고 싶으... 2023-07-29   \n",
       "4  아이를 키우며 그림책과 동화책에 관심을 갖게 되었다.\\n감동적이고 재미있는 책들을 ... 2023-07-28   \n",
       "\n",
       "                                      title_comments  emotion_analysis  \\\n",
       "0  법정연수 유용하네요 의무적으로 해마다 듣는 연수인데 다른 강사에게 듣고 싶어 신청했...              True   \n",
       "1  독립운동에 관한 지식 쌓기 독립운동에 대해서 알고, 학생 대상으로 수업하기 좋았습니...              True   \n",
       "2  삶을 바꾸는 사회수업 주제통합 질문과 상상으로 진행하기 사회 교과서 개정되고 학습량...              True   \n",
       "3  영어 회화가 막막한 선생님들께 유익한 연수! 영어가 너무 오랜만이시거나 일상생활에서...              True   \n",
       "4  독서교육을 해보고 싶어지게 만드는 연수!!! 아이를 키우며 그림책과 동화책에 관심을...              True   \n",
       "\n",
       "    quarter  \n",
       "0  2023 3/4  \n",
       "1  2023 3/4  \n",
       "2  2023 3/4  \n",
       "3  2023 3/4  \n",
       "4  2023 3/4  "
      ]
     },
     "execution_count": 342,
     "metadata": {},
     "output_type": "execute_result"
    }
   ],
   "source": [
    "dffd.head()"
   ]
  },
  {
   "cell_type": "code",
   "execution_count": 343,
   "id": "ec44ac01",
   "metadata": {},
   "outputs": [],
   "source": [
    "dffr = dffd.groupby(['quarter','star']).size().unstack().fillna(0)"
   ]
  },
  {
   "cell_type": "code",
   "execution_count": 344,
   "id": "9acc836b",
   "metadata": {},
   "outputs": [
    {
     "data": {
      "text/html": [
       "<div>\n",
       "<style scoped>\n",
       "    .dataframe tbody tr th:only-of-type {\n",
       "        vertical-align: middle;\n",
       "    }\n",
       "\n",
       "    .dataframe tbody tr th {\n",
       "        vertical-align: top;\n",
       "    }\n",
       "\n",
       "    .dataframe thead th {\n",
       "        text-align: right;\n",
       "    }\n",
       "</style>\n",
       "<table border=\"1\" class=\"dataframe\">\n",
       "  <thead>\n",
       "    <tr style=\"text-align: right;\">\n",
       "      <th>star</th>\n",
       "      <th>1</th>\n",
       "      <th>2</th>\n",
       "      <th>3</th>\n",
       "      <th>4</th>\n",
       "      <th>5</th>\n",
       "    </tr>\n",
       "    <tr>\n",
       "      <th>quarter</th>\n",
       "      <th></th>\n",
       "      <th></th>\n",
       "      <th></th>\n",
       "      <th></th>\n",
       "      <th></th>\n",
       "    </tr>\n",
       "  </thead>\n",
       "  <tbody>\n",
       "    <tr>\n",
       "      <th>2018 1/4</th>\n",
       "      <td>0.0</td>\n",
       "      <td>0.0</td>\n",
       "      <td>0.0</td>\n",
       "      <td>0.0</td>\n",
       "      <td>4.0</td>\n",
       "    </tr>\n",
       "    <tr>\n",
       "      <th>2018 2/4</th>\n",
       "      <td>0.0</td>\n",
       "      <td>2.0</td>\n",
       "      <td>4.0</td>\n",
       "      <td>4.0</td>\n",
       "      <td>9.0</td>\n",
       "    </tr>\n",
       "    <tr>\n",
       "      <th>2018 3/4</th>\n",
       "      <td>0.0</td>\n",
       "      <td>0.0</td>\n",
       "      <td>1.0</td>\n",
       "      <td>1.0</td>\n",
       "      <td>7.0</td>\n",
       "    </tr>\n",
       "    <tr>\n",
       "      <th>2018 4/4</th>\n",
       "      <td>0.0</td>\n",
       "      <td>1.0</td>\n",
       "      <td>0.0</td>\n",
       "      <td>8.0</td>\n",
       "      <td>20.0</td>\n",
       "    </tr>\n",
       "    <tr>\n",
       "      <th>2019 1/4</th>\n",
       "      <td>0.0</td>\n",
       "      <td>1.0</td>\n",
       "      <td>0.0</td>\n",
       "      <td>4.0</td>\n",
       "      <td>9.0</td>\n",
       "    </tr>\n",
       "  </tbody>\n",
       "</table>\n",
       "</div>"
      ],
      "text/plain": [
       "star        1    2    3    4     5\n",
       "quarter                           \n",
       "2018 1/4  0.0  0.0  0.0  0.0   4.0\n",
       "2018 2/4  0.0  2.0  4.0  4.0   9.0\n",
       "2018 3/4  0.0  0.0  1.0  1.0   7.0\n",
       "2018 4/4  0.0  1.0  0.0  8.0  20.0\n",
       "2019 1/4  0.0  1.0  0.0  4.0   9.0"
      ]
     },
     "execution_count": 344,
     "metadata": {},
     "output_type": "execute_result"
    }
   ],
   "source": [
    "dffr.head()"
   ]
  },
  {
   "cell_type": "code",
   "execution_count": 345,
   "id": "5d2e373b",
   "metadata": {},
   "outputs": [],
   "source": [
    "dffrr = dffr.copy()\n",
    "\n",
    "dffrr[1] = dffr[1]/(dffr[1]+dffr[2]+dffr[3]+dffr[4]+dffr[5])*100\n",
    "dffrr[2] = dffr[2]/(dffr[1]+dffr[2]+dffr[3]+dffr[4]+dffr[5])*100\n",
    "dffrr[3] = dffr[3]/(dffr[1]+dffr[2]+dffr[3]+dffr[4]+dffr[5])*100\n",
    "dffrr[4] = dffr[4]/(dffr[1]+dffr[2]+dffr[3]+dffr[4]+dffr[5])*100\n",
    "dffrr[5] = dffr[5]/(dffr[1]+dffr[2]+dffr[3]+dffr[4]+dffr[5])*100"
   ]
  },
  {
   "cell_type": "code",
   "execution_count": 346,
   "id": "eea0bdd5",
   "metadata": {},
   "outputs": [],
   "source": [
    "dffrr['1+2+3'] = dffrr[1]+dffrr[2]+dffrr[3]\n",
    "dffrr['1+2+3+4'] = dffrr[1]+dffrr[2]+dffrr[3]+dffrr[4]"
   ]
  },
  {
   "cell_type": "code",
   "execution_count": 347,
   "id": "b128b7f2",
   "metadata": {},
   "outputs": [
    {
     "data": {
      "text/html": [
       "<div>\n",
       "<style scoped>\n",
       "    .dataframe tbody tr th:only-of-type {\n",
       "        vertical-align: middle;\n",
       "    }\n",
       "\n",
       "    .dataframe tbody tr th {\n",
       "        vertical-align: top;\n",
       "    }\n",
       "\n",
       "    .dataframe thead th {\n",
       "        text-align: right;\n",
       "    }\n",
       "</style>\n",
       "<table border=\"1\" class=\"dataframe\">\n",
       "  <thead>\n",
       "    <tr style=\"text-align: right;\">\n",
       "      <th>star</th>\n",
       "      <th>1</th>\n",
       "      <th>2</th>\n",
       "      <th>3</th>\n",
       "      <th>4</th>\n",
       "      <th>5</th>\n",
       "      <th>1+2+3</th>\n",
       "      <th>1+2+3+4</th>\n",
       "    </tr>\n",
       "    <tr>\n",
       "      <th>quarter</th>\n",
       "      <th></th>\n",
       "      <th></th>\n",
       "      <th></th>\n",
       "      <th></th>\n",
       "      <th></th>\n",
       "      <th></th>\n",
       "      <th></th>\n",
       "    </tr>\n",
       "  </thead>\n",
       "  <tbody>\n",
       "    <tr>\n",
       "      <th>2018 1/4</th>\n",
       "      <td>0.000000</td>\n",
       "      <td>0.000000</td>\n",
       "      <td>0.000000</td>\n",
       "      <td>0.000000</td>\n",
       "      <td>100.000000</td>\n",
       "      <td>0.000000</td>\n",
       "      <td>0.000000</td>\n",
       "    </tr>\n",
       "    <tr>\n",
       "      <th>2018 2/4</th>\n",
       "      <td>0.000000</td>\n",
       "      <td>10.526316</td>\n",
       "      <td>21.052632</td>\n",
       "      <td>21.052632</td>\n",
       "      <td>47.368421</td>\n",
       "      <td>31.578947</td>\n",
       "      <td>52.631579</td>\n",
       "    </tr>\n",
       "    <tr>\n",
       "      <th>2018 3/4</th>\n",
       "      <td>0.000000</td>\n",
       "      <td>0.000000</td>\n",
       "      <td>11.111111</td>\n",
       "      <td>11.111111</td>\n",
       "      <td>77.777778</td>\n",
       "      <td>11.111111</td>\n",
       "      <td>22.222222</td>\n",
       "    </tr>\n",
       "    <tr>\n",
       "      <th>2018 4/4</th>\n",
       "      <td>0.000000</td>\n",
       "      <td>3.448276</td>\n",
       "      <td>0.000000</td>\n",
       "      <td>27.586207</td>\n",
       "      <td>68.965517</td>\n",
       "      <td>3.448276</td>\n",
       "      <td>31.034483</td>\n",
       "    </tr>\n",
       "    <tr>\n",
       "      <th>2019 1/4</th>\n",
       "      <td>0.000000</td>\n",
       "      <td>7.142857</td>\n",
       "      <td>0.000000</td>\n",
       "      <td>28.571429</td>\n",
       "      <td>64.285714</td>\n",
       "      <td>7.142857</td>\n",
       "      <td>35.714286</td>\n",
       "    </tr>\n",
       "    <tr>\n",
       "      <th>2019 2/4</th>\n",
       "      <td>0.000000</td>\n",
       "      <td>15.384615</td>\n",
       "      <td>7.692308</td>\n",
       "      <td>15.384615</td>\n",
       "      <td>61.538462</td>\n",
       "      <td>23.076923</td>\n",
       "      <td>38.461538</td>\n",
       "    </tr>\n",
       "    <tr>\n",
       "      <th>2019 3/4</th>\n",
       "      <td>7.692308</td>\n",
       "      <td>0.000000</td>\n",
       "      <td>7.692308</td>\n",
       "      <td>15.384615</td>\n",
       "      <td>69.230769</td>\n",
       "      <td>15.384615</td>\n",
       "      <td>30.769231</td>\n",
       "    </tr>\n",
       "    <tr>\n",
       "      <th>2019 4/4</th>\n",
       "      <td>3.333333</td>\n",
       "      <td>1.666667</td>\n",
       "      <td>5.000000</td>\n",
       "      <td>13.333333</td>\n",
       "      <td>76.666667</td>\n",
       "      <td>10.000000</td>\n",
       "      <td>23.333333</td>\n",
       "    </tr>\n",
       "    <tr>\n",
       "      <th>2020 1/4</th>\n",
       "      <td>4.000000</td>\n",
       "      <td>4.000000</td>\n",
       "      <td>0.000000</td>\n",
       "      <td>4.000000</td>\n",
       "      <td>88.000000</td>\n",
       "      <td>8.000000</td>\n",
       "      <td>12.000000</td>\n",
       "    </tr>\n",
       "    <tr>\n",
       "      <th>2020 2/4</th>\n",
       "      <td>0.000000</td>\n",
       "      <td>1.612903</td>\n",
       "      <td>4.838710</td>\n",
       "      <td>20.967742</td>\n",
       "      <td>72.580645</td>\n",
       "      <td>6.451613</td>\n",
       "      <td>27.419355</td>\n",
       "    </tr>\n",
       "    <tr>\n",
       "      <th>2020 3/4</th>\n",
       "      <td>0.000000</td>\n",
       "      <td>0.000000</td>\n",
       "      <td>3.030303</td>\n",
       "      <td>6.060606</td>\n",
       "      <td>90.909091</td>\n",
       "      <td>3.030303</td>\n",
       "      <td>9.090909</td>\n",
       "    </tr>\n",
       "    <tr>\n",
       "      <th>2020 4/4</th>\n",
       "      <td>0.000000</td>\n",
       "      <td>1.333333</td>\n",
       "      <td>8.000000</td>\n",
       "      <td>17.333333</td>\n",
       "      <td>73.333333</td>\n",
       "      <td>9.333333</td>\n",
       "      <td>26.666667</td>\n",
       "    </tr>\n",
       "    <tr>\n",
       "      <th>2021 1/4</th>\n",
       "      <td>0.000000</td>\n",
       "      <td>0.000000</td>\n",
       "      <td>5.263158</td>\n",
       "      <td>23.684211</td>\n",
       "      <td>71.052632</td>\n",
       "      <td>5.263158</td>\n",
       "      <td>28.947368</td>\n",
       "    </tr>\n",
       "    <tr>\n",
       "      <th>2021 2/4</th>\n",
       "      <td>0.000000</td>\n",
       "      <td>0.000000</td>\n",
       "      <td>2.631579</td>\n",
       "      <td>9.868421</td>\n",
       "      <td>87.500000</td>\n",
       "      <td>2.631579</td>\n",
       "      <td>12.500000</td>\n",
       "    </tr>\n",
       "    <tr>\n",
       "      <th>2021 3/4</th>\n",
       "      <td>0.000000</td>\n",
       "      <td>1.010101</td>\n",
       "      <td>2.020202</td>\n",
       "      <td>11.111111</td>\n",
       "      <td>85.858586</td>\n",
       "      <td>3.030303</td>\n",
       "      <td>14.141414</td>\n",
       "    </tr>\n",
       "    <tr>\n",
       "      <th>2021 4/4</th>\n",
       "      <td>0.618557</td>\n",
       "      <td>0.618557</td>\n",
       "      <td>1.443299</td>\n",
       "      <td>9.896907</td>\n",
       "      <td>87.422680</td>\n",
       "      <td>2.680412</td>\n",
       "      <td>12.577320</td>\n",
       "    </tr>\n",
       "    <tr>\n",
       "      <th>2022 1/4</th>\n",
       "      <td>0.000000</td>\n",
       "      <td>0.000000</td>\n",
       "      <td>2.272727</td>\n",
       "      <td>3.409091</td>\n",
       "      <td>94.318182</td>\n",
       "      <td>2.272727</td>\n",
       "      <td>5.681818</td>\n",
       "    </tr>\n",
       "    <tr>\n",
       "      <th>2022 2/4</th>\n",
       "      <td>0.000000</td>\n",
       "      <td>0.719424</td>\n",
       "      <td>1.438849</td>\n",
       "      <td>9.352518</td>\n",
       "      <td>88.489209</td>\n",
       "      <td>2.158273</td>\n",
       "      <td>11.510791</td>\n",
       "    </tr>\n",
       "    <tr>\n",
       "      <th>2022 3/4</th>\n",
       "      <td>0.000000</td>\n",
       "      <td>0.000000</td>\n",
       "      <td>0.732601</td>\n",
       "      <td>7.326007</td>\n",
       "      <td>91.941392</td>\n",
       "      <td>0.732601</td>\n",
       "      <td>8.058608</td>\n",
       "    </tr>\n",
       "    <tr>\n",
       "      <th>2022 4/4</th>\n",
       "      <td>0.627615</td>\n",
       "      <td>0.209205</td>\n",
       "      <td>1.255230</td>\n",
       "      <td>10.460251</td>\n",
       "      <td>87.447699</td>\n",
       "      <td>2.092050</td>\n",
       "      <td>12.552301</td>\n",
       "    </tr>\n",
       "    <tr>\n",
       "      <th>2023 1/4</th>\n",
       "      <td>0.000000</td>\n",
       "      <td>0.000000</td>\n",
       "      <td>0.909091</td>\n",
       "      <td>12.727273</td>\n",
       "      <td>86.363636</td>\n",
       "      <td>0.909091</td>\n",
       "      <td>13.636364</td>\n",
       "    </tr>\n",
       "    <tr>\n",
       "      <th>2023 2/4</th>\n",
       "      <td>0.000000</td>\n",
       "      <td>0.000000</td>\n",
       "      <td>2.790698</td>\n",
       "      <td>7.906977</td>\n",
       "      <td>89.302326</td>\n",
       "      <td>2.790698</td>\n",
       "      <td>10.697674</td>\n",
       "    </tr>\n",
       "    <tr>\n",
       "      <th>2023 3/4</th>\n",
       "      <td>0.000000</td>\n",
       "      <td>0.000000</td>\n",
       "      <td>1.587302</td>\n",
       "      <td>15.873016</td>\n",
       "      <td>82.539683</td>\n",
       "      <td>1.587302</td>\n",
       "      <td>17.460317</td>\n",
       "    </tr>\n",
       "  </tbody>\n",
       "</table>\n",
       "</div>"
      ],
      "text/plain": [
       "star             1          2          3          4           5      1+2+3  \\\n",
       "quarter                                                                      \n",
       "2018 1/4  0.000000   0.000000   0.000000   0.000000  100.000000   0.000000   \n",
       "2018 2/4  0.000000  10.526316  21.052632  21.052632   47.368421  31.578947   \n",
       "2018 3/4  0.000000   0.000000  11.111111  11.111111   77.777778  11.111111   \n",
       "2018 4/4  0.000000   3.448276   0.000000  27.586207   68.965517   3.448276   \n",
       "2019 1/4  0.000000   7.142857   0.000000  28.571429   64.285714   7.142857   \n",
       "2019 2/4  0.000000  15.384615   7.692308  15.384615   61.538462  23.076923   \n",
       "2019 3/4  7.692308   0.000000   7.692308  15.384615   69.230769  15.384615   \n",
       "2019 4/4  3.333333   1.666667   5.000000  13.333333   76.666667  10.000000   \n",
       "2020 1/4  4.000000   4.000000   0.000000   4.000000   88.000000   8.000000   \n",
       "2020 2/4  0.000000   1.612903   4.838710  20.967742   72.580645   6.451613   \n",
       "2020 3/4  0.000000   0.000000   3.030303   6.060606   90.909091   3.030303   \n",
       "2020 4/4  0.000000   1.333333   8.000000  17.333333   73.333333   9.333333   \n",
       "2021 1/4  0.000000   0.000000   5.263158  23.684211   71.052632   5.263158   \n",
       "2021 2/4  0.000000   0.000000   2.631579   9.868421   87.500000   2.631579   \n",
       "2021 3/4  0.000000   1.010101   2.020202  11.111111   85.858586   3.030303   \n",
       "2021 4/4  0.618557   0.618557   1.443299   9.896907   87.422680   2.680412   \n",
       "2022 1/4  0.000000   0.000000   2.272727   3.409091   94.318182   2.272727   \n",
       "2022 2/4  0.000000   0.719424   1.438849   9.352518   88.489209   2.158273   \n",
       "2022 3/4  0.000000   0.000000   0.732601   7.326007   91.941392   0.732601   \n",
       "2022 4/4  0.627615   0.209205   1.255230  10.460251   87.447699   2.092050   \n",
       "2023 1/4  0.000000   0.000000   0.909091  12.727273   86.363636   0.909091   \n",
       "2023 2/4  0.000000   0.000000   2.790698   7.906977   89.302326   2.790698   \n",
       "2023 3/4  0.000000   0.000000   1.587302  15.873016   82.539683   1.587302   \n",
       "\n",
       "star        1+2+3+4  \n",
       "quarter              \n",
       "2018 1/4   0.000000  \n",
       "2018 2/4  52.631579  \n",
       "2018 3/4  22.222222  \n",
       "2018 4/4  31.034483  \n",
       "2019 1/4  35.714286  \n",
       "2019 2/4  38.461538  \n",
       "2019 3/4  30.769231  \n",
       "2019 4/4  23.333333  \n",
       "2020 1/4  12.000000  \n",
       "2020 2/4  27.419355  \n",
       "2020 3/4   9.090909  \n",
       "2020 4/4  26.666667  \n",
       "2021 1/4  28.947368  \n",
       "2021 2/4  12.500000  \n",
       "2021 3/4  14.141414  \n",
       "2021 4/4  12.577320  \n",
       "2022 1/4   5.681818  \n",
       "2022 2/4  11.510791  \n",
       "2022 3/4   8.058608  \n",
       "2022 4/4  12.552301  \n",
       "2023 1/4  13.636364  \n",
       "2023 2/4  10.697674  \n",
       "2023 3/4  17.460317  "
      ]
     },
     "execution_count": 347,
     "metadata": {},
     "output_type": "execute_result"
    }
   ],
   "source": [
    "dffrr"
   ]
  },
  {
   "cell_type": "code",
   "execution_count": 348,
   "id": "c30dfab8",
   "metadata": {},
   "outputs": [],
   "source": [
    "dffrr2 = dffrr.reset_index()"
   ]
  },
  {
   "cell_type": "code",
   "execution_count": 349,
   "id": "49481d14",
   "metadata": {},
   "outputs": [
    {
     "data": {
      "text/html": [
       "<div>\n",
       "<style scoped>\n",
       "    .dataframe tbody tr th:only-of-type {\n",
       "        vertical-align: middle;\n",
       "    }\n",
       "\n",
       "    .dataframe tbody tr th {\n",
       "        vertical-align: top;\n",
       "    }\n",
       "\n",
       "    .dataframe thead th {\n",
       "        text-align: right;\n",
       "    }\n",
       "</style>\n",
       "<table border=\"1\" class=\"dataframe\">\n",
       "  <thead>\n",
       "    <tr style=\"text-align: right;\">\n",
       "      <th>star</th>\n",
       "      <th>quarter</th>\n",
       "      <th>1</th>\n",
       "      <th>2</th>\n",
       "      <th>3</th>\n",
       "      <th>4</th>\n",
       "      <th>5</th>\n",
       "      <th>1+2+3</th>\n",
       "      <th>1+2+3+4</th>\n",
       "    </tr>\n",
       "  </thead>\n",
       "  <tbody>\n",
       "    <tr>\n",
       "      <th>0</th>\n",
       "      <td>2018 1/4</td>\n",
       "      <td>0.000000</td>\n",
       "      <td>0.000000</td>\n",
       "      <td>0.000000</td>\n",
       "      <td>0.000000</td>\n",
       "      <td>100.000000</td>\n",
       "      <td>0.000000</td>\n",
       "      <td>0.000000</td>\n",
       "    </tr>\n",
       "    <tr>\n",
       "      <th>1</th>\n",
       "      <td>2018 2/4</td>\n",
       "      <td>0.000000</td>\n",
       "      <td>10.526316</td>\n",
       "      <td>21.052632</td>\n",
       "      <td>21.052632</td>\n",
       "      <td>47.368421</td>\n",
       "      <td>31.578947</td>\n",
       "      <td>52.631579</td>\n",
       "    </tr>\n",
       "    <tr>\n",
       "      <th>2</th>\n",
       "      <td>2018 3/4</td>\n",
       "      <td>0.000000</td>\n",
       "      <td>0.000000</td>\n",
       "      <td>11.111111</td>\n",
       "      <td>11.111111</td>\n",
       "      <td>77.777778</td>\n",
       "      <td>11.111111</td>\n",
       "      <td>22.222222</td>\n",
       "    </tr>\n",
       "    <tr>\n",
       "      <th>3</th>\n",
       "      <td>2018 4/4</td>\n",
       "      <td>0.000000</td>\n",
       "      <td>3.448276</td>\n",
       "      <td>0.000000</td>\n",
       "      <td>27.586207</td>\n",
       "      <td>68.965517</td>\n",
       "      <td>3.448276</td>\n",
       "      <td>31.034483</td>\n",
       "    </tr>\n",
       "    <tr>\n",
       "      <th>4</th>\n",
       "      <td>2019 1/4</td>\n",
       "      <td>0.000000</td>\n",
       "      <td>7.142857</td>\n",
       "      <td>0.000000</td>\n",
       "      <td>28.571429</td>\n",
       "      <td>64.285714</td>\n",
       "      <td>7.142857</td>\n",
       "      <td>35.714286</td>\n",
       "    </tr>\n",
       "    <tr>\n",
       "      <th>5</th>\n",
       "      <td>2019 2/4</td>\n",
       "      <td>0.000000</td>\n",
       "      <td>15.384615</td>\n",
       "      <td>7.692308</td>\n",
       "      <td>15.384615</td>\n",
       "      <td>61.538462</td>\n",
       "      <td>23.076923</td>\n",
       "      <td>38.461538</td>\n",
       "    </tr>\n",
       "    <tr>\n",
       "      <th>6</th>\n",
       "      <td>2019 3/4</td>\n",
       "      <td>7.692308</td>\n",
       "      <td>0.000000</td>\n",
       "      <td>7.692308</td>\n",
       "      <td>15.384615</td>\n",
       "      <td>69.230769</td>\n",
       "      <td>15.384615</td>\n",
       "      <td>30.769231</td>\n",
       "    </tr>\n",
       "    <tr>\n",
       "      <th>7</th>\n",
       "      <td>2019 4/4</td>\n",
       "      <td>3.333333</td>\n",
       "      <td>1.666667</td>\n",
       "      <td>5.000000</td>\n",
       "      <td>13.333333</td>\n",
       "      <td>76.666667</td>\n",
       "      <td>10.000000</td>\n",
       "      <td>23.333333</td>\n",
       "    </tr>\n",
       "    <tr>\n",
       "      <th>8</th>\n",
       "      <td>2020 1/4</td>\n",
       "      <td>4.000000</td>\n",
       "      <td>4.000000</td>\n",
       "      <td>0.000000</td>\n",
       "      <td>4.000000</td>\n",
       "      <td>88.000000</td>\n",
       "      <td>8.000000</td>\n",
       "      <td>12.000000</td>\n",
       "    </tr>\n",
       "    <tr>\n",
       "      <th>9</th>\n",
       "      <td>2020 2/4</td>\n",
       "      <td>0.000000</td>\n",
       "      <td>1.612903</td>\n",
       "      <td>4.838710</td>\n",
       "      <td>20.967742</td>\n",
       "      <td>72.580645</td>\n",
       "      <td>6.451613</td>\n",
       "      <td>27.419355</td>\n",
       "    </tr>\n",
       "    <tr>\n",
       "      <th>10</th>\n",
       "      <td>2020 3/4</td>\n",
       "      <td>0.000000</td>\n",
       "      <td>0.000000</td>\n",
       "      <td>3.030303</td>\n",
       "      <td>6.060606</td>\n",
       "      <td>90.909091</td>\n",
       "      <td>3.030303</td>\n",
       "      <td>9.090909</td>\n",
       "    </tr>\n",
       "    <tr>\n",
       "      <th>11</th>\n",
       "      <td>2020 4/4</td>\n",
       "      <td>0.000000</td>\n",
       "      <td>1.333333</td>\n",
       "      <td>8.000000</td>\n",
       "      <td>17.333333</td>\n",
       "      <td>73.333333</td>\n",
       "      <td>9.333333</td>\n",
       "      <td>26.666667</td>\n",
       "    </tr>\n",
       "    <tr>\n",
       "      <th>12</th>\n",
       "      <td>2021 1/4</td>\n",
       "      <td>0.000000</td>\n",
       "      <td>0.000000</td>\n",
       "      <td>5.263158</td>\n",
       "      <td>23.684211</td>\n",
       "      <td>71.052632</td>\n",
       "      <td>5.263158</td>\n",
       "      <td>28.947368</td>\n",
       "    </tr>\n",
       "    <tr>\n",
       "      <th>13</th>\n",
       "      <td>2021 2/4</td>\n",
       "      <td>0.000000</td>\n",
       "      <td>0.000000</td>\n",
       "      <td>2.631579</td>\n",
       "      <td>9.868421</td>\n",
       "      <td>87.500000</td>\n",
       "      <td>2.631579</td>\n",
       "      <td>12.500000</td>\n",
       "    </tr>\n",
       "    <tr>\n",
       "      <th>14</th>\n",
       "      <td>2021 3/4</td>\n",
       "      <td>0.000000</td>\n",
       "      <td>1.010101</td>\n",
       "      <td>2.020202</td>\n",
       "      <td>11.111111</td>\n",
       "      <td>85.858586</td>\n",
       "      <td>3.030303</td>\n",
       "      <td>14.141414</td>\n",
       "    </tr>\n",
       "    <tr>\n",
       "      <th>15</th>\n",
       "      <td>2021 4/4</td>\n",
       "      <td>0.618557</td>\n",
       "      <td>0.618557</td>\n",
       "      <td>1.443299</td>\n",
       "      <td>9.896907</td>\n",
       "      <td>87.422680</td>\n",
       "      <td>2.680412</td>\n",
       "      <td>12.577320</td>\n",
       "    </tr>\n",
       "    <tr>\n",
       "      <th>16</th>\n",
       "      <td>2022 1/4</td>\n",
       "      <td>0.000000</td>\n",
       "      <td>0.000000</td>\n",
       "      <td>2.272727</td>\n",
       "      <td>3.409091</td>\n",
       "      <td>94.318182</td>\n",
       "      <td>2.272727</td>\n",
       "      <td>5.681818</td>\n",
       "    </tr>\n",
       "    <tr>\n",
       "      <th>17</th>\n",
       "      <td>2022 2/4</td>\n",
       "      <td>0.000000</td>\n",
       "      <td>0.719424</td>\n",
       "      <td>1.438849</td>\n",
       "      <td>9.352518</td>\n",
       "      <td>88.489209</td>\n",
       "      <td>2.158273</td>\n",
       "      <td>11.510791</td>\n",
       "    </tr>\n",
       "    <tr>\n",
       "      <th>18</th>\n",
       "      <td>2022 3/4</td>\n",
       "      <td>0.000000</td>\n",
       "      <td>0.000000</td>\n",
       "      <td>0.732601</td>\n",
       "      <td>7.326007</td>\n",
       "      <td>91.941392</td>\n",
       "      <td>0.732601</td>\n",
       "      <td>8.058608</td>\n",
       "    </tr>\n",
       "    <tr>\n",
       "      <th>19</th>\n",
       "      <td>2022 4/4</td>\n",
       "      <td>0.627615</td>\n",
       "      <td>0.209205</td>\n",
       "      <td>1.255230</td>\n",
       "      <td>10.460251</td>\n",
       "      <td>87.447699</td>\n",
       "      <td>2.092050</td>\n",
       "      <td>12.552301</td>\n",
       "    </tr>\n",
       "    <tr>\n",
       "      <th>20</th>\n",
       "      <td>2023 1/4</td>\n",
       "      <td>0.000000</td>\n",
       "      <td>0.000000</td>\n",
       "      <td>0.909091</td>\n",
       "      <td>12.727273</td>\n",
       "      <td>86.363636</td>\n",
       "      <td>0.909091</td>\n",
       "      <td>13.636364</td>\n",
       "    </tr>\n",
       "    <tr>\n",
       "      <th>21</th>\n",
       "      <td>2023 2/4</td>\n",
       "      <td>0.000000</td>\n",
       "      <td>0.000000</td>\n",
       "      <td>2.790698</td>\n",
       "      <td>7.906977</td>\n",
       "      <td>89.302326</td>\n",
       "      <td>2.790698</td>\n",
       "      <td>10.697674</td>\n",
       "    </tr>\n",
       "    <tr>\n",
       "      <th>22</th>\n",
       "      <td>2023 3/4</td>\n",
       "      <td>0.000000</td>\n",
       "      <td>0.000000</td>\n",
       "      <td>1.587302</td>\n",
       "      <td>15.873016</td>\n",
       "      <td>82.539683</td>\n",
       "      <td>1.587302</td>\n",
       "      <td>17.460317</td>\n",
       "    </tr>\n",
       "  </tbody>\n",
       "</table>\n",
       "</div>"
      ],
      "text/plain": [
       "star   quarter         1          2          3          4           5  \\\n",
       "0     2018 1/4  0.000000   0.000000   0.000000   0.000000  100.000000   \n",
       "1     2018 2/4  0.000000  10.526316  21.052632  21.052632   47.368421   \n",
       "2     2018 3/4  0.000000   0.000000  11.111111  11.111111   77.777778   \n",
       "3     2018 4/4  0.000000   3.448276   0.000000  27.586207   68.965517   \n",
       "4     2019 1/4  0.000000   7.142857   0.000000  28.571429   64.285714   \n",
       "5     2019 2/4  0.000000  15.384615   7.692308  15.384615   61.538462   \n",
       "6     2019 3/4  7.692308   0.000000   7.692308  15.384615   69.230769   \n",
       "7     2019 4/4  3.333333   1.666667   5.000000  13.333333   76.666667   \n",
       "8     2020 1/4  4.000000   4.000000   0.000000   4.000000   88.000000   \n",
       "9     2020 2/4  0.000000   1.612903   4.838710  20.967742   72.580645   \n",
       "10    2020 3/4  0.000000   0.000000   3.030303   6.060606   90.909091   \n",
       "11    2020 4/4  0.000000   1.333333   8.000000  17.333333   73.333333   \n",
       "12    2021 1/4  0.000000   0.000000   5.263158  23.684211   71.052632   \n",
       "13    2021 2/4  0.000000   0.000000   2.631579   9.868421   87.500000   \n",
       "14    2021 3/4  0.000000   1.010101   2.020202  11.111111   85.858586   \n",
       "15    2021 4/4  0.618557   0.618557   1.443299   9.896907   87.422680   \n",
       "16    2022 1/4  0.000000   0.000000   2.272727   3.409091   94.318182   \n",
       "17    2022 2/4  0.000000   0.719424   1.438849   9.352518   88.489209   \n",
       "18    2022 3/4  0.000000   0.000000   0.732601   7.326007   91.941392   \n",
       "19    2022 4/4  0.627615   0.209205   1.255230  10.460251   87.447699   \n",
       "20    2023 1/4  0.000000   0.000000   0.909091  12.727273   86.363636   \n",
       "21    2023 2/4  0.000000   0.000000   2.790698   7.906977   89.302326   \n",
       "22    2023 3/4  0.000000   0.000000   1.587302  15.873016   82.539683   \n",
       "\n",
       "star      1+2+3    1+2+3+4  \n",
       "0      0.000000   0.000000  \n",
       "1     31.578947  52.631579  \n",
       "2     11.111111  22.222222  \n",
       "3      3.448276  31.034483  \n",
       "4      7.142857  35.714286  \n",
       "5     23.076923  38.461538  \n",
       "6     15.384615  30.769231  \n",
       "7     10.000000  23.333333  \n",
       "8      8.000000  12.000000  \n",
       "9      6.451613  27.419355  \n",
       "10     3.030303   9.090909  \n",
       "11     9.333333  26.666667  \n",
       "12     5.263158  28.947368  \n",
       "13     2.631579  12.500000  \n",
       "14     3.030303  14.141414  \n",
       "15     2.680412  12.577320  \n",
       "16     2.272727   5.681818  \n",
       "17     2.158273  11.510791  \n",
       "18     0.732601   8.058608  \n",
       "19     2.092050  12.552301  \n",
       "20     0.909091  13.636364  \n",
       "21     2.790698  10.697674  \n",
       "22     1.587302  17.460317  "
      ]
     },
     "execution_count": 349,
     "metadata": {},
     "output_type": "execute_result"
    }
   ],
   "source": [
    "dffrr2"
   ]
  },
  {
   "cell_type": "code",
   "execution_count": 350,
   "id": "f782063d",
   "metadata": {},
   "outputs": [
    {
     "data": {
      "application/vnd.plotly.v1+json": {
       "config": {
        "plotlyServerURL": "https://plot.ly"
       },
       "data": [
        {
         "hovertemplate": "분기=%{x}<br>별점 비율(1점~3점, %)=%{y}<extra></extra>",
         "legendgroup": "",
         "line": {
          "color": "#636efa",
          "dash": "solid"
         },
         "marker": {
          "symbol": "circle"
         },
         "mode": "lines",
         "name": "",
         "orientation": "v",
         "showlegend": false,
         "type": "scatter",
         "x": [
          "2018 1/4",
          "2018 2/4",
          "2018 3/4",
          "2018 4/4",
          "2019 1/4",
          "2019 2/4",
          "2019 3/4",
          "2019 4/4",
          "2020 1/4",
          "2020 2/4",
          "2020 3/4",
          "2020 4/4",
          "2021 1/4",
          "2021 2/4",
          "2021 3/4",
          "2021 4/4",
          "2022 1/4",
          "2022 2/4",
          "2022 3/4",
          "2022 4/4",
          "2023 1/4",
          "2023 2/4",
          "2023 3/4"
         ],
         "xaxis": "x",
         "y": [
          0,
          31.578947368421048,
          11.11111111111111,
          3.4482758620689653,
          7.142857142857142,
          23.076923076923077,
          15.384615384615385,
          10,
          8,
          6.451612903225806,
          3.0303030303030303,
          9.333333333333334,
          5.263157894736842,
          2.631578947368421,
          3.0303030303030303,
          2.680412371134021,
          2.272727272727273,
          2.1582733812949644,
          0.7326007326007326,
          2.092050209205021,
          0.9090909090909091,
          2.7906976744186047,
          1.5873015873015872
         ],
         "yaxis": "y"
        }
       ],
       "layout": {
        "legend": {
         "tracegroupgap": 0
        },
        "margin": {
         "t": 60
        },
        "template": {
         "data": {
          "bar": [
           {
            "error_x": {
             "color": "#2a3f5f"
            },
            "error_y": {
             "color": "#2a3f5f"
            },
            "marker": {
             "line": {
              "color": "#E5ECF6",
              "width": 0.5
             },
             "pattern": {
              "fillmode": "overlay",
              "size": 10,
              "solidity": 0.2
             }
            },
            "type": "bar"
           }
          ],
          "barpolar": [
           {
            "marker": {
             "line": {
              "color": "#E5ECF6",
              "width": 0.5
             },
             "pattern": {
              "fillmode": "overlay",
              "size": 10,
              "solidity": 0.2
             }
            },
            "type": "barpolar"
           }
          ],
          "carpet": [
           {
            "aaxis": {
             "endlinecolor": "#2a3f5f",
             "gridcolor": "white",
             "linecolor": "white",
             "minorgridcolor": "white",
             "startlinecolor": "#2a3f5f"
            },
            "baxis": {
             "endlinecolor": "#2a3f5f",
             "gridcolor": "white",
             "linecolor": "white",
             "minorgridcolor": "white",
             "startlinecolor": "#2a3f5f"
            },
            "type": "carpet"
           }
          ],
          "choropleth": [
           {
            "colorbar": {
             "outlinewidth": 0,
             "ticks": ""
            },
            "type": "choropleth"
           }
          ],
          "contour": [
           {
            "colorbar": {
             "outlinewidth": 0,
             "ticks": ""
            },
            "colorscale": [
             [
              0,
              "#0d0887"
             ],
             [
              0.1111111111111111,
              "#46039f"
             ],
             [
              0.2222222222222222,
              "#7201a8"
             ],
             [
              0.3333333333333333,
              "#9c179e"
             ],
             [
              0.4444444444444444,
              "#bd3786"
             ],
             [
              0.5555555555555556,
              "#d8576b"
             ],
             [
              0.6666666666666666,
              "#ed7953"
             ],
             [
              0.7777777777777778,
              "#fb9f3a"
             ],
             [
              0.8888888888888888,
              "#fdca26"
             ],
             [
              1,
              "#f0f921"
             ]
            ],
            "type": "contour"
           }
          ],
          "contourcarpet": [
           {
            "colorbar": {
             "outlinewidth": 0,
             "ticks": ""
            },
            "type": "contourcarpet"
           }
          ],
          "heatmap": [
           {
            "colorbar": {
             "outlinewidth": 0,
             "ticks": ""
            },
            "colorscale": [
             [
              0,
              "#0d0887"
             ],
             [
              0.1111111111111111,
              "#46039f"
             ],
             [
              0.2222222222222222,
              "#7201a8"
             ],
             [
              0.3333333333333333,
              "#9c179e"
             ],
             [
              0.4444444444444444,
              "#bd3786"
             ],
             [
              0.5555555555555556,
              "#d8576b"
             ],
             [
              0.6666666666666666,
              "#ed7953"
             ],
             [
              0.7777777777777778,
              "#fb9f3a"
             ],
             [
              0.8888888888888888,
              "#fdca26"
             ],
             [
              1,
              "#f0f921"
             ]
            ],
            "type": "heatmap"
           }
          ],
          "heatmapgl": [
           {
            "colorbar": {
             "outlinewidth": 0,
             "ticks": ""
            },
            "colorscale": [
             [
              0,
              "#0d0887"
             ],
             [
              0.1111111111111111,
              "#46039f"
             ],
             [
              0.2222222222222222,
              "#7201a8"
             ],
             [
              0.3333333333333333,
              "#9c179e"
             ],
             [
              0.4444444444444444,
              "#bd3786"
             ],
             [
              0.5555555555555556,
              "#d8576b"
             ],
             [
              0.6666666666666666,
              "#ed7953"
             ],
             [
              0.7777777777777778,
              "#fb9f3a"
             ],
             [
              0.8888888888888888,
              "#fdca26"
             ],
             [
              1,
              "#f0f921"
             ]
            ],
            "type": "heatmapgl"
           }
          ],
          "histogram": [
           {
            "marker": {
             "pattern": {
              "fillmode": "overlay",
              "size": 10,
              "solidity": 0.2
             }
            },
            "type": "histogram"
           }
          ],
          "histogram2d": [
           {
            "colorbar": {
             "outlinewidth": 0,
             "ticks": ""
            },
            "colorscale": [
             [
              0,
              "#0d0887"
             ],
             [
              0.1111111111111111,
              "#46039f"
             ],
             [
              0.2222222222222222,
              "#7201a8"
             ],
             [
              0.3333333333333333,
              "#9c179e"
             ],
             [
              0.4444444444444444,
              "#bd3786"
             ],
             [
              0.5555555555555556,
              "#d8576b"
             ],
             [
              0.6666666666666666,
              "#ed7953"
             ],
             [
              0.7777777777777778,
              "#fb9f3a"
             ],
             [
              0.8888888888888888,
              "#fdca26"
             ],
             [
              1,
              "#f0f921"
             ]
            ],
            "type": "histogram2d"
           }
          ],
          "histogram2dcontour": [
           {
            "colorbar": {
             "outlinewidth": 0,
             "ticks": ""
            },
            "colorscale": [
             [
              0,
              "#0d0887"
             ],
             [
              0.1111111111111111,
              "#46039f"
             ],
             [
              0.2222222222222222,
              "#7201a8"
             ],
             [
              0.3333333333333333,
              "#9c179e"
             ],
             [
              0.4444444444444444,
              "#bd3786"
             ],
             [
              0.5555555555555556,
              "#d8576b"
             ],
             [
              0.6666666666666666,
              "#ed7953"
             ],
             [
              0.7777777777777778,
              "#fb9f3a"
             ],
             [
              0.8888888888888888,
              "#fdca26"
             ],
             [
              1,
              "#f0f921"
             ]
            ],
            "type": "histogram2dcontour"
           }
          ],
          "mesh3d": [
           {
            "colorbar": {
             "outlinewidth": 0,
             "ticks": ""
            },
            "type": "mesh3d"
           }
          ],
          "parcoords": [
           {
            "line": {
             "colorbar": {
              "outlinewidth": 0,
              "ticks": ""
             }
            },
            "type": "parcoords"
           }
          ],
          "pie": [
           {
            "automargin": true,
            "type": "pie"
           }
          ],
          "scatter": [
           {
            "fillpattern": {
             "fillmode": "overlay",
             "size": 10,
             "solidity": 0.2
            },
            "type": "scatter"
           }
          ],
          "scatter3d": [
           {
            "line": {
             "colorbar": {
              "outlinewidth": 0,
              "ticks": ""
             }
            },
            "marker": {
             "colorbar": {
              "outlinewidth": 0,
              "ticks": ""
             }
            },
            "type": "scatter3d"
           }
          ],
          "scattercarpet": [
           {
            "marker": {
             "colorbar": {
              "outlinewidth": 0,
              "ticks": ""
             }
            },
            "type": "scattercarpet"
           }
          ],
          "scattergeo": [
           {
            "marker": {
             "colorbar": {
              "outlinewidth": 0,
              "ticks": ""
             }
            },
            "type": "scattergeo"
           }
          ],
          "scattergl": [
           {
            "marker": {
             "colorbar": {
              "outlinewidth": 0,
              "ticks": ""
             }
            },
            "type": "scattergl"
           }
          ],
          "scattermapbox": [
           {
            "marker": {
             "colorbar": {
              "outlinewidth": 0,
              "ticks": ""
             }
            },
            "type": "scattermapbox"
           }
          ],
          "scatterpolar": [
           {
            "marker": {
             "colorbar": {
              "outlinewidth": 0,
              "ticks": ""
             }
            },
            "type": "scatterpolar"
           }
          ],
          "scatterpolargl": [
           {
            "marker": {
             "colorbar": {
              "outlinewidth": 0,
              "ticks": ""
             }
            },
            "type": "scatterpolargl"
           }
          ],
          "scatterternary": [
           {
            "marker": {
             "colorbar": {
              "outlinewidth": 0,
              "ticks": ""
             }
            },
            "type": "scatterternary"
           }
          ],
          "surface": [
           {
            "colorbar": {
             "outlinewidth": 0,
             "ticks": ""
            },
            "colorscale": [
             [
              0,
              "#0d0887"
             ],
             [
              0.1111111111111111,
              "#46039f"
             ],
             [
              0.2222222222222222,
              "#7201a8"
             ],
             [
              0.3333333333333333,
              "#9c179e"
             ],
             [
              0.4444444444444444,
              "#bd3786"
             ],
             [
              0.5555555555555556,
              "#d8576b"
             ],
             [
              0.6666666666666666,
              "#ed7953"
             ],
             [
              0.7777777777777778,
              "#fb9f3a"
             ],
             [
              0.8888888888888888,
              "#fdca26"
             ],
             [
              1,
              "#f0f921"
             ]
            ],
            "type": "surface"
           }
          ],
          "table": [
           {
            "cells": {
             "fill": {
              "color": "#EBF0F8"
             },
             "line": {
              "color": "white"
             }
            },
            "header": {
             "fill": {
              "color": "#C8D4E3"
             },
             "line": {
              "color": "white"
             }
            },
            "type": "table"
           }
          ]
         },
         "layout": {
          "annotationdefaults": {
           "arrowcolor": "#2a3f5f",
           "arrowhead": 0,
           "arrowwidth": 1
          },
          "autotypenumbers": "strict",
          "coloraxis": {
           "colorbar": {
            "outlinewidth": 0,
            "ticks": ""
           }
          },
          "colorscale": {
           "diverging": [
            [
             0,
             "#8e0152"
            ],
            [
             0.1,
             "#c51b7d"
            ],
            [
             0.2,
             "#de77ae"
            ],
            [
             0.3,
             "#f1b6da"
            ],
            [
             0.4,
             "#fde0ef"
            ],
            [
             0.5,
             "#f7f7f7"
            ],
            [
             0.6,
             "#e6f5d0"
            ],
            [
             0.7,
             "#b8e186"
            ],
            [
             0.8,
             "#7fbc41"
            ],
            [
             0.9,
             "#4d9221"
            ],
            [
             1,
             "#276419"
            ]
           ],
           "sequential": [
            [
             0,
             "#0d0887"
            ],
            [
             0.1111111111111111,
             "#46039f"
            ],
            [
             0.2222222222222222,
             "#7201a8"
            ],
            [
             0.3333333333333333,
             "#9c179e"
            ],
            [
             0.4444444444444444,
             "#bd3786"
            ],
            [
             0.5555555555555556,
             "#d8576b"
            ],
            [
             0.6666666666666666,
             "#ed7953"
            ],
            [
             0.7777777777777778,
             "#fb9f3a"
            ],
            [
             0.8888888888888888,
             "#fdca26"
            ],
            [
             1,
             "#f0f921"
            ]
           ],
           "sequentialminus": [
            [
             0,
             "#0d0887"
            ],
            [
             0.1111111111111111,
             "#46039f"
            ],
            [
             0.2222222222222222,
             "#7201a8"
            ],
            [
             0.3333333333333333,
             "#9c179e"
            ],
            [
             0.4444444444444444,
             "#bd3786"
            ],
            [
             0.5555555555555556,
             "#d8576b"
            ],
            [
             0.6666666666666666,
             "#ed7953"
            ],
            [
             0.7777777777777778,
             "#fb9f3a"
            ],
            [
             0.8888888888888888,
             "#fdca26"
            ],
            [
             1,
             "#f0f921"
            ]
           ]
          },
          "colorway": [
           "#636efa",
           "#EF553B",
           "#00cc96",
           "#ab63fa",
           "#FFA15A",
           "#19d3f3",
           "#FF6692",
           "#B6E880",
           "#FF97FF",
           "#FECB52"
          ],
          "font": {
           "color": "#2a3f5f"
          },
          "geo": {
           "bgcolor": "white",
           "lakecolor": "white",
           "landcolor": "#E5ECF6",
           "showlakes": true,
           "showland": true,
           "subunitcolor": "white"
          },
          "hoverlabel": {
           "align": "left"
          },
          "hovermode": "closest",
          "mapbox": {
           "style": "light"
          },
          "paper_bgcolor": "white",
          "plot_bgcolor": "#E5ECF6",
          "polar": {
           "angularaxis": {
            "gridcolor": "white",
            "linecolor": "white",
            "ticks": ""
           },
           "bgcolor": "#E5ECF6",
           "radialaxis": {
            "gridcolor": "white",
            "linecolor": "white",
            "ticks": ""
           }
          },
          "scene": {
           "xaxis": {
            "backgroundcolor": "#E5ECF6",
            "gridcolor": "white",
            "gridwidth": 2,
            "linecolor": "white",
            "showbackground": true,
            "ticks": "",
            "zerolinecolor": "white"
           },
           "yaxis": {
            "backgroundcolor": "#E5ECF6",
            "gridcolor": "white",
            "gridwidth": 2,
            "linecolor": "white",
            "showbackground": true,
            "ticks": "",
            "zerolinecolor": "white"
           },
           "zaxis": {
            "backgroundcolor": "#E5ECF6",
            "gridcolor": "white",
            "gridwidth": 2,
            "linecolor": "white",
            "showbackground": true,
            "ticks": "",
            "zerolinecolor": "white"
           }
          },
          "shapedefaults": {
           "line": {
            "color": "#2a3f5f"
           }
          },
          "ternary": {
           "aaxis": {
            "gridcolor": "white",
            "linecolor": "white",
            "ticks": ""
           },
           "baxis": {
            "gridcolor": "white",
            "linecolor": "white",
            "ticks": ""
           },
           "bgcolor": "#E5ECF6",
           "caxis": {
            "gridcolor": "white",
            "linecolor": "white",
            "ticks": ""
           }
          },
          "title": {
           "x": 0.05
          },
          "xaxis": {
           "automargin": true,
           "gridcolor": "white",
           "linecolor": "white",
           "ticks": "",
           "title": {
            "standoff": 15
           },
           "zerolinecolor": "white",
           "zerolinewidth": 2
          },
          "yaxis": {
           "automargin": true,
           "gridcolor": "white",
           "linecolor": "white",
           "ticks": "",
           "title": {
            "standoff": 15
           },
           "zerolinecolor": "white",
           "zerolinewidth": 2
          }
         }
        },
        "xaxis": {
         "anchor": "y",
         "domain": [
          0,
          1
         ],
         "title": {
          "text": "분기"
         }
        },
        "yaxis": {
         "anchor": "x",
         "domain": [
          0,
          1
         ],
         "title": {
          "text": "별점 비율(1점~3점, %)"
         }
        }
       }
      },
      "text/html": [
       "<div>                            <div id=\"05895c83-c370-4ff6-ae1a-cbc5d274046c\" class=\"plotly-graph-div\" style=\"height:525px; width:100%;\"></div>            <script type=\"text/javascript\">                require([\"plotly\"], function(Plotly) {                    window.PLOTLYENV=window.PLOTLYENV || {};                                    if (document.getElementById(\"05895c83-c370-4ff6-ae1a-cbc5d274046c\")) {                    Plotly.newPlot(                        \"05895c83-c370-4ff6-ae1a-cbc5d274046c\",                        [{\"hovertemplate\":\"\\ubd84\\uae30=%{x}<br>\\ubcc4\\uc810 \\ube44\\uc728(1\\uc810~3\\uc810, %)=%{y}<extra></extra>\",\"legendgroup\":\"\",\"line\":{\"color\":\"#636efa\",\"dash\":\"solid\"},\"marker\":{\"symbol\":\"circle\"},\"mode\":\"lines\",\"name\":\"\",\"orientation\":\"v\",\"showlegend\":false,\"x\":[\"2018 1/4\",\"2018 2/4\",\"2018 3/4\",\"2018 4/4\",\"2019 1/4\",\"2019 2/4\",\"2019 3/4\",\"2019 4/4\",\"2020 1/4\",\"2020 2/4\",\"2020 3/4\",\"2020 4/4\",\"2021 1/4\",\"2021 2/4\",\"2021 3/4\",\"2021 4/4\",\"2022 1/4\",\"2022 2/4\",\"2022 3/4\",\"2022 4/4\",\"2023 1/4\",\"2023 2/4\",\"2023 3/4\"],\"xaxis\":\"x\",\"y\":[0.0,31.578947368421048,11.11111111111111,3.4482758620689653,7.142857142857142,23.076923076923077,15.384615384615385,10.0,8.0,6.451612903225806,3.0303030303030303,9.333333333333334,5.263157894736842,2.631578947368421,3.0303030303030303,2.680412371134021,2.272727272727273,2.1582733812949644,0.7326007326007326,2.092050209205021,0.9090909090909091,2.7906976744186047,1.5873015873015872],\"yaxis\":\"y\",\"type\":\"scatter\"}],                        {\"template\":{\"data\":{\"histogram2dcontour\":[{\"type\":\"histogram2dcontour\",\"colorbar\":{\"outlinewidth\":0,\"ticks\":\"\"},\"colorscale\":[[0.0,\"#0d0887\"],[0.1111111111111111,\"#46039f\"],[0.2222222222222222,\"#7201a8\"],[0.3333333333333333,\"#9c179e\"],[0.4444444444444444,\"#bd3786\"],[0.5555555555555556,\"#d8576b\"],[0.6666666666666666,\"#ed7953\"],[0.7777777777777778,\"#fb9f3a\"],[0.8888888888888888,\"#fdca26\"],[1.0,\"#f0f921\"]]}],\"choropleth\":[{\"type\":\"choropleth\",\"colorbar\":{\"outlinewidth\":0,\"ticks\":\"\"}}],\"histogram2d\":[{\"type\":\"histogram2d\",\"colorbar\":{\"outlinewidth\":0,\"ticks\":\"\"},\"colorscale\":[[0.0,\"#0d0887\"],[0.1111111111111111,\"#46039f\"],[0.2222222222222222,\"#7201a8\"],[0.3333333333333333,\"#9c179e\"],[0.4444444444444444,\"#bd3786\"],[0.5555555555555556,\"#d8576b\"],[0.6666666666666666,\"#ed7953\"],[0.7777777777777778,\"#fb9f3a\"],[0.8888888888888888,\"#fdca26\"],[1.0,\"#f0f921\"]]}],\"heatmap\":[{\"type\":\"heatmap\",\"colorbar\":{\"outlinewidth\":0,\"ticks\":\"\"},\"colorscale\":[[0.0,\"#0d0887\"],[0.1111111111111111,\"#46039f\"],[0.2222222222222222,\"#7201a8\"],[0.3333333333333333,\"#9c179e\"],[0.4444444444444444,\"#bd3786\"],[0.5555555555555556,\"#d8576b\"],[0.6666666666666666,\"#ed7953\"],[0.7777777777777778,\"#fb9f3a\"],[0.8888888888888888,\"#fdca26\"],[1.0,\"#f0f921\"]]}],\"heatmapgl\":[{\"type\":\"heatmapgl\",\"colorbar\":{\"outlinewidth\":0,\"ticks\":\"\"},\"colorscale\":[[0.0,\"#0d0887\"],[0.1111111111111111,\"#46039f\"],[0.2222222222222222,\"#7201a8\"],[0.3333333333333333,\"#9c179e\"],[0.4444444444444444,\"#bd3786\"],[0.5555555555555556,\"#d8576b\"],[0.6666666666666666,\"#ed7953\"],[0.7777777777777778,\"#fb9f3a\"],[0.8888888888888888,\"#fdca26\"],[1.0,\"#f0f921\"]]}],\"contourcarpet\":[{\"type\":\"contourcarpet\",\"colorbar\":{\"outlinewidth\":0,\"ticks\":\"\"}}],\"contour\":[{\"type\":\"contour\",\"colorbar\":{\"outlinewidth\":0,\"ticks\":\"\"},\"colorscale\":[[0.0,\"#0d0887\"],[0.1111111111111111,\"#46039f\"],[0.2222222222222222,\"#7201a8\"],[0.3333333333333333,\"#9c179e\"],[0.4444444444444444,\"#bd3786\"],[0.5555555555555556,\"#d8576b\"],[0.6666666666666666,\"#ed7953\"],[0.7777777777777778,\"#fb9f3a\"],[0.8888888888888888,\"#fdca26\"],[1.0,\"#f0f921\"]]}],\"surface\":[{\"type\":\"surface\",\"colorbar\":{\"outlinewidth\":0,\"ticks\":\"\"},\"colorscale\":[[0.0,\"#0d0887\"],[0.1111111111111111,\"#46039f\"],[0.2222222222222222,\"#7201a8\"],[0.3333333333333333,\"#9c179e\"],[0.4444444444444444,\"#bd3786\"],[0.5555555555555556,\"#d8576b\"],[0.6666666666666666,\"#ed7953\"],[0.7777777777777778,\"#fb9f3a\"],[0.8888888888888888,\"#fdca26\"],[1.0,\"#f0f921\"]]}],\"mesh3d\":[{\"type\":\"mesh3d\",\"colorbar\":{\"outlinewidth\":0,\"ticks\":\"\"}}],\"scatter\":[{\"fillpattern\":{\"fillmode\":\"overlay\",\"size\":10,\"solidity\":0.2},\"type\":\"scatter\"}],\"parcoords\":[{\"type\":\"parcoords\",\"line\":{\"colorbar\":{\"outlinewidth\":0,\"ticks\":\"\"}}}],\"scatterpolargl\":[{\"type\":\"scatterpolargl\",\"marker\":{\"colorbar\":{\"outlinewidth\":0,\"ticks\":\"\"}}}],\"bar\":[{\"error_x\":{\"color\":\"#2a3f5f\"},\"error_y\":{\"color\":\"#2a3f5f\"},\"marker\":{\"line\":{\"color\":\"#E5ECF6\",\"width\":0.5},\"pattern\":{\"fillmode\":\"overlay\",\"size\":10,\"solidity\":0.2}},\"type\":\"bar\"}],\"scattergeo\":[{\"type\":\"scattergeo\",\"marker\":{\"colorbar\":{\"outlinewidth\":0,\"ticks\":\"\"}}}],\"scatterpolar\":[{\"type\":\"scatterpolar\",\"marker\":{\"colorbar\":{\"outlinewidth\":0,\"ticks\":\"\"}}}],\"histogram\":[{\"marker\":{\"pattern\":{\"fillmode\":\"overlay\",\"size\":10,\"solidity\":0.2}},\"type\":\"histogram\"}],\"scattergl\":[{\"type\":\"scattergl\",\"marker\":{\"colorbar\":{\"outlinewidth\":0,\"ticks\":\"\"}}}],\"scatter3d\":[{\"type\":\"scatter3d\",\"line\":{\"colorbar\":{\"outlinewidth\":0,\"ticks\":\"\"}},\"marker\":{\"colorbar\":{\"outlinewidth\":0,\"ticks\":\"\"}}}],\"scattermapbox\":[{\"type\":\"scattermapbox\",\"marker\":{\"colorbar\":{\"outlinewidth\":0,\"ticks\":\"\"}}}],\"scatterternary\":[{\"type\":\"scatterternary\",\"marker\":{\"colorbar\":{\"outlinewidth\":0,\"ticks\":\"\"}}}],\"scattercarpet\":[{\"type\":\"scattercarpet\",\"marker\":{\"colorbar\":{\"outlinewidth\":0,\"ticks\":\"\"}}}],\"carpet\":[{\"aaxis\":{\"endlinecolor\":\"#2a3f5f\",\"gridcolor\":\"white\",\"linecolor\":\"white\",\"minorgridcolor\":\"white\",\"startlinecolor\":\"#2a3f5f\"},\"baxis\":{\"endlinecolor\":\"#2a3f5f\",\"gridcolor\":\"white\",\"linecolor\":\"white\",\"minorgridcolor\":\"white\",\"startlinecolor\":\"#2a3f5f\"},\"type\":\"carpet\"}],\"table\":[{\"cells\":{\"fill\":{\"color\":\"#EBF0F8\"},\"line\":{\"color\":\"white\"}},\"header\":{\"fill\":{\"color\":\"#C8D4E3\"},\"line\":{\"color\":\"white\"}},\"type\":\"table\"}],\"barpolar\":[{\"marker\":{\"line\":{\"color\":\"#E5ECF6\",\"width\":0.5},\"pattern\":{\"fillmode\":\"overlay\",\"size\":10,\"solidity\":0.2}},\"type\":\"barpolar\"}],\"pie\":[{\"automargin\":true,\"type\":\"pie\"}]},\"layout\":{\"autotypenumbers\":\"strict\",\"colorway\":[\"#636efa\",\"#EF553B\",\"#00cc96\",\"#ab63fa\",\"#FFA15A\",\"#19d3f3\",\"#FF6692\",\"#B6E880\",\"#FF97FF\",\"#FECB52\"],\"font\":{\"color\":\"#2a3f5f\"},\"hovermode\":\"closest\",\"hoverlabel\":{\"align\":\"left\"},\"paper_bgcolor\":\"white\",\"plot_bgcolor\":\"#E5ECF6\",\"polar\":{\"bgcolor\":\"#E5ECF6\",\"angularaxis\":{\"gridcolor\":\"white\",\"linecolor\":\"white\",\"ticks\":\"\"},\"radialaxis\":{\"gridcolor\":\"white\",\"linecolor\":\"white\",\"ticks\":\"\"}},\"ternary\":{\"bgcolor\":\"#E5ECF6\",\"aaxis\":{\"gridcolor\":\"white\",\"linecolor\":\"white\",\"ticks\":\"\"},\"baxis\":{\"gridcolor\":\"white\",\"linecolor\":\"white\",\"ticks\":\"\"},\"caxis\":{\"gridcolor\":\"white\",\"linecolor\":\"white\",\"ticks\":\"\"}},\"coloraxis\":{\"colorbar\":{\"outlinewidth\":0,\"ticks\":\"\"}},\"colorscale\":{\"sequential\":[[0.0,\"#0d0887\"],[0.1111111111111111,\"#46039f\"],[0.2222222222222222,\"#7201a8\"],[0.3333333333333333,\"#9c179e\"],[0.4444444444444444,\"#bd3786\"],[0.5555555555555556,\"#d8576b\"],[0.6666666666666666,\"#ed7953\"],[0.7777777777777778,\"#fb9f3a\"],[0.8888888888888888,\"#fdca26\"],[1.0,\"#f0f921\"]],\"sequentialminus\":[[0.0,\"#0d0887\"],[0.1111111111111111,\"#46039f\"],[0.2222222222222222,\"#7201a8\"],[0.3333333333333333,\"#9c179e\"],[0.4444444444444444,\"#bd3786\"],[0.5555555555555556,\"#d8576b\"],[0.6666666666666666,\"#ed7953\"],[0.7777777777777778,\"#fb9f3a\"],[0.8888888888888888,\"#fdca26\"],[1.0,\"#f0f921\"]],\"diverging\":[[0,\"#8e0152\"],[0.1,\"#c51b7d\"],[0.2,\"#de77ae\"],[0.3,\"#f1b6da\"],[0.4,\"#fde0ef\"],[0.5,\"#f7f7f7\"],[0.6,\"#e6f5d0\"],[0.7,\"#b8e186\"],[0.8,\"#7fbc41\"],[0.9,\"#4d9221\"],[1,\"#276419\"]]},\"xaxis\":{\"gridcolor\":\"white\",\"linecolor\":\"white\",\"ticks\":\"\",\"title\":{\"standoff\":15},\"zerolinecolor\":\"white\",\"automargin\":true,\"zerolinewidth\":2},\"yaxis\":{\"gridcolor\":\"white\",\"linecolor\":\"white\",\"ticks\":\"\",\"title\":{\"standoff\":15},\"zerolinecolor\":\"white\",\"automargin\":true,\"zerolinewidth\":2},\"scene\":{\"xaxis\":{\"backgroundcolor\":\"#E5ECF6\",\"gridcolor\":\"white\",\"linecolor\":\"white\",\"showbackground\":true,\"ticks\":\"\",\"zerolinecolor\":\"white\",\"gridwidth\":2},\"yaxis\":{\"backgroundcolor\":\"#E5ECF6\",\"gridcolor\":\"white\",\"linecolor\":\"white\",\"showbackground\":true,\"ticks\":\"\",\"zerolinecolor\":\"white\",\"gridwidth\":2},\"zaxis\":{\"backgroundcolor\":\"#E5ECF6\",\"gridcolor\":\"white\",\"linecolor\":\"white\",\"showbackground\":true,\"ticks\":\"\",\"zerolinecolor\":\"white\",\"gridwidth\":2}},\"shapedefaults\":{\"line\":{\"color\":\"#2a3f5f\"}},\"annotationdefaults\":{\"arrowcolor\":\"#2a3f5f\",\"arrowhead\":0,\"arrowwidth\":1},\"geo\":{\"bgcolor\":\"white\",\"landcolor\":\"#E5ECF6\",\"subunitcolor\":\"white\",\"showland\":true,\"showlakes\":true,\"lakecolor\":\"white\"},\"title\":{\"x\":0.05},\"mapbox\":{\"style\":\"light\"}}},\"xaxis\":{\"anchor\":\"y\",\"domain\":[0.0,1.0],\"title\":{\"text\":\"\\ubd84\\uae30\"}},\"yaxis\":{\"anchor\":\"x\",\"domain\":[0.0,1.0],\"title\":{\"text\":\"\\ubcc4\\uc810 \\ube44\\uc728(1\\uc810~3\\uc810, %)\"}},\"legend\":{\"tracegroupgap\":0},\"margin\":{\"t\":60}},                        {\"responsive\": true}                    ).then(function(){\n",
       "                            \n",
       "var gd = document.getElementById('05895c83-c370-4ff6-ae1a-cbc5d274046c');\n",
       "var x = new MutationObserver(function (mutations, observer) {{\n",
       "        var display = window.getComputedStyle(gd).display;\n",
       "        if (!display || display === 'none') {{\n",
       "            console.log([gd, 'removed!']);\n",
       "            Plotly.purge(gd);\n",
       "            observer.disconnect();\n",
       "        }}\n",
       "}});\n",
       "\n",
       "// Listen for the removal of the full notebook cells\n",
       "var notebookContainer = gd.closest('#notebook-container');\n",
       "if (notebookContainer) {{\n",
       "    x.observe(notebookContainer, {childList: true});\n",
       "}}\n",
       "\n",
       "// Listen for the clearing of the current output cell\n",
       "var outputEl = gd.closest('.output');\n",
       "if (outputEl) {{\n",
       "    x.observe(outputEl, {childList: true});\n",
       "}}\n",
       "\n",
       "                        })                };                });            </script>        </div>"
      ]
     },
     "metadata": {},
     "output_type": "display_data"
    }
   ],
   "source": [
    "import plotly.express as px\n",
    "px.line(dffrr2, x = 'quarter', y = '1+2+3',\n",
    "       labels={'quarter':'분기', '1+2+3':'별점 비율(1점~3점, %)'})"
   ]
  },
  {
   "cell_type": "code",
   "execution_count": null,
   "id": "071b2c26",
   "metadata": {},
   "outputs": [],
   "source": []
  },
  {
   "cell_type": "markdown",
   "id": "8373abb8",
   "metadata": {},
   "source": [
    "# 종합 그래프 그리기"
   ]
  },
  {
   "cell_type": "code",
   "execution_count": 469,
   "id": "320d815d",
   "metadata": {},
   "outputs": [],
   "source": [
    "# T셀파와 아이스크림 분류 추가\n",
    "dfqe3 = dfqe2.copy()\n",
    "dfqe3['분류'] = '아이스크림'"
   ]
  },
  {
   "cell_type": "code",
   "execution_count": 455,
   "id": "a4dff9b6",
   "metadata": {},
   "outputs": [],
   "source": [
    "dffqe3 = dffqe2.copy()\n",
    "dffqe3['분류'] = 'T셀파'"
   ]
  },
  {
   "cell_type": "code",
   "execution_count": 456,
   "id": "7d7d0189",
   "metadata": {},
   "outputs": [],
   "source": [
    "DF = pd.concat([dffqe3, dfqe3])"
   ]
  },
  {
   "cell_type": "code",
   "execution_count": 436,
   "id": "bd1cf20f",
   "metadata": {},
   "outputs": [
    {
     "data": {
      "application/vnd.plotly.v1+json": {
       "config": {
        "plotlyServerURL": "https://plot.ly"
       },
       "data": [
        {
         "hovertemplate": "분류=T셀파<br>분기=%{x}<br>부정 리뷰 비율(%)=%{y}<extra></extra>",
         "legendgroup": "T셀파",
         "line": {
          "color": "#636efa",
          "dash": "solid"
         },
         "marker": {
          "symbol": "circle"
         },
         "mode": "lines",
         "name": "T셀파",
         "orientation": "v",
         "showlegend": true,
         "type": "scatter",
         "x": [
          "2018 1/4",
          "2018 2/4",
          "2018 3/4",
          "2018 4/4",
          "2019 1/4",
          "2019 2/4",
          "2019 3/4",
          "2019 4/4",
          "2020 1/4",
          "2020 2/4",
          "2020 3/4",
          "2020 4/4",
          "2021 1/4",
          "2021 2/4",
          "2021 3/4",
          "2021 4/4",
          "2022 1/4",
          "2022 2/4",
          "2022 3/4",
          "2022 4/4",
          "2023 1/4",
          "2023 2/4",
          "2023 3/4"
         ],
         "xaxis": "x",
         "y": [
          0,
          21.052631578947366,
          0,
          3.4482758620689653,
          7.142857142857142,
          15.384615384615385,
          15.384615384615385,
          5,
          4,
          6.451612903225806,
          3.0303030303030303,
          1.3333333333333335,
          0,
          2.631578947368421,
          2.525252525252525,
          2.6804123711340204,
          0,
          1.4388489208633095,
          0.3663003663003663,
          1.0460251046025104,
          1.8181818181818181,
          2.7906976744186047,
          3.1746031746031744
         ],
         "yaxis": "y"
        },
        {
         "hovertemplate": "분류=아이스크림<br>분기=%{x}<br>부정 리뷰 비율(%)=%{y}<extra></extra>",
         "legendgroup": "아이스크림",
         "line": {
          "color": "#EF553B",
          "dash": "solid"
         },
         "marker": {
          "symbol": "circle"
         },
         "mode": "lines",
         "name": "아이스크림",
         "orientation": "v",
         "showlegend": true,
         "type": "scatter",
         "x": [
          "2018 1/4",
          "2018 2/4",
          "2018 3/4",
          "2018 4/4",
          "2019 1/4",
          "2019 2/4",
          "2019 3/4",
          "2019 4/4",
          "2020 1/4",
          "2020 2/4",
          "2020 3/4",
          "2020 4/4",
          "2021 1/4",
          "2021 2/4",
          "2021 3/4",
          "2021 4/4",
          "2022 1/4",
          "2022 2/4",
          "2022 3/4",
          "2022 4/4",
          "2023 1/4",
          "2023 2/4",
          "2023 3/4"
         ],
         "xaxis": "x",
         "y": [
          1.5873015873015872,
          2.7559055118110236,
          1.094890510948905,
          3.691275167785235,
          0,
          5.612244897959184,
          0.9174311926605505,
          2.857142857142857,
          0.8438818565400843,
          0.56657223796034,
          1.477832512315271,
          1.3745704467353952,
          0.8771929824561403,
          1.1583011583011582,
          0.4405286343612335,
          2.26537216828479,
          5.072463768115942,
          3.125,
          2.3474178403755865,
          0.9803921568627451,
          0.9009009009009009,
          3.5502958579881656,
          2
         ],
         "yaxis": "y"
        }
       ],
       "layout": {
        "legend": {
         "title": {
          "text": "분류"
         },
         "tracegroupgap": 0,
         "x": 0.865,
         "xanchor": "left",
         "y": 0.99,
         "yanchor": "top"
        },
        "margin": {
         "t": 60
        },
        "template": {
         "data": {
          "bar": [
           {
            "error_x": {
             "color": "#2a3f5f"
            },
            "error_y": {
             "color": "#2a3f5f"
            },
            "marker": {
             "line": {
              "color": "#E5ECF6",
              "width": 0.5
             },
             "pattern": {
              "fillmode": "overlay",
              "size": 10,
              "solidity": 0.2
             }
            },
            "type": "bar"
           }
          ],
          "barpolar": [
           {
            "marker": {
             "line": {
              "color": "#E5ECF6",
              "width": 0.5
             },
             "pattern": {
              "fillmode": "overlay",
              "size": 10,
              "solidity": 0.2
             }
            },
            "type": "barpolar"
           }
          ],
          "carpet": [
           {
            "aaxis": {
             "endlinecolor": "#2a3f5f",
             "gridcolor": "white",
             "linecolor": "white",
             "minorgridcolor": "white",
             "startlinecolor": "#2a3f5f"
            },
            "baxis": {
             "endlinecolor": "#2a3f5f",
             "gridcolor": "white",
             "linecolor": "white",
             "minorgridcolor": "white",
             "startlinecolor": "#2a3f5f"
            },
            "type": "carpet"
           }
          ],
          "choropleth": [
           {
            "colorbar": {
             "outlinewidth": 0,
             "ticks": ""
            },
            "type": "choropleth"
           }
          ],
          "contour": [
           {
            "colorbar": {
             "outlinewidth": 0,
             "ticks": ""
            },
            "colorscale": [
             [
              0,
              "#0d0887"
             ],
             [
              0.1111111111111111,
              "#46039f"
             ],
             [
              0.2222222222222222,
              "#7201a8"
             ],
             [
              0.3333333333333333,
              "#9c179e"
             ],
             [
              0.4444444444444444,
              "#bd3786"
             ],
             [
              0.5555555555555556,
              "#d8576b"
             ],
             [
              0.6666666666666666,
              "#ed7953"
             ],
             [
              0.7777777777777778,
              "#fb9f3a"
             ],
             [
              0.8888888888888888,
              "#fdca26"
             ],
             [
              1,
              "#f0f921"
             ]
            ],
            "type": "contour"
           }
          ],
          "contourcarpet": [
           {
            "colorbar": {
             "outlinewidth": 0,
             "ticks": ""
            },
            "type": "contourcarpet"
           }
          ],
          "heatmap": [
           {
            "colorbar": {
             "outlinewidth": 0,
             "ticks": ""
            },
            "colorscale": [
             [
              0,
              "#0d0887"
             ],
             [
              0.1111111111111111,
              "#46039f"
             ],
             [
              0.2222222222222222,
              "#7201a8"
             ],
             [
              0.3333333333333333,
              "#9c179e"
             ],
             [
              0.4444444444444444,
              "#bd3786"
             ],
             [
              0.5555555555555556,
              "#d8576b"
             ],
             [
              0.6666666666666666,
              "#ed7953"
             ],
             [
              0.7777777777777778,
              "#fb9f3a"
             ],
             [
              0.8888888888888888,
              "#fdca26"
             ],
             [
              1,
              "#f0f921"
             ]
            ],
            "type": "heatmap"
           }
          ],
          "heatmapgl": [
           {
            "colorbar": {
             "outlinewidth": 0,
             "ticks": ""
            },
            "colorscale": [
             [
              0,
              "#0d0887"
             ],
             [
              0.1111111111111111,
              "#46039f"
             ],
             [
              0.2222222222222222,
              "#7201a8"
             ],
             [
              0.3333333333333333,
              "#9c179e"
             ],
             [
              0.4444444444444444,
              "#bd3786"
             ],
             [
              0.5555555555555556,
              "#d8576b"
             ],
             [
              0.6666666666666666,
              "#ed7953"
             ],
             [
              0.7777777777777778,
              "#fb9f3a"
             ],
             [
              0.8888888888888888,
              "#fdca26"
             ],
             [
              1,
              "#f0f921"
             ]
            ],
            "type": "heatmapgl"
           }
          ],
          "histogram": [
           {
            "marker": {
             "pattern": {
              "fillmode": "overlay",
              "size": 10,
              "solidity": 0.2
             }
            },
            "type": "histogram"
           }
          ],
          "histogram2d": [
           {
            "colorbar": {
             "outlinewidth": 0,
             "ticks": ""
            },
            "colorscale": [
             [
              0,
              "#0d0887"
             ],
             [
              0.1111111111111111,
              "#46039f"
             ],
             [
              0.2222222222222222,
              "#7201a8"
             ],
             [
              0.3333333333333333,
              "#9c179e"
             ],
             [
              0.4444444444444444,
              "#bd3786"
             ],
             [
              0.5555555555555556,
              "#d8576b"
             ],
             [
              0.6666666666666666,
              "#ed7953"
             ],
             [
              0.7777777777777778,
              "#fb9f3a"
             ],
             [
              0.8888888888888888,
              "#fdca26"
             ],
             [
              1,
              "#f0f921"
             ]
            ],
            "type": "histogram2d"
           }
          ],
          "histogram2dcontour": [
           {
            "colorbar": {
             "outlinewidth": 0,
             "ticks": ""
            },
            "colorscale": [
             [
              0,
              "#0d0887"
             ],
             [
              0.1111111111111111,
              "#46039f"
             ],
             [
              0.2222222222222222,
              "#7201a8"
             ],
             [
              0.3333333333333333,
              "#9c179e"
             ],
             [
              0.4444444444444444,
              "#bd3786"
             ],
             [
              0.5555555555555556,
              "#d8576b"
             ],
             [
              0.6666666666666666,
              "#ed7953"
             ],
             [
              0.7777777777777778,
              "#fb9f3a"
             ],
             [
              0.8888888888888888,
              "#fdca26"
             ],
             [
              1,
              "#f0f921"
             ]
            ],
            "type": "histogram2dcontour"
           }
          ],
          "mesh3d": [
           {
            "colorbar": {
             "outlinewidth": 0,
             "ticks": ""
            },
            "type": "mesh3d"
           }
          ],
          "parcoords": [
           {
            "line": {
             "colorbar": {
              "outlinewidth": 0,
              "ticks": ""
             }
            },
            "type": "parcoords"
           }
          ],
          "pie": [
           {
            "automargin": true,
            "type": "pie"
           }
          ],
          "scatter": [
           {
            "fillpattern": {
             "fillmode": "overlay",
             "size": 10,
             "solidity": 0.2
            },
            "type": "scatter"
           }
          ],
          "scatter3d": [
           {
            "line": {
             "colorbar": {
              "outlinewidth": 0,
              "ticks": ""
             }
            },
            "marker": {
             "colorbar": {
              "outlinewidth": 0,
              "ticks": ""
             }
            },
            "type": "scatter3d"
           }
          ],
          "scattercarpet": [
           {
            "marker": {
             "colorbar": {
              "outlinewidth": 0,
              "ticks": ""
             }
            },
            "type": "scattercarpet"
           }
          ],
          "scattergeo": [
           {
            "marker": {
             "colorbar": {
              "outlinewidth": 0,
              "ticks": ""
             }
            },
            "type": "scattergeo"
           }
          ],
          "scattergl": [
           {
            "marker": {
             "colorbar": {
              "outlinewidth": 0,
              "ticks": ""
             }
            },
            "type": "scattergl"
           }
          ],
          "scattermapbox": [
           {
            "marker": {
             "colorbar": {
              "outlinewidth": 0,
              "ticks": ""
             }
            },
            "type": "scattermapbox"
           }
          ],
          "scatterpolar": [
           {
            "marker": {
             "colorbar": {
              "outlinewidth": 0,
              "ticks": ""
             }
            },
            "type": "scatterpolar"
           }
          ],
          "scatterpolargl": [
           {
            "marker": {
             "colorbar": {
              "outlinewidth": 0,
              "ticks": ""
             }
            },
            "type": "scatterpolargl"
           }
          ],
          "scatterternary": [
           {
            "marker": {
             "colorbar": {
              "outlinewidth": 0,
              "ticks": ""
             }
            },
            "type": "scatterternary"
           }
          ],
          "surface": [
           {
            "colorbar": {
             "outlinewidth": 0,
             "ticks": ""
            },
            "colorscale": [
             [
              0,
              "#0d0887"
             ],
             [
              0.1111111111111111,
              "#46039f"
             ],
             [
              0.2222222222222222,
              "#7201a8"
             ],
             [
              0.3333333333333333,
              "#9c179e"
             ],
             [
              0.4444444444444444,
              "#bd3786"
             ],
             [
              0.5555555555555556,
              "#d8576b"
             ],
             [
              0.6666666666666666,
              "#ed7953"
             ],
             [
              0.7777777777777778,
              "#fb9f3a"
             ],
             [
              0.8888888888888888,
              "#fdca26"
             ],
             [
              1,
              "#f0f921"
             ]
            ],
            "type": "surface"
           }
          ],
          "table": [
           {
            "cells": {
             "fill": {
              "color": "#EBF0F8"
             },
             "line": {
              "color": "white"
             }
            },
            "header": {
             "fill": {
              "color": "#C8D4E3"
             },
             "line": {
              "color": "white"
             }
            },
            "type": "table"
           }
          ]
         },
         "layout": {
          "annotationdefaults": {
           "arrowcolor": "#2a3f5f",
           "arrowhead": 0,
           "arrowwidth": 1
          },
          "autotypenumbers": "strict",
          "coloraxis": {
           "colorbar": {
            "outlinewidth": 0,
            "ticks": ""
           }
          },
          "colorscale": {
           "diverging": [
            [
             0,
             "#8e0152"
            ],
            [
             0.1,
             "#c51b7d"
            ],
            [
             0.2,
             "#de77ae"
            ],
            [
             0.3,
             "#f1b6da"
            ],
            [
             0.4,
             "#fde0ef"
            ],
            [
             0.5,
             "#f7f7f7"
            ],
            [
             0.6,
             "#e6f5d0"
            ],
            [
             0.7,
             "#b8e186"
            ],
            [
             0.8,
             "#7fbc41"
            ],
            [
             0.9,
             "#4d9221"
            ],
            [
             1,
             "#276419"
            ]
           ],
           "sequential": [
            [
             0,
             "#0d0887"
            ],
            [
             0.1111111111111111,
             "#46039f"
            ],
            [
             0.2222222222222222,
             "#7201a8"
            ],
            [
             0.3333333333333333,
             "#9c179e"
            ],
            [
             0.4444444444444444,
             "#bd3786"
            ],
            [
             0.5555555555555556,
             "#d8576b"
            ],
            [
             0.6666666666666666,
             "#ed7953"
            ],
            [
             0.7777777777777778,
             "#fb9f3a"
            ],
            [
             0.8888888888888888,
             "#fdca26"
            ],
            [
             1,
             "#f0f921"
            ]
           ],
           "sequentialminus": [
            [
             0,
             "#0d0887"
            ],
            [
             0.1111111111111111,
             "#46039f"
            ],
            [
             0.2222222222222222,
             "#7201a8"
            ],
            [
             0.3333333333333333,
             "#9c179e"
            ],
            [
             0.4444444444444444,
             "#bd3786"
            ],
            [
             0.5555555555555556,
             "#d8576b"
            ],
            [
             0.6666666666666666,
             "#ed7953"
            ],
            [
             0.7777777777777778,
             "#fb9f3a"
            ],
            [
             0.8888888888888888,
             "#fdca26"
            ],
            [
             1,
             "#f0f921"
            ]
           ]
          },
          "colorway": [
           "#636efa",
           "#EF553B",
           "#00cc96",
           "#ab63fa",
           "#FFA15A",
           "#19d3f3",
           "#FF6692",
           "#B6E880",
           "#FF97FF",
           "#FECB52"
          ],
          "font": {
           "color": "#2a3f5f"
          },
          "geo": {
           "bgcolor": "white",
           "lakecolor": "white",
           "landcolor": "#E5ECF6",
           "showlakes": true,
           "showland": true,
           "subunitcolor": "white"
          },
          "hoverlabel": {
           "align": "left"
          },
          "hovermode": "closest",
          "mapbox": {
           "style": "light"
          },
          "paper_bgcolor": "white",
          "plot_bgcolor": "#E5ECF6",
          "polar": {
           "angularaxis": {
            "gridcolor": "white",
            "linecolor": "white",
            "ticks": ""
           },
           "bgcolor": "#E5ECF6",
           "radialaxis": {
            "gridcolor": "white",
            "linecolor": "white",
            "ticks": ""
           }
          },
          "scene": {
           "xaxis": {
            "backgroundcolor": "#E5ECF6",
            "gridcolor": "white",
            "gridwidth": 2,
            "linecolor": "white",
            "showbackground": true,
            "ticks": "",
            "zerolinecolor": "white"
           },
           "yaxis": {
            "backgroundcolor": "#E5ECF6",
            "gridcolor": "white",
            "gridwidth": 2,
            "linecolor": "white",
            "showbackground": true,
            "ticks": "",
            "zerolinecolor": "white"
           },
           "zaxis": {
            "backgroundcolor": "#E5ECF6",
            "gridcolor": "white",
            "gridwidth": 2,
            "linecolor": "white",
            "showbackground": true,
            "ticks": "",
            "zerolinecolor": "white"
           }
          },
          "shapedefaults": {
           "line": {
            "color": "#2a3f5f"
           }
          },
          "ternary": {
           "aaxis": {
            "gridcolor": "white",
            "linecolor": "white",
            "ticks": ""
           },
           "baxis": {
            "gridcolor": "white",
            "linecolor": "white",
            "ticks": ""
           },
           "bgcolor": "#E5ECF6",
           "caxis": {
            "gridcolor": "white",
            "linecolor": "white",
            "ticks": ""
           }
          },
          "title": {
           "x": 0.05
          },
          "xaxis": {
           "automargin": true,
           "gridcolor": "white",
           "linecolor": "white",
           "ticks": "",
           "title": {
            "standoff": 15
           },
           "zerolinecolor": "white",
           "zerolinewidth": 2
          },
          "yaxis": {
           "automargin": true,
           "gridcolor": "white",
           "linecolor": "white",
           "ticks": "",
           "title": {
            "standoff": 15
           },
           "zerolinecolor": "white",
           "zerolinewidth": 2
          }
         }
        },
        "xaxis": {
         "anchor": "y",
         "domain": [
          0,
          1
         ],
         "title": {
          "text": "분기"
         }
        },
        "yaxis": {
         "anchor": "x",
         "domain": [
          0,
          1
         ],
         "title": {
          "text": "부정 리뷰 비율(%)"
         }
        }
       }
      },
      "text/html": [
       "<div>                            <div id=\"4e7c064f-35c6-47b0-af38-b1125dd50692\" class=\"plotly-graph-div\" style=\"height:525px; width:100%;\"></div>            <script type=\"text/javascript\">                require([\"plotly\"], function(Plotly) {                    window.PLOTLYENV=window.PLOTLYENV || {};                                    if (document.getElementById(\"4e7c064f-35c6-47b0-af38-b1125dd50692\")) {                    Plotly.newPlot(                        \"4e7c064f-35c6-47b0-af38-b1125dd50692\",                        [{\"hovertemplate\":\"\\ubd84\\ub958=T\\uc140\\ud30c<br>\\ubd84\\uae30=%{x}<br>\\ubd80\\uc815 \\ub9ac\\ubdf0 \\ube44\\uc728(%)=%{y}<extra></extra>\",\"legendgroup\":\"T\\uc140\\ud30c\",\"line\":{\"color\":\"#636efa\",\"dash\":\"solid\"},\"marker\":{\"symbol\":\"circle\"},\"mode\":\"lines\",\"name\":\"T\\uc140\\ud30c\",\"orientation\":\"v\",\"showlegend\":true,\"x\":[\"2018 1/4\",\"2018 2/4\",\"2018 3/4\",\"2018 4/4\",\"2019 1/4\",\"2019 2/4\",\"2019 3/4\",\"2019 4/4\",\"2020 1/4\",\"2020 2/4\",\"2020 3/4\",\"2020 4/4\",\"2021 1/4\",\"2021 2/4\",\"2021 3/4\",\"2021 4/4\",\"2022 1/4\",\"2022 2/4\",\"2022 3/4\",\"2022 4/4\",\"2023 1/4\",\"2023 2/4\",\"2023 3/4\"],\"xaxis\":\"x\",\"y\":[0.0,21.052631578947366,0.0,3.4482758620689653,7.142857142857142,15.384615384615385,15.384615384615385,5.0,4.0,6.451612903225806,3.0303030303030303,1.3333333333333335,0.0,2.631578947368421,2.525252525252525,2.6804123711340204,0.0,1.4388489208633095,0.3663003663003663,1.0460251046025104,1.8181818181818181,2.7906976744186047,3.1746031746031744],\"yaxis\":\"y\",\"type\":\"scatter\"},{\"hovertemplate\":\"\\ubd84\\ub958=\\uc544\\uc774\\uc2a4\\ud06c\\ub9bc<br>\\ubd84\\uae30=%{x}<br>\\ubd80\\uc815 \\ub9ac\\ubdf0 \\ube44\\uc728(%)=%{y}<extra></extra>\",\"legendgroup\":\"\\uc544\\uc774\\uc2a4\\ud06c\\ub9bc\",\"line\":{\"color\":\"#EF553B\",\"dash\":\"solid\"},\"marker\":{\"symbol\":\"circle\"},\"mode\":\"lines\",\"name\":\"\\uc544\\uc774\\uc2a4\\ud06c\\ub9bc\",\"orientation\":\"v\",\"showlegend\":true,\"x\":[\"2018 1/4\",\"2018 2/4\",\"2018 3/4\",\"2018 4/4\",\"2019 1/4\",\"2019 2/4\",\"2019 3/4\",\"2019 4/4\",\"2020 1/4\",\"2020 2/4\",\"2020 3/4\",\"2020 4/4\",\"2021 1/4\",\"2021 2/4\",\"2021 3/4\",\"2021 4/4\",\"2022 1/4\",\"2022 2/4\",\"2022 3/4\",\"2022 4/4\",\"2023 1/4\",\"2023 2/4\",\"2023 3/4\"],\"xaxis\":\"x\",\"y\":[1.5873015873015872,2.7559055118110236,1.094890510948905,3.691275167785235,0.0,5.612244897959184,0.9174311926605505,2.857142857142857,0.8438818565400843,0.56657223796034,1.477832512315271,1.3745704467353952,0.8771929824561403,1.1583011583011582,0.4405286343612335,2.26537216828479,5.072463768115942,3.125,2.3474178403755865,0.9803921568627451,0.9009009009009009,3.5502958579881656,2.0],\"yaxis\":\"y\",\"type\":\"scatter\"}],                        {\"template\":{\"data\":{\"histogram2dcontour\":[{\"type\":\"histogram2dcontour\",\"colorbar\":{\"outlinewidth\":0,\"ticks\":\"\"},\"colorscale\":[[0.0,\"#0d0887\"],[0.1111111111111111,\"#46039f\"],[0.2222222222222222,\"#7201a8\"],[0.3333333333333333,\"#9c179e\"],[0.4444444444444444,\"#bd3786\"],[0.5555555555555556,\"#d8576b\"],[0.6666666666666666,\"#ed7953\"],[0.7777777777777778,\"#fb9f3a\"],[0.8888888888888888,\"#fdca26\"],[1.0,\"#f0f921\"]]}],\"choropleth\":[{\"type\":\"choropleth\",\"colorbar\":{\"outlinewidth\":0,\"ticks\":\"\"}}],\"histogram2d\":[{\"type\":\"histogram2d\",\"colorbar\":{\"outlinewidth\":0,\"ticks\":\"\"},\"colorscale\":[[0.0,\"#0d0887\"],[0.1111111111111111,\"#46039f\"],[0.2222222222222222,\"#7201a8\"],[0.3333333333333333,\"#9c179e\"],[0.4444444444444444,\"#bd3786\"],[0.5555555555555556,\"#d8576b\"],[0.6666666666666666,\"#ed7953\"],[0.7777777777777778,\"#fb9f3a\"],[0.8888888888888888,\"#fdca26\"],[1.0,\"#f0f921\"]]}],\"heatmap\":[{\"type\":\"heatmap\",\"colorbar\":{\"outlinewidth\":0,\"ticks\":\"\"},\"colorscale\":[[0.0,\"#0d0887\"],[0.1111111111111111,\"#46039f\"],[0.2222222222222222,\"#7201a8\"],[0.3333333333333333,\"#9c179e\"],[0.4444444444444444,\"#bd3786\"],[0.5555555555555556,\"#d8576b\"],[0.6666666666666666,\"#ed7953\"],[0.7777777777777778,\"#fb9f3a\"],[0.8888888888888888,\"#fdca26\"],[1.0,\"#f0f921\"]]}],\"heatmapgl\":[{\"type\":\"heatmapgl\",\"colorbar\":{\"outlinewidth\":0,\"ticks\":\"\"},\"colorscale\":[[0.0,\"#0d0887\"],[0.1111111111111111,\"#46039f\"],[0.2222222222222222,\"#7201a8\"],[0.3333333333333333,\"#9c179e\"],[0.4444444444444444,\"#bd3786\"],[0.5555555555555556,\"#d8576b\"],[0.6666666666666666,\"#ed7953\"],[0.7777777777777778,\"#fb9f3a\"],[0.8888888888888888,\"#fdca26\"],[1.0,\"#f0f921\"]]}],\"contourcarpet\":[{\"type\":\"contourcarpet\",\"colorbar\":{\"outlinewidth\":0,\"ticks\":\"\"}}],\"contour\":[{\"type\":\"contour\",\"colorbar\":{\"outlinewidth\":0,\"ticks\":\"\"},\"colorscale\":[[0.0,\"#0d0887\"],[0.1111111111111111,\"#46039f\"],[0.2222222222222222,\"#7201a8\"],[0.3333333333333333,\"#9c179e\"],[0.4444444444444444,\"#bd3786\"],[0.5555555555555556,\"#d8576b\"],[0.6666666666666666,\"#ed7953\"],[0.7777777777777778,\"#fb9f3a\"],[0.8888888888888888,\"#fdca26\"],[1.0,\"#f0f921\"]]}],\"surface\":[{\"type\":\"surface\",\"colorbar\":{\"outlinewidth\":0,\"ticks\":\"\"},\"colorscale\":[[0.0,\"#0d0887\"],[0.1111111111111111,\"#46039f\"],[0.2222222222222222,\"#7201a8\"],[0.3333333333333333,\"#9c179e\"],[0.4444444444444444,\"#bd3786\"],[0.5555555555555556,\"#d8576b\"],[0.6666666666666666,\"#ed7953\"],[0.7777777777777778,\"#fb9f3a\"],[0.8888888888888888,\"#fdca26\"],[1.0,\"#f0f921\"]]}],\"mesh3d\":[{\"type\":\"mesh3d\",\"colorbar\":{\"outlinewidth\":0,\"ticks\":\"\"}}],\"scatter\":[{\"fillpattern\":{\"fillmode\":\"overlay\",\"size\":10,\"solidity\":0.2},\"type\":\"scatter\"}],\"parcoords\":[{\"type\":\"parcoords\",\"line\":{\"colorbar\":{\"outlinewidth\":0,\"ticks\":\"\"}}}],\"scatterpolargl\":[{\"type\":\"scatterpolargl\",\"marker\":{\"colorbar\":{\"outlinewidth\":0,\"ticks\":\"\"}}}],\"bar\":[{\"error_x\":{\"color\":\"#2a3f5f\"},\"error_y\":{\"color\":\"#2a3f5f\"},\"marker\":{\"line\":{\"color\":\"#E5ECF6\",\"width\":0.5},\"pattern\":{\"fillmode\":\"overlay\",\"size\":10,\"solidity\":0.2}},\"type\":\"bar\"}],\"scattergeo\":[{\"type\":\"scattergeo\",\"marker\":{\"colorbar\":{\"outlinewidth\":0,\"ticks\":\"\"}}}],\"scatterpolar\":[{\"type\":\"scatterpolar\",\"marker\":{\"colorbar\":{\"outlinewidth\":0,\"ticks\":\"\"}}}],\"histogram\":[{\"marker\":{\"pattern\":{\"fillmode\":\"overlay\",\"size\":10,\"solidity\":0.2}},\"type\":\"histogram\"}],\"scattergl\":[{\"type\":\"scattergl\",\"marker\":{\"colorbar\":{\"outlinewidth\":0,\"ticks\":\"\"}}}],\"scatter3d\":[{\"type\":\"scatter3d\",\"line\":{\"colorbar\":{\"outlinewidth\":0,\"ticks\":\"\"}},\"marker\":{\"colorbar\":{\"outlinewidth\":0,\"ticks\":\"\"}}}],\"scattermapbox\":[{\"type\":\"scattermapbox\",\"marker\":{\"colorbar\":{\"outlinewidth\":0,\"ticks\":\"\"}}}],\"scatterternary\":[{\"type\":\"scatterternary\",\"marker\":{\"colorbar\":{\"outlinewidth\":0,\"ticks\":\"\"}}}],\"scattercarpet\":[{\"type\":\"scattercarpet\",\"marker\":{\"colorbar\":{\"outlinewidth\":0,\"ticks\":\"\"}}}],\"carpet\":[{\"aaxis\":{\"endlinecolor\":\"#2a3f5f\",\"gridcolor\":\"white\",\"linecolor\":\"white\",\"minorgridcolor\":\"white\",\"startlinecolor\":\"#2a3f5f\"},\"baxis\":{\"endlinecolor\":\"#2a3f5f\",\"gridcolor\":\"white\",\"linecolor\":\"white\",\"minorgridcolor\":\"white\",\"startlinecolor\":\"#2a3f5f\"},\"type\":\"carpet\"}],\"table\":[{\"cells\":{\"fill\":{\"color\":\"#EBF0F8\"},\"line\":{\"color\":\"white\"}},\"header\":{\"fill\":{\"color\":\"#C8D4E3\"},\"line\":{\"color\":\"white\"}},\"type\":\"table\"}],\"barpolar\":[{\"marker\":{\"line\":{\"color\":\"#E5ECF6\",\"width\":0.5},\"pattern\":{\"fillmode\":\"overlay\",\"size\":10,\"solidity\":0.2}},\"type\":\"barpolar\"}],\"pie\":[{\"automargin\":true,\"type\":\"pie\"}]},\"layout\":{\"autotypenumbers\":\"strict\",\"colorway\":[\"#636efa\",\"#EF553B\",\"#00cc96\",\"#ab63fa\",\"#FFA15A\",\"#19d3f3\",\"#FF6692\",\"#B6E880\",\"#FF97FF\",\"#FECB52\"],\"font\":{\"color\":\"#2a3f5f\"},\"hovermode\":\"closest\",\"hoverlabel\":{\"align\":\"left\"},\"paper_bgcolor\":\"white\",\"plot_bgcolor\":\"#E5ECF6\",\"polar\":{\"bgcolor\":\"#E5ECF6\",\"angularaxis\":{\"gridcolor\":\"white\",\"linecolor\":\"white\",\"ticks\":\"\"},\"radialaxis\":{\"gridcolor\":\"white\",\"linecolor\":\"white\",\"ticks\":\"\"}},\"ternary\":{\"bgcolor\":\"#E5ECF6\",\"aaxis\":{\"gridcolor\":\"white\",\"linecolor\":\"white\",\"ticks\":\"\"},\"baxis\":{\"gridcolor\":\"white\",\"linecolor\":\"white\",\"ticks\":\"\"},\"caxis\":{\"gridcolor\":\"white\",\"linecolor\":\"white\",\"ticks\":\"\"}},\"coloraxis\":{\"colorbar\":{\"outlinewidth\":0,\"ticks\":\"\"}},\"colorscale\":{\"sequential\":[[0.0,\"#0d0887\"],[0.1111111111111111,\"#46039f\"],[0.2222222222222222,\"#7201a8\"],[0.3333333333333333,\"#9c179e\"],[0.4444444444444444,\"#bd3786\"],[0.5555555555555556,\"#d8576b\"],[0.6666666666666666,\"#ed7953\"],[0.7777777777777778,\"#fb9f3a\"],[0.8888888888888888,\"#fdca26\"],[1.0,\"#f0f921\"]],\"sequentialminus\":[[0.0,\"#0d0887\"],[0.1111111111111111,\"#46039f\"],[0.2222222222222222,\"#7201a8\"],[0.3333333333333333,\"#9c179e\"],[0.4444444444444444,\"#bd3786\"],[0.5555555555555556,\"#d8576b\"],[0.6666666666666666,\"#ed7953\"],[0.7777777777777778,\"#fb9f3a\"],[0.8888888888888888,\"#fdca26\"],[1.0,\"#f0f921\"]],\"diverging\":[[0,\"#8e0152\"],[0.1,\"#c51b7d\"],[0.2,\"#de77ae\"],[0.3,\"#f1b6da\"],[0.4,\"#fde0ef\"],[0.5,\"#f7f7f7\"],[0.6,\"#e6f5d0\"],[0.7,\"#b8e186\"],[0.8,\"#7fbc41\"],[0.9,\"#4d9221\"],[1,\"#276419\"]]},\"xaxis\":{\"gridcolor\":\"white\",\"linecolor\":\"white\",\"ticks\":\"\",\"title\":{\"standoff\":15},\"zerolinecolor\":\"white\",\"automargin\":true,\"zerolinewidth\":2},\"yaxis\":{\"gridcolor\":\"white\",\"linecolor\":\"white\",\"ticks\":\"\",\"title\":{\"standoff\":15},\"zerolinecolor\":\"white\",\"automargin\":true,\"zerolinewidth\":2},\"scene\":{\"xaxis\":{\"backgroundcolor\":\"#E5ECF6\",\"gridcolor\":\"white\",\"linecolor\":\"white\",\"showbackground\":true,\"ticks\":\"\",\"zerolinecolor\":\"white\",\"gridwidth\":2},\"yaxis\":{\"backgroundcolor\":\"#E5ECF6\",\"gridcolor\":\"white\",\"linecolor\":\"white\",\"showbackground\":true,\"ticks\":\"\",\"zerolinecolor\":\"white\",\"gridwidth\":2},\"zaxis\":{\"backgroundcolor\":\"#E5ECF6\",\"gridcolor\":\"white\",\"linecolor\":\"white\",\"showbackground\":true,\"ticks\":\"\",\"zerolinecolor\":\"white\",\"gridwidth\":2}},\"shapedefaults\":{\"line\":{\"color\":\"#2a3f5f\"}},\"annotationdefaults\":{\"arrowcolor\":\"#2a3f5f\",\"arrowhead\":0,\"arrowwidth\":1},\"geo\":{\"bgcolor\":\"white\",\"landcolor\":\"#E5ECF6\",\"subunitcolor\":\"white\",\"showland\":true,\"showlakes\":true,\"lakecolor\":\"white\"},\"title\":{\"x\":0.05},\"mapbox\":{\"style\":\"light\"}}},\"xaxis\":{\"anchor\":\"y\",\"domain\":[0.0,1.0],\"title\":{\"text\":\"\\ubd84\\uae30\"}},\"yaxis\":{\"anchor\":\"x\",\"domain\":[0.0,1.0],\"title\":{\"text\":\"\\ubd80\\uc815 \\ub9ac\\ubdf0 \\ube44\\uc728(%)\"}},\"legend\":{\"title\":{\"text\":\"\\ubd84\\ub958\"},\"tracegroupgap\":0,\"yanchor\":\"top\",\"y\":0.99,\"xanchor\":\"left\",\"x\":0.865},\"margin\":{\"t\":60}},                        {\"responsive\": true}                    ).then(function(){\n",
       "                            \n",
       "var gd = document.getElementById('4e7c064f-35c6-47b0-af38-b1125dd50692');\n",
       "var x = new MutationObserver(function (mutations, observer) {{\n",
       "        var display = window.getComputedStyle(gd).display;\n",
       "        if (!display || display === 'none') {{\n",
       "            console.log([gd, 'removed!']);\n",
       "            Plotly.purge(gd);\n",
       "            observer.disconnect();\n",
       "        }}\n",
       "}});\n",
       "\n",
       "// Listen for the removal of the full notebook cells\n",
       "var notebookContainer = gd.closest('#notebook-container');\n",
       "if (notebookContainer) {{\n",
       "    x.observe(notebookContainer, {childList: true});\n",
       "}}\n",
       "\n",
       "// Listen for the clearing of the current output cell\n",
       "var outputEl = gd.closest('.output');\n",
       "if (outputEl) {{\n",
       "    x.observe(outputEl, {childList: true});\n",
       "}}\n",
       "\n",
       "                        })                };                });            </script>        </div>"
      ]
     },
     "metadata": {},
     "output_type": "display_data"
    }
   ],
   "source": [
    "# 부정 리뷰 비율 그래프\n",
    "\n",
    "import plotly.express as px\n",
    "fig = px.line(DF, x = 'quarter', y = 'ratio', color = '분류',\n",
    "       labels={'quarter':'분기', 'ratio':'부정 리뷰 비율(%)'})\n",
    "\n",
    "fig.update_layout(legend=dict(\n",
    "    yanchor=\"top\",\n",
    "    y=0.99,\n",
    "    xanchor=\"left\",\n",
    "    x=0.865\n",
    "))\n",
    "\n",
    "fig.show()"
   ]
  },
  {
   "cell_type": "code",
   "execution_count": null,
   "id": "b1e68a10",
   "metadata": {},
   "outputs": [],
   "source": []
  },
  {
   "cell_type": "code",
   "execution_count": 421,
   "id": "b83f3f86",
   "metadata": {},
   "outputs": [],
   "source": [
    "dffrr3 = dffrr2.copy()\n",
    "dffrr3['분류'] = 'T셀파'"
   ]
  },
  {
   "cell_type": "code",
   "execution_count": 423,
   "id": "f8caa9c4",
   "metadata": {},
   "outputs": [],
   "source": [
    "dfrr3 = dfrr2.copy()\n",
    "dfrr3['분류'] = '아이스크림'"
   ]
  },
  {
   "cell_type": "code",
   "execution_count": 426,
   "id": "42b315df",
   "metadata": {},
   "outputs": [],
   "source": [
    "DFs = pd.concat([dffrr3, dfrr3])"
   ]
  },
  {
   "cell_type": "code",
   "execution_count": 437,
   "id": "f7c1b97f",
   "metadata": {},
   "outputs": [
    {
     "data": {
      "application/vnd.plotly.v1+json": {
       "config": {
        "plotlyServerURL": "https://plot.ly"
       },
       "data": [
        {
         "hovertemplate": "분류=T셀파<br>분기=%{x}<br>별점 비율(1점~3점, %)=%{y}<extra></extra>",
         "legendgroup": "T셀파",
         "line": {
          "color": "#636efa",
          "dash": "solid"
         },
         "marker": {
          "symbol": "circle"
         },
         "mode": "lines",
         "name": "T셀파",
         "orientation": "v",
         "showlegend": true,
         "type": "scatter",
         "x": [
          "2018 1/4",
          "2018 2/4",
          "2018 3/4",
          "2018 4/4",
          "2019 1/4",
          "2019 2/4",
          "2019 3/4",
          "2019 4/4",
          "2020 1/4",
          "2020 2/4",
          "2020 3/4",
          "2020 4/4",
          "2021 1/4",
          "2021 2/4",
          "2021 3/4",
          "2021 4/4",
          "2022 1/4",
          "2022 2/4",
          "2022 3/4",
          "2022 4/4",
          "2023 1/4",
          "2023 2/4",
          "2023 3/4"
         ],
         "xaxis": "x",
         "y": [
          0,
          31.578947368421048,
          11.11111111111111,
          3.4482758620689653,
          7.142857142857142,
          23.076923076923077,
          15.384615384615385,
          10,
          8,
          6.451612903225806,
          3.0303030303030303,
          9.333333333333334,
          5.263157894736842,
          2.631578947368421,
          3.0303030303030303,
          2.680412371134021,
          2.272727272727273,
          2.1582733812949644,
          0.7326007326007326,
          2.092050209205021,
          0.9090909090909091,
          2.7906976744186047,
          1.5873015873015872
         ],
         "yaxis": "y"
        },
        {
         "hovertemplate": "분류=아이스크림<br>분기=%{x}<br>별점 비율(1점~3점, %)=%{y}<extra></extra>",
         "legendgroup": "아이스크림",
         "line": {
          "color": "#EF553B",
          "dash": "solid"
         },
         "marker": {
          "symbol": "circle"
         },
         "mode": "lines",
         "name": "아이스크림",
         "orientation": "v",
         "showlegend": true,
         "type": "scatter",
         "x": [
          "2018 1/4",
          "2018 2/4",
          "2018 3/4",
          "2018 4/4",
          "2019 1/4",
          "2019 2/4",
          "2019 3/4",
          "2019 4/4",
          "2020 1/4",
          "2020 2/4",
          "2020 3/4",
          "2020 4/4",
          "2021 1/4",
          "2021 2/4",
          "2021 3/4",
          "2021 4/4",
          "2022 1/4",
          "2022 2/4",
          "2022 3/4",
          "2022 4/4",
          "2023 1/4",
          "2023 2/4",
          "2023 3/4"
         ],
         "xaxis": "x",
         "y": [
          1.5873015873015872,
          3.543307086614173,
          2.9197080291970803,
          4.026845637583893,
          1.8518518518518516,
          3.571428571428571,
          2.293577981651376,
          1.6326530612244898,
          1.6877637130801688,
          3.11614730878187,
          2.4630541871921183,
          2.4054982817869415,
          1.7543859649122806,
          1.1583011583011582,
          0.4405286343612335,
          1.2944983818770226,
          2.1739130434782608,
          1.5624999999999998,
          2.816901408450704,
          1.3071895424836601,
          3.6036036036036037,
          3.550295857988166,
          2
         ],
         "yaxis": "y"
        }
       ],
       "layout": {
        "legend": {
         "title": {
          "text": "분류"
         },
         "tracegroupgap": 0,
         "x": 0.865,
         "xanchor": "left",
         "y": 0.99,
         "yanchor": "top"
        },
        "margin": {
         "t": 60
        },
        "template": {
         "data": {
          "bar": [
           {
            "error_x": {
             "color": "#2a3f5f"
            },
            "error_y": {
             "color": "#2a3f5f"
            },
            "marker": {
             "line": {
              "color": "#E5ECF6",
              "width": 0.5
             },
             "pattern": {
              "fillmode": "overlay",
              "size": 10,
              "solidity": 0.2
             }
            },
            "type": "bar"
           }
          ],
          "barpolar": [
           {
            "marker": {
             "line": {
              "color": "#E5ECF6",
              "width": 0.5
             },
             "pattern": {
              "fillmode": "overlay",
              "size": 10,
              "solidity": 0.2
             }
            },
            "type": "barpolar"
           }
          ],
          "carpet": [
           {
            "aaxis": {
             "endlinecolor": "#2a3f5f",
             "gridcolor": "white",
             "linecolor": "white",
             "minorgridcolor": "white",
             "startlinecolor": "#2a3f5f"
            },
            "baxis": {
             "endlinecolor": "#2a3f5f",
             "gridcolor": "white",
             "linecolor": "white",
             "minorgridcolor": "white",
             "startlinecolor": "#2a3f5f"
            },
            "type": "carpet"
           }
          ],
          "choropleth": [
           {
            "colorbar": {
             "outlinewidth": 0,
             "ticks": ""
            },
            "type": "choropleth"
           }
          ],
          "contour": [
           {
            "colorbar": {
             "outlinewidth": 0,
             "ticks": ""
            },
            "colorscale": [
             [
              0,
              "#0d0887"
             ],
             [
              0.1111111111111111,
              "#46039f"
             ],
             [
              0.2222222222222222,
              "#7201a8"
             ],
             [
              0.3333333333333333,
              "#9c179e"
             ],
             [
              0.4444444444444444,
              "#bd3786"
             ],
             [
              0.5555555555555556,
              "#d8576b"
             ],
             [
              0.6666666666666666,
              "#ed7953"
             ],
             [
              0.7777777777777778,
              "#fb9f3a"
             ],
             [
              0.8888888888888888,
              "#fdca26"
             ],
             [
              1,
              "#f0f921"
             ]
            ],
            "type": "contour"
           }
          ],
          "contourcarpet": [
           {
            "colorbar": {
             "outlinewidth": 0,
             "ticks": ""
            },
            "type": "contourcarpet"
           }
          ],
          "heatmap": [
           {
            "colorbar": {
             "outlinewidth": 0,
             "ticks": ""
            },
            "colorscale": [
             [
              0,
              "#0d0887"
             ],
             [
              0.1111111111111111,
              "#46039f"
             ],
             [
              0.2222222222222222,
              "#7201a8"
             ],
             [
              0.3333333333333333,
              "#9c179e"
             ],
             [
              0.4444444444444444,
              "#bd3786"
             ],
             [
              0.5555555555555556,
              "#d8576b"
             ],
             [
              0.6666666666666666,
              "#ed7953"
             ],
             [
              0.7777777777777778,
              "#fb9f3a"
             ],
             [
              0.8888888888888888,
              "#fdca26"
             ],
             [
              1,
              "#f0f921"
             ]
            ],
            "type": "heatmap"
           }
          ],
          "heatmapgl": [
           {
            "colorbar": {
             "outlinewidth": 0,
             "ticks": ""
            },
            "colorscale": [
             [
              0,
              "#0d0887"
             ],
             [
              0.1111111111111111,
              "#46039f"
             ],
             [
              0.2222222222222222,
              "#7201a8"
             ],
             [
              0.3333333333333333,
              "#9c179e"
             ],
             [
              0.4444444444444444,
              "#bd3786"
             ],
             [
              0.5555555555555556,
              "#d8576b"
             ],
             [
              0.6666666666666666,
              "#ed7953"
             ],
             [
              0.7777777777777778,
              "#fb9f3a"
             ],
             [
              0.8888888888888888,
              "#fdca26"
             ],
             [
              1,
              "#f0f921"
             ]
            ],
            "type": "heatmapgl"
           }
          ],
          "histogram": [
           {
            "marker": {
             "pattern": {
              "fillmode": "overlay",
              "size": 10,
              "solidity": 0.2
             }
            },
            "type": "histogram"
           }
          ],
          "histogram2d": [
           {
            "colorbar": {
             "outlinewidth": 0,
             "ticks": ""
            },
            "colorscale": [
             [
              0,
              "#0d0887"
             ],
             [
              0.1111111111111111,
              "#46039f"
             ],
             [
              0.2222222222222222,
              "#7201a8"
             ],
             [
              0.3333333333333333,
              "#9c179e"
             ],
             [
              0.4444444444444444,
              "#bd3786"
             ],
             [
              0.5555555555555556,
              "#d8576b"
             ],
             [
              0.6666666666666666,
              "#ed7953"
             ],
             [
              0.7777777777777778,
              "#fb9f3a"
             ],
             [
              0.8888888888888888,
              "#fdca26"
             ],
             [
              1,
              "#f0f921"
             ]
            ],
            "type": "histogram2d"
           }
          ],
          "histogram2dcontour": [
           {
            "colorbar": {
             "outlinewidth": 0,
             "ticks": ""
            },
            "colorscale": [
             [
              0,
              "#0d0887"
             ],
             [
              0.1111111111111111,
              "#46039f"
             ],
             [
              0.2222222222222222,
              "#7201a8"
             ],
             [
              0.3333333333333333,
              "#9c179e"
             ],
             [
              0.4444444444444444,
              "#bd3786"
             ],
             [
              0.5555555555555556,
              "#d8576b"
             ],
             [
              0.6666666666666666,
              "#ed7953"
             ],
             [
              0.7777777777777778,
              "#fb9f3a"
             ],
             [
              0.8888888888888888,
              "#fdca26"
             ],
             [
              1,
              "#f0f921"
             ]
            ],
            "type": "histogram2dcontour"
           }
          ],
          "mesh3d": [
           {
            "colorbar": {
             "outlinewidth": 0,
             "ticks": ""
            },
            "type": "mesh3d"
           }
          ],
          "parcoords": [
           {
            "line": {
             "colorbar": {
              "outlinewidth": 0,
              "ticks": ""
             }
            },
            "type": "parcoords"
           }
          ],
          "pie": [
           {
            "automargin": true,
            "type": "pie"
           }
          ],
          "scatter": [
           {
            "fillpattern": {
             "fillmode": "overlay",
             "size": 10,
             "solidity": 0.2
            },
            "type": "scatter"
           }
          ],
          "scatter3d": [
           {
            "line": {
             "colorbar": {
              "outlinewidth": 0,
              "ticks": ""
             }
            },
            "marker": {
             "colorbar": {
              "outlinewidth": 0,
              "ticks": ""
             }
            },
            "type": "scatter3d"
           }
          ],
          "scattercarpet": [
           {
            "marker": {
             "colorbar": {
              "outlinewidth": 0,
              "ticks": ""
             }
            },
            "type": "scattercarpet"
           }
          ],
          "scattergeo": [
           {
            "marker": {
             "colorbar": {
              "outlinewidth": 0,
              "ticks": ""
             }
            },
            "type": "scattergeo"
           }
          ],
          "scattergl": [
           {
            "marker": {
             "colorbar": {
              "outlinewidth": 0,
              "ticks": ""
             }
            },
            "type": "scattergl"
           }
          ],
          "scattermapbox": [
           {
            "marker": {
             "colorbar": {
              "outlinewidth": 0,
              "ticks": ""
             }
            },
            "type": "scattermapbox"
           }
          ],
          "scatterpolar": [
           {
            "marker": {
             "colorbar": {
              "outlinewidth": 0,
              "ticks": ""
             }
            },
            "type": "scatterpolar"
           }
          ],
          "scatterpolargl": [
           {
            "marker": {
             "colorbar": {
              "outlinewidth": 0,
              "ticks": ""
             }
            },
            "type": "scatterpolargl"
           }
          ],
          "scatterternary": [
           {
            "marker": {
             "colorbar": {
              "outlinewidth": 0,
              "ticks": ""
             }
            },
            "type": "scatterternary"
           }
          ],
          "surface": [
           {
            "colorbar": {
             "outlinewidth": 0,
             "ticks": ""
            },
            "colorscale": [
             [
              0,
              "#0d0887"
             ],
             [
              0.1111111111111111,
              "#46039f"
             ],
             [
              0.2222222222222222,
              "#7201a8"
             ],
             [
              0.3333333333333333,
              "#9c179e"
             ],
             [
              0.4444444444444444,
              "#bd3786"
             ],
             [
              0.5555555555555556,
              "#d8576b"
             ],
             [
              0.6666666666666666,
              "#ed7953"
             ],
             [
              0.7777777777777778,
              "#fb9f3a"
             ],
             [
              0.8888888888888888,
              "#fdca26"
             ],
             [
              1,
              "#f0f921"
             ]
            ],
            "type": "surface"
           }
          ],
          "table": [
           {
            "cells": {
             "fill": {
              "color": "#EBF0F8"
             },
             "line": {
              "color": "white"
             }
            },
            "header": {
             "fill": {
              "color": "#C8D4E3"
             },
             "line": {
              "color": "white"
             }
            },
            "type": "table"
           }
          ]
         },
         "layout": {
          "annotationdefaults": {
           "arrowcolor": "#2a3f5f",
           "arrowhead": 0,
           "arrowwidth": 1
          },
          "autotypenumbers": "strict",
          "coloraxis": {
           "colorbar": {
            "outlinewidth": 0,
            "ticks": ""
           }
          },
          "colorscale": {
           "diverging": [
            [
             0,
             "#8e0152"
            ],
            [
             0.1,
             "#c51b7d"
            ],
            [
             0.2,
             "#de77ae"
            ],
            [
             0.3,
             "#f1b6da"
            ],
            [
             0.4,
             "#fde0ef"
            ],
            [
             0.5,
             "#f7f7f7"
            ],
            [
             0.6,
             "#e6f5d0"
            ],
            [
             0.7,
             "#b8e186"
            ],
            [
             0.8,
             "#7fbc41"
            ],
            [
             0.9,
             "#4d9221"
            ],
            [
             1,
             "#276419"
            ]
           ],
           "sequential": [
            [
             0,
             "#0d0887"
            ],
            [
             0.1111111111111111,
             "#46039f"
            ],
            [
             0.2222222222222222,
             "#7201a8"
            ],
            [
             0.3333333333333333,
             "#9c179e"
            ],
            [
             0.4444444444444444,
             "#bd3786"
            ],
            [
             0.5555555555555556,
             "#d8576b"
            ],
            [
             0.6666666666666666,
             "#ed7953"
            ],
            [
             0.7777777777777778,
             "#fb9f3a"
            ],
            [
             0.8888888888888888,
             "#fdca26"
            ],
            [
             1,
             "#f0f921"
            ]
           ],
           "sequentialminus": [
            [
             0,
             "#0d0887"
            ],
            [
             0.1111111111111111,
             "#46039f"
            ],
            [
             0.2222222222222222,
             "#7201a8"
            ],
            [
             0.3333333333333333,
             "#9c179e"
            ],
            [
             0.4444444444444444,
             "#bd3786"
            ],
            [
             0.5555555555555556,
             "#d8576b"
            ],
            [
             0.6666666666666666,
             "#ed7953"
            ],
            [
             0.7777777777777778,
             "#fb9f3a"
            ],
            [
             0.8888888888888888,
             "#fdca26"
            ],
            [
             1,
             "#f0f921"
            ]
           ]
          },
          "colorway": [
           "#636efa",
           "#EF553B",
           "#00cc96",
           "#ab63fa",
           "#FFA15A",
           "#19d3f3",
           "#FF6692",
           "#B6E880",
           "#FF97FF",
           "#FECB52"
          ],
          "font": {
           "color": "#2a3f5f"
          },
          "geo": {
           "bgcolor": "white",
           "lakecolor": "white",
           "landcolor": "#E5ECF6",
           "showlakes": true,
           "showland": true,
           "subunitcolor": "white"
          },
          "hoverlabel": {
           "align": "left"
          },
          "hovermode": "closest",
          "mapbox": {
           "style": "light"
          },
          "paper_bgcolor": "white",
          "plot_bgcolor": "#E5ECF6",
          "polar": {
           "angularaxis": {
            "gridcolor": "white",
            "linecolor": "white",
            "ticks": ""
           },
           "bgcolor": "#E5ECF6",
           "radialaxis": {
            "gridcolor": "white",
            "linecolor": "white",
            "ticks": ""
           }
          },
          "scene": {
           "xaxis": {
            "backgroundcolor": "#E5ECF6",
            "gridcolor": "white",
            "gridwidth": 2,
            "linecolor": "white",
            "showbackground": true,
            "ticks": "",
            "zerolinecolor": "white"
           },
           "yaxis": {
            "backgroundcolor": "#E5ECF6",
            "gridcolor": "white",
            "gridwidth": 2,
            "linecolor": "white",
            "showbackground": true,
            "ticks": "",
            "zerolinecolor": "white"
           },
           "zaxis": {
            "backgroundcolor": "#E5ECF6",
            "gridcolor": "white",
            "gridwidth": 2,
            "linecolor": "white",
            "showbackground": true,
            "ticks": "",
            "zerolinecolor": "white"
           }
          },
          "shapedefaults": {
           "line": {
            "color": "#2a3f5f"
           }
          },
          "ternary": {
           "aaxis": {
            "gridcolor": "white",
            "linecolor": "white",
            "ticks": ""
           },
           "baxis": {
            "gridcolor": "white",
            "linecolor": "white",
            "ticks": ""
           },
           "bgcolor": "#E5ECF6",
           "caxis": {
            "gridcolor": "white",
            "linecolor": "white",
            "ticks": ""
           }
          },
          "title": {
           "x": 0.05
          },
          "xaxis": {
           "automargin": true,
           "gridcolor": "white",
           "linecolor": "white",
           "ticks": "",
           "title": {
            "standoff": 15
           },
           "zerolinecolor": "white",
           "zerolinewidth": 2
          },
          "yaxis": {
           "automargin": true,
           "gridcolor": "white",
           "linecolor": "white",
           "ticks": "",
           "title": {
            "standoff": 15
           },
           "zerolinecolor": "white",
           "zerolinewidth": 2
          }
         }
        },
        "xaxis": {
         "anchor": "y",
         "domain": [
          0,
          1
         ],
         "title": {
          "text": "분기"
         }
        },
        "yaxis": {
         "anchor": "x",
         "domain": [
          0,
          1
         ],
         "title": {
          "text": "별점 비율(1점~3점, %)"
         }
        }
       }
      },
      "text/html": [
       "<div>                            <div id=\"501df73a-13f9-4066-a827-f8253a4a8127\" class=\"plotly-graph-div\" style=\"height:525px; width:100%;\"></div>            <script type=\"text/javascript\">                require([\"plotly\"], function(Plotly) {                    window.PLOTLYENV=window.PLOTLYENV || {};                                    if (document.getElementById(\"501df73a-13f9-4066-a827-f8253a4a8127\")) {                    Plotly.newPlot(                        \"501df73a-13f9-4066-a827-f8253a4a8127\",                        [{\"hovertemplate\":\"\\ubd84\\ub958=T\\uc140\\ud30c<br>\\ubd84\\uae30=%{x}<br>\\ubcc4\\uc810 \\ube44\\uc728(1\\uc810~3\\uc810, %)=%{y}<extra></extra>\",\"legendgroup\":\"T\\uc140\\ud30c\",\"line\":{\"color\":\"#636efa\",\"dash\":\"solid\"},\"marker\":{\"symbol\":\"circle\"},\"mode\":\"lines\",\"name\":\"T\\uc140\\ud30c\",\"orientation\":\"v\",\"showlegend\":true,\"x\":[\"2018 1/4\",\"2018 2/4\",\"2018 3/4\",\"2018 4/4\",\"2019 1/4\",\"2019 2/4\",\"2019 3/4\",\"2019 4/4\",\"2020 1/4\",\"2020 2/4\",\"2020 3/4\",\"2020 4/4\",\"2021 1/4\",\"2021 2/4\",\"2021 3/4\",\"2021 4/4\",\"2022 1/4\",\"2022 2/4\",\"2022 3/4\",\"2022 4/4\",\"2023 1/4\",\"2023 2/4\",\"2023 3/4\"],\"xaxis\":\"x\",\"y\":[0.0,31.578947368421048,11.11111111111111,3.4482758620689653,7.142857142857142,23.076923076923077,15.384615384615385,10.0,8.0,6.451612903225806,3.0303030303030303,9.333333333333334,5.263157894736842,2.631578947368421,3.0303030303030303,2.680412371134021,2.272727272727273,2.1582733812949644,0.7326007326007326,2.092050209205021,0.9090909090909091,2.7906976744186047,1.5873015873015872],\"yaxis\":\"y\",\"type\":\"scatter\"},{\"hovertemplate\":\"\\ubd84\\ub958=\\uc544\\uc774\\uc2a4\\ud06c\\ub9bc<br>\\ubd84\\uae30=%{x}<br>\\ubcc4\\uc810 \\ube44\\uc728(1\\uc810~3\\uc810, %)=%{y}<extra></extra>\",\"legendgroup\":\"\\uc544\\uc774\\uc2a4\\ud06c\\ub9bc\",\"line\":{\"color\":\"#EF553B\",\"dash\":\"solid\"},\"marker\":{\"symbol\":\"circle\"},\"mode\":\"lines\",\"name\":\"\\uc544\\uc774\\uc2a4\\ud06c\\ub9bc\",\"orientation\":\"v\",\"showlegend\":true,\"x\":[\"2018 1/4\",\"2018 2/4\",\"2018 3/4\",\"2018 4/4\",\"2019 1/4\",\"2019 2/4\",\"2019 3/4\",\"2019 4/4\",\"2020 1/4\",\"2020 2/4\",\"2020 3/4\",\"2020 4/4\",\"2021 1/4\",\"2021 2/4\",\"2021 3/4\",\"2021 4/4\",\"2022 1/4\",\"2022 2/4\",\"2022 3/4\",\"2022 4/4\",\"2023 1/4\",\"2023 2/4\",\"2023 3/4\"],\"xaxis\":\"x\",\"y\":[1.5873015873015872,3.543307086614173,2.9197080291970803,4.026845637583893,1.8518518518518516,3.571428571428571,2.293577981651376,1.6326530612244898,1.6877637130801688,3.11614730878187,2.4630541871921183,2.4054982817869415,1.7543859649122806,1.1583011583011582,0.4405286343612335,1.2944983818770226,2.1739130434782608,1.5624999999999998,2.816901408450704,1.3071895424836601,3.6036036036036037,3.550295857988166,2.0],\"yaxis\":\"y\",\"type\":\"scatter\"}],                        {\"template\":{\"data\":{\"histogram2dcontour\":[{\"type\":\"histogram2dcontour\",\"colorbar\":{\"outlinewidth\":0,\"ticks\":\"\"},\"colorscale\":[[0.0,\"#0d0887\"],[0.1111111111111111,\"#46039f\"],[0.2222222222222222,\"#7201a8\"],[0.3333333333333333,\"#9c179e\"],[0.4444444444444444,\"#bd3786\"],[0.5555555555555556,\"#d8576b\"],[0.6666666666666666,\"#ed7953\"],[0.7777777777777778,\"#fb9f3a\"],[0.8888888888888888,\"#fdca26\"],[1.0,\"#f0f921\"]]}],\"choropleth\":[{\"type\":\"choropleth\",\"colorbar\":{\"outlinewidth\":0,\"ticks\":\"\"}}],\"histogram2d\":[{\"type\":\"histogram2d\",\"colorbar\":{\"outlinewidth\":0,\"ticks\":\"\"},\"colorscale\":[[0.0,\"#0d0887\"],[0.1111111111111111,\"#46039f\"],[0.2222222222222222,\"#7201a8\"],[0.3333333333333333,\"#9c179e\"],[0.4444444444444444,\"#bd3786\"],[0.5555555555555556,\"#d8576b\"],[0.6666666666666666,\"#ed7953\"],[0.7777777777777778,\"#fb9f3a\"],[0.8888888888888888,\"#fdca26\"],[1.0,\"#f0f921\"]]}],\"heatmap\":[{\"type\":\"heatmap\",\"colorbar\":{\"outlinewidth\":0,\"ticks\":\"\"},\"colorscale\":[[0.0,\"#0d0887\"],[0.1111111111111111,\"#46039f\"],[0.2222222222222222,\"#7201a8\"],[0.3333333333333333,\"#9c179e\"],[0.4444444444444444,\"#bd3786\"],[0.5555555555555556,\"#d8576b\"],[0.6666666666666666,\"#ed7953\"],[0.7777777777777778,\"#fb9f3a\"],[0.8888888888888888,\"#fdca26\"],[1.0,\"#f0f921\"]]}],\"heatmapgl\":[{\"type\":\"heatmapgl\",\"colorbar\":{\"outlinewidth\":0,\"ticks\":\"\"},\"colorscale\":[[0.0,\"#0d0887\"],[0.1111111111111111,\"#46039f\"],[0.2222222222222222,\"#7201a8\"],[0.3333333333333333,\"#9c179e\"],[0.4444444444444444,\"#bd3786\"],[0.5555555555555556,\"#d8576b\"],[0.6666666666666666,\"#ed7953\"],[0.7777777777777778,\"#fb9f3a\"],[0.8888888888888888,\"#fdca26\"],[1.0,\"#f0f921\"]]}],\"contourcarpet\":[{\"type\":\"contourcarpet\",\"colorbar\":{\"outlinewidth\":0,\"ticks\":\"\"}}],\"contour\":[{\"type\":\"contour\",\"colorbar\":{\"outlinewidth\":0,\"ticks\":\"\"},\"colorscale\":[[0.0,\"#0d0887\"],[0.1111111111111111,\"#46039f\"],[0.2222222222222222,\"#7201a8\"],[0.3333333333333333,\"#9c179e\"],[0.4444444444444444,\"#bd3786\"],[0.5555555555555556,\"#d8576b\"],[0.6666666666666666,\"#ed7953\"],[0.7777777777777778,\"#fb9f3a\"],[0.8888888888888888,\"#fdca26\"],[1.0,\"#f0f921\"]]}],\"surface\":[{\"type\":\"surface\",\"colorbar\":{\"outlinewidth\":0,\"ticks\":\"\"},\"colorscale\":[[0.0,\"#0d0887\"],[0.1111111111111111,\"#46039f\"],[0.2222222222222222,\"#7201a8\"],[0.3333333333333333,\"#9c179e\"],[0.4444444444444444,\"#bd3786\"],[0.5555555555555556,\"#d8576b\"],[0.6666666666666666,\"#ed7953\"],[0.7777777777777778,\"#fb9f3a\"],[0.8888888888888888,\"#fdca26\"],[1.0,\"#f0f921\"]]}],\"mesh3d\":[{\"type\":\"mesh3d\",\"colorbar\":{\"outlinewidth\":0,\"ticks\":\"\"}}],\"scatter\":[{\"fillpattern\":{\"fillmode\":\"overlay\",\"size\":10,\"solidity\":0.2},\"type\":\"scatter\"}],\"parcoords\":[{\"type\":\"parcoords\",\"line\":{\"colorbar\":{\"outlinewidth\":0,\"ticks\":\"\"}}}],\"scatterpolargl\":[{\"type\":\"scatterpolargl\",\"marker\":{\"colorbar\":{\"outlinewidth\":0,\"ticks\":\"\"}}}],\"bar\":[{\"error_x\":{\"color\":\"#2a3f5f\"},\"error_y\":{\"color\":\"#2a3f5f\"},\"marker\":{\"line\":{\"color\":\"#E5ECF6\",\"width\":0.5},\"pattern\":{\"fillmode\":\"overlay\",\"size\":10,\"solidity\":0.2}},\"type\":\"bar\"}],\"scattergeo\":[{\"type\":\"scattergeo\",\"marker\":{\"colorbar\":{\"outlinewidth\":0,\"ticks\":\"\"}}}],\"scatterpolar\":[{\"type\":\"scatterpolar\",\"marker\":{\"colorbar\":{\"outlinewidth\":0,\"ticks\":\"\"}}}],\"histogram\":[{\"marker\":{\"pattern\":{\"fillmode\":\"overlay\",\"size\":10,\"solidity\":0.2}},\"type\":\"histogram\"}],\"scattergl\":[{\"type\":\"scattergl\",\"marker\":{\"colorbar\":{\"outlinewidth\":0,\"ticks\":\"\"}}}],\"scatter3d\":[{\"type\":\"scatter3d\",\"line\":{\"colorbar\":{\"outlinewidth\":0,\"ticks\":\"\"}},\"marker\":{\"colorbar\":{\"outlinewidth\":0,\"ticks\":\"\"}}}],\"scattermapbox\":[{\"type\":\"scattermapbox\",\"marker\":{\"colorbar\":{\"outlinewidth\":0,\"ticks\":\"\"}}}],\"scatterternary\":[{\"type\":\"scatterternary\",\"marker\":{\"colorbar\":{\"outlinewidth\":0,\"ticks\":\"\"}}}],\"scattercarpet\":[{\"type\":\"scattercarpet\",\"marker\":{\"colorbar\":{\"outlinewidth\":0,\"ticks\":\"\"}}}],\"carpet\":[{\"aaxis\":{\"endlinecolor\":\"#2a3f5f\",\"gridcolor\":\"white\",\"linecolor\":\"white\",\"minorgridcolor\":\"white\",\"startlinecolor\":\"#2a3f5f\"},\"baxis\":{\"endlinecolor\":\"#2a3f5f\",\"gridcolor\":\"white\",\"linecolor\":\"white\",\"minorgridcolor\":\"white\",\"startlinecolor\":\"#2a3f5f\"},\"type\":\"carpet\"}],\"table\":[{\"cells\":{\"fill\":{\"color\":\"#EBF0F8\"},\"line\":{\"color\":\"white\"}},\"header\":{\"fill\":{\"color\":\"#C8D4E3\"},\"line\":{\"color\":\"white\"}},\"type\":\"table\"}],\"barpolar\":[{\"marker\":{\"line\":{\"color\":\"#E5ECF6\",\"width\":0.5},\"pattern\":{\"fillmode\":\"overlay\",\"size\":10,\"solidity\":0.2}},\"type\":\"barpolar\"}],\"pie\":[{\"automargin\":true,\"type\":\"pie\"}]},\"layout\":{\"autotypenumbers\":\"strict\",\"colorway\":[\"#636efa\",\"#EF553B\",\"#00cc96\",\"#ab63fa\",\"#FFA15A\",\"#19d3f3\",\"#FF6692\",\"#B6E880\",\"#FF97FF\",\"#FECB52\"],\"font\":{\"color\":\"#2a3f5f\"},\"hovermode\":\"closest\",\"hoverlabel\":{\"align\":\"left\"},\"paper_bgcolor\":\"white\",\"plot_bgcolor\":\"#E5ECF6\",\"polar\":{\"bgcolor\":\"#E5ECF6\",\"angularaxis\":{\"gridcolor\":\"white\",\"linecolor\":\"white\",\"ticks\":\"\"},\"radialaxis\":{\"gridcolor\":\"white\",\"linecolor\":\"white\",\"ticks\":\"\"}},\"ternary\":{\"bgcolor\":\"#E5ECF6\",\"aaxis\":{\"gridcolor\":\"white\",\"linecolor\":\"white\",\"ticks\":\"\"},\"baxis\":{\"gridcolor\":\"white\",\"linecolor\":\"white\",\"ticks\":\"\"},\"caxis\":{\"gridcolor\":\"white\",\"linecolor\":\"white\",\"ticks\":\"\"}},\"coloraxis\":{\"colorbar\":{\"outlinewidth\":0,\"ticks\":\"\"}},\"colorscale\":{\"sequential\":[[0.0,\"#0d0887\"],[0.1111111111111111,\"#46039f\"],[0.2222222222222222,\"#7201a8\"],[0.3333333333333333,\"#9c179e\"],[0.4444444444444444,\"#bd3786\"],[0.5555555555555556,\"#d8576b\"],[0.6666666666666666,\"#ed7953\"],[0.7777777777777778,\"#fb9f3a\"],[0.8888888888888888,\"#fdca26\"],[1.0,\"#f0f921\"]],\"sequentialminus\":[[0.0,\"#0d0887\"],[0.1111111111111111,\"#46039f\"],[0.2222222222222222,\"#7201a8\"],[0.3333333333333333,\"#9c179e\"],[0.4444444444444444,\"#bd3786\"],[0.5555555555555556,\"#d8576b\"],[0.6666666666666666,\"#ed7953\"],[0.7777777777777778,\"#fb9f3a\"],[0.8888888888888888,\"#fdca26\"],[1.0,\"#f0f921\"]],\"diverging\":[[0,\"#8e0152\"],[0.1,\"#c51b7d\"],[0.2,\"#de77ae\"],[0.3,\"#f1b6da\"],[0.4,\"#fde0ef\"],[0.5,\"#f7f7f7\"],[0.6,\"#e6f5d0\"],[0.7,\"#b8e186\"],[0.8,\"#7fbc41\"],[0.9,\"#4d9221\"],[1,\"#276419\"]]},\"xaxis\":{\"gridcolor\":\"white\",\"linecolor\":\"white\",\"ticks\":\"\",\"title\":{\"standoff\":15},\"zerolinecolor\":\"white\",\"automargin\":true,\"zerolinewidth\":2},\"yaxis\":{\"gridcolor\":\"white\",\"linecolor\":\"white\",\"ticks\":\"\",\"title\":{\"standoff\":15},\"zerolinecolor\":\"white\",\"automargin\":true,\"zerolinewidth\":2},\"scene\":{\"xaxis\":{\"backgroundcolor\":\"#E5ECF6\",\"gridcolor\":\"white\",\"linecolor\":\"white\",\"showbackground\":true,\"ticks\":\"\",\"zerolinecolor\":\"white\",\"gridwidth\":2},\"yaxis\":{\"backgroundcolor\":\"#E5ECF6\",\"gridcolor\":\"white\",\"linecolor\":\"white\",\"showbackground\":true,\"ticks\":\"\",\"zerolinecolor\":\"white\",\"gridwidth\":2},\"zaxis\":{\"backgroundcolor\":\"#E5ECF6\",\"gridcolor\":\"white\",\"linecolor\":\"white\",\"showbackground\":true,\"ticks\":\"\",\"zerolinecolor\":\"white\",\"gridwidth\":2}},\"shapedefaults\":{\"line\":{\"color\":\"#2a3f5f\"}},\"annotationdefaults\":{\"arrowcolor\":\"#2a3f5f\",\"arrowhead\":0,\"arrowwidth\":1},\"geo\":{\"bgcolor\":\"white\",\"landcolor\":\"#E5ECF6\",\"subunitcolor\":\"white\",\"showland\":true,\"showlakes\":true,\"lakecolor\":\"white\"},\"title\":{\"x\":0.05},\"mapbox\":{\"style\":\"light\"}}},\"xaxis\":{\"anchor\":\"y\",\"domain\":[0.0,1.0],\"title\":{\"text\":\"\\ubd84\\uae30\"}},\"yaxis\":{\"anchor\":\"x\",\"domain\":[0.0,1.0],\"title\":{\"text\":\"\\ubcc4\\uc810 \\ube44\\uc728(1\\uc810~3\\uc810, %)\"}},\"legend\":{\"title\":{\"text\":\"\\ubd84\\ub958\"},\"tracegroupgap\":0,\"yanchor\":\"top\",\"y\":0.99,\"xanchor\":\"left\",\"x\":0.865},\"margin\":{\"t\":60}},                        {\"responsive\": true}                    ).then(function(){\n",
       "                            \n",
       "var gd = document.getElementById('501df73a-13f9-4066-a827-f8253a4a8127');\n",
       "var x = new MutationObserver(function (mutations, observer) {{\n",
       "        var display = window.getComputedStyle(gd).display;\n",
       "        if (!display || display === 'none') {{\n",
       "            console.log([gd, 'removed!']);\n",
       "            Plotly.purge(gd);\n",
       "            observer.disconnect();\n",
       "        }}\n",
       "}});\n",
       "\n",
       "// Listen for the removal of the full notebook cells\n",
       "var notebookContainer = gd.closest('#notebook-container');\n",
       "if (notebookContainer) {{\n",
       "    x.observe(notebookContainer, {childList: true});\n",
       "}}\n",
       "\n",
       "// Listen for the clearing of the current output cell\n",
       "var outputEl = gd.closest('.output');\n",
       "if (outputEl) {{\n",
       "    x.observe(outputEl, {childList: true});\n",
       "}}\n",
       "\n",
       "                        })                };                });            </script>        </div>"
      ]
     },
     "metadata": {},
     "output_type": "display_data"
    }
   ],
   "source": [
    "# 3점 이하 별점 비율 그래프\n",
    "\n",
    "import plotly.express as px\n",
    "fig = px.line(DFs, x = 'quarter', y = '1+2+3', color = '분류',\n",
    "       labels={'quarter':'분기', '1+2+3':'별점 비율(1점~3점, %)'})\n",
    "\n",
    "fig.update_layout(legend=dict(\n",
    "    yanchor=\"top\",\n",
    "    y=0.99,\n",
    "    xanchor=\"left\",\n",
    "    x=0.865\n",
    "))\n",
    "\n",
    "fig.show()"
   ]
  },
  {
   "cell_type": "code",
   "execution_count": null,
   "id": "d938d155",
   "metadata": {},
   "outputs": [],
   "source": []
  },
  {
   "cell_type": "code",
   "execution_count": 467,
   "id": "305604db",
   "metadata": {},
   "outputs": [
    {
     "data": {
      "application/vnd.plotly.v1+json": {
       "config": {
        "plotlyServerURL": "https://plot.ly"
       },
       "data": [
        {
         "hovertemplate": "분류=T셀파<br>분기=%{x}<br>리뷰 개수(T셀파: 개, 아이스크림: x10개)=%{y}<extra></extra>",
         "legendgroup": "T셀파",
         "line": {
          "color": "#636efa",
          "dash": "solid"
         },
         "marker": {
          "symbol": "circle"
         },
         "mode": "lines",
         "name": "T셀파",
         "orientation": "v",
         "showlegend": true,
         "type": "scatter",
         "x": [
          "2018 1/4",
          "2018 2/4",
          "2018 3/4",
          "2018 4/4",
          "2019 1/4",
          "2019 2/4",
          "2019 3/4",
          "2019 4/4",
          "2020 1/4",
          "2020 2/4",
          "2020 3/4",
          "2020 4/4",
          "2021 1/4",
          "2021 2/4",
          "2021 3/4",
          "2021 4/4",
          "2022 1/4",
          "2022 2/4",
          "2022 3/4",
          "2022 4/4",
          "2023 1/4",
          "2023 2/4",
          "2023 3/4"
         ],
         "xaxis": "x",
         "y": [
          4,
          19,
          9,
          29,
          14,
          13,
          13,
          60,
          25,
          62,
          33,
          75,
          38,
          152,
          198,
          485,
          88,
          139,
          273,
          478,
          110,
          215,
          63
         ],
         "yaxis": "y"
        },
        {
         "hovertemplate": "분류=아이스크림<br>분기=%{x}<br>리뷰 개수(T셀파: 개, 아이스크림: x10개)=%{y}<extra></extra>",
         "legendgroup": "아이스크림",
         "line": {
          "color": "#EF553B",
          "dash": "solid"
         },
         "marker": {
          "symbol": "circle"
         },
         "mode": "lines",
         "name": "아이스크림",
         "orientation": "v",
         "showlegend": true,
         "type": "scatter",
         "x": [
          "2018 1/4",
          "2018 2/4",
          "2018 3/4",
          "2018 4/4",
          "2019 1/4",
          "2019 2/4",
          "2019 3/4",
          "2019 4/4",
          "2020 1/4",
          "2020 2/4",
          "2020 3/4",
          "2020 4/4",
          "2021 1/4",
          "2021 2/4",
          "2021 3/4",
          "2021 4/4",
          "2022 1/4",
          "2022 2/4",
          "2022 3/4",
          "2022 4/4",
          "2023 1/4",
          "2023 2/4",
          "2023 3/4"
         ],
         "xaxis": "x",
         "y": [
          126,
          254,
          274,
          298,
          108,
          196,
          218,
          245,
          237,
          353,
          203,
          291,
          114,
          259,
          227,
          309,
          138,
          192,
          213,
          306,
          111,
          169,
          50
         ],
         "yaxis": "y"
        }
       ],
       "layout": {
        "legend": {
         "title": {
          "text": "분류"
         },
         "tracegroupgap": 0,
         "x": 0.005,
         "xanchor": "left",
         "y": 0.99,
         "yanchor": "top"
        },
        "margin": {
         "t": 60
        },
        "template": {
         "data": {
          "bar": [
           {
            "error_x": {
             "color": "#2a3f5f"
            },
            "error_y": {
             "color": "#2a3f5f"
            },
            "marker": {
             "line": {
              "color": "#E5ECF6",
              "width": 0.5
             },
             "pattern": {
              "fillmode": "overlay",
              "size": 10,
              "solidity": 0.2
             }
            },
            "type": "bar"
           }
          ],
          "barpolar": [
           {
            "marker": {
             "line": {
              "color": "#E5ECF6",
              "width": 0.5
             },
             "pattern": {
              "fillmode": "overlay",
              "size": 10,
              "solidity": 0.2
             }
            },
            "type": "barpolar"
           }
          ],
          "carpet": [
           {
            "aaxis": {
             "endlinecolor": "#2a3f5f",
             "gridcolor": "white",
             "linecolor": "white",
             "minorgridcolor": "white",
             "startlinecolor": "#2a3f5f"
            },
            "baxis": {
             "endlinecolor": "#2a3f5f",
             "gridcolor": "white",
             "linecolor": "white",
             "minorgridcolor": "white",
             "startlinecolor": "#2a3f5f"
            },
            "type": "carpet"
           }
          ],
          "choropleth": [
           {
            "colorbar": {
             "outlinewidth": 0,
             "ticks": ""
            },
            "type": "choropleth"
           }
          ],
          "contour": [
           {
            "colorbar": {
             "outlinewidth": 0,
             "ticks": ""
            },
            "colorscale": [
             [
              0,
              "#0d0887"
             ],
             [
              0.1111111111111111,
              "#46039f"
             ],
             [
              0.2222222222222222,
              "#7201a8"
             ],
             [
              0.3333333333333333,
              "#9c179e"
             ],
             [
              0.4444444444444444,
              "#bd3786"
             ],
             [
              0.5555555555555556,
              "#d8576b"
             ],
             [
              0.6666666666666666,
              "#ed7953"
             ],
             [
              0.7777777777777778,
              "#fb9f3a"
             ],
             [
              0.8888888888888888,
              "#fdca26"
             ],
             [
              1,
              "#f0f921"
             ]
            ],
            "type": "contour"
           }
          ],
          "contourcarpet": [
           {
            "colorbar": {
             "outlinewidth": 0,
             "ticks": ""
            },
            "type": "contourcarpet"
           }
          ],
          "heatmap": [
           {
            "colorbar": {
             "outlinewidth": 0,
             "ticks": ""
            },
            "colorscale": [
             [
              0,
              "#0d0887"
             ],
             [
              0.1111111111111111,
              "#46039f"
             ],
             [
              0.2222222222222222,
              "#7201a8"
             ],
             [
              0.3333333333333333,
              "#9c179e"
             ],
             [
              0.4444444444444444,
              "#bd3786"
             ],
             [
              0.5555555555555556,
              "#d8576b"
             ],
             [
              0.6666666666666666,
              "#ed7953"
             ],
             [
              0.7777777777777778,
              "#fb9f3a"
             ],
             [
              0.8888888888888888,
              "#fdca26"
             ],
             [
              1,
              "#f0f921"
             ]
            ],
            "type": "heatmap"
           }
          ],
          "heatmapgl": [
           {
            "colorbar": {
             "outlinewidth": 0,
             "ticks": ""
            },
            "colorscale": [
             [
              0,
              "#0d0887"
             ],
             [
              0.1111111111111111,
              "#46039f"
             ],
             [
              0.2222222222222222,
              "#7201a8"
             ],
             [
              0.3333333333333333,
              "#9c179e"
             ],
             [
              0.4444444444444444,
              "#bd3786"
             ],
             [
              0.5555555555555556,
              "#d8576b"
             ],
             [
              0.6666666666666666,
              "#ed7953"
             ],
             [
              0.7777777777777778,
              "#fb9f3a"
             ],
             [
              0.8888888888888888,
              "#fdca26"
             ],
             [
              1,
              "#f0f921"
             ]
            ],
            "type": "heatmapgl"
           }
          ],
          "histogram": [
           {
            "marker": {
             "pattern": {
              "fillmode": "overlay",
              "size": 10,
              "solidity": 0.2
             }
            },
            "type": "histogram"
           }
          ],
          "histogram2d": [
           {
            "colorbar": {
             "outlinewidth": 0,
             "ticks": ""
            },
            "colorscale": [
             [
              0,
              "#0d0887"
             ],
             [
              0.1111111111111111,
              "#46039f"
             ],
             [
              0.2222222222222222,
              "#7201a8"
             ],
             [
              0.3333333333333333,
              "#9c179e"
             ],
             [
              0.4444444444444444,
              "#bd3786"
             ],
             [
              0.5555555555555556,
              "#d8576b"
             ],
             [
              0.6666666666666666,
              "#ed7953"
             ],
             [
              0.7777777777777778,
              "#fb9f3a"
             ],
             [
              0.8888888888888888,
              "#fdca26"
             ],
             [
              1,
              "#f0f921"
             ]
            ],
            "type": "histogram2d"
           }
          ],
          "histogram2dcontour": [
           {
            "colorbar": {
             "outlinewidth": 0,
             "ticks": ""
            },
            "colorscale": [
             [
              0,
              "#0d0887"
             ],
             [
              0.1111111111111111,
              "#46039f"
             ],
             [
              0.2222222222222222,
              "#7201a8"
             ],
             [
              0.3333333333333333,
              "#9c179e"
             ],
             [
              0.4444444444444444,
              "#bd3786"
             ],
             [
              0.5555555555555556,
              "#d8576b"
             ],
             [
              0.6666666666666666,
              "#ed7953"
             ],
             [
              0.7777777777777778,
              "#fb9f3a"
             ],
             [
              0.8888888888888888,
              "#fdca26"
             ],
             [
              1,
              "#f0f921"
             ]
            ],
            "type": "histogram2dcontour"
           }
          ],
          "mesh3d": [
           {
            "colorbar": {
             "outlinewidth": 0,
             "ticks": ""
            },
            "type": "mesh3d"
           }
          ],
          "parcoords": [
           {
            "line": {
             "colorbar": {
              "outlinewidth": 0,
              "ticks": ""
             }
            },
            "type": "parcoords"
           }
          ],
          "pie": [
           {
            "automargin": true,
            "type": "pie"
           }
          ],
          "scatter": [
           {
            "fillpattern": {
             "fillmode": "overlay",
             "size": 10,
             "solidity": 0.2
            },
            "type": "scatter"
           }
          ],
          "scatter3d": [
           {
            "line": {
             "colorbar": {
              "outlinewidth": 0,
              "ticks": ""
             }
            },
            "marker": {
             "colorbar": {
              "outlinewidth": 0,
              "ticks": ""
             }
            },
            "type": "scatter3d"
           }
          ],
          "scattercarpet": [
           {
            "marker": {
             "colorbar": {
              "outlinewidth": 0,
              "ticks": ""
             }
            },
            "type": "scattercarpet"
           }
          ],
          "scattergeo": [
           {
            "marker": {
             "colorbar": {
              "outlinewidth": 0,
              "ticks": ""
             }
            },
            "type": "scattergeo"
           }
          ],
          "scattergl": [
           {
            "marker": {
             "colorbar": {
              "outlinewidth": 0,
              "ticks": ""
             }
            },
            "type": "scattergl"
           }
          ],
          "scattermapbox": [
           {
            "marker": {
             "colorbar": {
              "outlinewidth": 0,
              "ticks": ""
             }
            },
            "type": "scattermapbox"
           }
          ],
          "scatterpolar": [
           {
            "marker": {
             "colorbar": {
              "outlinewidth": 0,
              "ticks": ""
             }
            },
            "type": "scatterpolar"
           }
          ],
          "scatterpolargl": [
           {
            "marker": {
             "colorbar": {
              "outlinewidth": 0,
              "ticks": ""
             }
            },
            "type": "scatterpolargl"
           }
          ],
          "scatterternary": [
           {
            "marker": {
             "colorbar": {
              "outlinewidth": 0,
              "ticks": ""
             }
            },
            "type": "scatterternary"
           }
          ],
          "surface": [
           {
            "colorbar": {
             "outlinewidth": 0,
             "ticks": ""
            },
            "colorscale": [
             [
              0,
              "#0d0887"
             ],
             [
              0.1111111111111111,
              "#46039f"
             ],
             [
              0.2222222222222222,
              "#7201a8"
             ],
             [
              0.3333333333333333,
              "#9c179e"
             ],
             [
              0.4444444444444444,
              "#bd3786"
             ],
             [
              0.5555555555555556,
              "#d8576b"
             ],
             [
              0.6666666666666666,
              "#ed7953"
             ],
             [
              0.7777777777777778,
              "#fb9f3a"
             ],
             [
              0.8888888888888888,
              "#fdca26"
             ],
             [
              1,
              "#f0f921"
             ]
            ],
            "type": "surface"
           }
          ],
          "table": [
           {
            "cells": {
             "fill": {
              "color": "#EBF0F8"
             },
             "line": {
              "color": "white"
             }
            },
            "header": {
             "fill": {
              "color": "#C8D4E3"
             },
             "line": {
              "color": "white"
             }
            },
            "type": "table"
           }
          ]
         },
         "layout": {
          "annotationdefaults": {
           "arrowcolor": "#2a3f5f",
           "arrowhead": 0,
           "arrowwidth": 1
          },
          "autotypenumbers": "strict",
          "coloraxis": {
           "colorbar": {
            "outlinewidth": 0,
            "ticks": ""
           }
          },
          "colorscale": {
           "diverging": [
            [
             0,
             "#8e0152"
            ],
            [
             0.1,
             "#c51b7d"
            ],
            [
             0.2,
             "#de77ae"
            ],
            [
             0.3,
             "#f1b6da"
            ],
            [
             0.4,
             "#fde0ef"
            ],
            [
             0.5,
             "#f7f7f7"
            ],
            [
             0.6,
             "#e6f5d0"
            ],
            [
             0.7,
             "#b8e186"
            ],
            [
             0.8,
             "#7fbc41"
            ],
            [
             0.9,
             "#4d9221"
            ],
            [
             1,
             "#276419"
            ]
           ],
           "sequential": [
            [
             0,
             "#0d0887"
            ],
            [
             0.1111111111111111,
             "#46039f"
            ],
            [
             0.2222222222222222,
             "#7201a8"
            ],
            [
             0.3333333333333333,
             "#9c179e"
            ],
            [
             0.4444444444444444,
             "#bd3786"
            ],
            [
             0.5555555555555556,
             "#d8576b"
            ],
            [
             0.6666666666666666,
             "#ed7953"
            ],
            [
             0.7777777777777778,
             "#fb9f3a"
            ],
            [
             0.8888888888888888,
             "#fdca26"
            ],
            [
             1,
             "#f0f921"
            ]
           ],
           "sequentialminus": [
            [
             0,
             "#0d0887"
            ],
            [
             0.1111111111111111,
             "#46039f"
            ],
            [
             0.2222222222222222,
             "#7201a8"
            ],
            [
             0.3333333333333333,
             "#9c179e"
            ],
            [
             0.4444444444444444,
             "#bd3786"
            ],
            [
             0.5555555555555556,
             "#d8576b"
            ],
            [
             0.6666666666666666,
             "#ed7953"
            ],
            [
             0.7777777777777778,
             "#fb9f3a"
            ],
            [
             0.8888888888888888,
             "#fdca26"
            ],
            [
             1,
             "#f0f921"
            ]
           ]
          },
          "colorway": [
           "#636efa",
           "#EF553B",
           "#00cc96",
           "#ab63fa",
           "#FFA15A",
           "#19d3f3",
           "#FF6692",
           "#B6E880",
           "#FF97FF",
           "#FECB52"
          ],
          "font": {
           "color": "#2a3f5f"
          },
          "geo": {
           "bgcolor": "white",
           "lakecolor": "white",
           "landcolor": "#E5ECF6",
           "showlakes": true,
           "showland": true,
           "subunitcolor": "white"
          },
          "hoverlabel": {
           "align": "left"
          },
          "hovermode": "closest",
          "mapbox": {
           "style": "light"
          },
          "paper_bgcolor": "white",
          "plot_bgcolor": "#E5ECF6",
          "polar": {
           "angularaxis": {
            "gridcolor": "white",
            "linecolor": "white",
            "ticks": ""
           },
           "bgcolor": "#E5ECF6",
           "radialaxis": {
            "gridcolor": "white",
            "linecolor": "white",
            "ticks": ""
           }
          },
          "scene": {
           "xaxis": {
            "backgroundcolor": "#E5ECF6",
            "gridcolor": "white",
            "gridwidth": 2,
            "linecolor": "white",
            "showbackground": true,
            "ticks": "",
            "zerolinecolor": "white"
           },
           "yaxis": {
            "backgroundcolor": "#E5ECF6",
            "gridcolor": "white",
            "gridwidth": 2,
            "linecolor": "white",
            "showbackground": true,
            "ticks": "",
            "zerolinecolor": "white"
           },
           "zaxis": {
            "backgroundcolor": "#E5ECF6",
            "gridcolor": "white",
            "gridwidth": 2,
            "linecolor": "white",
            "showbackground": true,
            "ticks": "",
            "zerolinecolor": "white"
           }
          },
          "shapedefaults": {
           "line": {
            "color": "#2a3f5f"
           }
          },
          "ternary": {
           "aaxis": {
            "gridcolor": "white",
            "linecolor": "white",
            "ticks": ""
           },
           "baxis": {
            "gridcolor": "white",
            "linecolor": "white",
            "ticks": ""
           },
           "bgcolor": "#E5ECF6",
           "caxis": {
            "gridcolor": "white",
            "linecolor": "white",
            "ticks": ""
           }
          },
          "title": {
           "x": 0.05
          },
          "xaxis": {
           "automargin": true,
           "gridcolor": "white",
           "linecolor": "white",
           "ticks": "",
           "title": {
            "standoff": 15
           },
           "zerolinecolor": "white",
           "zerolinewidth": 2
          },
          "yaxis": {
           "automargin": true,
           "gridcolor": "white",
           "linecolor": "white",
           "ticks": "",
           "title": {
            "standoff": 15
           },
           "zerolinecolor": "white",
           "zerolinewidth": 2
          }
         }
        },
        "xaxis": {
         "anchor": "y",
         "domain": [
          0,
          1
         ],
         "title": {
          "text": "분기"
         }
        },
        "yaxis": {
         "anchor": "x",
         "domain": [
          0,
          1
         ],
         "title": {
          "text": "리뷰 개수(T셀파: 개, 아이스크림: x10개)"
         }
        }
       }
      },
      "text/html": [
       "<div>                            <div id=\"11230851-fec0-40e9-b849-c846de987803\" class=\"plotly-graph-div\" style=\"height:525px; width:100%;\"></div>            <script type=\"text/javascript\">                require([\"plotly\"], function(Plotly) {                    window.PLOTLYENV=window.PLOTLYENV || {};                                    if (document.getElementById(\"11230851-fec0-40e9-b849-c846de987803\")) {                    Plotly.newPlot(                        \"11230851-fec0-40e9-b849-c846de987803\",                        [{\"hovertemplate\":\"\\ubd84\\ub958=T\\uc140\\ud30c<br>\\ubd84\\uae30=%{x}<br>\\ub9ac\\ubdf0 \\uac1c\\uc218(T\\uc140\\ud30c: \\uac1c, \\uc544\\uc774\\uc2a4\\ud06c\\ub9bc: x10\\uac1c)=%{y}<extra></extra>\",\"legendgroup\":\"T\\uc140\\ud30c\",\"line\":{\"color\":\"#636efa\",\"dash\":\"solid\"},\"marker\":{\"symbol\":\"circle\"},\"mode\":\"lines\",\"name\":\"T\\uc140\\ud30c\",\"orientation\":\"v\",\"showlegend\":true,\"x\":[\"2018 1/4\",\"2018 2/4\",\"2018 3/4\",\"2018 4/4\",\"2019 1/4\",\"2019 2/4\",\"2019 3/4\",\"2019 4/4\",\"2020 1/4\",\"2020 2/4\",\"2020 3/4\",\"2020 4/4\",\"2021 1/4\",\"2021 2/4\",\"2021 3/4\",\"2021 4/4\",\"2022 1/4\",\"2022 2/4\",\"2022 3/4\",\"2022 4/4\",\"2023 1/4\",\"2023 2/4\",\"2023 3/4\"],\"xaxis\":\"x\",\"y\":[4,19,9,29,14,13,13,60,25,62,33,75,38,152,198,485,88,139,273,478,110,215,63],\"yaxis\":\"y\",\"type\":\"scatter\"},{\"hovertemplate\":\"\\ubd84\\ub958=\\uc544\\uc774\\uc2a4\\ud06c\\ub9bc<br>\\ubd84\\uae30=%{x}<br>\\ub9ac\\ubdf0 \\uac1c\\uc218(T\\uc140\\ud30c: \\uac1c, \\uc544\\uc774\\uc2a4\\ud06c\\ub9bc: x10\\uac1c)=%{y}<extra></extra>\",\"legendgroup\":\"\\uc544\\uc774\\uc2a4\\ud06c\\ub9bc\",\"line\":{\"color\":\"#EF553B\",\"dash\":\"solid\"},\"marker\":{\"symbol\":\"circle\"},\"mode\":\"lines\",\"name\":\"\\uc544\\uc774\\uc2a4\\ud06c\\ub9bc\",\"orientation\":\"v\",\"showlegend\":true,\"x\":[\"2018 1/4\",\"2018 2/4\",\"2018 3/4\",\"2018 4/4\",\"2019 1/4\",\"2019 2/4\",\"2019 3/4\",\"2019 4/4\",\"2020 1/4\",\"2020 2/4\",\"2020 3/4\",\"2020 4/4\",\"2021 1/4\",\"2021 2/4\",\"2021 3/4\",\"2021 4/4\",\"2022 1/4\",\"2022 2/4\",\"2022 3/4\",\"2022 4/4\",\"2023 1/4\",\"2023 2/4\",\"2023 3/4\"],\"xaxis\":\"x\",\"y\":[126,254,274,298,108,196,218,245,237,353,203,291,114,259,227,309,138,192,213,306,111,169,50],\"yaxis\":\"y\",\"type\":\"scatter\"}],                        {\"template\":{\"data\":{\"histogram2dcontour\":[{\"type\":\"histogram2dcontour\",\"colorbar\":{\"outlinewidth\":0,\"ticks\":\"\"},\"colorscale\":[[0.0,\"#0d0887\"],[0.1111111111111111,\"#46039f\"],[0.2222222222222222,\"#7201a8\"],[0.3333333333333333,\"#9c179e\"],[0.4444444444444444,\"#bd3786\"],[0.5555555555555556,\"#d8576b\"],[0.6666666666666666,\"#ed7953\"],[0.7777777777777778,\"#fb9f3a\"],[0.8888888888888888,\"#fdca26\"],[1.0,\"#f0f921\"]]}],\"choropleth\":[{\"type\":\"choropleth\",\"colorbar\":{\"outlinewidth\":0,\"ticks\":\"\"}}],\"histogram2d\":[{\"type\":\"histogram2d\",\"colorbar\":{\"outlinewidth\":0,\"ticks\":\"\"},\"colorscale\":[[0.0,\"#0d0887\"],[0.1111111111111111,\"#46039f\"],[0.2222222222222222,\"#7201a8\"],[0.3333333333333333,\"#9c179e\"],[0.4444444444444444,\"#bd3786\"],[0.5555555555555556,\"#d8576b\"],[0.6666666666666666,\"#ed7953\"],[0.7777777777777778,\"#fb9f3a\"],[0.8888888888888888,\"#fdca26\"],[1.0,\"#f0f921\"]]}],\"heatmap\":[{\"type\":\"heatmap\",\"colorbar\":{\"outlinewidth\":0,\"ticks\":\"\"},\"colorscale\":[[0.0,\"#0d0887\"],[0.1111111111111111,\"#46039f\"],[0.2222222222222222,\"#7201a8\"],[0.3333333333333333,\"#9c179e\"],[0.4444444444444444,\"#bd3786\"],[0.5555555555555556,\"#d8576b\"],[0.6666666666666666,\"#ed7953\"],[0.7777777777777778,\"#fb9f3a\"],[0.8888888888888888,\"#fdca26\"],[1.0,\"#f0f921\"]]}],\"heatmapgl\":[{\"type\":\"heatmapgl\",\"colorbar\":{\"outlinewidth\":0,\"ticks\":\"\"},\"colorscale\":[[0.0,\"#0d0887\"],[0.1111111111111111,\"#46039f\"],[0.2222222222222222,\"#7201a8\"],[0.3333333333333333,\"#9c179e\"],[0.4444444444444444,\"#bd3786\"],[0.5555555555555556,\"#d8576b\"],[0.6666666666666666,\"#ed7953\"],[0.7777777777777778,\"#fb9f3a\"],[0.8888888888888888,\"#fdca26\"],[1.0,\"#f0f921\"]]}],\"contourcarpet\":[{\"type\":\"contourcarpet\",\"colorbar\":{\"outlinewidth\":0,\"ticks\":\"\"}}],\"contour\":[{\"type\":\"contour\",\"colorbar\":{\"outlinewidth\":0,\"ticks\":\"\"},\"colorscale\":[[0.0,\"#0d0887\"],[0.1111111111111111,\"#46039f\"],[0.2222222222222222,\"#7201a8\"],[0.3333333333333333,\"#9c179e\"],[0.4444444444444444,\"#bd3786\"],[0.5555555555555556,\"#d8576b\"],[0.6666666666666666,\"#ed7953\"],[0.7777777777777778,\"#fb9f3a\"],[0.8888888888888888,\"#fdca26\"],[1.0,\"#f0f921\"]]}],\"surface\":[{\"type\":\"surface\",\"colorbar\":{\"outlinewidth\":0,\"ticks\":\"\"},\"colorscale\":[[0.0,\"#0d0887\"],[0.1111111111111111,\"#46039f\"],[0.2222222222222222,\"#7201a8\"],[0.3333333333333333,\"#9c179e\"],[0.4444444444444444,\"#bd3786\"],[0.5555555555555556,\"#d8576b\"],[0.6666666666666666,\"#ed7953\"],[0.7777777777777778,\"#fb9f3a\"],[0.8888888888888888,\"#fdca26\"],[1.0,\"#f0f921\"]]}],\"mesh3d\":[{\"type\":\"mesh3d\",\"colorbar\":{\"outlinewidth\":0,\"ticks\":\"\"}}],\"scatter\":[{\"fillpattern\":{\"fillmode\":\"overlay\",\"size\":10,\"solidity\":0.2},\"type\":\"scatter\"}],\"parcoords\":[{\"type\":\"parcoords\",\"line\":{\"colorbar\":{\"outlinewidth\":0,\"ticks\":\"\"}}}],\"scatterpolargl\":[{\"type\":\"scatterpolargl\",\"marker\":{\"colorbar\":{\"outlinewidth\":0,\"ticks\":\"\"}}}],\"bar\":[{\"error_x\":{\"color\":\"#2a3f5f\"},\"error_y\":{\"color\":\"#2a3f5f\"},\"marker\":{\"line\":{\"color\":\"#E5ECF6\",\"width\":0.5},\"pattern\":{\"fillmode\":\"overlay\",\"size\":10,\"solidity\":0.2}},\"type\":\"bar\"}],\"scattergeo\":[{\"type\":\"scattergeo\",\"marker\":{\"colorbar\":{\"outlinewidth\":0,\"ticks\":\"\"}}}],\"scatterpolar\":[{\"type\":\"scatterpolar\",\"marker\":{\"colorbar\":{\"outlinewidth\":0,\"ticks\":\"\"}}}],\"histogram\":[{\"marker\":{\"pattern\":{\"fillmode\":\"overlay\",\"size\":10,\"solidity\":0.2}},\"type\":\"histogram\"}],\"scattergl\":[{\"type\":\"scattergl\",\"marker\":{\"colorbar\":{\"outlinewidth\":0,\"ticks\":\"\"}}}],\"scatter3d\":[{\"type\":\"scatter3d\",\"line\":{\"colorbar\":{\"outlinewidth\":0,\"ticks\":\"\"}},\"marker\":{\"colorbar\":{\"outlinewidth\":0,\"ticks\":\"\"}}}],\"scattermapbox\":[{\"type\":\"scattermapbox\",\"marker\":{\"colorbar\":{\"outlinewidth\":0,\"ticks\":\"\"}}}],\"scatterternary\":[{\"type\":\"scatterternary\",\"marker\":{\"colorbar\":{\"outlinewidth\":0,\"ticks\":\"\"}}}],\"scattercarpet\":[{\"type\":\"scattercarpet\",\"marker\":{\"colorbar\":{\"outlinewidth\":0,\"ticks\":\"\"}}}],\"carpet\":[{\"aaxis\":{\"endlinecolor\":\"#2a3f5f\",\"gridcolor\":\"white\",\"linecolor\":\"white\",\"minorgridcolor\":\"white\",\"startlinecolor\":\"#2a3f5f\"},\"baxis\":{\"endlinecolor\":\"#2a3f5f\",\"gridcolor\":\"white\",\"linecolor\":\"white\",\"minorgridcolor\":\"white\",\"startlinecolor\":\"#2a3f5f\"},\"type\":\"carpet\"}],\"table\":[{\"cells\":{\"fill\":{\"color\":\"#EBF0F8\"},\"line\":{\"color\":\"white\"}},\"header\":{\"fill\":{\"color\":\"#C8D4E3\"},\"line\":{\"color\":\"white\"}},\"type\":\"table\"}],\"barpolar\":[{\"marker\":{\"line\":{\"color\":\"#E5ECF6\",\"width\":0.5},\"pattern\":{\"fillmode\":\"overlay\",\"size\":10,\"solidity\":0.2}},\"type\":\"barpolar\"}],\"pie\":[{\"automargin\":true,\"type\":\"pie\"}]},\"layout\":{\"autotypenumbers\":\"strict\",\"colorway\":[\"#636efa\",\"#EF553B\",\"#00cc96\",\"#ab63fa\",\"#FFA15A\",\"#19d3f3\",\"#FF6692\",\"#B6E880\",\"#FF97FF\",\"#FECB52\"],\"font\":{\"color\":\"#2a3f5f\"},\"hovermode\":\"closest\",\"hoverlabel\":{\"align\":\"left\"},\"paper_bgcolor\":\"white\",\"plot_bgcolor\":\"#E5ECF6\",\"polar\":{\"bgcolor\":\"#E5ECF6\",\"angularaxis\":{\"gridcolor\":\"white\",\"linecolor\":\"white\",\"ticks\":\"\"},\"radialaxis\":{\"gridcolor\":\"white\",\"linecolor\":\"white\",\"ticks\":\"\"}},\"ternary\":{\"bgcolor\":\"#E5ECF6\",\"aaxis\":{\"gridcolor\":\"white\",\"linecolor\":\"white\",\"ticks\":\"\"},\"baxis\":{\"gridcolor\":\"white\",\"linecolor\":\"white\",\"ticks\":\"\"},\"caxis\":{\"gridcolor\":\"white\",\"linecolor\":\"white\",\"ticks\":\"\"}},\"coloraxis\":{\"colorbar\":{\"outlinewidth\":0,\"ticks\":\"\"}},\"colorscale\":{\"sequential\":[[0.0,\"#0d0887\"],[0.1111111111111111,\"#46039f\"],[0.2222222222222222,\"#7201a8\"],[0.3333333333333333,\"#9c179e\"],[0.4444444444444444,\"#bd3786\"],[0.5555555555555556,\"#d8576b\"],[0.6666666666666666,\"#ed7953\"],[0.7777777777777778,\"#fb9f3a\"],[0.8888888888888888,\"#fdca26\"],[1.0,\"#f0f921\"]],\"sequentialminus\":[[0.0,\"#0d0887\"],[0.1111111111111111,\"#46039f\"],[0.2222222222222222,\"#7201a8\"],[0.3333333333333333,\"#9c179e\"],[0.4444444444444444,\"#bd3786\"],[0.5555555555555556,\"#d8576b\"],[0.6666666666666666,\"#ed7953\"],[0.7777777777777778,\"#fb9f3a\"],[0.8888888888888888,\"#fdca26\"],[1.0,\"#f0f921\"]],\"diverging\":[[0,\"#8e0152\"],[0.1,\"#c51b7d\"],[0.2,\"#de77ae\"],[0.3,\"#f1b6da\"],[0.4,\"#fde0ef\"],[0.5,\"#f7f7f7\"],[0.6,\"#e6f5d0\"],[0.7,\"#b8e186\"],[0.8,\"#7fbc41\"],[0.9,\"#4d9221\"],[1,\"#276419\"]]},\"xaxis\":{\"gridcolor\":\"white\",\"linecolor\":\"white\",\"ticks\":\"\",\"title\":{\"standoff\":15},\"zerolinecolor\":\"white\",\"automargin\":true,\"zerolinewidth\":2},\"yaxis\":{\"gridcolor\":\"white\",\"linecolor\":\"white\",\"ticks\":\"\",\"title\":{\"standoff\":15},\"zerolinecolor\":\"white\",\"automargin\":true,\"zerolinewidth\":2},\"scene\":{\"xaxis\":{\"backgroundcolor\":\"#E5ECF6\",\"gridcolor\":\"white\",\"linecolor\":\"white\",\"showbackground\":true,\"ticks\":\"\",\"zerolinecolor\":\"white\",\"gridwidth\":2},\"yaxis\":{\"backgroundcolor\":\"#E5ECF6\",\"gridcolor\":\"white\",\"linecolor\":\"white\",\"showbackground\":true,\"ticks\":\"\",\"zerolinecolor\":\"white\",\"gridwidth\":2},\"zaxis\":{\"backgroundcolor\":\"#E5ECF6\",\"gridcolor\":\"white\",\"linecolor\":\"white\",\"showbackground\":true,\"ticks\":\"\",\"zerolinecolor\":\"white\",\"gridwidth\":2}},\"shapedefaults\":{\"line\":{\"color\":\"#2a3f5f\"}},\"annotationdefaults\":{\"arrowcolor\":\"#2a3f5f\",\"arrowhead\":0,\"arrowwidth\":1},\"geo\":{\"bgcolor\":\"white\",\"landcolor\":\"#E5ECF6\",\"subunitcolor\":\"white\",\"showland\":true,\"showlakes\":true,\"lakecolor\":\"white\"},\"title\":{\"x\":0.05},\"mapbox\":{\"style\":\"light\"}}},\"xaxis\":{\"anchor\":\"y\",\"domain\":[0.0,1.0],\"title\":{\"text\":\"\\ubd84\\uae30\"}},\"yaxis\":{\"anchor\":\"x\",\"domain\":[0.0,1.0],\"title\":{\"text\":\"\\ub9ac\\ubdf0 \\uac1c\\uc218(T\\uc140\\ud30c: \\uac1c, \\uc544\\uc774\\uc2a4\\ud06c\\ub9bc: x10\\uac1c)\"}},\"legend\":{\"title\":{\"text\":\"\\ubd84\\ub958\"},\"tracegroupgap\":0,\"yanchor\":\"top\",\"y\":0.99,\"xanchor\":\"left\",\"x\":0.005},\"margin\":{\"t\":60}},                        {\"responsive\": true}                    ).then(function(){\n",
       "                            \n",
       "var gd = document.getElementById('11230851-fec0-40e9-b849-c846de987803');\n",
       "var x = new MutationObserver(function (mutations, observer) {{\n",
       "        var display = window.getComputedStyle(gd).display;\n",
       "        if (!display || display === 'none') {{\n",
       "            console.log([gd, 'removed!']);\n",
       "            Plotly.purge(gd);\n",
       "            observer.disconnect();\n",
       "        }}\n",
       "}});\n",
       "\n",
       "// Listen for the removal of the full notebook cells\n",
       "var notebookContainer = gd.closest('#notebook-container');\n",
       "if (notebookContainer) {{\n",
       "    x.observe(notebookContainer, {childList: true});\n",
       "}}\n",
       "\n",
       "// Listen for the clearing of the current output cell\n",
       "var outputEl = gd.closest('.output');\n",
       "if (outputEl) {{\n",
       "    x.observe(outputEl, {childList: true});\n",
       "}}\n",
       "\n",
       "                        })                };                });            </script>        </div>"
      ]
     },
     "metadata": {},
     "output_type": "display_data"
    }
   ],
   "source": [
    "# 리뷰 개수 그래프\n",
    "\n",
    "import plotly.express as px\n",
    "fig = px.line(DF, x = 'quarter', y = '리뷰 개수', color = '분류',\n",
    "       labels={'quarter':'분기','리뷰 개수':'리뷰 개수(T셀파: 개, 아이스크림: x10개)'})\n",
    "\n",
    "fig.update_layout(legend=dict(\n",
    "    yanchor=\"top\",\n",
    "    y=0.99,\n",
    "    xanchor=\"left\",\n",
    "    x=0.005\n",
    "))\n",
    "\n",
    "fig.show()"
   ]
  },
  {
   "cell_type": "code",
   "execution_count": null,
   "id": "b75af244",
   "metadata": {},
   "outputs": [],
   "source": []
  },
  {
   "cell_type": "code",
   "execution_count": null,
   "id": "0ca61204",
   "metadata": {},
   "outputs": [],
   "source": []
  },
  {
   "cell_type": "code",
   "execution_count": null,
   "id": "6d333da3",
   "metadata": {},
   "outputs": [],
   "source": []
  },
  {
   "cell_type": "code",
   "execution_count": null,
   "id": "4106af8d",
   "metadata": {},
   "outputs": [],
   "source": []
  },
  {
   "cell_type": "code",
   "execution_count": null,
   "id": "0e3975b1",
   "metadata": {},
   "outputs": [],
   "source": []
  },
  {
   "cell_type": "code",
   "execution_count": null,
   "id": "a5e05386",
   "metadata": {},
   "outputs": [],
   "source": []
  },
  {
   "cell_type": "code",
   "execution_count": null,
   "id": "298a9f4e",
   "metadata": {},
   "outputs": [],
   "source": []
  },
  {
   "cell_type": "code",
   "execution_count": null,
   "id": "d8c6e15a",
   "metadata": {},
   "outputs": [],
   "source": []
  },
  {
   "cell_type": "code",
   "execution_count": null,
   "id": "f730c19c",
   "metadata": {},
   "outputs": [],
   "source": []
  }
 ],
 "metadata": {
  "kernelspec": {
   "display_name": "Python 3 (ipykernel)",
   "language": "python",
   "name": "python3"
  },
  "language_info": {
   "codemirror_mode": {
    "name": "ipython",
    "version": 3
   },
   "file_extension": ".py",
   "mimetype": "text/x-python",
   "name": "python",
   "nbconvert_exporter": "python",
   "pygments_lexer": "ipython3",
   "version": "3.10.9"
  }
 },
 "nbformat": 4,
 "nbformat_minor": 5
}
