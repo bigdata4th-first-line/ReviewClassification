{
 "cells": [
  {
   "cell_type": "code",
   "execution_count": 6,
   "id": "83163792",
   "metadata": {},
   "outputs": [],
   "source": [
    "import time\n",
    "import numpy as np\n",
    "import pandas as pd\n",
    "import matplotlib.pyplot as plt\n",
    "from PIL import Image\n",
    "from konlpy.tag import Kkma\n",
    "from selenium import webdriver\n",
    "from transformers import pipeline\n",
    "from datetime import datetime, timedelta\n",
    "from wordcloud import WordCloud, STOPWORDS"
   ]
  },
  {
   "cell_type": "markdown",
   "id": "1f821719",
   "metadata": {},
   "source": [
    "##  연수 후기 크롤링"
   ]
  },
  {
   "cell_type": "markdown",
   "id": "78a7bf1a",
   "metadata": {},
   "source": [
    "* 크롬을 통해 Tsherpa 연수 후기 사이트로 들어가기"
   ]
  },
  {
   "cell_type": "code",
   "execution_count": null,
   "id": "6fd3e2a9",
   "metadata": {},
   "outputs": [],
   "source": [
    "driver = webdriver.Chrome()\n",
    "\n",
    "tsherpa_url = \"https://edu.tsherpa.co.kr/LectureInfo/LectureReviews2\"\n",
    "driver.get(tsherpa_url)"
   ]
  },
  {
   "cell_type": "markdown",
   "id": "0c6676bf",
   "metadata": {},
   "source": [
    "* Tsherpa에 모든 후기 크롤링"
   ]
  },
  {
   "cell_type": "code",
   "execution_count": null,
   "id": "6160ff8e",
   "metadata": {},
   "outputs": [],
   "source": [
    "ind = 1  # 현재 복사한 순서\n",
    "no = 1 # 1~10페이지 중 위치한 곳\n",
    "page = 1  # 현재 페이지 번호\n",
    "list1 = []  # 결과물이 저장되는 리스트\n",
    "\n",
    "\n",
    "while 1:\n",
    "    try:\n",
    "        driver.switch_to.window(driver.window_handles[0])  \n",
    "        \n",
    "        driver.find_element(by='xpath',\n",
    "                    value = f'//*[@id=\"mainForm\"]/table/tbody/tr[{ind}]/td[2]/a').click()\n",
    "\n",
    "        time.sleep(0.2)\n",
    "\n",
    "        driver.switch_to.window(driver.window_handles[1]) \n",
    "        \n",
    "        name = driver.find_element(by='xpath',\n",
    "               value = '//*[@id=\"mainForm\"]/div[1]/span/a').text\n",
    "\n",
    "        title = driver.find_element(by='xpath', value = '//*[@id=\"mainForm\"]/div[2]/table/tbody/tr[1]/td').text\n",
    "\n",
    "        star= (driver.find_element(by='xpath',value = f'//*[@id=\"mainForm\"]/div[2]/table/tbody/tr[2]/td/span[1]/img')).get_attribute('alt')\n",
    "\n",
    "        contents = driver.find_element(by='xpath',\n",
    "                           value = '//*[@id=\"mainForm\"]/div[2]/table/tbody/tr[3]/td').text\n",
    "        \n",
    "        date = driver.find_element(by='xpath',\n",
    "                   value = '//*[@id=\"mainForm\"]/div[2]/table/tbody/tr[2]/td/span[2]').text.split(' ')[3]\n",
    "\n",
    "\n",
    "        driver.find_element(by = 'xpath',\n",
    "                           value = '//*[@id=\"mainForm\"]/div[2]/div/a').click()\n",
    "\n",
    "        driver.switch_to.window(driver.window_handles[0])  \n",
    "        \n",
    "        \n",
    "        list1.append([name, title, star, contents, date])\n",
    "        \n",
    "        ind += 1\n",
    "       \n",
    "\n",
    "    except:\n",
    "        no += 1\n",
    "        if no < 11:\n",
    "            driver.find_element(by='xpath',value = f'//*[@id=\"mainForm\"]/div[3]/a[{no+1}]').click()\n",
    "            ind = 1\n",
    "            page += 1\n",
    "            continue\n",
    "\n",
    "\n",
    "        elif no == 11:\n",
    "            driver.find_element(by='xpath',value = '//*[@id=\"mainForm\"]/div[3]/a[12]/img').click()\n",
    "            no = 1\n",
    "            ind = 1\n",
    "            page += 1\n",
    "            continue\n",
    "            \n",
    "            \n",
    "            \n",
    "        else:\n",
    "            break\n",
    "\n",
    "\n",
    "df = pd.DataFrame(list1)\n",
    "df.rename(columns = { 0 : 'name', 1 : 'title', 2 : 'star', 3 : 'comments', 4 : 'date'},inplace = True)\n",
    "df = df.drop_duplicates(['contents'])\n",
    "df.to_csv('tsherpa.csv',index = False)"
   ]
  },
  {
   "cell_type": "code",
   "execution_count": 19,
   "id": "1aca63ad",
   "metadata": {
    "scrolled": true
   },
   "outputs": [],
   "source": [
    "tsherpa = pd.read_csv('./tsherpa.csv')"
   ]
  },
  {
   "cell_type": "code",
   "execution_count": 20,
   "id": "099df1dd",
   "metadata": {},
   "outputs": [
    {
     "data": {
      "text/html": [
       "<div>\n",
       "<style scoped>\n",
       "    .dataframe tbody tr th:only-of-type {\n",
       "        vertical-align: middle;\n",
       "    }\n",
       "\n",
       "    .dataframe tbody tr th {\n",
       "        vertical-align: top;\n",
       "    }\n",
       "\n",
       "    .dataframe thead th {\n",
       "        text-align: right;\n",
       "    }\n",
       "</style>\n",
       "<table border=\"1\" class=\"dataframe\">\n",
       "  <thead>\n",
       "    <tr style=\"text-align: right;\">\n",
       "      <th></th>\n",
       "      <th>name</th>\n",
       "      <th>title</th>\n",
       "      <th>star</th>\n",
       "      <th>comments</th>\n",
       "      <th>date</th>\n",
       "      <th>title_comments</th>\n",
       "      <th>emotion_analysis</th>\n",
       "    </tr>\n",
       "  </thead>\n",
       "  <tbody>\n",
       "    <tr>\n",
       "      <th>0</th>\n",
       "      <td>한 번에 끝내는 법정연수 1</td>\n",
       "      <td>법정연수 유용하네요</td>\n",
       "      <td>5</td>\n",
       "      <td>의무적으로 해마다 듣는 연수인데 다른 강사에게 듣고 싶어 신청했는데 연수 들을만 했어요</td>\n",
       "      <td>2023-07-30</td>\n",
       "      <td>법정연수 유용하네요 의무적으로 해마다 듣는 연수인데 다른 강사에게 듣고 싶어 신청했...</td>\n",
       "      <td>True</td>\n",
       "    </tr>\n",
       "    <tr>\n",
       "      <th>1</th>\n",
       "      <td>나이와 신분을 초월한 독립운동, 그 현장을 읽다</td>\n",
       "      <td>독립운동에 관한 지식 쌓기</td>\n",
       "      <td>5</td>\n",
       "      <td>독립운동에 대해서 알고, 학생 대상으로 수업하기 좋았습니다. 추천합니다.</td>\n",
       "      <td>2023-07-30</td>\n",
       "      <td>독립운동에 관한 지식 쌓기 독립운동에 대해서 알고, 학생 대상으로 수업하기 좋았습니...</td>\n",
       "      <td>True</td>\n",
       "    </tr>\n",
       "    <tr>\n",
       "      <th>2</th>\n",
       "      <td>상상을 실천으로, 삶을 바꾸는 사회 수업 이야기</td>\n",
       "      <td>삶을 바꾸는 사회수업 주제통합 질문과 상상으로 진행하기</td>\n",
       "      <td>5</td>\n",
       "      <td>사회 교과서 개정되고 학습량은 많은데 학생들이 이해하기쉽게 주제통합 수업을 진행하고...</td>\n",
       "      <td>2023-07-30</td>\n",
       "      <td>삶을 바꾸는 사회수업 주제통합 질문과 상상으로 진행하기 사회 교과서 개정되고 학습량...</td>\n",
       "      <td>True</td>\n",
       "    </tr>\n",
       "    <tr>\n",
       "      <th>3</th>\n",
       "      <td>기초영어 회화 핵심표현 Real Speaking</td>\n",
       "      <td>영어 회화가 막막한 선생님들께 유익한 연수!</td>\n",
       "      <td>4</td>\n",
       "      <td>영어가 너무 오랜만이시거나 일상생활에서 많이 사용하는 영어 회화부터 마스터하고 싶으...</td>\n",
       "      <td>2023-07-29</td>\n",
       "      <td>영어 회화가 막막한 선생님들께 유익한 연수! 영어가 너무 오랜만이시거나 일상생활에서...</td>\n",
       "      <td>True</td>\n",
       "    </tr>\n",
       "    <tr>\n",
       "      <th>4</th>\n",
       "      <td>같이 읽고 함께 나누는 독서수업방법</td>\n",
       "      <td>독서교육을 해보고 싶어지게 만드는 연수!!!</td>\n",
       "      <td>5</td>\n",
       "      <td>아이를 키우며 그림책과 동화책에 관심을 갖게 되었다.\\n감동적이고 재미있는 책들을 ...</td>\n",
       "      <td>2023-07-28</td>\n",
       "      <td>독서교육을 해보고 싶어지게 만드는 연수!!! 아이를 키우며 그림책과 동화책에 관심을...</td>\n",
       "      <td>True</td>\n",
       "    </tr>\n",
       "    <tr>\n",
       "      <th>...</th>\n",
       "      <td>...</td>\n",
       "      <td>...</td>\n",
       "      <td>...</td>\n",
       "      <td>...</td>\n",
       "      <td>...</td>\n",
       "      <td>...</td>\n",
       "      <td>...</td>\n",
       "    </tr>\n",
       "    <tr>\n",
       "      <th>2590</th>\n",
       "      <td>두근두근 교실밖 인문학 - 동양사편</td>\n",
       "      <td>신동기 교수의 동양사 연수</td>\n",
       "      <td>5</td>\n",
       "      <td>평소 우리나라 역사에 대한 강의를 듣고 싶어 여러 원격교육을 받던 중 셀파 원격교육...</td>\n",
       "      <td>2018-04-02</td>\n",
       "      <td>신동기 교수의 동양사 연수 평소 우리나라 역사에 대한 강의를 듣고 싶어 여러 원격교...</td>\n",
       "      <td>True</td>\n",
       "    </tr>\n",
       "    <tr>\n",
       "      <th>2591</th>\n",
       "      <td>수업을 살리는 놀이 레시피</td>\n",
       "      <td>알찬 수업연수</td>\n",
       "      <td>5</td>\n",
       "      <td>어느 연수보다도 알찬 수업연수였습니다. 단순하게 이러한 방법을 활용할 수 있다라고 ...</td>\n",
       "      <td>2018-01-25</td>\n",
       "      <td>알찬 수업연수 어느 연수보다도 알찬 수업연수였습니다. 단순하게 이러한 방법을 활용할...</td>\n",
       "      <td>True</td>\n",
       "    </tr>\n",
       "    <tr>\n",
       "      <th>2592</th>\n",
       "      <td>수업을 살리는 놀이 레시피</td>\n",
       "      <td>학교 수업을 좀더 재미있게 할 수 있는 유익한 연수였습니다^.^</td>\n",
       "      <td>5</td>\n",
       "      <td>교사의 수업이란 예전과 다르게 조금만 지루해도 학생들이 잘 안따르고 듣지 않은 경우...</td>\n",
       "      <td>2018-01-13</td>\n",
       "      <td>학교 수업을 좀더 재미있게 할 수 있는 유익한 연수였습니다^.^ 교사의 수업이란 예...</td>\n",
       "      <td>True</td>\n",
       "    </tr>\n",
       "    <tr>\n",
       "      <th>2593</th>\n",
       "      <td>교과수업에 활용하는 진로교육</td>\n",
       "      <td>정말 알차고 멋진 연수 였습니다.</td>\n",
       "      <td>5</td>\n",
       "      <td>강의 내용도 훌륭했고, 동영상 구성이나 그래픽도 아주 훌륭했습니다. 강사님의 프레젠...</td>\n",
       "      <td>2018-01-09</td>\n",
       "      <td>정말 알차고 멋진 연수 였습니다. 강의 내용도 훌륭했고, 동영상 구성이나 그래픽도 ...</td>\n",
       "      <td>True</td>\n",
       "    </tr>\n",
       "    <tr>\n",
       "      <th>2594</th>\n",
       "      <td>교과수업에 활용하는 진로교육</td>\n",
       "      <td>연수 잘 들었습니다.</td>\n",
       "      <td>5</td>\n",
       "      <td>진로교육과 관련해 이용할 수 있는 사이트와 사례들이 좋았습니다. 감사합니다^^</td>\n",
       "      <td>2018-01-08</td>\n",
       "      <td>연수 잘 들었습니다. 진로교육과 관련해 이용할 수 있는 사이트와 사례들이 좋았습니다...</td>\n",
       "      <td>True</td>\n",
       "    </tr>\n",
       "  </tbody>\n",
       "</table>\n",
       "<p>2595 rows × 7 columns</p>\n",
       "</div>"
      ],
      "text/plain": [
       "                            name                                title  star  \\\n",
       "0                한 번에 끝내는 법정연수 1                           법정연수 유용하네요     5   \n",
       "1     나이와 신분을 초월한 독립운동, 그 현장을 읽다                       독립운동에 관한 지식 쌓기     5   \n",
       "2     상상을 실천으로, 삶을 바꾸는 사회 수업 이야기       삶을 바꾸는 사회수업 주제통합 질문과 상상으로 진행하기     5   \n",
       "3     기초영어 회화 핵심표현 Real Speaking             영어 회화가 막막한 선생님들께 유익한 연수!     4   \n",
       "4            같이 읽고 함께 나누는 독서수업방법             독서교육을 해보고 싶어지게 만드는 연수!!!     5   \n",
       "...                          ...                                  ...   ...   \n",
       "2590         두근두근 교실밖 인문학 - 동양사편                       신동기 교수의 동양사 연수     5   \n",
       "2591              수업을 살리는 놀이 레시피                              알찬 수업연수     5   \n",
       "2592              수업을 살리는 놀이 레시피  학교 수업을 좀더 재미있게 할 수 있는 유익한 연수였습니다^.^     5   \n",
       "2593             교과수업에 활용하는 진로교육                   정말 알차고 멋진 연수 였습니다.     5   \n",
       "2594             교과수업에 활용하는 진로교육                          연수 잘 들었습니다.     5   \n",
       "\n",
       "                                               comments        date  \\\n",
       "0      의무적으로 해마다 듣는 연수인데 다른 강사에게 듣고 싶어 신청했는데 연수 들을만 했어요  2023-07-30   \n",
       "1              독립운동에 대해서 알고, 학생 대상으로 수업하기 좋았습니다. 추천합니다.  2023-07-30   \n",
       "2     사회 교과서 개정되고 학습량은 많은데 학생들이 이해하기쉽게 주제통합 수업을 진행하고...  2023-07-30   \n",
       "3     영어가 너무 오랜만이시거나 일상생활에서 많이 사용하는 영어 회화부터 마스터하고 싶으...  2023-07-29   \n",
       "4     아이를 키우며 그림책과 동화책에 관심을 갖게 되었다.\\n감동적이고 재미있는 책들을 ...  2023-07-28   \n",
       "...                                                 ...         ...   \n",
       "2590  평소 우리나라 역사에 대한 강의를 듣고 싶어 여러 원격교육을 받던 중 셀파 원격교육...  2018-04-02   \n",
       "2591  어느 연수보다도 알찬 수업연수였습니다. 단순하게 이러한 방법을 활용할 수 있다라고 ...  2018-01-25   \n",
       "2592  교사의 수업이란 예전과 다르게 조금만 지루해도 학생들이 잘 안따르고 듣지 않은 경우...  2018-01-13   \n",
       "2593  강의 내용도 훌륭했고, 동영상 구성이나 그래픽도 아주 훌륭했습니다. 강사님의 프레젠...  2018-01-09   \n",
       "2594        진로교육과 관련해 이용할 수 있는 사이트와 사례들이 좋았습니다. 감사합니다^^  2018-01-08   \n",
       "\n",
       "                                         title_comments  emotion_analysis  \n",
       "0     법정연수 유용하네요 의무적으로 해마다 듣는 연수인데 다른 강사에게 듣고 싶어 신청했...              True  \n",
       "1     독립운동에 관한 지식 쌓기 독립운동에 대해서 알고, 학생 대상으로 수업하기 좋았습니...              True  \n",
       "2     삶을 바꾸는 사회수업 주제통합 질문과 상상으로 진행하기 사회 교과서 개정되고 학습량...              True  \n",
       "3     영어 회화가 막막한 선생님들께 유익한 연수! 영어가 너무 오랜만이시거나 일상생활에서...              True  \n",
       "4     독서교육을 해보고 싶어지게 만드는 연수!!! 아이를 키우며 그림책과 동화책에 관심을...              True  \n",
       "...                                                 ...               ...  \n",
       "2590  신동기 교수의 동양사 연수 평소 우리나라 역사에 대한 강의를 듣고 싶어 여러 원격교...              True  \n",
       "2591  알찬 수업연수 어느 연수보다도 알찬 수업연수였습니다. 단순하게 이러한 방법을 활용할...              True  \n",
       "2592  학교 수업을 좀더 재미있게 할 수 있는 유익한 연수였습니다^.^ 교사의 수업이란 예...              True  \n",
       "2593  정말 알차고 멋진 연수 였습니다. 강의 내용도 훌륭했고, 동영상 구성이나 그래픽도 ...              True  \n",
       "2594  연수 잘 들었습니다. 진로교육과 관련해 이용할 수 있는 사이트와 사례들이 좋았습니다...              True  \n",
       "\n",
       "[2595 rows x 7 columns]"
      ]
     },
     "execution_count": 20,
     "metadata": {},
     "output_type": "execute_result"
    }
   ],
   "source": [
    "tsherpa"
   ]
  },
  {
   "cell_type": "markdown",
   "id": "365ec665",
   "metadata": {},
   "source": [
    "* 크롬을 통해 icecream 연수 후기 사이트로 들어가기"
   ]
  },
  {
   "cell_type": "code",
   "execution_count": null,
   "id": "7379601c",
   "metadata": {},
   "outputs": [],
   "source": [
    "driver = webdriver.Chrome()\n",
    "\n",
    "review_search_url = \"https://teacher.i-scream.co.kr/help/afterword/list.do?sso=ok\"\n",
    "driver.get(review_search_url)"
   ]
  },
  {
   "cell_type": "markdown",
   "id": "004c9234",
   "metadata": {},
   "source": [
    "* icecream 연수 후기가 tsherpa에 비해서 매우 많기 때문에 데이터 수를 조절하기 위해 한 페이지에서 1개씩만 크롤링"
   ]
  },
  {
   "cell_type": "code",
   "execution_count": null,
   "id": "74d633a9",
   "metadata": {},
   "outputs": [],
   "source": [
    "list1 = []\n",
    "\n",
    "\n",
    "while 1:\n",
    "    try:\n",
    "        for j in range(3, 13): # 한 페이지 넘어갈 때 10개씩 있음(1번은 이전10페이지로)\n",
    "            driver.find_element(by='xpath',value = f'//*[@id=\"content\"]/div[3]/table/tbody/tr[1]/td[3]/a').click() # 연수후기 페이지 클릭\n",
    "\n",
    "            name = driver.find_element(by='xpath',value = f'//*[@id=\"bbs_wrap\"]/div/dl[2]/dd/a').text # 연수명\n",
    "            title = driver.find_element(by='xpath',value = f'//*[@id=\"bbs_wrap\"]/div/dl[1]/dd').text # 연수후기 제목\n",
    "            el_rated = driver.find_element(by='xpath',value = f'//*[@id=\"bbs_wrap\"]/div/dl[3]/dd[1]/span/span')\n",
    "            rated = el_rated.get_attribute('class')  # 별점\n",
    "            review = driver.find_element(by='xpath',value = f'//*[@id=\"bbs_wrap\"]/div/div[1]').text # 내용\n",
    "            classified = driver.find_element(by='xpath',value = f'//*[@id=\"bbs_wrap\"]/div/dl[3]/dd[2]').text  # 분류\n",
    "            date = driver.find_element(by='xpath',value = f'//*[@id=\"bbs_wrap\"]/div/dl[4]/dd[2]').text  # 날짜\n",
    "\n",
    "\n",
    "\n",
    "\n",
    "            list1.append([name, title, rated, review, classified, date])\n",
    "            time.sleep(0.1)\n",
    "            driver.find_element(by='xpath',value = f'//*[@id=\"btn-list\"]').click() # 목록으로 돌아가기\n",
    "            time.sleep(0.2)\n",
    "            driver.find_element(by='xpath',value = f'//*[@id=\"paging\"]/ul/li[{j}]/a').click() # 옆 페이지 넘어가기 ex) 1->2\n",
    "            \n",
    "            df = pd.DataFrame(list1)\n",
    "            df.to_csv('icecream.csv')\n",
    "            time.sleep(0.1)\n",
    "        \n",
    "    except:\n",
    "        break"
   ]
  },
  {
   "cell_type": "code",
   "execution_count": 28,
   "id": "1150c350",
   "metadata": {},
   "outputs": [],
   "source": [
    "icecream = pd.read_csv('./icecream.csv')"
   ]
  },
  {
   "cell_type": "code",
   "execution_count": 29,
   "id": "f93f2360",
   "metadata": {},
   "outputs": [
    {
     "data": {
      "text/html": [
       "<div>\n",
       "<style scoped>\n",
       "    .dataframe tbody tr th:only-of-type {\n",
       "        vertical-align: middle;\n",
       "    }\n",
       "\n",
       "    .dataframe tbody tr th {\n",
       "        vertical-align: top;\n",
       "    }\n",
       "\n",
       "    .dataframe thead th {\n",
       "        text-align: right;\n",
       "    }\n",
       "</style>\n",
       "<table border=\"1\" class=\"dataframe\">\n",
       "  <thead>\n",
       "    <tr style=\"text-align: right;\">\n",
       "      <th></th>\n",
       "      <th>name</th>\n",
       "      <th>title</th>\n",
       "      <th>star</th>\n",
       "      <th>comments</th>\n",
       "      <th>class</th>\n",
       "      <th>date</th>\n",
       "      <th>title_comments</th>\n",
       "      <th>emotion</th>\n",
       "    </tr>\n",
       "  </thead>\n",
       "  <tbody>\n",
       "    <tr>\n",
       "      <th>0</th>\n",
       "      <td>교사를 위한 구글 활용법(입문자편)</td>\n",
       "      <td>Google 연수</td>\n",
       "      <td>star star-rate5</td>\n",
       "      <td>구글의 다양한 활용방법을 쉽고 열정적으로 알려주신 강사님들 모습에 동기부여 받아, ...</td>\n",
       "      <td>ICT</td>\n",
       "      <td>2023.07.31</td>\n",
       "      <td>Google 연수 구글의 다양한 활용방법을 쉽고 열정적으로 알려주신 강사님들 모습에...</td>\n",
       "      <td>True</td>\n",
       "    </tr>\n",
       "    <tr>\n",
       "      <th>1</th>\n",
       "      <td>감성을 엮는 시간, 라탄 공예</td>\n",
       "      <td>다양한 소품 제작</td>\n",
       "      <td>star star-rate5</td>\n",
       "      <td>라탄 공예의 기본을 익혀 생활 속에서 필요한 소품 제작 및 학생 수업에 활용해야겠다.</td>\n",
       "      <td>자기계발</td>\n",
       "      <td>2023.07.30</td>\n",
       "      <td>다양한 소품 제작 라탄 공예의 기본을 익혀 생활 속에서 필요한 소품 제작 및 학생 ...</td>\n",
       "      <td>True</td>\n",
       "    </tr>\n",
       "    <tr>\n",
       "      <th>2</th>\n",
       "      <td>뚝딱뚝딱 온앤오프 수업자료 만들기</td>\n",
       "      <td>너무너무 유익하고 좋은 연수였습니다.</td>\n",
       "      <td>star star-rate5</td>\n",
       "      <td>수업 자료를 만들때 바로 적용할 수 있는\\n팁들을 많이 얻을 수 있어 좋았습니다.\\...</td>\n",
       "      <td>학습지도</td>\n",
       "      <td>2023.07.29</td>\n",
       "      <td>너무너무 유익하고 좋은 연수였습니다. 수업 자료를 만들때 바로 적용할 수 있는\\n팁...</td>\n",
       "      <td>True</td>\n",
       "    </tr>\n",
       "    <tr>\n",
       "      <th>3</th>\n",
       "      <td>챗GPT 융합교육 가이드, 인공지능(AI) 챗봇 수업</td>\n",
       "      <td>다양한 AI 프로그램을 알 수 있었습니다. ; )</td>\n",
       "      <td>star star-rate5</td>\n",
       "      <td>챗GPT가 무엇인지는 대충 알고 있었는데\\n수업에 어떻게 활용하면 좋을까?\\n학생들...</td>\n",
       "      <td>학습지도</td>\n",
       "      <td>2023.07.28</td>\n",
       "      <td>다양한 AI 프로그램을 알 수 있었습니다. ; ) 챗GPT가 무엇인지는 대충 알고 ...</td>\n",
       "      <td>True</td>\n",
       "    </tr>\n",
       "    <tr>\n",
       "      <th>4</th>\n",
       "      <td>[컬러테라피] 감성을 그리는 시간, 수채화로 떠나는 컬러링 여행</td>\n",
       "      <td>수채화로 내면까지 채울 수 있었어요.</td>\n",
       "      <td>star star-rate5</td>\n",
       "      <td>수채화에 대해 관심이 없었고, 미술을 잘하거나 좋아하는 사람들만의 영역일거라 생각했...</td>\n",
       "      <td>자기계발</td>\n",
       "      <td>2023.07.28</td>\n",
       "      <td>수채화로 내면까지 채울 수 있었어요. 수채화에 대해 관심이 없었고, 미술을 잘하거나...</td>\n",
       "      <td>True</td>\n",
       "    </tr>\n",
       "    <tr>\n",
       "      <th>...</th>\n",
       "      <td>...</td>\n",
       "      <td>...</td>\n",
       "      <td>...</td>\n",
       "      <td>...</td>\n",
       "      <td>...</td>\n",
       "      <td>...</td>\n",
       "      <td>...</td>\n",
       "      <td>...</td>\n",
       "    </tr>\n",
       "    <tr>\n",
       "      <th>4886</th>\n",
       "      <td>탤짱쌤의 컴퓨터 활용 꼼수, 이 정도면 나도 스마트</td>\n",
       "      <td>쪼끔 어려운 부분도 있었지만 배워가는 기쁨과 탤짱선생님께 감탄하며 즐겁게 들었습니다.</td>\n",
       "      <td>star star-rate5</td>\n",
       "      <td>인터넷 연수 중 가장 좋았던, 너무나 유익한 연수였습니다.\\n\\n배운 것을 활용하여...</td>\n",
       "      <td>ICT</td>\n",
       "      <td>2018.01.02</td>\n",
       "      <td>쪼끔 어려운 부분도 있었지만 배워가는 기쁨과 탤짱선생님께 감탄하며 즐겁게 들었습니다...</td>\n",
       "      <td>True</td>\n",
       "    </tr>\n",
       "    <tr>\n",
       "      <th>4887</th>\n",
       "      <td>교사 출신 변호사에게 듣는 학교폭력의 모든 것</td>\n",
       "      <td>학교폭력에 관한 내용</td>\n",
       "      <td>star star-rate5</td>\n",
       "      <td>학교에서 학교폭력사안이 발생되면 어떻게 하여야 하는지 자세한 안내가 있어서 유익한 ...</td>\n",
       "      <td>생활지도</td>\n",
       "      <td>2018.01.02</td>\n",
       "      <td>학교폭력에 관한 내용 학교에서 학교폭력사안이 발생되면 어떻게 하여야 하는지 자세한 ...</td>\n",
       "      <td>True</td>\n",
       "    </tr>\n",
       "    <tr>\n",
       "      <th>4888</th>\n",
       "      <td>참쌤스쿨 그림교실, 교사가 최고의 콘텐츠다</td>\n",
       "      <td>나도 할 수 있다. 아이들에게 자랑할 수 있어요,.</td>\n",
       "      <td>star star-rate5</td>\n",
       "      <td>아이드은 조그만 잘해도 우와~. 함성과 함께 저를 바라봅니다.\\n간단한 방법으로 아...</td>\n",
       "      <td>학습지도</td>\n",
       "      <td>2018.01.02</td>\n",
       "      <td>나도 할 수 있다. 아이들에게 자랑할 수 있어요,. 아이드은 조그만 잘해도 우와~....</td>\n",
       "      <td>True</td>\n",
       "    </tr>\n",
       "    <tr>\n",
       "      <th>4889</th>\n",
       "      <td>뇌로 풀어가는 초등교실 이야기</td>\n",
       "      <td>유익한 연수 감사합니다</td>\n",
       "      <td>star star-rate5</td>\n",
       "      <td>최근 뇌에 대한 관심이 생겼습니다. 시간이 지날수록 아이들을 이해하는 것이 쉬운 일...</td>\n",
       "      <td>학습지도</td>\n",
       "      <td>2018.01.01</td>\n",
       "      <td>유익한 연수 감사합니다 최근 뇌에 대한 관심이 생겼습니다. 시간이 지날수록 아이들을...</td>\n",
       "      <td>True</td>\n",
       "    </tr>\n",
       "    <tr>\n",
       "      <th>4890</th>\n",
       "      <td>新 신공략 중국어 기초</td>\n",
       "      <td>좋은 강의</td>\n",
       "      <td>star star-rate5</td>\n",
       "      <td>너무 좋은 연수였어요. 초급 중급....쭉 듣고 싶네요.</td>\n",
       "      <td>어학</td>\n",
       "      <td>2018.01.01</td>\n",
       "      <td>좋은 강의 너무 좋은 연수였어요. 초급 중급....쭉 듣고 싶네요.</td>\n",
       "      <td>True</td>\n",
       "    </tr>\n",
       "  </tbody>\n",
       "</table>\n",
       "<p>4891 rows × 8 columns</p>\n",
       "</div>"
      ],
      "text/plain": [
       "                                     name  \\\n",
       "0                     교사를 위한 구글 활용법(입문자편)   \n",
       "1                        감성을 엮는 시간, 라탄 공예   \n",
       "2                      뚝딱뚝딱 온앤오프 수업자료 만들기   \n",
       "3           챗GPT 융합교육 가이드, 인공지능(AI) 챗봇 수업   \n",
       "4     [컬러테라피] 감성을 그리는 시간, 수채화로 떠나는 컬러링 여행   \n",
       "...                                   ...   \n",
       "4886         탤짱쌤의 컴퓨터 활용 꼼수, 이 정도면 나도 스마트   \n",
       "4887            교사 출신 변호사에게 듣는 학교폭력의 모든 것   \n",
       "4888              참쌤스쿨 그림교실, 교사가 최고의 콘텐츠다   \n",
       "4889                     뇌로 풀어가는 초등교실 이야기   \n",
       "4890                         新 신공략 중국어 기초   \n",
       "\n",
       "                                                title             star  \\\n",
       "0                                           Google 연수  star star-rate5   \n",
       "1                                           다양한 소품 제작  star star-rate5   \n",
       "2                                너무너무 유익하고 좋은 연수였습니다.  star star-rate5   \n",
       "3                         다양한 AI 프로그램을 알 수 있었습니다. ; )  star star-rate5   \n",
       "4                                수채화로 내면까지 채울 수 있었어요.  star star-rate5   \n",
       "...                                               ...              ...   \n",
       "4886  쪼끔 어려운 부분도 있었지만 배워가는 기쁨과 탤짱선생님께 감탄하며 즐겁게 들었습니다.  star star-rate5   \n",
       "4887                                      학교폭력에 관한 내용  star star-rate5   \n",
       "4888                     나도 할 수 있다. 아이들에게 자랑할 수 있어요,.  star star-rate5   \n",
       "4889                                     유익한 연수 감사합니다  star star-rate5   \n",
       "4890                                            좋은 강의  star star-rate5   \n",
       "\n",
       "                                               comments class        date  \\\n",
       "0     구글의 다양한 활용방법을 쉽고 열정적으로 알려주신 강사님들 모습에 동기부여 받아, ...   ICT  2023.07.31   \n",
       "1       라탄 공예의 기본을 익혀 생활 속에서 필요한 소품 제작 및 학생 수업에 활용해야겠다.  자기계발  2023.07.30   \n",
       "2     수업 자료를 만들때 바로 적용할 수 있는\\n팁들을 많이 얻을 수 있어 좋았습니다.\\...  학습지도  2023.07.29   \n",
       "3     챗GPT가 무엇인지는 대충 알고 있었는데\\n수업에 어떻게 활용하면 좋을까?\\n학생들...  학습지도  2023.07.28   \n",
       "4     수채화에 대해 관심이 없었고, 미술을 잘하거나 좋아하는 사람들만의 영역일거라 생각했...  자기계발  2023.07.28   \n",
       "...                                                 ...   ...         ...   \n",
       "4886  인터넷 연수 중 가장 좋았던, 너무나 유익한 연수였습니다.\\n\\n배운 것을 활용하여...   ICT  2018.01.02   \n",
       "4887  학교에서 학교폭력사안이 발생되면 어떻게 하여야 하는지 자세한 안내가 있어서 유익한 ...  생활지도  2018.01.02   \n",
       "4888  아이드은 조그만 잘해도 우와~. 함성과 함께 저를 바라봅니다.\\n간단한 방법으로 아...  학습지도  2018.01.02   \n",
       "4889  최근 뇌에 대한 관심이 생겼습니다. 시간이 지날수록 아이들을 이해하는 것이 쉬운 일...  학습지도  2018.01.01   \n",
       "4890                    너무 좋은 연수였어요. 초급 중급....쭉 듣고 싶네요.    어학  2018.01.01   \n",
       "\n",
       "                                         title_comments  emotion  \n",
       "0     Google 연수 구글의 다양한 활용방법을 쉽고 열정적으로 알려주신 강사님들 모습에...     True  \n",
       "1     다양한 소품 제작 라탄 공예의 기본을 익혀 생활 속에서 필요한 소품 제작 및 학생 ...     True  \n",
       "2     너무너무 유익하고 좋은 연수였습니다. 수업 자료를 만들때 바로 적용할 수 있는\\n팁...     True  \n",
       "3     다양한 AI 프로그램을 알 수 있었습니다. ; ) 챗GPT가 무엇인지는 대충 알고 ...     True  \n",
       "4     수채화로 내면까지 채울 수 있었어요. 수채화에 대해 관심이 없었고, 미술을 잘하거나...     True  \n",
       "...                                                 ...      ...  \n",
       "4886  쪼끔 어려운 부분도 있었지만 배워가는 기쁨과 탤짱선생님께 감탄하며 즐겁게 들었습니다...     True  \n",
       "4887  학교폭력에 관한 내용 학교에서 학교폭력사안이 발생되면 어떻게 하여야 하는지 자세한 ...     True  \n",
       "4888  나도 할 수 있다. 아이들에게 자랑할 수 있어요,. 아이드은 조그만 잘해도 우와~....     True  \n",
       "4889  유익한 연수 감사합니다 최근 뇌에 대한 관심이 생겼습니다. 시간이 지날수록 아이들을...     True  \n",
       "4890              좋은 강의 너무 좋은 연수였어요. 초급 중급....쭉 듣고 싶네요.     True  \n",
       "\n",
       "[4891 rows x 8 columns]"
      ]
     },
     "execution_count": 29,
     "metadata": {},
     "output_type": "execute_result"
    }
   ],
   "source": [
    "icecream"
   ]
  },
  {
   "cell_type": "markdown",
   "id": "10334713",
   "metadata": {},
   "source": [
    "## 감정분석"
   ]
  },
  {
   "cell_type": "code",
   "execution_count": 16,
   "id": "ca06b3d2",
   "metadata": {},
   "outputs": [],
   "source": [
    "def word():\n",
    "    x = input()\n",
    "    classifier = pipeline(\"text-classification\", model=\"matthewburke/korean_sentiment\")\n",
    "    custom_tweet = f'b{x}'\n",
    "    preds = classifier(custom_tweet, return_all_scores=True)\n",
    "    is_positive = preds[0][1]['score'] > 0.5\n",
    "    print(is_positive)"
   ]
  },
  {
   "cell_type": "code",
   "execution_count": 24,
   "id": "4571e291",
   "metadata": {},
   "outputs": [
    {
     "data": {
      "text/plain": [
       "'의무적으로 해마다 듣는 연수인데 다른 강사에게 듣고 싶어 신청했는데 연수 들을만 했어요'"
      ]
     },
     "execution_count": 24,
     "metadata": {},
     "output_type": "execute_result"
    }
   ],
   "source": [
    "tsherpa['comments'][0]"
   ]
  },
  {
   "cell_type": "code",
   "execution_count": 25,
   "id": "f7163fe0",
   "metadata": {
    "scrolled": true
   },
   "outputs": [
    {
     "name": "stdout",
     "output_type": "stream",
     "text": [
      "의무적으로 해마다 듣는 연수인데 다른 강사에게 듣고 싶어 신청했는데 연수 들을만 했어요\n"
     ]
    },
    {
     "name": "stderr",
     "output_type": "stream",
     "text": [
      "C:\\ProgramData\\anaconda3\\lib\\site-packages\\transformers\\pipelines\\text_classification.py:89: UserWarning: `return_all_scores` is now deprecated,  if want a similar funcionality use `top_k=None` instead of `return_all_scores=True` or `top_k=1` instead of `return_all_scores=False`.\n",
      "  warnings.warn(\n"
     ]
    },
    {
     "name": "stdout",
     "output_type": "stream",
     "text": [
      "True\n"
     ]
    }
   ],
   "source": [
    "word()"
   ]
  },
  {
   "cell_type": "markdown",
   "id": "c447673e",
   "metadata": {},
   "source": [
    "* Tsherpa의 후기 중 title과 comments를 같이 감정분석하기 위해서 title_comments 변수로 추가"
   ]
  },
  {
   "cell_type": "code",
   "execution_count": 14,
   "id": "ed85681f",
   "metadata": {},
   "outputs": [],
   "source": [
    "tsherpa['title_comments'] = tsherpa['title'] + ' ' + tsherpa['comments']"
   ]
  },
  {
   "cell_type": "markdown",
   "id": "9b4d0192",
   "metadata": {},
   "source": [
    "* 감정분석을 하기 위해서 글자수가 512개 이상인 행은 삭제"
   ]
  },
  {
   "cell_type": "code",
   "execution_count": 15,
   "id": "3e28c4f7",
   "metadata": {},
   "outputs": [],
   "source": [
    "tsherpa = tsherpa[tsherpa['title_comments'].apply(lambda x: False if len(x) > 512 else True)]"
   ]
  },
  {
   "cell_type": "markdown",
   "id": "5248a513",
   "metadata": {},
   "source": [
    "* Tsherpa에 대해서 감정 분석 진행"
   ]
  },
  {
   "cell_type": "code",
   "execution_count": null,
   "id": "f9354a1f",
   "metadata": {},
   "outputs": [],
   "source": [
    "list_positive = []\n",
    "\n",
    "for i in tsherpa.loc[:,'comments']:\n",
    "    preds = classifier(i, return_all_scores=True)\n",
    "    is_positive = preds[0][1]['score'] > 0.5\n",
    "    list_positive.append(is_positive)"
   ]
  },
  {
   "cell_type": "code",
   "execution_count": null,
   "id": "7e36e2f8",
   "metadata": {},
   "outputs": [],
   "source": [
    "tsherpa['emotion'] = list_positive"
   ]
  },
  {
   "cell_type": "code",
   "execution_count": null,
   "id": "15322cd0",
   "metadata": {},
   "outputs": [],
   "source": [
    "tsherpa.to_csv('tsherpa.csv',index=False)"
   ]
  },
  {
   "cell_type": "code",
   "execution_count": null,
   "id": "2d6cbf41",
   "metadata": {},
   "outputs": [],
   "source": [
    "tsherpa = pd.read_csv('./tsherpa.csv')"
   ]
  },
  {
   "cell_type": "code",
   "execution_count": 26,
   "id": "426dfa6e",
   "metadata": {
    "scrolled": true
   },
   "outputs": [
    {
     "data": {
      "text/html": [
       "<div>\n",
       "<style scoped>\n",
       "    .dataframe tbody tr th:only-of-type {\n",
       "        vertical-align: middle;\n",
       "    }\n",
       "\n",
       "    .dataframe tbody tr th {\n",
       "        vertical-align: top;\n",
       "    }\n",
       "\n",
       "    .dataframe thead th {\n",
       "        text-align: right;\n",
       "    }\n",
       "</style>\n",
       "<table border=\"1\" class=\"dataframe\">\n",
       "  <thead>\n",
       "    <tr style=\"text-align: right;\">\n",
       "      <th></th>\n",
       "      <th>name</th>\n",
       "      <th>title</th>\n",
       "      <th>star</th>\n",
       "      <th>comments</th>\n",
       "      <th>date</th>\n",
       "      <th>title_comments</th>\n",
       "      <th>emotion_analysis</th>\n",
       "    </tr>\n",
       "  </thead>\n",
       "  <tbody>\n",
       "    <tr>\n",
       "      <th>0</th>\n",
       "      <td>한 번에 끝내는 법정연수 1</td>\n",
       "      <td>법정연수 유용하네요</td>\n",
       "      <td>5</td>\n",
       "      <td>의무적으로 해마다 듣는 연수인데 다른 강사에게 듣고 싶어 신청했는데 연수 들을만 했어요</td>\n",
       "      <td>2023-07-30</td>\n",
       "      <td>법정연수 유용하네요 의무적으로 해마다 듣는 연수인데 다른 강사에게 듣고 싶어 신청했...</td>\n",
       "      <td>True</td>\n",
       "    </tr>\n",
       "    <tr>\n",
       "      <th>1</th>\n",
       "      <td>나이와 신분을 초월한 독립운동, 그 현장을 읽다</td>\n",
       "      <td>독립운동에 관한 지식 쌓기</td>\n",
       "      <td>5</td>\n",
       "      <td>독립운동에 대해서 알고, 학생 대상으로 수업하기 좋았습니다. 추천합니다.</td>\n",
       "      <td>2023-07-30</td>\n",
       "      <td>독립운동에 관한 지식 쌓기 독립운동에 대해서 알고, 학생 대상으로 수업하기 좋았습니...</td>\n",
       "      <td>True</td>\n",
       "    </tr>\n",
       "    <tr>\n",
       "      <th>2</th>\n",
       "      <td>상상을 실천으로, 삶을 바꾸는 사회 수업 이야기</td>\n",
       "      <td>삶을 바꾸는 사회수업 주제통합 질문과 상상으로 진행하기</td>\n",
       "      <td>5</td>\n",
       "      <td>사회 교과서 개정되고 학습량은 많은데 학생들이 이해하기쉽게 주제통합 수업을 진행하고...</td>\n",
       "      <td>2023-07-30</td>\n",
       "      <td>삶을 바꾸는 사회수업 주제통합 질문과 상상으로 진행하기 사회 교과서 개정되고 학습량...</td>\n",
       "      <td>True</td>\n",
       "    </tr>\n",
       "    <tr>\n",
       "      <th>3</th>\n",
       "      <td>기초영어 회화 핵심표현 Real Speaking</td>\n",
       "      <td>영어 회화가 막막한 선생님들께 유익한 연수!</td>\n",
       "      <td>4</td>\n",
       "      <td>영어가 너무 오랜만이시거나 일상생활에서 많이 사용하는 영어 회화부터 마스터하고 싶으...</td>\n",
       "      <td>2023-07-29</td>\n",
       "      <td>영어 회화가 막막한 선생님들께 유익한 연수! 영어가 너무 오랜만이시거나 일상생활에서...</td>\n",
       "      <td>True</td>\n",
       "    </tr>\n",
       "    <tr>\n",
       "      <th>4</th>\n",
       "      <td>같이 읽고 함께 나누는 독서수업방법</td>\n",
       "      <td>독서교육을 해보고 싶어지게 만드는 연수!!!</td>\n",
       "      <td>5</td>\n",
       "      <td>아이를 키우며 그림책과 동화책에 관심을 갖게 되었다.\\n감동적이고 재미있는 책들을 ...</td>\n",
       "      <td>2023-07-28</td>\n",
       "      <td>독서교육을 해보고 싶어지게 만드는 연수!!! 아이를 키우며 그림책과 동화책에 관심을...</td>\n",
       "      <td>True</td>\n",
       "    </tr>\n",
       "    <tr>\n",
       "      <th>...</th>\n",
       "      <td>...</td>\n",
       "      <td>...</td>\n",
       "      <td>...</td>\n",
       "      <td>...</td>\n",
       "      <td>...</td>\n",
       "      <td>...</td>\n",
       "      <td>...</td>\n",
       "    </tr>\n",
       "    <tr>\n",
       "      <th>2590</th>\n",
       "      <td>두근두근 교실밖 인문학 - 동양사편</td>\n",
       "      <td>신동기 교수의 동양사 연수</td>\n",
       "      <td>5</td>\n",
       "      <td>평소 우리나라 역사에 대한 강의를 듣고 싶어 여러 원격교육을 받던 중 셀파 원격교육...</td>\n",
       "      <td>2018-04-02</td>\n",
       "      <td>신동기 교수의 동양사 연수 평소 우리나라 역사에 대한 강의를 듣고 싶어 여러 원격교...</td>\n",
       "      <td>True</td>\n",
       "    </tr>\n",
       "    <tr>\n",
       "      <th>2591</th>\n",
       "      <td>수업을 살리는 놀이 레시피</td>\n",
       "      <td>알찬 수업연수</td>\n",
       "      <td>5</td>\n",
       "      <td>어느 연수보다도 알찬 수업연수였습니다. 단순하게 이러한 방법을 활용할 수 있다라고 ...</td>\n",
       "      <td>2018-01-25</td>\n",
       "      <td>알찬 수업연수 어느 연수보다도 알찬 수업연수였습니다. 단순하게 이러한 방법을 활용할...</td>\n",
       "      <td>True</td>\n",
       "    </tr>\n",
       "    <tr>\n",
       "      <th>2592</th>\n",
       "      <td>수업을 살리는 놀이 레시피</td>\n",
       "      <td>학교 수업을 좀더 재미있게 할 수 있는 유익한 연수였습니다^.^</td>\n",
       "      <td>5</td>\n",
       "      <td>교사의 수업이란 예전과 다르게 조금만 지루해도 학생들이 잘 안따르고 듣지 않은 경우...</td>\n",
       "      <td>2018-01-13</td>\n",
       "      <td>학교 수업을 좀더 재미있게 할 수 있는 유익한 연수였습니다^.^ 교사의 수업이란 예...</td>\n",
       "      <td>True</td>\n",
       "    </tr>\n",
       "    <tr>\n",
       "      <th>2593</th>\n",
       "      <td>교과수업에 활용하는 진로교육</td>\n",
       "      <td>정말 알차고 멋진 연수 였습니다.</td>\n",
       "      <td>5</td>\n",
       "      <td>강의 내용도 훌륭했고, 동영상 구성이나 그래픽도 아주 훌륭했습니다. 강사님의 프레젠...</td>\n",
       "      <td>2018-01-09</td>\n",
       "      <td>정말 알차고 멋진 연수 였습니다. 강의 내용도 훌륭했고, 동영상 구성이나 그래픽도 ...</td>\n",
       "      <td>True</td>\n",
       "    </tr>\n",
       "    <tr>\n",
       "      <th>2594</th>\n",
       "      <td>교과수업에 활용하는 진로교육</td>\n",
       "      <td>연수 잘 들었습니다.</td>\n",
       "      <td>5</td>\n",
       "      <td>진로교육과 관련해 이용할 수 있는 사이트와 사례들이 좋았습니다. 감사합니다^^</td>\n",
       "      <td>2018-01-08</td>\n",
       "      <td>연수 잘 들었습니다. 진로교육과 관련해 이용할 수 있는 사이트와 사례들이 좋았습니다...</td>\n",
       "      <td>True</td>\n",
       "    </tr>\n",
       "  </tbody>\n",
       "</table>\n",
       "<p>2595 rows × 7 columns</p>\n",
       "</div>"
      ],
      "text/plain": [
       "                            name                                title  star  \\\n",
       "0                한 번에 끝내는 법정연수 1                           법정연수 유용하네요     5   \n",
       "1     나이와 신분을 초월한 독립운동, 그 현장을 읽다                       독립운동에 관한 지식 쌓기     5   \n",
       "2     상상을 실천으로, 삶을 바꾸는 사회 수업 이야기       삶을 바꾸는 사회수업 주제통합 질문과 상상으로 진행하기     5   \n",
       "3     기초영어 회화 핵심표현 Real Speaking             영어 회화가 막막한 선생님들께 유익한 연수!     4   \n",
       "4            같이 읽고 함께 나누는 독서수업방법             독서교육을 해보고 싶어지게 만드는 연수!!!     5   \n",
       "...                          ...                                  ...   ...   \n",
       "2590         두근두근 교실밖 인문학 - 동양사편                       신동기 교수의 동양사 연수     5   \n",
       "2591              수업을 살리는 놀이 레시피                              알찬 수업연수     5   \n",
       "2592              수업을 살리는 놀이 레시피  학교 수업을 좀더 재미있게 할 수 있는 유익한 연수였습니다^.^     5   \n",
       "2593             교과수업에 활용하는 진로교육                   정말 알차고 멋진 연수 였습니다.     5   \n",
       "2594             교과수업에 활용하는 진로교육                          연수 잘 들었습니다.     5   \n",
       "\n",
       "                                               comments        date  \\\n",
       "0      의무적으로 해마다 듣는 연수인데 다른 강사에게 듣고 싶어 신청했는데 연수 들을만 했어요  2023-07-30   \n",
       "1              독립운동에 대해서 알고, 학생 대상으로 수업하기 좋았습니다. 추천합니다.  2023-07-30   \n",
       "2     사회 교과서 개정되고 학습량은 많은데 학생들이 이해하기쉽게 주제통합 수업을 진행하고...  2023-07-30   \n",
       "3     영어가 너무 오랜만이시거나 일상생활에서 많이 사용하는 영어 회화부터 마스터하고 싶으...  2023-07-29   \n",
       "4     아이를 키우며 그림책과 동화책에 관심을 갖게 되었다.\\n감동적이고 재미있는 책들을 ...  2023-07-28   \n",
       "...                                                 ...         ...   \n",
       "2590  평소 우리나라 역사에 대한 강의를 듣고 싶어 여러 원격교육을 받던 중 셀파 원격교육...  2018-04-02   \n",
       "2591  어느 연수보다도 알찬 수업연수였습니다. 단순하게 이러한 방법을 활용할 수 있다라고 ...  2018-01-25   \n",
       "2592  교사의 수업이란 예전과 다르게 조금만 지루해도 학생들이 잘 안따르고 듣지 않은 경우...  2018-01-13   \n",
       "2593  강의 내용도 훌륭했고, 동영상 구성이나 그래픽도 아주 훌륭했습니다. 강사님의 프레젠...  2018-01-09   \n",
       "2594        진로교육과 관련해 이용할 수 있는 사이트와 사례들이 좋았습니다. 감사합니다^^  2018-01-08   \n",
       "\n",
       "                                         title_comments  emotion_analysis  \n",
       "0     법정연수 유용하네요 의무적으로 해마다 듣는 연수인데 다른 강사에게 듣고 싶어 신청했...              True  \n",
       "1     독립운동에 관한 지식 쌓기 독립운동에 대해서 알고, 학생 대상으로 수업하기 좋았습니...              True  \n",
       "2     삶을 바꾸는 사회수업 주제통합 질문과 상상으로 진행하기 사회 교과서 개정되고 학습량...              True  \n",
       "3     영어 회화가 막막한 선생님들께 유익한 연수! 영어가 너무 오랜만이시거나 일상생활에서...              True  \n",
       "4     독서교육을 해보고 싶어지게 만드는 연수!!! 아이를 키우며 그림책과 동화책에 관심을...              True  \n",
       "...                                                 ...               ...  \n",
       "2590  신동기 교수의 동양사 연수 평소 우리나라 역사에 대한 강의를 듣고 싶어 여러 원격교...              True  \n",
       "2591  알찬 수업연수 어느 연수보다도 알찬 수업연수였습니다. 단순하게 이러한 방법을 활용할...              True  \n",
       "2592  학교 수업을 좀더 재미있게 할 수 있는 유익한 연수였습니다^.^ 교사의 수업이란 예...              True  \n",
       "2593  정말 알차고 멋진 연수 였습니다. 강의 내용도 훌륭했고, 동영상 구성이나 그래픽도 ...              True  \n",
       "2594  연수 잘 들었습니다. 진로교육과 관련해 이용할 수 있는 사이트와 사례들이 좋았습니다...              True  \n",
       "\n",
       "[2595 rows x 7 columns]"
      ]
     },
     "execution_count": 26,
     "metadata": {},
     "output_type": "execute_result"
    }
   ],
   "source": [
    "tsherpa"
   ]
  },
  {
   "cell_type": "markdown",
   "id": "f86a8bf3",
   "metadata": {},
   "source": [
    "* icecream의 후기 중에서 title과 comments를 같이 감정분석하기 위해서 title_comments 변수로 추가"
   ]
  },
  {
   "cell_type": "code",
   "execution_count": null,
   "id": "7319761c",
   "metadata": {},
   "outputs": [],
   "source": [
    "icecream['title_comments'] = icecream['title'] + ' ' + icecream['comments']"
   ]
  },
  {
   "cell_type": "markdown",
   "id": "18cf96f6",
   "metadata": {},
   "source": [
    "* 감정분석을 하기 위해서 글자수가 512개 이상인 행은 삭제"
   ]
  },
  {
   "cell_type": "code",
   "execution_count": null,
   "id": "33345574",
   "metadata": {},
   "outputs": [],
   "source": [
    "icecream = icecream[icecream['title_comments'].apply(lambda x: False if len(x) > 512 else True)]"
   ]
  },
  {
   "cell_type": "markdown",
   "id": "c3896442",
   "metadata": {},
   "source": [
    "* icecream에 대해서 감정분석 진행"
   ]
  },
  {
   "cell_type": "code",
   "execution_count": null,
   "id": "4552e81e",
   "metadata": {},
   "outputs": [],
   "source": [
    "list_positive = []\n",
    "\n",
    "for i in icecream.loc[:,'comments']:\n",
    "    preds = classifier(i, return_all_scores=True)\n",
    "    is_positive = preds[0][1]['score'] > 0.5\n",
    "    list_positive.append(is_positive)"
   ]
  },
  {
   "cell_type": "code",
   "execution_count": null,
   "id": "e7a55840",
   "metadata": {},
   "outputs": [],
   "source": [
    "icecream['emotion'] = list_positive"
   ]
  },
  {
   "cell_type": "code",
   "execution_count": null,
   "id": "92e1d611",
   "metadata": {},
   "outputs": [],
   "source": [
    "icecream.to_csv('icecream.csv',index=False)"
   ]
  },
  {
   "cell_type": "code",
   "execution_count": null,
   "id": "c86cecf1",
   "metadata": {},
   "outputs": [],
   "source": [
    "icecream = pd.read_csv('./icecream.csv')"
   ]
  },
  {
   "cell_type": "code",
   "execution_count": null,
   "id": "de4241cc",
   "metadata": {},
   "outputs": [],
   "source": [
    "icecream"
   ]
  },
  {
   "cell_type": "markdown",
   "id": "0f0ddfd3",
   "metadata": {},
   "source": [
    "## tokeninzing"
   ]
  },
  {
   "cell_type": "code",
   "execution_count": null,
   "id": "09fea70b",
   "metadata": {},
   "outputs": [],
   "source": [
    "kkma = Kkma()"
   ]
  },
  {
   "cell_type": "markdown",
   "id": "2c7c808a",
   "metadata": {},
   "source": [
    "* 완전한 한글을 제외한 문자 제거"
   ]
  },
  {
   "cell_type": "code",
   "execution_count": null,
   "id": "33b8ee9a",
   "metadata": {},
   "outputs": [],
   "source": [
    "tsherpa['title_comments'] = tsherpa['title_comments'].replace('[^가-힣]', ' ', regex = True)\n",
    "icecream['title_comments'] = icecream['title_comments'].replace('[^가-힣]', ' ', regex = True)"
   ]
  },
  {
   "cell_type": "markdown",
   "id": "84c591e4",
   "metadata": {},
   "source": [
    "#### tsherpa"
   ]
  },
  {
   "cell_type": "markdown",
   "id": "ff3d2c94",
   "metadata": {},
   "source": [
    "* 감정분류가 긍정으로 된 후기를 단어로 구분"
   ]
  },
  {
   "cell_type": "code",
   "execution_count": 27,
   "id": "e6f85d09",
   "metadata": {
    "collapsed": true
   },
   "outputs": [
    {
     "ename": "NameError",
     "evalue": "name 'kkma' is not defined",
     "output_type": "error",
     "traceback": [
      "\u001b[1;31m---------------------------------------------------------------------------\u001b[0m",
      "\u001b[1;31mNameError\u001b[0m                                 Traceback (most recent call last)",
      "Cell \u001b[1;32mIn[27], line 2\u001b[0m\n\u001b[0;32m      1\u001b[0m tsherpa_true \u001b[38;5;241m=\u001b[39m tsherpa[tsherpa[\u001b[38;5;124m'\u001b[39m\u001b[38;5;124memotion_analysis\u001b[39m\u001b[38;5;124m'\u001b[39m] \u001b[38;5;241m==\u001b[39m \u001b[38;5;28;01mTrue\u001b[39;00m]\n\u001b[1;32m----> 2\u001b[0m tsherpa_nouns_true \u001b[38;5;241m=\u001b[39m tsherpa_true[\u001b[38;5;124m'\u001b[39m\u001b[38;5;124mtitle_comments\u001b[39m\u001b[38;5;124m'\u001b[39m]\u001b[38;5;241m.\u001b[39mapply(\u001b[43mkkma\u001b[49m\u001b[38;5;241m.\u001b[39mnouns)\n",
      "\u001b[1;31mNameError\u001b[0m: name 'kkma' is not defined"
     ]
    }
   ],
   "source": [
    "tsherpa_true = tsherpa[tsherpa['emotion_analysis'] == True]\n",
    "tsherpa_nouns_true = tsherpa_true['title_comments'].apply(kkma.nouns)"
   ]
  },
  {
   "cell_type": "markdown",
   "id": "7411ed8f",
   "metadata": {},
   "source": [
    "* 감정분류가 부정으로 된 후기를 단어로 구분"
   ]
  },
  {
   "cell_type": "code",
   "execution_count": null,
   "id": "a9e4e4ac",
   "metadata": {},
   "outputs": [],
   "source": [
    "tsherpa_false = tsherpa[tsherpa['emotion_analysis'] == False]\n",
    "tsherpa_nouns_false = tsherpa_false['title_comments'].apply(kkma.nouns)"
   ]
  },
  {
   "cell_type": "markdown",
   "id": "e8315095",
   "metadata": {},
   "source": [
    "* 긍정으로 분류된 후기들을 구성하는 단어를 빈도수로 정렬"
   ]
  },
  {
   "cell_type": "code",
   "execution_count": null,
   "id": "1a85a5d3",
   "metadata": {},
   "outputs": [],
   "source": [
    "tsherpa_nouns_true = tsherpa_nouns_true.explode()\n",
    "tsherpa_words_true = pd.DataFrame({'word' : tsherpa_nouns_true})\n",
    "tsherpa_words_true['count'] = tsherpa_words_true['word'].str.len()\n",
    "tsherpa_words_true = tsherpa_words_true.query('count>1')\n",
    "tsherpa_true = tsherpa_words_true.groupby('word',as_index = False).count().sort_values('count',ascending = False)"
   ]
  },
  {
   "cell_type": "markdown",
   "id": "44813da1",
   "metadata": {},
   "source": [
    "* 부정으로 분류된 후기들을 구성하는 단어를 빈도수로 정렬"
   ]
  },
  {
   "cell_type": "code",
   "execution_count": null,
   "id": "c5bf99fe",
   "metadata": {},
   "outputs": [],
   "source": [
    "tsherpa_nouns_false = tsherpa_nouns_false.explode()\n",
    "tsherpa_words_false = pd.DataFrame({'word' : tsherpa_nouns_false})\n",
    "tsherpa_words_false['count'] = tsherpa_words_false['word'].str.len()\n",
    "tsherpa_words_false = tsherpa_words_false.query('count>1')\n",
    "tsherpa_false = tsherpa_words_false.groupby('word',as_index = False).count().sort_values('count',ascending = False)"
   ]
  },
  {
   "cell_type": "markdown",
   "id": "ee75682d",
   "metadata": {},
   "source": [
    "#### icecream"
   ]
  },
  {
   "cell_type": "markdown",
   "id": "29df5dfc",
   "metadata": {},
   "source": [
    "* 감정분류가 긍정으로 된 후기를 단어로 구분"
   ]
  },
  {
   "cell_type": "code",
   "execution_count": null,
   "id": "c5be4e32",
   "metadata": {},
   "outputs": [],
   "source": [
    "icecream_true = icecream[icecream['emotion'] == True]\n",
    "icecream_nouns_true = icecream_true['title_comments'].apply(kkma.nouns)"
   ]
  },
  {
   "cell_type": "markdown",
   "id": "168bba0d",
   "metadata": {},
   "source": [
    "* 감정분류가 부정으로 된 리뷰를 단어로 구분"
   ]
  },
  {
   "cell_type": "code",
   "execution_count": null,
   "id": "6155b791",
   "metadata": {},
   "outputs": [],
   "source": [
    "icecream_false = icecream[icecream['emotion'] == False]\n",
    "icecream_nouns_false = icecream_false['title_comments'].apply(kkma.nouns)"
   ]
  },
  {
   "cell_type": "markdown",
   "id": "eb714962",
   "metadata": {},
   "source": [
    "* 긍정으로 분류된 리뷰들을 구성하는 단어를 빈도수로 정렬"
   ]
  },
  {
   "cell_type": "code",
   "execution_count": null,
   "id": "9ca96110",
   "metadata": {},
   "outputs": [],
   "source": [
    "icecream_nouns_true = icecream_nouns_true.explode()\n",
    "icecream_words_true = pd.DataFrame({'word' : icecream_nouns_true})\n",
    "icecream_words_true['count'] = icecream_words_true['word'].str.len()\n",
    "icecream_words_true = icecream_words_true.query('count>1')\n",
    "icecream_words_true = icecream_words_true.groupby('word',as_index = False).count().sort_values('count',ascending = False)\n",
    "icecream_words_true.reset_index(drop = True, inplace = True)"
   ]
  },
  {
   "cell_type": "markdown",
   "id": "c1078b90",
   "metadata": {},
   "source": [
    "* 부정으로 분류된 리뷰들을 구성하는 단어를 빈도수로 정렬"
   ]
  },
  {
   "cell_type": "code",
   "execution_count": null,
   "id": "04af49c5",
   "metadata": {},
   "outputs": [],
   "source": [
    "icecream_nouns_false = icecream_nouns_false.explode()\n",
    "icecream_words_false = pd.DataFrame({'word' : icecream_nouns_false})\n",
    "icecream_words_false['count'] = icecream_words_false['word'].str.len()\n",
    "icecream_words_false = icecream_words_false.query('count>1')\n",
    "icecream_words_false = icecream_words_false.groupby('word',as_index = False).count().sort_values('count',ascending = False)\n",
    "icecream_words_false.reset_index(drop = True, inplace = True)"
   ]
  },
  {
   "cell_type": "markdown",
   "id": "1c275473",
   "metadata": {},
   "source": [
    "## 워드클라우드\n",
    "* 불용어 제거를 위해 긍정후기와 부정후기에서 공통적으로 보이는 단어들을 각 후기에서 제거\n",
    "* 워드클라우드 그리기"
   ]
  },
  {
   "cell_type": "markdown",
   "id": "c4fa89e2",
   "metadata": {},
   "source": [
    "#### tsherpa"
   ]
  },
  {
   "cell_type": "markdown",
   "id": "ca99dff5",
   "metadata": {},
   "source": [
    "* 긍정후기와 부정후기에서 공통적으로 보이는 단어 추출"
   ]
  },
  {
   "cell_type": "code",
   "execution_count": null,
   "id": "a5bcba66",
   "metadata": {},
   "outputs": [],
   "source": [
    "tsherpa_inner = pd.merge(tsherpa_true,tsherpa_false,how='inner', on = 'word')\n",
    "tsherpa_inner = tsherpa_inner['word'].head(20)"
   ]
  },
  {
   "cell_type": "markdown",
   "id": "b857f27f",
   "metadata": {},
   "source": [
    "* 긍정후기에서 공통단어 제거"
   ]
  },
  {
   "cell_type": "code",
   "execution_count": null,
   "id": "9fbddc69",
   "metadata": {},
   "outputs": [],
   "source": [
    "tsherpa_true.index = tsherpa_true['word']"
   ]
  },
  {
   "cell_type": "code",
   "execution_count": null,
   "id": "a068f356",
   "metadata": {},
   "outputs": [],
   "source": [
    "for i in range(0,len(tsherpa_inner)):\n",
    "    tsherpa_true.drop([tsherpa_inner[i]],inplace = True)"
   ]
  },
  {
   "cell_type": "markdown",
   "id": "3fb10ca8",
   "metadata": {},
   "source": [
    "* 부정후기에서 공통단어 제거"
   ]
  },
  {
   "cell_type": "code",
   "execution_count": null,
   "id": "9934c4ba",
   "metadata": {},
   "outputs": [],
   "source": [
    "tsherpa_false.index = tsherpa_false['word']"
   ]
  },
  {
   "cell_type": "code",
   "execution_count": null,
   "id": "47fb7418",
   "metadata": {},
   "outputs": [],
   "source": [
    "for i in range(0,len(tsherpa_inner)):\n",
    "    tsherpa_false.drop([tsherpa_inner[i]],inplace = True)"
   ]
  },
  {
   "cell_type": "markdown",
   "id": "c442e5b5",
   "metadata": {},
   "source": [
    "* 긍정 워드클라우드"
   ]
  },
  {
   "cell_type": "code",
   "execution_count": null,
   "id": "8cb3cdde",
   "metadata": {},
   "outputs": [],
   "source": [
    "tsherpa_true = tsherpa_true.set_index('word').to_dict()['count']\n",
    "im = Image.open('heart.png')\n",
    "mask = np.array(im)\n",
    "wordcloud = WordCloud(\n",
    "font_path = \"malgun\",\n",
    "    width = 400,\n",
    "    height = 400,\n",
    "    mask = mask,\n",
    "    max_font_size = 100,\n",
    "    background_color='white',\n",
    "    colormap = 'autumn'\n",
    ").generate_from_frequencies(tsherpa_true)\n",
    "plt.figure()\n",
    "plt.imshow(wordcloud)\n",
    "plt.axis('off')"
   ]
  },
  {
   "cell_type": "markdown",
   "id": "50b9bb5f",
   "metadata": {},
   "source": [
    "* 부정 워드클라우드"
   ]
  },
  {
   "cell_type": "code",
   "execution_count": null,
   "id": "6808d1aa",
   "metadata": {},
   "outputs": [],
   "source": [
    "tsherpa_false = tsherpa_false.set_index('word').to_dict()['count']\n",
    "im = Image.open('heart.png')\n",
    "mask = np.array(im)\n",
    "wordcloud = WordCloud(\n",
    "font_path = \"malgun\",width = 400,height = 400,mask = mask,max_font_size = 100, background_color='white',   stopwords = stopwords\n",
    ").generate_from_frequencies(tsherpa_false)\n",
    "plt.figure()\n",
    "plt.imshow(wordcloud)\n",
    "plt.axis('off')"
   ]
  },
  {
   "cell_type": "markdown",
   "id": "74bb9e3b",
   "metadata": {},
   "source": [
    "#### icecream"
   ]
  },
  {
   "cell_type": "markdown",
   "id": "0c633e9d",
   "metadata": {},
   "source": [
    "* 긍정후기와 부정후기에서 공통적으로 보이는 단어 추출"
   ]
  },
  {
   "cell_type": "code",
   "execution_count": null,
   "id": "3c31c8bd",
   "metadata": {},
   "outputs": [],
   "source": [
    "icecream_inner = pd.merge(icecream_true,icecream_false,how='inner', on = 'word')\n",
    "icecream_inner = icecream_inner['word'].head(20)"
   ]
  },
  {
   "cell_type": "markdown",
   "id": "9014a1c4",
   "metadata": {},
   "source": [
    "* 긍정후기에서 공통단어 제거"
   ]
  },
  {
   "cell_type": "code",
   "execution_count": null,
   "id": "8bddd240",
   "metadata": {},
   "outputs": [],
   "source": [
    "icecream_true.index = icecream_true['word']"
   ]
  },
  {
   "cell_type": "code",
   "execution_count": null,
   "id": "6d7ebcd9",
   "metadata": {},
   "outputs": [],
   "source": [
    "for i in range(0,len(icecream_inner)):\n",
    "    icecream_true.drop([icecream_inner[i]],inplace = True)"
   ]
  },
  {
   "cell_type": "markdown",
   "id": "46b08fee",
   "metadata": {},
   "source": [
    "* 부정후기에서 공통단어 제거"
   ]
  },
  {
   "cell_type": "code",
   "execution_count": null,
   "id": "533e961a",
   "metadata": {},
   "outputs": [],
   "source": [
    "icecream_false.index = icecream_false['word']"
   ]
  },
  {
   "cell_type": "code",
   "execution_count": null,
   "id": "4a11604f",
   "metadata": {},
   "outputs": [],
   "source": [
    "for i in range(0,len(icecream_inner)):\n",
    "    icecream_false.drop([icecream_inner[i]],inplace = True)"
   ]
  },
  {
   "cell_type": "markdown",
   "id": "cb589a24",
   "metadata": {},
   "source": [
    "* 긍정 워드클라우드"
   ]
  },
  {
   "cell_type": "code",
   "execution_count": null,
   "id": "e07798c1",
   "metadata": {},
   "outputs": [],
   "source": [
    "icecream_true = icecream_true.set_index('word').to_dict()['count']\n",
    "im = Image.open('heart.png')\n",
    "mask = np.array(im)\n",
    "wordcloud = WordCloud(\n",
    "font_path = \"malgun\",\n",
    "    width = 400,\n",
    "    height = 400,\n",
    "    mask = mask,\n",
    "max_font_size = 100, \n",
    "background_color='white',\n",
    "colormap = 'autumn'\n",
    ").generate_from_frequencies(icecream_true)\n",
    "plt.figure()\n",
    "plt.imshow(wordcloud)\n",
    "plt.axis('off')"
   ]
  },
  {
   "cell_type": "markdown",
   "id": "555f5a9e",
   "metadata": {},
   "source": [
    "* 부정 워드클라우드"
   ]
  },
  {
   "cell_type": "code",
   "execution_count": null,
   "id": "e5dec2fd",
   "metadata": {},
   "outputs": [],
   "source": [
    "icecream_false = icecream_false.set_index('word').to_dict()['count']\n",
    "im = Image.open('heart.png')\n",
    "mask = np.array(im)\n",
    "wordcloud = WordCloud(\n",
    "font_path = \"malgun\",\n",
    "    width = 400,\n",
    "    height = 400,\n",
    "    mask = mask,\n",
    "max_font_size = 100, \n",
    "background_color='white'\n",
    ").generate_from_frequencies(icecream_false)\n",
    "plt.figure()\n",
    "plt.imshow(wordcloud)\n",
    "plt.axis('off')"
   ]
  },
  {
   "cell_type": "markdown",
   "id": "4cbeaece",
   "metadata": {},
   "source": [
    "## 대시보드"
   ]
  },
  {
   "cell_type": "code",
   "execution_count": null,
   "id": "2ccce490",
   "metadata": {},
   "outputs": [],
   "source": []
  }
 ],
 "metadata": {
  "kernelspec": {
   "display_name": "Python 3 (ipykernel)",
   "language": "python",
   "name": "python3"
  },
  "language_info": {
   "codemirror_mode": {
    "name": "ipython",
    "version": 3
   },
   "file_extension": ".py",
   "mimetype": "text/x-python",
   "name": "python",
   "nbconvert_exporter": "python",
   "pygments_lexer": "ipython3",
   "version": "3.10.9"
  }
 },
 "nbformat": 4,
 "nbformat_minor": 5
}
