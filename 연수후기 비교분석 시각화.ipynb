{
 "cells": [
  {
   "cell_type": "code",
   "execution_count": 2,
   "id": "83163792",
   "metadata": {},
   "outputs": [
    {
     "name": "stderr",
     "output_type": "stream",
     "text": [
      "c:\\Users\\icn97\\AppData\\Local\\Programs\\Python\\Python311\\Lib\\site-packages\\tqdm\\auto.py:21: TqdmWarning: IProgress not found. Please update jupyter and ipywidgets. See https://ipywidgets.readthedocs.io/en/stable/user_install.html\n",
      "  from .autonotebook import tqdm as notebook_tqdm\n"
     ]
    }
   ],
   "source": [
    "import time\n",
    "import numpy as np\n",
    "import pandas as pd\n",
    "import matplotlib.pyplot as plt\n",
    "from PIL import Image\n",
    "from konlpy.tag import Kkma\n",
    "from selenium import webdriver\n",
    "from transformers import pipeline\n",
    "from datetime import datetime, timedelta\n",
    "from wordcloud import WordCloud, STOPWORDS"
   ]
  },
  {
   "cell_type": "markdown",
   "id": "1f821719",
   "metadata": {},
   "source": [
    "##  연수 후기 크롤링"
   ]
  },
  {
   "cell_type": "markdown",
   "id": "78a7bf1a",
   "metadata": {},
   "source": [
    "* 크롬을 통해 Tsherpa 연수 후기 사이트로 들어가기"
   ]
  },
  {
   "cell_type": "code",
   "execution_count": null,
   "id": "6fd3e2a9",
   "metadata": {},
   "outputs": [],
   "source": [
    "driver = webdriver.Chrome()\n",
    "\n",
    "tsherpa_url = \"https://edu.tsherpa.co.kr/LectureInfo/LectureReviews2\"\n",
    "driver.get(tsherpa_url)"
   ]
  },
  {
   "cell_type": "markdown",
   "id": "0c6676bf",
   "metadata": {},
   "source": [
    "* Tsherpa에 모든 후기 크롤링"
   ]
  },
  {
   "cell_type": "code",
   "execution_count": null,
   "id": "6160ff8e",
   "metadata": {},
   "outputs": [],
   "source": [
    "ind = 1  # 현재 복사한 순서\n",
    "no = 1 # 1~10페이지 중 위치한 곳\n",
    "page = 1  # 현재 페이지 번호\n",
    "list1 = []  # 결과물이 저장되는 리스트\n",
    "\n",
    "\n",
    "while 1:\n",
    "    try:\n",
    "        driver.switch_to.window(driver.window_handles[0])  \n",
    "        \n",
    "        driver.find_element(by='xpath',\n",
    "                    value = f'//*[@id=\"mainForm\"]/table/tbody/tr[{ind}]/td[2]/a').click()\n",
    "\n",
    "        time.sleep(0.2)\n",
    "\n",
    "        driver.switch_to.window(driver.window_handles[1]) \n",
    "        \n",
    "        name = driver.find_element(by='xpath',\n",
    "               value = '//*[@id=\"mainForm\"]/div[1]/span/a').text\n",
    "\n",
    "        title = driver.find_element(by='xpath', value = '//*[@id=\"mainForm\"]/div[2]/table/tbody/tr[1]/td').text\n",
    "\n",
    "        star= (driver.find_element(by='xpath',value = f'//*[@id=\"mainForm\"]/div[2]/table/tbody/tr[2]/td/span[1]/img')).get_attribute('alt')\n",
    "\n",
    "        contents = driver.find_element(by='xpath',\n",
    "                           value = '//*[@id=\"mainForm\"]/div[2]/table/tbody/tr[3]/td').text\n",
    "        \n",
    "        date = driver.find_element(by='xpath',\n",
    "                   value = '//*[@id=\"mainForm\"]/div[2]/table/tbody/tr[2]/td/span[2]').text.split(' ')[3]\n",
    "\n",
    "\n",
    "        driver.find_element(by = 'xpath',\n",
    "                           value = '//*[@id=\"mainForm\"]/div[2]/div/a').click()\n",
    "\n",
    "        driver.switch_to.window(driver.window_handles[0])  \n",
    "        \n",
    "        \n",
    "        list1.append([name, title, star, contents, date])\n",
    "        \n",
    "        ind += 1\n",
    "       \n",
    "\n",
    "    except:\n",
    "        no += 1\n",
    "        if no < 11:\n",
    "            driver.find_element(by='xpath',value = f'//*[@id=\"mainForm\"]/div[3]/a[{no+1}]').click()\n",
    "            ind = 1\n",
    "            page += 1\n",
    "            continue\n",
    "\n",
    "\n",
    "        elif no == 11:\n",
    "            driver.find_element(by='xpath',value = '//*[@id=\"mainForm\"]/div[3]/a[12]/img').click()\n",
    "            no = 1\n",
    "            ind = 1\n",
    "            page += 1\n",
    "            continue\n",
    "            \n",
    "            \n",
    "            \n",
    "        else:\n",
    "            break\n",
    "\n",
    "\n",
    "df = pd.DataFrame(list1)\n",
    "df.rename(columns = { 0 : 'name', 1 : 'title', 2 : 'star', 3 : 'comments', 4 : 'date'},inplace = True)\n",
    "df = df.drop_duplicates(['contents'])\n",
    "df.to_csv('tsherpa.csv',index = False)"
   ]
  },
  {
   "cell_type": "code",
   "execution_count": 19,
   "id": "1aca63ad",
   "metadata": {
    "scrolled": true
   },
   "outputs": [],
   "source": [
    "tsherpa = pd.read_csv('./tsherpa.csv')"
   ]
  },
  {
   "cell_type": "markdown",
   "id": "365ec665",
   "metadata": {},
   "source": [
    "* 크롬을 통해 icecream 연수 후기 사이트로 들어가기"
   ]
  },
  {
   "cell_type": "code",
   "execution_count": null,
   "id": "7379601c",
   "metadata": {},
   "outputs": [],
   "source": [
    "driver = webdriver.Chrome()\n",
    "\n",
    "review_search_url = \"https://teacher.i-scream.co.kr/help/afterword/list.do?sso=ok\"\n",
    "driver.get(review_search_url)"
   ]
  },
  {
   "cell_type": "markdown",
   "id": "004c9234",
   "metadata": {},
   "source": [
    "* icecream 연수 후기가 tsherpa에 비해서 매우 많기 때문에 데이터 수를 조절하기 위해 한 페이지에서 1개씩만 크롤링"
   ]
  },
  {
   "cell_type": "code",
   "execution_count": null,
   "id": "74d633a9",
   "metadata": {},
   "outputs": [],
   "source": [
    "list1 = []\n",
    "\n",
    "\n",
    "while 1:\n",
    "    try:\n",
    "        for j in range(3, 13): # 한 페이지 넘어갈 때 10개씩 있음(1번은 이전10페이지로)\n",
    "            driver.find_element(by='xpath',value = f'//*[@id=\"content\"]/div[3]/table/tbody/tr[1]/td[3]/a').click() # 연수후기 페이지 클릭\n",
    "\n",
    "            name = driver.find_element(by='xpath',value = f'//*[@id=\"bbs_wrap\"]/div/dl[2]/dd/a').text # 연수명\n",
    "            title = driver.find_element(by='xpath',value = f'//*[@id=\"bbs_wrap\"]/div/dl[1]/dd').text # 연수후기 제목\n",
    "            el_rated = driver.find_element(by='xpath',value = f'//*[@id=\"bbs_wrap\"]/div/dl[3]/dd[1]/span/span')\n",
    "            rated = el_rated.get_attribute('class')  # 별점\n",
    "            review = driver.find_element(by='xpath',value = f'//*[@id=\"bbs_wrap\"]/div/div[1]').text # 내용\n",
    "            classified = driver.find_element(by='xpath',value = f'//*[@id=\"bbs_wrap\"]/div/dl[3]/dd[2]').text  # 분류\n",
    "            date = driver.find_element(by='xpath',value = f'//*[@id=\"bbs_wrap\"]/div/dl[4]/dd[2]').text  # 날짜\n",
    "\n",
    "\n",
    "\n",
    "\n",
    "            list1.append([name, title, rated, review, classified, date])\n",
    "            time.sleep(0.1)\n",
    "            driver.find_element(by='xpath',value = f'//*[@id=\"btn-list\"]').click() # 목록으로 돌아가기\n",
    "            time.sleep(0.2)\n",
    "            driver.find_element(by='xpath',value = f'//*[@id=\"paging\"]/ul/li[{j}]/a').click() # 옆 페이지 넘어가기 ex) 1->2\n",
    "            \n",
    "            df = pd.DataFrame(list1)\n",
    "            df.to_csv('icecream.csv')\n",
    "            time.sleep(0.1)\n",
    "        \n",
    "    except:\n",
    "        break"
   ]
  },
  {
   "cell_type": "code",
   "execution_count": 28,
   "id": "1150c350",
   "metadata": {},
   "outputs": [],
   "source": [
    "icecream = pd.read_csv('./icecream.csv')"
   ]
  },
  {
   "cell_type": "markdown",
   "id": "10334713",
   "metadata": {},
   "source": [
    "## 감정분석"
   ]
  },
  {
   "cell_type": "code",
   "execution_count": 16,
   "id": "ca06b3d2",
   "metadata": {},
   "outputs": [],
   "source": [
    "def word():\n",
    "    x = input()\n",
    "    classifier = pipeline(\"text-classification\", model=\"matthewburke/korean_sentiment\")\n",
    "    custom_tweet = f'b{x}'\n",
    "    preds = classifier(custom_tweet, return_all_scores=True)\n",
    "    is_positive = preds[0][1]['score'] > 0.5\n",
    "    print(is_positive)"
   ]
  },
  {
   "cell_type": "markdown",
   "id": "c447673e",
   "metadata": {},
   "source": [
    "* Tsherpa의 후기 중 title과 comments를 같이 감정분석하기 위해서 title_comments 변수로 추가"
   ]
  },
  {
   "cell_type": "code",
   "execution_count": 14,
   "id": "ed85681f",
   "metadata": {},
   "outputs": [],
   "source": [
    "tsherpa['title_comments'] = tsherpa['title'] + ' ' + tsherpa['comments']"
   ]
  },
  {
   "cell_type": "markdown",
   "id": "9b4d0192",
   "metadata": {},
   "source": [
    "* 감정분석을 하기 위해서 글자수가 512개 이상인 행은 삭제"
   ]
  },
  {
   "cell_type": "code",
   "execution_count": 15,
   "id": "3e28c4f7",
   "metadata": {},
   "outputs": [],
   "source": [
    "tsherpa = tsherpa[tsherpa['title_comments'].apply(lambda x: False if len(x) > 512 else True)]"
   ]
  },
  {
   "cell_type": "markdown",
   "id": "5248a513",
   "metadata": {},
   "source": [
    "* Tsherpa에 대해서 감정 분석 진행"
   ]
  },
  {
   "cell_type": "code",
   "execution_count": null,
   "id": "f9354a1f",
   "metadata": {},
   "outputs": [],
   "source": [
    "list_positive = []\n",
    "\n",
    "for i in tsherpa.loc[:,'comments']:\n",
    "    preds = classifier(i, return_all_scores=True)\n",
    "    is_positive = preds[0][1]['score'] > 0.5\n",
    "    list_positive.append(is_positive)"
   ]
  },
  {
   "cell_type": "code",
   "execution_count": null,
   "id": "7e36e2f8",
   "metadata": {},
   "outputs": [],
   "source": [
    "tsherpa['emotion'] = list_positive"
   ]
  },
  {
   "cell_type": "code",
   "execution_count": null,
   "id": "15322cd0",
   "metadata": {},
   "outputs": [],
   "source": [
    "tsherpa.to_csv('tsherpa.csv',index=False)"
   ]
  },
  {
   "cell_type": "code",
   "execution_count": null,
   "id": "2d6cbf41",
   "metadata": {},
   "outputs": [],
   "source": [
    "tsherpa = pd.read_csv('./tsherpa.csv')"
   ]
  },
  {
   "cell_type": "markdown",
   "id": "f86a8bf3",
   "metadata": {},
   "source": [
    "* icecream의 후기 중에서 title과 comments를 같이 감정분석하기 위해서 title_comments 변수로 추가"
   ]
  },
  {
   "cell_type": "code",
   "execution_count": null,
   "id": "7319761c",
   "metadata": {},
   "outputs": [],
   "source": [
    "icecream['title_comments'] = icecream['title'] + ' ' + icecream['comments']"
   ]
  },
  {
   "cell_type": "markdown",
   "id": "18cf96f6",
   "metadata": {},
   "source": [
    "* 감정분석을 하기 위해서 글자수가 512개 이상인 행은 삭제"
   ]
  },
  {
   "cell_type": "code",
   "execution_count": null,
   "id": "33345574",
   "metadata": {},
   "outputs": [],
   "source": [
    "icecream = icecream[icecream['title_comments'].apply(lambda x: False if len(x) > 512 else True)]"
   ]
  },
  {
   "cell_type": "markdown",
   "id": "c3896442",
   "metadata": {},
   "source": [
    "* icecream에 대해서 감정분석 진행"
   ]
  },
  {
   "cell_type": "code",
   "execution_count": null,
   "id": "4552e81e",
   "metadata": {},
   "outputs": [],
   "source": [
    "list_positive = []\n",
    "\n",
    "for i in icecream.loc[:,'comments']:\n",
    "    preds = classifier(i, return_all_scores=True)\n",
    "    is_positive = preds[0][1]['score'] > 0.5\n",
    "    list_positive.append(is_positive)"
   ]
  },
  {
   "cell_type": "code",
   "execution_count": null,
   "id": "e7a55840",
   "metadata": {},
   "outputs": [],
   "source": [
    "icecream['emotion'] = list_positive"
   ]
  },
  {
   "cell_type": "code",
   "execution_count": null,
   "id": "92e1d611",
   "metadata": {},
   "outputs": [],
   "source": [
    "icecream.to_csv('icecream.csv',index=False)"
   ]
  },
  {
   "cell_type": "code",
   "execution_count": null,
   "id": "c86cecf1",
   "metadata": {},
   "outputs": [],
   "source": [
    "icecream = pd.read_csv('./icecream.csv')"
   ]
  },
  {
   "cell_type": "code",
   "execution_count": null,
   "id": "de4241cc",
   "metadata": {},
   "outputs": [],
   "source": [
    "icecream"
   ]
  },
  {
   "cell_type": "markdown",
   "id": "0f0ddfd3",
   "metadata": {},
   "source": [
    "## tokeninzing"
   ]
  },
  {
   "cell_type": "code",
   "execution_count": null,
   "id": "09fea70b",
   "metadata": {},
   "outputs": [],
   "source": [
    "kkma = Kkma()"
   ]
  },
  {
   "cell_type": "markdown",
   "id": "2c7c808a",
   "metadata": {},
   "source": [
    "* 완전한 한글을 제외한 문자 제거"
   ]
  },
  {
   "cell_type": "code",
   "execution_count": null,
   "id": "33b8ee9a",
   "metadata": {},
   "outputs": [],
   "source": [
    "tsherpa['title_comments'] = tsherpa['title_comments'].replace('[^가-힣]', ' ', regex = True)\n",
    "icecream['title_comments'] = icecream['title_comments'].replace('[^가-힣]', ' ', regex = True)"
   ]
  },
  {
   "cell_type": "markdown",
   "id": "84c591e4",
   "metadata": {},
   "source": [
    "#### tsherpa"
   ]
  },
  {
   "cell_type": "markdown",
   "id": "ff3d2c94",
   "metadata": {},
   "source": [
    "* 감정분류가 긍정으로 된 후기를 단어로 구분"
   ]
  },
  {
   "cell_type": "code",
   "execution_count": 5,
   "id": "e6f85d09",
   "metadata": {
    "collapsed": true
   },
   "outputs": [],
   "source": [
    "tsherpa_true = tsherpa[tsherpa['emotion_analysis'] == True]\n",
    "tsherpa_nouns_true = tsherpa_true['title_comments'].apply(kkma.nouns)"
   ]
  },
  {
   "cell_type": "markdown",
   "id": "7411ed8f",
   "metadata": {},
   "source": [
    "* 감정분류가 부정으로 된 후기를 단어로 구분"
   ]
  },
  {
   "cell_type": "code",
   "execution_count": null,
   "id": "a9e4e4ac",
   "metadata": {},
   "outputs": [],
   "source": [
    "tsherpa_false = tsherpa[tsherpa['emotion_analysis'] == False]\n",
    "tsherpa_nouns_false = tsherpa_false['title_comments'].apply(kkma.nouns)"
   ]
  },
  {
   "cell_type": "markdown",
   "id": "e8315095",
   "metadata": {},
   "source": [
    "* 긍정으로 분류된 후기들을 구성하는 단어를 빈도수로 정렬"
   ]
  },
  {
   "cell_type": "code",
   "execution_count": null,
   "id": "1a85a5d3",
   "metadata": {},
   "outputs": [],
   "source": [
    "tsherpa_nouns_true = tsherpa_nouns_true.explode()\n",
    "tsherpa_words_true = pd.DataFrame({'word' : tsherpa_nouns_true})\n",
    "tsherpa_words_true['count'] = tsherpa_words_true['word'].str.len()\n",
    "tsherpa_words_true = tsherpa_words_true.query('count>1')\n",
    "tsherpa_true = tsherpa_words_true.groupby('word',as_index = False).count().sort_values('count',ascending = False)"
   ]
  },
  {
   "cell_type": "markdown",
   "id": "44813da1",
   "metadata": {},
   "source": [
    "* 부정으로 분류된 후기들을 구성하는 단어를 빈도수로 정렬"
   ]
  },
  {
   "cell_type": "code",
   "execution_count": null,
   "id": "c5bf99fe",
   "metadata": {},
   "outputs": [],
   "source": [
    "tsherpa_nouns_false = tsherpa_nouns_false.explode()\n",
    "tsherpa_words_false = pd.DataFrame({'word' : tsherpa_nouns_false})\n",
    "tsherpa_words_false['count'] = tsherpa_words_false['word'].str.len()\n",
    "tsherpa_words_false = tsherpa_words_false.query('count>1')\n",
    "tsherpa_false = tsherpa_words_false.groupby('word',as_index = False).count().sort_values('count',ascending = False)"
   ]
  },
  {
   "cell_type": "markdown",
   "id": "ee75682d",
   "metadata": {},
   "source": [
    "#### icecream"
   ]
  },
  {
   "cell_type": "markdown",
   "id": "29df5dfc",
   "metadata": {},
   "source": [
    "* 감정분류가 긍정으로 된 후기를 단어로 구분"
   ]
  },
  {
   "cell_type": "code",
   "execution_count": null,
   "id": "c5be4e32",
   "metadata": {},
   "outputs": [],
   "source": [
    "icecream_true = icecream[icecream['emotion'] == True]\n",
    "icecream_nouns_true = icecream_true['title_comments'].apply(kkma.nouns)"
   ]
  },
  {
   "cell_type": "markdown",
   "id": "168bba0d",
   "metadata": {},
   "source": [
    "* 감정분류가 부정으로 된 리뷰를 단어로 구분"
   ]
  },
  {
   "cell_type": "code",
   "execution_count": null,
   "id": "6155b791",
   "metadata": {},
   "outputs": [],
   "source": [
    "icecream_false = icecream[icecream['emotion'] == False]\n",
    "icecream_nouns_false = icecream_false['title_comments'].apply(kkma.nouns)"
   ]
  },
  {
   "cell_type": "markdown",
   "id": "eb714962",
   "metadata": {},
   "source": [
    "* 긍정으로 분류된 리뷰들을 구성하는 단어를 빈도수로 정렬"
   ]
  },
  {
   "cell_type": "code",
   "execution_count": null,
   "id": "9ca96110",
   "metadata": {},
   "outputs": [],
   "source": [
    "icecream_nouns_true = icecream_nouns_true.explode()\n",
    "icecream_words_true = pd.DataFrame({'word' : icecream_nouns_true})\n",
    "icecream_words_true['count'] = icecream_words_true['word'].str.len()\n",
    "icecream_words_true = icecream_words_true.query('count>1')\n",
    "icecream_words_true = icecream_words_true.groupby('word',as_index = False).count().sort_values('count',ascending = False)\n",
    "icecream_words_true.reset_index(drop = True, inplace = True)"
   ]
  },
  {
   "cell_type": "markdown",
   "id": "c1078b90",
   "metadata": {},
   "source": [
    "* 부정으로 분류된 리뷰들을 구성하는 단어를 빈도수로 정렬"
   ]
  },
  {
   "cell_type": "code",
   "execution_count": null,
   "id": "04af49c5",
   "metadata": {},
   "outputs": [],
   "source": [
    "icecream_nouns_false = icecream_nouns_false.explode()\n",
    "icecream_words_false = pd.DataFrame({'word' : icecream_nouns_false})\n",
    "icecream_words_false['count'] = icecream_words_false['word'].str.len()\n",
    "icecream_words_false = icecream_words_false.query('count>1')\n",
    "icecream_words_false = icecream_words_false.groupby('word',as_index = False).count().sort_values('count',ascending = False)\n",
    "icecream_words_false.reset_index(drop = True, inplace = True)"
   ]
  },
  {
   "cell_type": "markdown",
   "id": "1c275473",
   "metadata": {},
   "source": [
    "## 워드클라우드\n",
    "* 불용어 제거를 위해 긍정후기와 부정후기에서 공통적으로 보이는 단어들을 각 후기에서 제거\n",
    "* 워드클라우드 그리기"
   ]
  },
  {
   "cell_type": "markdown",
   "id": "c4fa89e2",
   "metadata": {},
   "source": [
    "#### tsherpa"
   ]
  },
  {
   "cell_type": "markdown",
   "id": "ca99dff5",
   "metadata": {},
   "source": [
    "* 긍정후기와 부정후기에서 공통적으로 보이는 단어 추출"
   ]
  },
  {
   "cell_type": "code",
   "execution_count": null,
   "id": "a5bcba66",
   "metadata": {},
   "outputs": [],
   "source": [
    "tsherpa_inner = pd.merge(tsherpa_true,tsherpa_false,how='inner', on = 'word')\n",
    "tsherpa_inner = tsherpa_inner['word'].head(20)"
   ]
  },
  {
   "cell_type": "markdown",
   "id": "b857f27f",
   "metadata": {},
   "source": [
    "* 긍정후기에서 공통단어 제거"
   ]
  },
  {
   "cell_type": "code",
   "execution_count": null,
   "id": "9fbddc69",
   "metadata": {},
   "outputs": [],
   "source": [
    "tsherpa_true.index = tsherpa_true['word']"
   ]
  },
  {
   "cell_type": "code",
   "execution_count": null,
   "id": "a068f356",
   "metadata": {},
   "outputs": [],
   "source": [
    "for i in range(0,len(tsherpa_inner)):\n",
    "    tsherpa_true.drop([tsherpa_inner[i]],inplace = True)"
   ]
  },
  {
   "cell_type": "markdown",
   "id": "3fb10ca8",
   "metadata": {},
   "source": [
    "* 부정후기에서 공통단어 제거"
   ]
  },
  {
   "cell_type": "code",
   "execution_count": null,
   "id": "9934c4ba",
   "metadata": {},
   "outputs": [],
   "source": [
    "tsherpa_false.index = tsherpa_false['word']"
   ]
  },
  {
   "cell_type": "code",
   "execution_count": null,
   "id": "47fb7418",
   "metadata": {},
   "outputs": [],
   "source": [
    "for i in range(0,len(tsherpa_inner)):\n",
    "    tsherpa_false.drop([tsherpa_inner[i]],inplace = True)"
   ]
  },
  {
   "cell_type": "markdown",
   "id": "c442e5b5",
   "metadata": {},
   "source": [
    "* 긍정 워드클라우드"
   ]
  },
  {
   "cell_type": "code",
   "execution_count": null,
   "id": "8cb3cdde",
   "metadata": {},
   "outputs": [],
   "source": [
    "tsherpa_true = tsherpa_true.set_index('word').to_dict()['count']\n",
    "im = Image.open('heart.png')\n",
    "mask = np.array(im)\n",
    "wordcloud = WordCloud(\n",
    "font_path = \"malgun\",\n",
    "    width = 400,\n",
    "    height = 400,\n",
    "    mask = mask,\n",
    "    max_font_size = 100,\n",
    "    background_color='white',\n",
    "    colormap = 'autumn'\n",
    ").generate_from_frequencies(tsherpa_true)\n",
    "plt.figure()\n",
    "plt.imshow(wordcloud)\n",
    "plt.axis('off')"
   ]
  },
  {
   "cell_type": "markdown",
   "id": "50b9bb5f",
   "metadata": {},
   "source": [
    "* 부정 워드클라우드"
   ]
  },
  {
   "cell_type": "code",
   "execution_count": null,
   "id": "6808d1aa",
   "metadata": {},
   "outputs": [],
   "source": [
    "tsherpa_false = tsherpa_false.set_index('word').to_dict()['count']\n",
    "im = Image.open('heart.png')\n",
    "mask = np.array(im)\n",
    "wordcloud = WordCloud(\n",
    "font_path = \"malgun\",width = 400,height = 400,mask = mask,max_font_size = 100, background_color='white',   stopwords = stopwords\n",
    ").generate_from_frequencies(tsherpa_false)\n",
    "plt.figure()\n",
    "plt.imshow(wordcloud)\n",
    "plt.axis('off')"
   ]
  },
  {
   "cell_type": "markdown",
   "id": "74bb9e3b",
   "metadata": {},
   "source": [
    "#### icecream"
   ]
  },
  {
   "cell_type": "markdown",
   "id": "0c633e9d",
   "metadata": {},
   "source": [
    "* 긍정후기와 부정후기에서 공통적으로 보이는 단어 추출"
   ]
  },
  {
   "cell_type": "code",
   "execution_count": null,
   "id": "3c31c8bd",
   "metadata": {},
   "outputs": [],
   "source": [
    "icecream_inner = pd.merge(icecream_true,icecream_false,how='inner', on = 'word')\n",
    "icecream_inner = icecream_inner['word'].head(20)"
   ]
  },
  {
   "cell_type": "markdown",
   "id": "9014a1c4",
   "metadata": {},
   "source": [
    "* 긍정후기에서 공통단어 제거"
   ]
  },
  {
   "cell_type": "code",
   "execution_count": null,
   "id": "8bddd240",
   "metadata": {},
   "outputs": [],
   "source": [
    "icecream_true.index = icecream_true['word']"
   ]
  },
  {
   "cell_type": "code",
   "execution_count": null,
   "id": "6d7ebcd9",
   "metadata": {},
   "outputs": [],
   "source": [
    "for i in range(0,len(icecream_inner)):\n",
    "    icecream_true.drop([icecream_inner[i]],inplace = True)"
   ]
  },
  {
   "cell_type": "markdown",
   "id": "46b08fee",
   "metadata": {},
   "source": [
    "* 부정후기에서 공통단어 제거"
   ]
  },
  {
   "cell_type": "code",
   "execution_count": null,
   "id": "533e961a",
   "metadata": {},
   "outputs": [],
   "source": [
    "icecream_false.index = icecream_false['word']"
   ]
  },
  {
   "cell_type": "code",
   "execution_count": null,
   "id": "4a11604f",
   "metadata": {},
   "outputs": [],
   "source": [
    "for i in range(0,len(icecream_inner)):\n",
    "    icecream_false.drop([icecream_inner[i]],inplace = True)"
   ]
  },
  {
   "cell_type": "markdown",
   "id": "cb589a24",
   "metadata": {},
   "source": [
    "* 긍정 워드클라우드"
   ]
  },
  {
   "cell_type": "code",
   "execution_count": null,
   "id": "e07798c1",
   "metadata": {},
   "outputs": [],
   "source": [
    "icecream_true = icecream_true.set_index('word').to_dict()['count']\n",
    "im = Image.open('heart.png')\n",
    "mask = np.array(im)\n",
    "wordcloud = WordCloud(\n",
    "font_path = \"malgun\",\n",
    "    width = 400,\n",
    "    height = 400,\n",
    "    mask = mask,\n",
    "max_font_size = 100, \n",
    "background_color='white',\n",
    "colormap = 'autumn'\n",
    ").generate_from_frequencies(icecream_true)\n",
    "plt.figure()\n",
    "plt.imshow(wordcloud)\n",
    "plt.axis('off')"
   ]
  },
  {
   "cell_type": "markdown",
   "id": "555f5a9e",
   "metadata": {},
   "source": [
    "* 부정 워드클라우드"
   ]
  },
  {
   "cell_type": "code",
   "execution_count": null,
   "id": "e5dec2fd",
   "metadata": {},
   "outputs": [],
   "source": [
    "icecream_false = icecream_false.set_index('word').to_dict()['count']\n",
    "im = Image.open('heart.png')\n",
    "mask = np.array(im)\n",
    "wordcloud = WordCloud(\n",
    "font_path = \"malgun\",\n",
    "    width = 400,\n",
    "    height = 400,\n",
    "    mask = mask,\n",
    "max_font_size = 100, \n",
    "background_color='white'\n",
    ").generate_from_frequencies(icecream_false)\n",
    "plt.figure()\n",
    "plt.imshow(wordcloud)\n",
    "plt.axis('off')"
   ]
  }
 ],
 "metadata": {
  "kernelspec": {
   "display_name": "Python 3 (ipykernel)",
   "language": "python",
   "name": "python3"
  },
  "language_info": {
   "codemirror_mode": {
    "name": "ipython",
    "version": 3
   },
   "file_extension": ".py",
   "mimetype": "text/x-python",
   "name": "python",
   "nbconvert_exporter": "python",
   "pygments_lexer": "ipython3",
   "version": "3.11.5"
  }
 },
 "nbformat": 4,
 "nbformat_minor": 5
}
